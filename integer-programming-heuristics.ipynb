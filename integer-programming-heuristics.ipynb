{
 "cells": [
  {
   "cell_type": "markdown",
   "metadata": {},
   "source": [
    "# Programación Entera: Heurísticas"
   ]
  },
  {
   "cell_type": "markdown",
   "metadata": {},
   "source": [
    "## Descripción\n",
    "\n",
    "[TODO]\n",
    "\n",
    "## Autor\n",
    "  \n",
    "  * Sergio García Prado - [garciparedes.me](https://garciparedes.me)\n",
    "  \n",
    "## Fecha\n",
    "\n",
    "  * Mayo de 2018\n"
   ]
  },
  {
   "cell_type": "markdown",
   "metadata": {},
   "source": [
    "## Contenidos\n",
    "  \n",
    "  * [Problema de Transporte](#Problema-de-Transporte)\n",
    "  * [Problema de Asignación](#Problema-de-Asignación)\n",
    "    * [Asignación Clásico](#Asignación-Clásico)\n",
    "    * [Asignación Generalizado](#Asignación-Generalizado)\n",
    "  * [Problema de la Mochila](#Problema-de-la-Mochila)\n",
    "    * [Mochila Simple](#Mochila-Simple)\n",
    "    * [Mochila Múltiple](#Mochila-Múltiple)\n",
    "    * [Mochila Multidimensional](#Mochila-Multidimensional)"
   ]
  },
  {
   "cell_type": "code",
   "execution_count": 1,
   "metadata": {},
   "outputs": [],
   "source": [
    "library(lpSolve)\n",
    "library(magrittr)"
   ]
  },
  {
   "cell_type": "code",
   "execution_count": 2,
   "metadata": {},
   "outputs": [],
   "source": [
    "options(repr.matrix.max.rows = 600, repr.matrix.max.cols = 200)"
   ]
  },
  {
   "cell_type": "markdown",
   "metadata": {},
   "source": [
    "## Funciones de Apoyo"
   ]
  },
  {
   "cell_type": "code",
   "execution_count": 3,
   "metadata": {},
   "outputs": [],
   "source": [
    "dataset.folder <- \"./data\""
   ]
  },
  {
   "cell_type": "code",
   "execution_count": 4,
   "metadata": {},
   "outputs": [],
   "source": [
    "ReadDataSet <- function() {\n",
    "    \n",
    "}"
   ]
  },
  {
   "cell_type": "code",
   "execution_count": 5,
   "metadata": {},
   "outputs": [],
   "source": [
    "Solve <- function(direction = \"max\", f.obj, f.con, f.rhs, f.dir = rep(\"<=\", nrow(f.con)), ...) {\n",
    "    lp(direction, f.obj, f.con, f.dir, f.rhs, ...)\n",
    "}"
   ]
  },
  {
   "cell_type": "markdown",
   "metadata": {},
   "source": [
    "## Problema de Transporte"
   ]
  },
  {
   "cell_type": "markdown",
   "metadata": {},
   "source": [
    "#### Descripción:\n",
    "TODO"
   ]
  },
  {
   "cell_type": "markdown",
   "metadata": {},
   "source": [
    "#### Modelo:\n",
    "TODO"
   ]
  },
  {
   "cell_type": "code",
   "execution_count": 6,
   "metadata": {},
   "outputs": [],
   "source": [
    "TransportationExact <- function(demand, capacity, cost, direction = \"min\", ...) {\n",
    "    m <- length(capacity)\n",
    "    n <- length(demand)    \n",
    "    \n",
    "    conditions <- matrix(0, nrow = n + m, ncol = n * m)\n",
    "    for (i in 1:m) {\n",
    "        conditions[i, seq(n) + (i - 1) * n] <- 1\n",
    "    }\n",
    "    for (i in (m+1):(n+m)) {\n",
    "        conditions[i, seq(i - m, m * n, by = n)] <- 1\n",
    "    }\n",
    "    res <- c(rep(\"<=\", m), rep(\">=\", n))\n",
    "    return(Solve(direction, cost, conditions, c(capacity, demand), res, ...))\n",
    "}"
   ]
  },
  {
   "cell_type": "markdown",
   "metadata": {},
   "source": [
    "#### Heurísticas:\n",
    "TODO"
   ]
  },
  {
   "cell_type": "code",
   "execution_count": 7,
   "metadata": {},
   "outputs": [],
   "source": [
    "TransportationGreedy <- function(demand, capacity, cost) {\n",
    "    m <- length(capacity)\n",
    "    n <- length(demand) \n",
    "    sol <- list()\n",
    "    \n",
    "    sol$solution <- matrix(0, nrow = m, ncol = n)\n",
    "    sol$objval <- 0\n",
    "    while (!all(demand == 0)) {\n",
    "        ij <- which(cost == min(cost[capacity > 0, demand > 0]), arr.ind = TRUE)\n",
    "        ij.slice <- which(capacity[ij[, 1]] > 0 & demand[ij[, 2]] > 0)[1]\n",
    "        i <- ij[ij.slice, 1]\n",
    "        j <- ij[ij.slice, 2]\n",
    "        inc <- min(capacity[i], demand[j])    \n",
    "        \n",
    "        sol$solution[i, j] <- sol$solution[i, j] + inc\n",
    "        capacity[i] <- capacity[i] - inc\n",
    "        demand[j] <- demand[j] - inc\n",
    "        sol$objval <- sol$objval + cost[i, j] * inc\n",
    "    }\n",
    "    return(sol)\n",
    "}"
   ]
  },
  {
   "cell_type": "markdown",
   "metadata": {},
   "source": [
    "### Ejemplos"
   ]
  },
  {
   "cell_type": "code",
   "execution_count": 8,
   "metadata": {},
   "outputs": [],
   "source": [
    "transportation.problem.1 <- list(\n",
    "    demand = c(45, 20, 30, 30),\n",
    "    capacity = c(35, 60, 48),\n",
    "    cost = matrix(c(8, 6, 10, 9,\n",
    "                    9, 12,13, 7,\n",
    "                    14,9, 16, 5), nrow = 3, byrow = TRUE)\n",
    ")"
   ]
  },
  {
   "cell_type": "code",
   "execution_count": 9,
   "metadata": {},
   "outputs": [
    {
     "data": {
      "text/html": [
       "<table>\n",
       "<tbody>\n",
       "\t<tr><td>35</td><td> 0</td><td> 0</td><td> 0</td></tr>\n",
       "\t<tr><td>10</td><td>20</td><td>12</td><td> 0</td></tr>\n",
       "\t<tr><td> 0</td><td> 0</td><td>18</td><td>30</td></tr>\n",
       "</tbody>\n",
       "</table>\n"
      ],
      "text/latex": [
       "\\begin{tabular}{llll}\n",
       "\t 35 &  0 &  0 &  0\\\\\n",
       "\t 10 & 20 & 12 &  0\\\\\n",
       "\t  0 &  0 & 18 & 30\\\\\n",
       "\\end{tabular}\n"
      ],
      "text/markdown": [
       "\n",
       "| 35 |  0 |  0 |  0 | \n",
       "| 10 | 20 | 12 |  0 | \n",
       "|  0 |  0 | 18 | 30 | \n",
       "\n",
       "\n"
      ],
      "text/plain": [
       "     [,1] [,2] [,3] [,4]\n",
       "[1,] 35    0    0    0  \n",
       "[2,] 10   20   12    0  \n",
       "[3,]  0    0   18   30  "
      ]
     },
     "metadata": {},
     "output_type": "display_data"
    },
    {
     "name": "stdout",
     "output_type": "stream",
     "text": [
      "[1] 976\n"
     ]
    }
   ],
   "source": [
    "a <- TransportationExact(transportation.problem.1$demand,\n",
    "                    transportation.problem.1$capacity,\n",
    "                    transportation.problem.1$cost)\n",
    "\n",
    "matrix(a$solution, \n",
    "       nrow = 3, byrow =TRUE)\n",
    "print(a$objval)"
   ]
  },
  {
   "cell_type": "code",
   "execution_count": 10,
   "metadata": {},
   "outputs": [
    {
     "data": {
      "text/html": [
       "<table>\n",
       "<tbody>\n",
       "\t<tr><td>15</td><td>20</td><td> 0</td><td> 0</td></tr>\n",
       "\t<tr><td>30</td><td> 0</td><td>30</td><td> 0</td></tr>\n",
       "\t<tr><td> 0</td><td> 0</td><td> 0</td><td>30</td></tr>\n",
       "</tbody>\n",
       "</table>\n"
      ],
      "text/latex": [
       "\\begin{tabular}{llll}\n",
       "\t 15 & 20 &  0 &  0\\\\\n",
       "\t 30 &  0 & 30 &  0\\\\\n",
       "\t  0 &  0 &  0 & 30\\\\\n",
       "\\end{tabular}\n"
      ],
      "text/markdown": [
       "\n",
       "| 15 | 20 |  0 |  0 | \n",
       "| 30 |  0 | 30 |  0 | \n",
       "|  0 |  0 |  0 | 30 | \n",
       "\n",
       "\n"
      ],
      "text/plain": [
       "     [,1] [,2] [,3] [,4]\n",
       "[1,] 15   20    0    0  \n",
       "[2,] 30    0   30    0  \n",
       "[3,]  0    0    0   30  "
      ]
     },
     "metadata": {},
     "output_type": "display_data"
    },
    {
     "name": "stdout",
     "output_type": "stream",
     "text": [
      "[1] 1050\n"
     ]
    }
   ],
   "source": [
    "a <- TransportationGreedy(transportation.problem.1$demand,\n",
    "                    transportation.problem.1$capacity,\n",
    "                    transportation.problem.1$cost)\n",
    "\n",
    "matrix(a$solution, \n",
    "       nrow = dim(transportation.problem.1$cost)[1], \n",
    "       ncol = dim(transportation.problem.1$cost)[2])\n",
    "print(a$objval)"
   ]
  },
  {
   "cell_type": "markdown",
   "metadata": {},
   "source": [
    "## Problema de Asignación"
   ]
  },
  {
   "cell_type": "markdown",
   "metadata": {},
   "source": [
    "### Asignación Clásico"
   ]
  },
  {
   "cell_type": "markdown",
   "metadata": {},
   "source": [
    "#### Descripción:\n",
    "TODO"
   ]
  },
  {
   "cell_type": "markdown",
   "metadata": {},
   "source": [
    "#### Modelo:\n",
    "TODO"
   ]
  },
  {
   "cell_type": "code",
   "execution_count": 11,
   "metadata": {},
   "outputs": [],
   "source": [
    "AssignmentExact <- function(cost, ...) {\n",
    "    return(TransportationExact(rep(1, dim(cost)[1]), rep(1, dim(cost)[2]), cost, ...))\n",
    "}"
   ]
  },
  {
   "cell_type": "markdown",
   "metadata": {},
   "source": [
    "#### Heurísticas:\n",
    "TODO"
   ]
  },
  {
   "cell_type": "code",
   "execution_count": 12,
   "metadata": {},
   "outputs": [],
   "source": [
    "AssignmentGreedy <- function(cost) {    \n",
    "    return(TransportationGreedy(rep(1, dim(cost)[1]), rep(1, dim(cost)[2]), cost))\n",
    "}"
   ]
  },
  {
   "cell_type": "code",
   "execution_count": 13,
   "metadata": {},
   "outputs": [],
   "source": [
    "GreedyLocalSearchImprovement <- function(change.1, change.2, cost) {\n",
    "    return(cost[change.1[, drop = FALSE]] + \n",
    "           cost[change.2[, drop = FALSE]] -\n",
    "           cost[change.1[1], change.2[2]] -\n",
    "           cost[change.2[1], change.1[2]])\n",
    "}"
   ]
  },
  {
   "cell_type": "code",
   "execution_count": 14,
   "metadata": {},
   "outputs": [],
   "source": [
    "GreedyLocalSearchBest <- function(cost, changes) {\n",
    "    best = list(v = 0, i = 0, j = 0)\n",
    "    for (i in 1:nrow(changes)) {\n",
    "        for(j in 1:nrow(changes)) {\n",
    "            v.temp <- GreedyLocalSearchImprovement(changes[i, ,drop = FALSE], \n",
    "                                                   changes[j, , drop = FALSE],\n",
    "                                                   cost)\n",
    "            if (best$v < v.temp) {\n",
    "                best$v <- v.temp\n",
    "                best$i <- i\n",
    "                best$j <- j\n",
    "            }\n",
    "        }\n",
    "    }\n",
    "    return(best)\n",
    "}"
   ]
  },
  {
   "cell_type": "code",
   "execution_count": 15,
   "metadata": {},
   "outputs": [],
   "source": [
    "AssignmentGreedyLocalSearch <- function(cost) {    \n",
    "    sol <- AssignmentGreedy(cost)\n",
    "        \n",
    "    changes <- which(sol$solution != 0, arr.ind = TRUE)\n",
    "    best = GreedyLocalSearchBest(cost, changes)\n",
    "    while(best$v > 0) {\n",
    "        best = best = GreedyLocalSearchBest(cost, changes)\n",
    "\n",
    "        sol$solution[changes[best$i, , drop = FALSE]] <- 0\n",
    "        sol$solution[changes[best$j, , drop = FALSE]] <- 0\n",
    "        \n",
    "        temp <- changes[best$i, 2]\n",
    "        changes[best$i, 2] <- changes[best$j, 2]\n",
    "        changes[best$j, 2] <- temp\n",
    "        \n",
    "        \n",
    "        sol$solution[changes[best$i, , drop = FALSE]] <- 1\n",
    "        sol$solution[changes[best$j, , drop = FALSE]] <- 1\n",
    "        \n",
    "        sol$objval <- sol$objval - best$v\n",
    "    }\n",
    "    return(sol)\n",
    "}"
   ]
  },
  {
   "cell_type": "markdown",
   "metadata": {},
   "source": [
    "### Ejemplos"
   ]
  },
  {
   "cell_type": "code",
   "execution_count": 16,
   "metadata": {},
   "outputs": [
    {
     "data": {
      "text/html": [
       "<table>\n",
       "<thead><tr><th scope=col>V1</th><th scope=col>V2</th><th scope=col>V3</th><th scope=col>V4</th><th scope=col>V5</th><th scope=col>V6</th><th scope=col>V7</th><th scope=col>V8</th><th scope=col>V9</th><th scope=col>V10</th><th scope=col>V11</th><th scope=col>V12</th><th scope=col>V13</th><th scope=col>V14</th><th scope=col>V15</th></tr></thead>\n",
       "<tbody>\n",
       "\t<tr><td>58 </td><td>66 </td><td>  6</td><td>77 </td><td> 7 </td><td> 19</td><td>44 </td><td>22 </td><td> 9 </td><td>90 </td><td> 86</td><td> 11</td><td>61 </td><td>11 </td><td>26 </td></tr>\n",
       "\t<tr><td>56 </td><td>78 </td><td> 12</td><td>30 </td><td>89 </td><td> 20</td><td>62 </td><td>14 </td><td>82 </td><td>76 </td><td> 70</td><td>100</td><td>59 </td><td>57 </td><td>42 </td></tr>\n",
       "\t<tr><td>93 </td><td>80 </td><td> 90</td><td>77 </td><td>71 </td><td> 96</td><td>55 </td><td>25 </td><td>46 </td><td>57 </td><td> 16</td><td> 30</td><td>91 </td><td>55 </td><td> 0 </td></tr>\n",
       "\t<tr><td>85 </td><td>48 </td><td> 55</td><td>36 </td><td>91 </td><td> 10</td><td>31 </td><td>98 </td><td>42 </td><td>84 </td><td> 98</td><td> 91</td><td>76 </td><td>93 </td><td>10 </td></tr>\n",
       "\t<tr><td>62 </td><td>85 </td><td> 32</td><td>56 </td><td>21 </td><td> 56</td><td>78 </td><td>48 </td><td>49 </td><td>66 </td><td>  0</td><td> 39</td><td>39 </td><td> 6 </td><td>53 </td></tr>\n",
       "\t<tr><td>44 </td><td>64 </td><td> 25</td><td>47 </td><td>56 </td><td> 63</td><td>80 </td><td>35 </td><td>22 </td><td>70 </td><td>100</td><td> 96</td><td>32 </td><td>84 </td><td>70 </td></tr>\n",
       "\t<tr><td>50 </td><td>23 </td><td>  8</td><td>90 </td><td>23 </td><td> 51</td><td>98 </td><td>94 </td><td>33 </td><td>84 </td><td> 95</td><td> 41</td><td>77 </td><td>33 </td><td>30 </td></tr>\n",
       "\t<tr><td> 9 </td><td>32 </td><td>100</td><td>36 </td><td> 3 </td><td> 21</td><td>66 </td><td>19 </td><td>91 </td><td>48 </td><td> 81</td><td> 57</td><td>86 </td><td>96 </td><td>35 </td></tr>\n",
       "\t<tr><td>59 </td><td>62 </td><td> 12</td><td>98 </td><td>93 </td><td> 38</td><td>59 </td><td>93 </td><td>18 </td><td>21 </td><td> 59</td><td> 87</td><td>76 </td><td> 9 </td><td>82 </td></tr>\n",
       "\t<tr><td>37 </td><td> 1 </td><td> 13</td><td>29 </td><td>85 </td><td> 18</td><td>29 </td><td>20 </td><td>54 </td><td>94 </td><td> 30</td><td>  1</td><td> 0 </td><td>67 </td><td>51 </td></tr>\n",
       "\t<tr><td>79 </td><td>67 </td><td> 50</td><td>23 </td><td>67 </td><td> 26</td><td>98 </td><td>26 </td><td>22 </td><td>33 </td><td> 81</td><td> 83</td><td>66 </td><td>59 </td><td>14 </td></tr>\n",
       "\t<tr><td> 5 </td><td>39 </td><td> 98</td><td>54 </td><td>32 </td><td> 80</td><td> 6 </td><td>11 </td><td>63 </td><td>20 </td><td> 87</td><td> 95</td><td>82 </td><td>73 </td><td> 7 </td></tr>\n",
       "\t<tr><td>80 </td><td>45 </td><td> 10</td><td>71 </td><td>95 </td><td>100</td><td>26 </td><td>66 </td><td>14 </td><td>95 </td><td> 62</td><td> 16</td><td>13 </td><td>68 </td><td>32 </td></tr>\n",
       "\t<tr><td>29 </td><td>44 </td><td> 82</td><td>49 </td><td>87 </td><td> 47</td><td>63 </td><td>66 </td><td>91 </td><td>10 </td><td> 52</td><td> 14</td><td> 2 </td><td>44 </td><td>89 </td></tr>\n",
       "\t<tr><td>79 </td><td> 3 </td><td> 16</td><td>11 </td><td>13 </td><td> 97</td><td> 6 </td><td>18 </td><td>93 </td><td>22 </td><td> 28</td><td> 77</td><td> 3 </td><td>37 </td><td>53 </td></tr>\n",
       "</tbody>\n",
       "</table>\n"
      ],
      "text/latex": [
       "\\begin{tabular}{lllllllllllllll}\n",
       " V1 & V2 & V3 & V4 & V5 & V6 & V7 & V8 & V9 & V10 & V11 & V12 & V13 & V14 & V15\\\\\n",
       "\\hline\n",
       "\t 58  & 66  &   6 & 77  &  7  &  19 & 44  & 22  &  9  & 90  &  86 &  11 & 61  & 11  & 26 \\\\\n",
       "\t 56  & 78  &  12 & 30  & 89  &  20 & 62  & 14  & 82  & 76  &  70 & 100 & 59  & 57  & 42 \\\\\n",
       "\t 93  & 80  &  90 & 77  & 71  &  96 & 55  & 25  & 46  & 57  &  16 &  30 & 91  & 55  &  0 \\\\\n",
       "\t 85  & 48  &  55 & 36  & 91  &  10 & 31  & 98  & 42  & 84  &  98 &  91 & 76  & 93  & 10 \\\\\n",
       "\t 62  & 85  &  32 & 56  & 21  &  56 & 78  & 48  & 49  & 66  &   0 &  39 & 39  &  6  & 53 \\\\\n",
       "\t 44  & 64  &  25 & 47  & 56  &  63 & 80  & 35  & 22  & 70  & 100 &  96 & 32  & 84  & 70 \\\\\n",
       "\t 50  & 23  &   8 & 90  & 23  &  51 & 98  & 94  & 33  & 84  &  95 &  41 & 77  & 33  & 30 \\\\\n",
       "\t  9  & 32  & 100 & 36  &  3  &  21 & 66  & 19  & 91  & 48  &  81 &  57 & 86  & 96  & 35 \\\\\n",
       "\t 59  & 62  &  12 & 98  & 93  &  38 & 59  & 93  & 18  & 21  &  59 &  87 & 76  &  9  & 82 \\\\\n",
       "\t 37  &  1  &  13 & 29  & 85  &  18 & 29  & 20  & 54  & 94  &  30 &   1 &  0  & 67  & 51 \\\\\n",
       "\t 79  & 67  &  50 & 23  & 67  &  26 & 98  & 26  & 22  & 33  &  81 &  83 & 66  & 59  & 14 \\\\\n",
       "\t  5  & 39  &  98 & 54  & 32  &  80 &  6  & 11  & 63  & 20  &  87 &  95 & 82  & 73  &  7 \\\\\n",
       "\t 80  & 45  &  10 & 71  & 95  & 100 & 26  & 66  & 14  & 95  &  62 &  16 & 13  & 68  & 32 \\\\\n",
       "\t 29  & 44  &  82 & 49  & 87  &  47 & 63  & 66  & 91  & 10  &  52 &  14 &  2  & 44  & 89 \\\\\n",
       "\t 79  &  3  &  16 & 11  & 13  &  97 &  6  & 18  & 93  & 22  &  28 &  77 &  3  & 37  & 53 \\\\\n",
       "\\end{tabular}\n"
      ],
      "text/markdown": [
       "\n",
       "V1 | V2 | V3 | V4 | V5 | V6 | V7 | V8 | V9 | V10 | V11 | V12 | V13 | V14 | V15 | \n",
       "|---|---|---|---|---|---|---|---|---|---|---|---|---|---|---|\n",
       "| 58  | 66  |   6 | 77  |  7  |  19 | 44  | 22  |  9  | 90  |  86 |  11 | 61  | 11  | 26  | \n",
       "| 56  | 78  |  12 | 30  | 89  |  20 | 62  | 14  | 82  | 76  |  70 | 100 | 59  | 57  | 42  | \n",
       "| 93  | 80  |  90 | 77  | 71  |  96 | 55  | 25  | 46  | 57  |  16 |  30 | 91  | 55  |  0  | \n",
       "| 85  | 48  |  55 | 36  | 91  |  10 | 31  | 98  | 42  | 84  |  98 |  91 | 76  | 93  | 10  | \n",
       "| 62  | 85  |  32 | 56  | 21  |  56 | 78  | 48  | 49  | 66  |   0 |  39 | 39  |  6  | 53  | \n",
       "| 44  | 64  |  25 | 47  | 56  |  63 | 80  | 35  | 22  | 70  | 100 |  96 | 32  | 84  | 70  | \n",
       "| 50  | 23  |   8 | 90  | 23  |  51 | 98  | 94  | 33  | 84  |  95 |  41 | 77  | 33  | 30  | \n",
       "|  9  | 32  | 100 | 36  |  3  |  21 | 66  | 19  | 91  | 48  |  81 |  57 | 86  | 96  | 35  | \n",
       "| 59  | 62  |  12 | 98  | 93  |  38 | 59  | 93  | 18  | 21  |  59 |  87 | 76  |  9  | 82  | \n",
       "| 37  |  1  |  13 | 29  | 85  |  18 | 29  | 20  | 54  | 94  |  30 |   1 |  0  | 67  | 51  | \n",
       "| 79  | 67  |  50 | 23  | 67  |  26 | 98  | 26  | 22  | 33  |  81 |  83 | 66  | 59  | 14  | \n",
       "|  5  | 39  |  98 | 54  | 32  |  80 |  6  | 11  | 63  | 20  |  87 |  95 | 82  | 73  |  7  | \n",
       "| 80  | 45  |  10 | 71  | 95  | 100 | 26  | 66  | 14  | 95  |  62 |  16 | 13  | 68  | 32  | \n",
       "| 29  | 44  |  82 | 49  | 87  |  47 | 63  | 66  | 91  | 10  |  52 |  14 |  2  | 44  | 89  | \n",
       "| 79  |  3  |  16 | 11  | 13  |  97 |  6  | 18  | 93  | 22  |  28 |  77 |  3  | 37  | 53  | \n",
       "\n",
       "\n"
      ],
      "text/plain": [
       "      V1 V2 V3  V4 V5 V6  V7 V8 V9 V10 V11 V12 V13 V14 V15\n",
       " [1,] 58 66   6 77  7  19 44 22  9 90   86  11 61  11  26 \n",
       " [2,] 56 78  12 30 89  20 62 14 82 76   70 100 59  57  42 \n",
       " [3,] 93 80  90 77 71  96 55 25 46 57   16  30 91  55   0 \n",
       " [4,] 85 48  55 36 91  10 31 98 42 84   98  91 76  93  10 \n",
       " [5,] 62 85  32 56 21  56 78 48 49 66    0  39 39   6  53 \n",
       " [6,] 44 64  25 47 56  63 80 35 22 70  100  96 32  84  70 \n",
       " [7,] 50 23   8 90 23  51 98 94 33 84   95  41 77  33  30 \n",
       " [8,]  9 32 100 36  3  21 66 19 91 48   81  57 86  96  35 \n",
       " [9,] 59 62  12 98 93  38 59 93 18 21   59  87 76   9  82 \n",
       "[10,] 37  1  13 29 85  18 29 20 54 94   30   1  0  67  51 \n",
       "[11,] 79 67  50 23 67  26 98 26 22 33   81  83 66  59  14 \n",
       "[12,]  5 39  98 54 32  80  6 11 63 20   87  95 82  73   7 \n",
       "[13,] 80 45  10 71 95 100 26 66 14 95   62  16 13  68  32 \n",
       "[14,] 29 44  82 49 87  47 63 66 91 10   52  14  2  44  89 \n",
       "[15,] 79  3  16 11 13  97  6 18 93 22   28  77  3  37  53 "
      ]
     },
     "metadata": {},
     "output_type": "display_data"
    }
   ],
   "source": [
    "(matriz.15x15.1 <- as.matrix(read.csv(\"./data/assignment/matriz_15x15_1.csv\", header = FALSE)))"
   ]
  },
  {
   "cell_type": "code",
   "execution_count": 17,
   "metadata": {},
   "outputs": [
    {
     "data": {
      "text/html": [
       "<table>\n",
       "<tbody>\n",
       "\t<tr><td>0</td><td>0</td><td>0</td><td>0</td><td>1</td><td>0</td><td>0</td><td>0</td><td>0</td><td>0</td><td>0</td><td>0</td><td>0</td><td>0</td><td>0</td></tr>\n",
       "\t<tr><td>0</td><td>0</td><td>0</td><td>0</td><td>0</td><td>0</td><td>0</td><td>1</td><td>0</td><td>0</td><td>0</td><td>0</td><td>0</td><td>0</td><td>0</td></tr>\n",
       "\t<tr><td>0</td><td>0</td><td>0</td><td>0</td><td>0</td><td>0</td><td>0</td><td>0</td><td>0</td><td>0</td><td>0</td><td>0</td><td>0</td><td>0</td><td>1</td></tr>\n",
       "\t<tr><td>0</td><td>0</td><td>0</td><td>0</td><td>0</td><td>1</td><td>0</td><td>0</td><td>0</td><td>0</td><td>0</td><td>0</td><td>0</td><td>0</td><td>0</td></tr>\n",
       "\t<tr><td>0</td><td>0</td><td>0</td><td>0</td><td>0</td><td>0</td><td>0</td><td>0</td><td>0</td><td>0</td><td>1</td><td>0</td><td>0</td><td>0</td><td>0</td></tr>\n",
       "\t<tr><td>0</td><td>0</td><td>0</td><td>0</td><td>0</td><td>0</td><td>0</td><td>0</td><td>1</td><td>0</td><td>0</td><td>0</td><td>0</td><td>0</td><td>0</td></tr>\n",
       "\t<tr><td>0</td><td>0</td><td>1</td><td>0</td><td>0</td><td>0</td><td>0</td><td>0</td><td>0</td><td>0</td><td>0</td><td>0</td><td>0</td><td>0</td><td>0</td></tr>\n",
       "\t<tr><td>1</td><td>0</td><td>0</td><td>0</td><td>0</td><td>0</td><td>0</td><td>0</td><td>0</td><td>0</td><td>0</td><td>0</td><td>0</td><td>0</td><td>0</td></tr>\n",
       "\t<tr><td>0</td><td>0</td><td>0</td><td>0</td><td>0</td><td>0</td><td>0</td><td>0</td><td>0</td><td>0</td><td>0</td><td>0</td><td>0</td><td>1</td><td>0</td></tr>\n",
       "\t<tr><td>0</td><td>0</td><td>0</td><td>0</td><td>0</td><td>0</td><td>0</td><td>0</td><td>0</td><td>0</td><td>0</td><td>1</td><td>0</td><td>0</td><td>0</td></tr>\n",
       "\t<tr><td>0</td><td>0</td><td>0</td><td>1</td><td>0</td><td>0</td><td>0</td><td>0</td><td>0</td><td>0</td><td>0</td><td>0</td><td>0</td><td>0</td><td>0</td></tr>\n",
       "\t<tr><td>0</td><td>0</td><td>0</td><td>0</td><td>0</td><td>0</td><td>1</td><td>0</td><td>0</td><td>0</td><td>0</td><td>0</td><td>0</td><td>0</td><td>0</td></tr>\n",
       "\t<tr><td>0</td><td>0</td><td>0</td><td>0</td><td>0</td><td>0</td><td>0</td><td>0</td><td>0</td><td>0</td><td>0</td><td>0</td><td>1</td><td>0</td><td>0</td></tr>\n",
       "\t<tr><td>0</td><td>0</td><td>0</td><td>0</td><td>0</td><td>0</td><td>0</td><td>0</td><td>0</td><td>1</td><td>0</td><td>0</td><td>0</td><td>0</td><td>0</td></tr>\n",
       "\t<tr><td>0</td><td>1</td><td>0</td><td>0</td><td>0</td><td>0</td><td>0</td><td>0</td><td>0</td><td>0</td><td>0</td><td>0</td><td>0</td><td>0</td><td>0</td></tr>\n",
       "</tbody>\n",
       "</table>\n"
      ],
      "text/latex": [
       "\\begin{tabular}{lllllllllllllll}\n",
       "\t 0 & 0 & 0 & 0 & 1 & 0 & 0 & 0 & 0 & 0 & 0 & 0 & 0 & 0 & 0\\\\\n",
       "\t 0 & 0 & 0 & 0 & 0 & 0 & 0 & 1 & 0 & 0 & 0 & 0 & 0 & 0 & 0\\\\\n",
       "\t 0 & 0 & 0 & 0 & 0 & 0 & 0 & 0 & 0 & 0 & 0 & 0 & 0 & 0 & 1\\\\\n",
       "\t 0 & 0 & 0 & 0 & 0 & 1 & 0 & 0 & 0 & 0 & 0 & 0 & 0 & 0 & 0\\\\\n",
       "\t 0 & 0 & 0 & 0 & 0 & 0 & 0 & 0 & 0 & 0 & 1 & 0 & 0 & 0 & 0\\\\\n",
       "\t 0 & 0 & 0 & 0 & 0 & 0 & 0 & 0 & 1 & 0 & 0 & 0 & 0 & 0 & 0\\\\\n",
       "\t 0 & 0 & 1 & 0 & 0 & 0 & 0 & 0 & 0 & 0 & 0 & 0 & 0 & 0 & 0\\\\\n",
       "\t 1 & 0 & 0 & 0 & 0 & 0 & 0 & 0 & 0 & 0 & 0 & 0 & 0 & 0 & 0\\\\\n",
       "\t 0 & 0 & 0 & 0 & 0 & 0 & 0 & 0 & 0 & 0 & 0 & 0 & 0 & 1 & 0\\\\\n",
       "\t 0 & 0 & 0 & 0 & 0 & 0 & 0 & 0 & 0 & 0 & 0 & 1 & 0 & 0 & 0\\\\\n",
       "\t 0 & 0 & 0 & 1 & 0 & 0 & 0 & 0 & 0 & 0 & 0 & 0 & 0 & 0 & 0\\\\\n",
       "\t 0 & 0 & 0 & 0 & 0 & 0 & 1 & 0 & 0 & 0 & 0 & 0 & 0 & 0 & 0\\\\\n",
       "\t 0 & 0 & 0 & 0 & 0 & 0 & 0 & 0 & 0 & 0 & 0 & 0 & 1 & 0 & 0\\\\\n",
       "\t 0 & 0 & 0 & 0 & 0 & 0 & 0 & 0 & 0 & 1 & 0 & 0 & 0 & 0 & 0\\\\\n",
       "\t 0 & 1 & 0 & 0 & 0 & 0 & 0 & 0 & 0 & 0 & 0 & 0 & 0 & 0 & 0\\\\\n",
       "\\end{tabular}\n"
      ],
      "text/markdown": [
       "\n",
       "| 0 | 0 | 0 | 0 | 1 | 0 | 0 | 0 | 0 | 0 | 0 | 0 | 0 | 0 | 0 | \n",
       "| 0 | 0 | 0 | 0 | 0 | 0 | 0 | 1 | 0 | 0 | 0 | 0 | 0 | 0 | 0 | \n",
       "| 0 | 0 | 0 | 0 | 0 | 0 | 0 | 0 | 0 | 0 | 0 | 0 | 0 | 0 | 1 | \n",
       "| 0 | 0 | 0 | 0 | 0 | 1 | 0 | 0 | 0 | 0 | 0 | 0 | 0 | 0 | 0 | \n",
       "| 0 | 0 | 0 | 0 | 0 | 0 | 0 | 0 | 0 | 0 | 1 | 0 | 0 | 0 | 0 | \n",
       "| 0 | 0 | 0 | 0 | 0 | 0 | 0 | 0 | 1 | 0 | 0 | 0 | 0 | 0 | 0 | \n",
       "| 0 | 0 | 1 | 0 | 0 | 0 | 0 | 0 | 0 | 0 | 0 | 0 | 0 | 0 | 0 | \n",
       "| 1 | 0 | 0 | 0 | 0 | 0 | 0 | 0 | 0 | 0 | 0 | 0 | 0 | 0 | 0 | \n",
       "| 0 | 0 | 0 | 0 | 0 | 0 | 0 | 0 | 0 | 0 | 0 | 0 | 0 | 1 | 0 | \n",
       "| 0 | 0 | 0 | 0 | 0 | 0 | 0 | 0 | 0 | 0 | 0 | 1 | 0 | 0 | 0 | \n",
       "| 0 | 0 | 0 | 1 | 0 | 0 | 0 | 0 | 0 | 0 | 0 | 0 | 0 | 0 | 0 | \n",
       "| 0 | 0 | 0 | 0 | 0 | 0 | 1 | 0 | 0 | 0 | 0 | 0 | 0 | 0 | 0 | \n",
       "| 0 | 0 | 0 | 0 | 0 | 0 | 0 | 0 | 0 | 0 | 0 | 0 | 1 | 0 | 0 | \n",
       "| 0 | 0 | 0 | 0 | 0 | 0 | 0 | 0 | 0 | 1 | 0 | 0 | 0 | 0 | 0 | \n",
       "| 0 | 1 | 0 | 0 | 0 | 0 | 0 | 0 | 0 | 0 | 0 | 0 | 0 | 0 | 0 | \n",
       "\n",
       "\n"
      ],
      "text/plain": [
       "      [,1] [,2] [,3] [,4] [,5] [,6] [,7] [,8] [,9] [,10] [,11] [,12] [,13]\n",
       " [1,] 0    0    0    0    1    0    0    0    0    0     0     0     0    \n",
       " [2,] 0    0    0    0    0    0    0    1    0    0     0     0     0    \n",
       " [3,] 0    0    0    0    0    0    0    0    0    0     0     0     0    \n",
       " [4,] 0    0    0    0    0    1    0    0    0    0     0     0     0    \n",
       " [5,] 0    0    0    0    0    0    0    0    0    0     1     0     0    \n",
       " [6,] 0    0    0    0    0    0    0    0    1    0     0     0     0    \n",
       " [7,] 0    0    1    0    0    0    0    0    0    0     0     0     0    \n",
       " [8,] 1    0    0    0    0    0    0    0    0    0     0     0     0    \n",
       " [9,] 0    0    0    0    0    0    0    0    0    0     0     0     0    \n",
       "[10,] 0    0    0    0    0    0    0    0    0    0     0     1     0    \n",
       "[11,] 0    0    0    1    0    0    0    0    0    0     0     0     0    \n",
       "[12,] 0    0    0    0    0    0    1    0    0    0     0     0     0    \n",
       "[13,] 0    0    0    0    0    0    0    0    0    0     0     0     1    \n",
       "[14,] 0    0    0    0    0    0    0    0    0    1     0     0     0    \n",
       "[15,] 0    1    0    0    0    0    0    0    0    0     0     0     0    \n",
       "      [,14] [,15]\n",
       " [1,] 0     0    \n",
       " [2,] 0     0    \n",
       " [3,] 0     1    \n",
       " [4,] 0     0    \n",
       " [5,] 0     0    \n",
       " [6,] 0     0    \n",
       " [7,] 0     0    \n",
       " [8,] 0     0    \n",
       " [9,] 1     0    \n",
       "[10,] 0     0    \n",
       "[11,] 0     0    \n",
       "[12,] 0     0    \n",
       "[13,] 0     0    \n",
       "[14,] 0     0    \n",
       "[15,] 0     0    "
      ]
     },
     "metadata": {},
     "output_type": "display_data"
    },
    {
     "data": {
      "text/html": [
       "135"
      ],
      "text/latex": [
       "135"
      ],
      "text/markdown": [
       "135"
      ],
      "text/plain": [
       "[1] 135"
      ]
     },
     "metadata": {},
     "output_type": "display_data"
    }
   ],
   "source": [
    "a <- AssignmentExact(matriz.15x15.1)\n",
    "matrix(a$solution, nrow = dim(matriz.15x15.1)[1])\n",
    "a$objval"
   ]
  },
  {
   "cell_type": "code",
   "execution_count": 18,
   "metadata": {},
   "outputs": [
    {
     "data": {
      "text/html": [
       "<dl>\n",
       "\t<dt>$solution</dt>\n",
       "\t\t<dd><table>\n",
       "<tbody>\n",
       "\t<tr><td>0</td><td>0</td><td>1</td><td>0</td><td>0</td><td>0</td><td>0</td><td>0</td><td>0</td><td>0</td><td>0</td><td>0</td><td>0</td><td>0</td><td>0</td></tr>\n",
       "\t<tr><td>0</td><td>0</td><td>0</td><td>0</td><td>0</td><td>0</td><td>0</td><td>1</td><td>0</td><td>0</td><td>0</td><td>0</td><td>0</td><td>0</td><td>0</td></tr>\n",
       "\t<tr><td>0</td><td>0</td><td>0</td><td>0</td><td>0</td><td>0</td><td>0</td><td>0</td><td>0</td><td>0</td><td>0</td><td>0</td><td>0</td><td>0</td><td>1</td></tr>\n",
       "\t<tr><td>0</td><td>0</td><td>0</td><td>0</td><td>0</td><td>1</td><td>0</td><td>0</td><td>0</td><td>0</td><td>0</td><td>0</td><td>0</td><td>0</td><td>0</td></tr>\n",
       "\t<tr><td>0</td><td>0</td><td>0</td><td>0</td><td>0</td><td>0</td><td>0</td><td>0</td><td>0</td><td>0</td><td>1</td><td>0</td><td>0</td><td>0</td><td>0</td></tr>\n",
       "\t<tr><td>0</td><td>0</td><td>0</td><td>0</td><td>0</td><td>0</td><td>1</td><td>0</td><td>0</td><td>0</td><td>0</td><td>0</td><td>0</td><td>0</td><td>0</td></tr>\n",
       "\t<tr><td>0</td><td>0</td><td>0</td><td>0</td><td>0</td><td>0</td><td>0</td><td>0</td><td>0</td><td>0</td><td>0</td><td>1</td><td>0</td><td>0</td><td>0</td></tr>\n",
       "\t<tr><td>0</td><td>0</td><td>0</td><td>0</td><td>1</td><td>0</td><td>0</td><td>0</td><td>0</td><td>0</td><td>0</td><td>0</td><td>0</td><td>0</td><td>0</td></tr>\n",
       "\t<tr><td>0</td><td>0</td><td>0</td><td>0</td><td>0</td><td>0</td><td>0</td><td>0</td><td>0</td><td>0</td><td>0</td><td>0</td><td>0</td><td>1</td><td>0</td></tr>\n",
       "\t<tr><td>0</td><td>0</td><td>0</td><td>0</td><td>0</td><td>0</td><td>0</td><td>0</td><td>0</td><td>0</td><td>0</td><td>0</td><td>1</td><td>0</td><td>0</td></tr>\n",
       "\t<tr><td>0</td><td>0</td><td>0</td><td>1</td><td>0</td><td>0</td><td>0</td><td>0</td><td>0</td><td>0</td><td>0</td><td>0</td><td>0</td><td>0</td><td>0</td></tr>\n",
       "\t<tr><td>1</td><td>0</td><td>0</td><td>0</td><td>0</td><td>0</td><td>0</td><td>0</td><td>0</td><td>0</td><td>0</td><td>0</td><td>0</td><td>0</td><td>0</td></tr>\n",
       "\t<tr><td>0</td><td>0</td><td>0</td><td>0</td><td>0</td><td>0</td><td>0</td><td>0</td><td>1</td><td>0</td><td>0</td><td>0</td><td>0</td><td>0</td><td>0</td></tr>\n",
       "\t<tr><td>0</td><td>0</td><td>0</td><td>0</td><td>0</td><td>0</td><td>0</td><td>0</td><td>0</td><td>1</td><td>0</td><td>0</td><td>0</td><td>0</td><td>0</td></tr>\n",
       "\t<tr><td>0</td><td>1</td><td>0</td><td>0</td><td>0</td><td>0</td><td>0</td><td>0</td><td>0</td><td>0</td><td>0</td><td>0</td><td>0</td><td>0</td><td>0</td></tr>\n",
       "</tbody>\n",
       "</table>\n",
       "</dd>\n",
       "\t<dt>$objval</dt>\n",
       "\t\t<dd><strong>V11:</strong> 218</dd>\n",
       "</dl>\n"
      ],
      "text/latex": [
       "\\begin{description}\n",
       "\\item[\\$solution] \\begin{tabular}{lllllllllllllll}\n",
       "\t 0 & 0 & 1 & 0 & 0 & 0 & 0 & 0 & 0 & 0 & 0 & 0 & 0 & 0 & 0\\\\\n",
       "\t 0 & 0 & 0 & 0 & 0 & 0 & 0 & 1 & 0 & 0 & 0 & 0 & 0 & 0 & 0\\\\\n",
       "\t 0 & 0 & 0 & 0 & 0 & 0 & 0 & 0 & 0 & 0 & 0 & 0 & 0 & 0 & 1\\\\\n",
       "\t 0 & 0 & 0 & 0 & 0 & 1 & 0 & 0 & 0 & 0 & 0 & 0 & 0 & 0 & 0\\\\\n",
       "\t 0 & 0 & 0 & 0 & 0 & 0 & 0 & 0 & 0 & 0 & 1 & 0 & 0 & 0 & 0\\\\\n",
       "\t 0 & 0 & 0 & 0 & 0 & 0 & 1 & 0 & 0 & 0 & 0 & 0 & 0 & 0 & 0\\\\\n",
       "\t 0 & 0 & 0 & 0 & 0 & 0 & 0 & 0 & 0 & 0 & 0 & 1 & 0 & 0 & 0\\\\\n",
       "\t 0 & 0 & 0 & 0 & 1 & 0 & 0 & 0 & 0 & 0 & 0 & 0 & 0 & 0 & 0\\\\\n",
       "\t 0 & 0 & 0 & 0 & 0 & 0 & 0 & 0 & 0 & 0 & 0 & 0 & 0 & 1 & 0\\\\\n",
       "\t 0 & 0 & 0 & 0 & 0 & 0 & 0 & 0 & 0 & 0 & 0 & 0 & 1 & 0 & 0\\\\\n",
       "\t 0 & 0 & 0 & 1 & 0 & 0 & 0 & 0 & 0 & 0 & 0 & 0 & 0 & 0 & 0\\\\\n",
       "\t 1 & 0 & 0 & 0 & 0 & 0 & 0 & 0 & 0 & 0 & 0 & 0 & 0 & 0 & 0\\\\\n",
       "\t 0 & 0 & 0 & 0 & 0 & 0 & 0 & 0 & 1 & 0 & 0 & 0 & 0 & 0 & 0\\\\\n",
       "\t 0 & 0 & 0 & 0 & 0 & 0 & 0 & 0 & 0 & 1 & 0 & 0 & 0 & 0 & 0\\\\\n",
       "\t 0 & 1 & 0 & 0 & 0 & 0 & 0 & 0 & 0 & 0 & 0 & 0 & 0 & 0 & 0\\\\\n",
       "\\end{tabular}\n",
       "\n",
       "\\item[\\$objval] \\textbf{V11:} 218\n",
       "\\end{description}\n"
      ],
      "text/markdown": [
       "$solution\n",
       ":   \n",
       "| 0 | 0 | 1 | 0 | 0 | 0 | 0 | 0 | 0 | 0 | 0 | 0 | 0 | 0 | 0 | \n",
       "| 0 | 0 | 0 | 0 | 0 | 0 | 0 | 1 | 0 | 0 | 0 | 0 | 0 | 0 | 0 | \n",
       "| 0 | 0 | 0 | 0 | 0 | 0 | 0 | 0 | 0 | 0 | 0 | 0 | 0 | 0 | 1 | \n",
       "| 0 | 0 | 0 | 0 | 0 | 1 | 0 | 0 | 0 | 0 | 0 | 0 | 0 | 0 | 0 | \n",
       "| 0 | 0 | 0 | 0 | 0 | 0 | 0 | 0 | 0 | 0 | 1 | 0 | 0 | 0 | 0 | \n",
       "| 0 | 0 | 0 | 0 | 0 | 0 | 1 | 0 | 0 | 0 | 0 | 0 | 0 | 0 | 0 | \n",
       "| 0 | 0 | 0 | 0 | 0 | 0 | 0 | 0 | 0 | 0 | 0 | 1 | 0 | 0 | 0 | \n",
       "| 0 | 0 | 0 | 0 | 1 | 0 | 0 | 0 | 0 | 0 | 0 | 0 | 0 | 0 | 0 | \n",
       "| 0 | 0 | 0 | 0 | 0 | 0 | 0 | 0 | 0 | 0 | 0 | 0 | 0 | 1 | 0 | \n",
       "| 0 | 0 | 0 | 0 | 0 | 0 | 0 | 0 | 0 | 0 | 0 | 0 | 1 | 0 | 0 | \n",
       "| 0 | 0 | 0 | 1 | 0 | 0 | 0 | 0 | 0 | 0 | 0 | 0 | 0 | 0 | 0 | \n",
       "| 1 | 0 | 0 | 0 | 0 | 0 | 0 | 0 | 0 | 0 | 0 | 0 | 0 | 0 | 0 | \n",
       "| 0 | 0 | 0 | 0 | 0 | 0 | 0 | 0 | 1 | 0 | 0 | 0 | 0 | 0 | 0 | \n",
       "| 0 | 0 | 0 | 0 | 0 | 0 | 0 | 0 | 0 | 1 | 0 | 0 | 0 | 0 | 0 | \n",
       "| 0 | 1 | 0 | 0 | 0 | 0 | 0 | 0 | 0 | 0 | 0 | 0 | 0 | 0 | 0 | \n",
       "\n",
       "\n",
       "\n",
       "$objval\n",
       ":   **V11:** 218\n",
       "\n",
       "\n"
      ],
      "text/plain": [
       "$solution\n",
       "      [,1] [,2] [,3] [,4] [,5] [,6] [,7] [,8] [,9] [,10] [,11] [,12] [,13]\n",
       " [1,]    0    0    1    0    0    0    0    0    0     0     0     0     0\n",
       " [2,]    0    0    0    0    0    0    0    1    0     0     0     0     0\n",
       " [3,]    0    0    0    0    0    0    0    0    0     0     0     0     0\n",
       " [4,]    0    0    0    0    0    1    0    0    0     0     0     0     0\n",
       " [5,]    0    0    0    0    0    0    0    0    0     0     1     0     0\n",
       " [6,]    0    0    0    0    0    0    1    0    0     0     0     0     0\n",
       " [7,]    0    0    0    0    0    0    0    0    0     0     0     1     0\n",
       " [8,]    0    0    0    0    1    0    0    0    0     0     0     0     0\n",
       " [9,]    0    0    0    0    0    0    0    0    0     0     0     0     0\n",
       "[10,]    0    0    0    0    0    0    0    0    0     0     0     0     1\n",
       "[11,]    0    0    0    1    0    0    0    0    0     0     0     0     0\n",
       "[12,]    1    0    0    0    0    0    0    0    0     0     0     0     0\n",
       "[13,]    0    0    0    0    0    0    0    0    1     0     0     0     0\n",
       "[14,]    0    0    0    0    0    0    0    0    0     1     0     0     0\n",
       "[15,]    0    1    0    0    0    0    0    0    0     0     0     0     0\n",
       "      [,14] [,15]\n",
       " [1,]     0     0\n",
       " [2,]     0     0\n",
       " [3,]     0     1\n",
       " [4,]     0     0\n",
       " [5,]     0     0\n",
       " [6,]     0     0\n",
       " [7,]     0     0\n",
       " [8,]     0     0\n",
       " [9,]     1     0\n",
       "[10,]     0     0\n",
       "[11,]     0     0\n",
       "[12,]     0     0\n",
       "[13,]     0     0\n",
       "[14,]     0     0\n",
       "[15,]     0     0\n",
       "\n",
       "$objval\n",
       "V11 \n",
       "218 \n"
      ]
     },
     "metadata": {},
     "output_type": "display_data"
    }
   ],
   "source": [
    "AssignmentGreedy(matriz.15x15.1)"
   ]
  },
  {
   "cell_type": "code",
   "execution_count": 19,
   "metadata": {},
   "outputs": [
    {
     "data": {
      "text/html": [
       "<dl>\n",
       "\t<dt>$solution</dt>\n",
       "\t\t<dd><table>\n",
       "<tbody>\n",
       "\t<tr><td>0</td><td>0</td><td>0</td><td>0</td><td>0</td><td>0</td><td>0</td><td>0</td><td>0</td><td>0</td><td>0</td><td>1</td><td>0</td><td>0</td><td>0</td></tr>\n",
       "\t<tr><td>0</td><td>0</td><td>0</td><td>0</td><td>0</td><td>0</td><td>0</td><td>1</td><td>0</td><td>0</td><td>0</td><td>0</td><td>0</td><td>0</td><td>0</td></tr>\n",
       "\t<tr><td>0</td><td>0</td><td>0</td><td>0</td><td>0</td><td>0</td><td>0</td><td>0</td><td>0</td><td>0</td><td>0</td><td>0</td><td>0</td><td>0</td><td>1</td></tr>\n",
       "\t<tr><td>0</td><td>0</td><td>0</td><td>0</td><td>0</td><td>1</td><td>0</td><td>0</td><td>0</td><td>0</td><td>0</td><td>0</td><td>0</td><td>0</td><td>0</td></tr>\n",
       "\t<tr><td>0</td><td>0</td><td>0</td><td>0</td><td>0</td><td>0</td><td>0</td><td>0</td><td>0</td><td>0</td><td>1</td><td>0</td><td>0</td><td>0</td><td>0</td></tr>\n",
       "\t<tr><td>0</td><td>0</td><td>0</td><td>0</td><td>0</td><td>0</td><td>0</td><td>0</td><td>1</td><td>0</td><td>0</td><td>0</td><td>0</td><td>0</td><td>0</td></tr>\n",
       "\t<tr><td>0</td><td>0</td><td>1</td><td>0</td><td>0</td><td>0</td><td>0</td><td>0</td><td>0</td><td>0</td><td>0</td><td>0</td><td>0</td><td>0</td><td>0</td></tr>\n",
       "\t<tr><td>0</td><td>0</td><td>0</td><td>0</td><td>1</td><td>0</td><td>0</td><td>0</td><td>0</td><td>0</td><td>0</td><td>0</td><td>0</td><td>0</td><td>0</td></tr>\n",
       "\t<tr><td>0</td><td>0</td><td>0</td><td>0</td><td>0</td><td>0</td><td>0</td><td>0</td><td>0</td><td>0</td><td>0</td><td>0</td><td>0</td><td>1</td><td>0</td></tr>\n",
       "\t<tr><td>0</td><td>0</td><td>0</td><td>0</td><td>0</td><td>0</td><td>0</td><td>0</td><td>0</td><td>0</td><td>0</td><td>0</td><td>1</td><td>0</td><td>0</td></tr>\n",
       "\t<tr><td>0</td><td>0</td><td>0</td><td>1</td><td>0</td><td>0</td><td>0</td><td>0</td><td>0</td><td>0</td><td>0</td><td>0</td><td>0</td><td>0</td><td>0</td></tr>\n",
       "\t<tr><td>1</td><td>0</td><td>0</td><td>0</td><td>0</td><td>0</td><td>0</td><td>0</td><td>0</td><td>0</td><td>0</td><td>0</td><td>0</td><td>0</td><td>0</td></tr>\n",
       "\t<tr><td>0</td><td>0</td><td>0</td><td>0</td><td>0</td><td>0</td><td>1</td><td>0</td><td>0</td><td>0</td><td>0</td><td>0</td><td>0</td><td>0</td><td>0</td></tr>\n",
       "\t<tr><td>0</td><td>0</td><td>0</td><td>0</td><td>0</td><td>0</td><td>0</td><td>0</td><td>0</td><td>1</td><td>0</td><td>0</td><td>0</td><td>0</td><td>0</td></tr>\n",
       "\t<tr><td>0</td><td>1</td><td>0</td><td>0</td><td>0</td><td>0</td><td>0</td><td>0</td><td>0</td><td>0</td><td>0</td><td>0</td><td>0</td><td>0</td><td>0</td></tr>\n",
       "</tbody>\n",
       "</table>\n",
       "</dd>\n",
       "\t<dt>$objval</dt>\n",
       "\t\t<dd><strong>V11:</strong> 144</dd>\n",
       "</dl>\n"
      ],
      "text/latex": [
       "\\begin{description}\n",
       "\\item[\\$solution] \\begin{tabular}{lllllllllllllll}\n",
       "\t 0 & 0 & 0 & 0 & 0 & 0 & 0 & 0 & 0 & 0 & 0 & 1 & 0 & 0 & 0\\\\\n",
       "\t 0 & 0 & 0 & 0 & 0 & 0 & 0 & 1 & 0 & 0 & 0 & 0 & 0 & 0 & 0\\\\\n",
       "\t 0 & 0 & 0 & 0 & 0 & 0 & 0 & 0 & 0 & 0 & 0 & 0 & 0 & 0 & 1\\\\\n",
       "\t 0 & 0 & 0 & 0 & 0 & 1 & 0 & 0 & 0 & 0 & 0 & 0 & 0 & 0 & 0\\\\\n",
       "\t 0 & 0 & 0 & 0 & 0 & 0 & 0 & 0 & 0 & 0 & 1 & 0 & 0 & 0 & 0\\\\\n",
       "\t 0 & 0 & 0 & 0 & 0 & 0 & 0 & 0 & 1 & 0 & 0 & 0 & 0 & 0 & 0\\\\\n",
       "\t 0 & 0 & 1 & 0 & 0 & 0 & 0 & 0 & 0 & 0 & 0 & 0 & 0 & 0 & 0\\\\\n",
       "\t 0 & 0 & 0 & 0 & 1 & 0 & 0 & 0 & 0 & 0 & 0 & 0 & 0 & 0 & 0\\\\\n",
       "\t 0 & 0 & 0 & 0 & 0 & 0 & 0 & 0 & 0 & 0 & 0 & 0 & 0 & 1 & 0\\\\\n",
       "\t 0 & 0 & 0 & 0 & 0 & 0 & 0 & 0 & 0 & 0 & 0 & 0 & 1 & 0 & 0\\\\\n",
       "\t 0 & 0 & 0 & 1 & 0 & 0 & 0 & 0 & 0 & 0 & 0 & 0 & 0 & 0 & 0\\\\\n",
       "\t 1 & 0 & 0 & 0 & 0 & 0 & 0 & 0 & 0 & 0 & 0 & 0 & 0 & 0 & 0\\\\\n",
       "\t 0 & 0 & 0 & 0 & 0 & 0 & 1 & 0 & 0 & 0 & 0 & 0 & 0 & 0 & 0\\\\\n",
       "\t 0 & 0 & 0 & 0 & 0 & 0 & 0 & 0 & 0 & 1 & 0 & 0 & 0 & 0 & 0\\\\\n",
       "\t 0 & 1 & 0 & 0 & 0 & 0 & 0 & 0 & 0 & 0 & 0 & 0 & 0 & 0 & 0\\\\\n",
       "\\end{tabular}\n",
       "\n",
       "\\item[\\$objval] \\textbf{V11:} 144\n",
       "\\end{description}\n"
      ],
      "text/markdown": [
       "$solution\n",
       ":   \n",
       "| 0 | 0 | 0 | 0 | 0 | 0 | 0 | 0 | 0 | 0 | 0 | 1 | 0 | 0 | 0 | \n",
       "| 0 | 0 | 0 | 0 | 0 | 0 | 0 | 1 | 0 | 0 | 0 | 0 | 0 | 0 | 0 | \n",
       "| 0 | 0 | 0 | 0 | 0 | 0 | 0 | 0 | 0 | 0 | 0 | 0 | 0 | 0 | 1 | \n",
       "| 0 | 0 | 0 | 0 | 0 | 1 | 0 | 0 | 0 | 0 | 0 | 0 | 0 | 0 | 0 | \n",
       "| 0 | 0 | 0 | 0 | 0 | 0 | 0 | 0 | 0 | 0 | 1 | 0 | 0 | 0 | 0 | \n",
       "| 0 | 0 | 0 | 0 | 0 | 0 | 0 | 0 | 1 | 0 | 0 | 0 | 0 | 0 | 0 | \n",
       "| 0 | 0 | 1 | 0 | 0 | 0 | 0 | 0 | 0 | 0 | 0 | 0 | 0 | 0 | 0 | \n",
       "| 0 | 0 | 0 | 0 | 1 | 0 | 0 | 0 | 0 | 0 | 0 | 0 | 0 | 0 | 0 | \n",
       "| 0 | 0 | 0 | 0 | 0 | 0 | 0 | 0 | 0 | 0 | 0 | 0 | 0 | 1 | 0 | \n",
       "| 0 | 0 | 0 | 0 | 0 | 0 | 0 | 0 | 0 | 0 | 0 | 0 | 1 | 0 | 0 | \n",
       "| 0 | 0 | 0 | 1 | 0 | 0 | 0 | 0 | 0 | 0 | 0 | 0 | 0 | 0 | 0 | \n",
       "| 1 | 0 | 0 | 0 | 0 | 0 | 0 | 0 | 0 | 0 | 0 | 0 | 0 | 0 | 0 | \n",
       "| 0 | 0 | 0 | 0 | 0 | 0 | 1 | 0 | 0 | 0 | 0 | 0 | 0 | 0 | 0 | \n",
       "| 0 | 0 | 0 | 0 | 0 | 0 | 0 | 0 | 0 | 1 | 0 | 0 | 0 | 0 | 0 | \n",
       "| 0 | 1 | 0 | 0 | 0 | 0 | 0 | 0 | 0 | 0 | 0 | 0 | 0 | 0 | 0 | \n",
       "\n",
       "\n",
       "\n",
       "$objval\n",
       ":   **V11:** 144\n",
       "\n",
       "\n"
      ],
      "text/plain": [
       "$solution\n",
       "      [,1] [,2] [,3] [,4] [,5] [,6] [,7] [,8] [,9] [,10] [,11] [,12] [,13]\n",
       " [1,]    0    0    0    0    0    0    0    0    0     0     0     1     0\n",
       " [2,]    0    0    0    0    0    0    0    1    0     0     0     0     0\n",
       " [3,]    0    0    0    0    0    0    0    0    0     0     0     0     0\n",
       " [4,]    0    0    0    0    0    1    0    0    0     0     0     0     0\n",
       " [5,]    0    0    0    0    0    0    0    0    0     0     1     0     0\n",
       " [6,]    0    0    0    0    0    0    0    0    1     0     0     0     0\n",
       " [7,]    0    0    1    0    0    0    0    0    0     0     0     0     0\n",
       " [8,]    0    0    0    0    1    0    0    0    0     0     0     0     0\n",
       " [9,]    0    0    0    0    0    0    0    0    0     0     0     0     0\n",
       "[10,]    0    0    0    0    0    0    0    0    0     0     0     0     1\n",
       "[11,]    0    0    0    1    0    0    0    0    0     0     0     0     0\n",
       "[12,]    1    0    0    0    0    0    0    0    0     0     0     0     0\n",
       "[13,]    0    0    0    0    0    0    1    0    0     0     0     0     0\n",
       "[14,]    0    0    0    0    0    0    0    0    0     1     0     0     0\n",
       "[15,]    0    1    0    0    0    0    0    0    0     0     0     0     0\n",
       "      [,14] [,15]\n",
       " [1,]     0     0\n",
       " [2,]     0     0\n",
       " [3,]     0     1\n",
       " [4,]     0     0\n",
       " [5,]     0     0\n",
       " [6,]     0     0\n",
       " [7,]     0     0\n",
       " [8,]     0     0\n",
       " [9,]     1     0\n",
       "[10,]     0     0\n",
       "[11,]     0     0\n",
       "[12,]     0     0\n",
       "[13,]     0     0\n",
       "[14,]     0     0\n",
       "[15,]     0     0\n",
       "\n",
       "$objval\n",
       "V11 \n",
       "144 \n"
      ]
     },
     "metadata": {},
     "output_type": "display_data"
    }
   ],
   "source": [
    "AssignmentGreedyLocalSearch(matriz.15x15.1)"
   ]
  },
  {
   "cell_type": "code",
   "execution_count": 20,
   "metadata": {},
   "outputs": [
    {
     "data": {
      "text/html": [
       "<table>\n",
       "<thead><tr><th scope=col>V1</th><th scope=col>V2</th><th scope=col>V3</th><th scope=col>V4</th><th scope=col>V5</th><th scope=col>V6</th><th scope=col>V7</th><th scope=col>V8</th><th scope=col>V9</th><th scope=col>V10</th><th scope=col>V11</th><th scope=col>V12</th><th scope=col>V13</th><th scope=col>V14</th><th scope=col>V15</th></tr></thead>\n",
       "<tbody>\n",
       "\t<tr><td>  6</td><td>51 </td><td>28 </td><td>33 </td><td>12 </td><td>43 </td><td>24 </td><td>72 </td><td>15 </td><td>93 </td><td> 12</td><td> 0 </td><td>83 </td><td>28 </td><td>43 </td></tr>\n",
       "\t<tr><td> 36</td><td>29 </td><td>45 </td><td>40 </td><td>61 </td><td>88 </td><td> 6 </td><td>70 </td><td>73 </td><td>64 </td><td> 12</td><td>86 </td><td>35 </td><td>42 </td><td>13 </td></tr>\n",
       "\t<tr><td> 77</td><td>40 </td><td>77 </td><td>49 </td><td>54 </td><td>71 </td><td>85 </td><td> 8 </td><td>99 </td><td>16 </td><td> 96</td><td>61 </td><td>74 </td><td>16 </td><td>66 </td></tr>\n",
       "\t<tr><td> 79</td><td>48 </td><td>43 </td><td>25 </td><td>84 </td><td>96 </td><td>48 </td><td>74 </td><td>65 </td><td>21 </td><td> 49</td><td>23 </td><td> 9 </td><td>83 </td><td> 7 </td></tr>\n",
       "\t<tr><td>100</td><td>23 </td><td>36 </td><td> 2 </td><td>44 </td><td>28 </td><td>66 </td><td>15 </td><td>80 </td><td>45 </td><td> 70</td><td>47 </td><td>89 </td><td>18 </td><td>33 </td></tr>\n",
       "\t<tr><td>  5</td><td>50 </td><td>92 </td><td>82 </td><td>96 </td><td>41 </td><td>75 </td><td>92 </td><td>86 </td><td>12 </td><td> 15</td><td>74 </td><td>41 </td><td>89 </td><td>25 </td></tr>\n",
       "\t<tr><td> 62</td><td> 5 </td><td>81 </td><td>41 </td><td>84 </td><td>23 </td><td>69 </td><td>87 </td><td>37 </td><td>24 </td><td> 29</td><td>31 </td><td>55 </td><td>80 </td><td>81 </td></tr>\n",
       "\t<tr><td> 64</td><td>46 </td><td>60 </td><td>98 </td><td>40 </td><td>57 </td><td>76 </td><td>23 </td><td>17 </td><td>84 </td><td> 99</td><td> 6 </td><td>65 </td><td>27 </td><td>65 </td></tr>\n",
       "\t<tr><td> 84</td><td> 0 </td><td>28 </td><td>16 </td><td>81 </td><td>85 </td><td>24 </td><td>21 </td><td>88 </td><td> 5 </td><td> 76</td><td>47 </td><td>22 </td><td>23 </td><td>33 </td></tr>\n",
       "\t<tr><td>  3</td><td>74 </td><td>78 </td><td>80 </td><td>97 </td><td>10 </td><td>86 </td><td>30 </td><td>16 </td><td>74 </td><td> 88</td><td>35 </td><td>96 </td><td>56 </td><td>99 </td></tr>\n",
       "\t<tr><td> 76</td><td>32 </td><td>31 </td><td>82 </td><td>33 </td><td>23 </td><td>70 </td><td>40 </td><td>83 </td><td>75 </td><td> 26</td><td>40 </td><td>42 </td><td>30 </td><td>87 </td></tr>\n",
       "\t<tr><td> 52</td><td>74 </td><td>93 </td><td> 6 </td><td>14 </td><td>48 </td><td>92 </td><td>96 </td><td>71 </td><td>57 </td><td>100</td><td>42 </td><td> 7 </td><td>25 </td><td>43 </td></tr>\n",
       "\t<tr><td> 37</td><td>29 </td><td>55 </td><td>40 </td><td> 3 </td><td>39 </td><td>18 </td><td> 4 </td><td>37 </td><td>49 </td><td> 23</td><td>40 </td><td>30 </td><td> 4 </td><td>32 </td></tr>\n",
       "\t<tr><td> 36</td><td>13 </td><td>40 </td><td>10 </td><td>14 </td><td>73 </td><td>13 </td><td>60 </td><td>65 </td><td>55 </td><td> 10</td><td>94 </td><td>46 </td><td>85 </td><td>84 </td></tr>\n",
       "\t<tr><td> 12</td><td>23 </td><td>96 </td><td>10 </td><td>67 </td><td>43 </td><td>11 </td><td>79 </td><td> 7 </td><td>83 </td><td> 44</td><td>17 </td><td>52 </td><td>32 </td><td>14 </td></tr>\n",
       "</tbody>\n",
       "</table>\n"
      ],
      "text/latex": [
       "\\begin{tabular}{lllllllllllllll}\n",
       " V1 & V2 & V3 & V4 & V5 & V6 & V7 & V8 & V9 & V10 & V11 & V12 & V13 & V14 & V15\\\\\n",
       "\\hline\n",
       "\t   6 & 51  & 28  & 33  & 12  & 43  & 24  & 72  & 15  & 93  &  12 &  0  & 83  & 28  & 43 \\\\\n",
       "\t  36 & 29  & 45  & 40  & 61  & 88  &  6  & 70  & 73  & 64  &  12 & 86  & 35  & 42  & 13 \\\\\n",
       "\t  77 & 40  & 77  & 49  & 54  & 71  & 85  &  8  & 99  & 16  &  96 & 61  & 74  & 16  & 66 \\\\\n",
       "\t  79 & 48  & 43  & 25  & 84  & 96  & 48  & 74  & 65  & 21  &  49 & 23  &  9  & 83  &  7 \\\\\n",
       "\t 100 & 23  & 36  &  2  & 44  & 28  & 66  & 15  & 80  & 45  &  70 & 47  & 89  & 18  & 33 \\\\\n",
       "\t   5 & 50  & 92  & 82  & 96  & 41  & 75  & 92  & 86  & 12  &  15 & 74  & 41  & 89  & 25 \\\\\n",
       "\t  62 &  5  & 81  & 41  & 84  & 23  & 69  & 87  & 37  & 24  &  29 & 31  & 55  & 80  & 81 \\\\\n",
       "\t  64 & 46  & 60  & 98  & 40  & 57  & 76  & 23  & 17  & 84  &  99 &  6  & 65  & 27  & 65 \\\\\n",
       "\t  84 &  0  & 28  & 16  & 81  & 85  & 24  & 21  & 88  &  5  &  76 & 47  & 22  & 23  & 33 \\\\\n",
       "\t   3 & 74  & 78  & 80  & 97  & 10  & 86  & 30  & 16  & 74  &  88 & 35  & 96  & 56  & 99 \\\\\n",
       "\t  76 & 32  & 31  & 82  & 33  & 23  & 70  & 40  & 83  & 75  &  26 & 40  & 42  & 30  & 87 \\\\\n",
       "\t  52 & 74  & 93  &  6  & 14  & 48  & 92  & 96  & 71  & 57  & 100 & 42  &  7  & 25  & 43 \\\\\n",
       "\t  37 & 29  & 55  & 40  &  3  & 39  & 18  &  4  & 37  & 49  &  23 & 40  & 30  &  4  & 32 \\\\\n",
       "\t  36 & 13  & 40  & 10  & 14  & 73  & 13  & 60  & 65  & 55  &  10 & 94  & 46  & 85  & 84 \\\\\n",
       "\t  12 & 23  & 96  & 10  & 67  & 43  & 11  & 79  &  7  & 83  &  44 & 17  & 52  & 32  & 14 \\\\\n",
       "\\end{tabular}\n"
      ],
      "text/markdown": [
       "\n",
       "V1 | V2 | V3 | V4 | V5 | V6 | V7 | V8 | V9 | V10 | V11 | V12 | V13 | V14 | V15 | \n",
       "|---|---|---|---|---|---|---|---|---|---|---|---|---|---|---|\n",
       "|   6 | 51  | 28  | 33  | 12  | 43  | 24  | 72  | 15  | 93  |  12 |  0  | 83  | 28  | 43  | \n",
       "|  36 | 29  | 45  | 40  | 61  | 88  |  6  | 70  | 73  | 64  |  12 | 86  | 35  | 42  | 13  | \n",
       "|  77 | 40  | 77  | 49  | 54  | 71  | 85  |  8  | 99  | 16  |  96 | 61  | 74  | 16  | 66  | \n",
       "|  79 | 48  | 43  | 25  | 84  | 96  | 48  | 74  | 65  | 21  |  49 | 23  |  9  | 83  |  7  | \n",
       "| 100 | 23  | 36  |  2  | 44  | 28  | 66  | 15  | 80  | 45  |  70 | 47  | 89  | 18  | 33  | \n",
       "|   5 | 50  | 92  | 82  | 96  | 41  | 75  | 92  | 86  | 12  |  15 | 74  | 41  | 89  | 25  | \n",
       "|  62 |  5  | 81  | 41  | 84  | 23  | 69  | 87  | 37  | 24  |  29 | 31  | 55  | 80  | 81  | \n",
       "|  64 | 46  | 60  | 98  | 40  | 57  | 76  | 23  | 17  | 84  |  99 |  6  | 65  | 27  | 65  | \n",
       "|  84 |  0  | 28  | 16  | 81  | 85  | 24  | 21  | 88  |  5  |  76 | 47  | 22  | 23  | 33  | \n",
       "|   3 | 74  | 78  | 80  | 97  | 10  | 86  | 30  | 16  | 74  |  88 | 35  | 96  | 56  | 99  | \n",
       "|  76 | 32  | 31  | 82  | 33  | 23  | 70  | 40  | 83  | 75  |  26 | 40  | 42  | 30  | 87  | \n",
       "|  52 | 74  | 93  |  6  | 14  | 48  | 92  | 96  | 71  | 57  | 100 | 42  |  7  | 25  | 43  | \n",
       "|  37 | 29  | 55  | 40  |  3  | 39  | 18  |  4  | 37  | 49  |  23 | 40  | 30  |  4  | 32  | \n",
       "|  36 | 13  | 40  | 10  | 14  | 73  | 13  | 60  | 65  | 55  |  10 | 94  | 46  | 85  | 84  | \n",
       "|  12 | 23  | 96  | 10  | 67  | 43  | 11  | 79  |  7  | 83  |  44 | 17  | 52  | 32  | 14  | \n",
       "\n",
       "\n"
      ],
      "text/plain": [
       "      V1  V2 V3 V4 V5 V6 V7 V8 V9 V10 V11 V12 V13 V14 V15\n",
       " [1,]   6 51 28 33 12 43 24 72 15 93   12  0  83  28  43 \n",
       " [2,]  36 29 45 40 61 88  6 70 73 64   12 86  35  42  13 \n",
       " [3,]  77 40 77 49 54 71 85  8 99 16   96 61  74  16  66 \n",
       " [4,]  79 48 43 25 84 96 48 74 65 21   49 23   9  83   7 \n",
       " [5,] 100 23 36  2 44 28 66 15 80 45   70 47  89  18  33 \n",
       " [6,]   5 50 92 82 96 41 75 92 86 12   15 74  41  89  25 \n",
       " [7,]  62  5 81 41 84 23 69 87 37 24   29 31  55  80  81 \n",
       " [8,]  64 46 60 98 40 57 76 23 17 84   99  6  65  27  65 \n",
       " [9,]  84  0 28 16 81 85 24 21 88  5   76 47  22  23  33 \n",
       "[10,]   3 74 78 80 97 10 86 30 16 74   88 35  96  56  99 \n",
       "[11,]  76 32 31 82 33 23 70 40 83 75   26 40  42  30  87 \n",
       "[12,]  52 74 93  6 14 48 92 96 71 57  100 42   7  25  43 \n",
       "[13,]  37 29 55 40  3 39 18  4 37 49   23 40  30   4  32 \n",
       "[14,]  36 13 40 10 14 73 13 60 65 55   10 94  46  85  84 \n",
       "[15,]  12 23 96 10 67 43 11 79  7 83   44 17  52  32  14 "
      ]
     },
     "metadata": {},
     "output_type": "display_data"
    }
   ],
   "source": [
    "(matriz.15x15.2 <- as.matrix(read.csv(\"./data/assignment/matriz_15x15_2.csv\", header = FALSE)))"
   ]
  },
  {
   "cell_type": "code",
   "execution_count": 21,
   "metadata": {},
   "outputs": [
    {
     "data": {
      "text/html": [
       "<table>\n",
       "<tbody>\n",
       "\t<tr><td>0</td><td>0</td><td>0</td><td>0</td><td>1</td><td>0</td><td>0</td><td>0</td><td>0</td><td>0</td><td>0</td><td>0</td><td>0</td><td>0</td><td>0</td></tr>\n",
       "\t<tr><td>0</td><td>0</td><td>0</td><td>0</td><td>0</td><td>0</td><td>1</td><td>0</td><td>0</td><td>0</td><td>0</td><td>0</td><td>0</td><td>0</td><td>0</td></tr>\n",
       "\t<tr><td>0</td><td>0</td><td>0</td><td>0</td><td>0</td><td>0</td><td>0</td><td>1</td><td>0</td><td>0</td><td>0</td><td>0</td><td>0</td><td>0</td><td>0</td></tr>\n",
       "\t<tr><td>0</td><td>0</td><td>0</td><td>0</td><td>0</td><td>0</td><td>0</td><td>0</td><td>0</td><td>0</td><td>0</td><td>0</td><td>0</td><td>0</td><td>1</td></tr>\n",
       "\t<tr><td>0</td><td>0</td><td>0</td><td>1</td><td>0</td><td>0</td><td>0</td><td>0</td><td>0</td><td>0</td><td>0</td><td>0</td><td>0</td><td>0</td><td>0</td></tr>\n",
       "\t<tr><td>1</td><td>0</td><td>0</td><td>0</td><td>0</td><td>0</td><td>0</td><td>0</td><td>0</td><td>0</td><td>0</td><td>0</td><td>0</td><td>0</td><td>0</td></tr>\n",
       "\t<tr><td>0</td><td>1</td><td>0</td><td>0</td><td>0</td><td>0</td><td>0</td><td>0</td><td>0</td><td>0</td><td>0</td><td>0</td><td>0</td><td>0</td><td>0</td></tr>\n",
       "\t<tr><td>0</td><td>0</td><td>0</td><td>0</td><td>0</td><td>0</td><td>0</td><td>0</td><td>0</td><td>0</td><td>0</td><td>1</td><td>0</td><td>0</td><td>0</td></tr>\n",
       "\t<tr><td>0</td><td>0</td><td>0</td><td>0</td><td>0</td><td>0</td><td>0</td><td>0</td><td>0</td><td>1</td><td>0</td><td>0</td><td>0</td><td>0</td><td>0</td></tr>\n",
       "\t<tr><td>0</td><td>0</td><td>0</td><td>0</td><td>0</td><td>1</td><td>0</td><td>0</td><td>0</td><td>0</td><td>0</td><td>0</td><td>0</td><td>0</td><td>0</td></tr>\n",
       "\t<tr><td>0</td><td>0</td><td>1</td><td>0</td><td>0</td><td>0</td><td>0</td><td>0</td><td>0</td><td>0</td><td>0</td><td>0</td><td>0</td><td>0</td><td>0</td></tr>\n",
       "\t<tr><td>0</td><td>0</td><td>0</td><td>0</td><td>0</td><td>0</td><td>0</td><td>0</td><td>0</td><td>0</td><td>0</td><td>0</td><td>1</td><td>0</td><td>0</td></tr>\n",
       "\t<tr><td>0</td><td>0</td><td>0</td><td>0</td><td>0</td><td>0</td><td>0</td><td>0</td><td>0</td><td>0</td><td>0</td><td>0</td><td>0</td><td>1</td><td>0</td></tr>\n",
       "\t<tr><td>0</td><td>0</td><td>0</td><td>0</td><td>0</td><td>0</td><td>0</td><td>0</td><td>0</td><td>0</td><td>1</td><td>0</td><td>0</td><td>0</td><td>0</td></tr>\n",
       "\t<tr><td>0</td><td>0</td><td>0</td><td>0</td><td>0</td><td>0</td><td>0</td><td>0</td><td>1</td><td>0</td><td>0</td><td>0</td><td>0</td><td>0</td><td>0</td></tr>\n",
       "</tbody>\n",
       "</table>\n"
      ],
      "text/latex": [
       "\\begin{tabular}{lllllllllllllll}\n",
       "\t 0 & 0 & 0 & 0 & 1 & 0 & 0 & 0 & 0 & 0 & 0 & 0 & 0 & 0 & 0\\\\\n",
       "\t 0 & 0 & 0 & 0 & 0 & 0 & 1 & 0 & 0 & 0 & 0 & 0 & 0 & 0 & 0\\\\\n",
       "\t 0 & 0 & 0 & 0 & 0 & 0 & 0 & 1 & 0 & 0 & 0 & 0 & 0 & 0 & 0\\\\\n",
       "\t 0 & 0 & 0 & 0 & 0 & 0 & 0 & 0 & 0 & 0 & 0 & 0 & 0 & 0 & 1\\\\\n",
       "\t 0 & 0 & 0 & 1 & 0 & 0 & 0 & 0 & 0 & 0 & 0 & 0 & 0 & 0 & 0\\\\\n",
       "\t 1 & 0 & 0 & 0 & 0 & 0 & 0 & 0 & 0 & 0 & 0 & 0 & 0 & 0 & 0\\\\\n",
       "\t 0 & 1 & 0 & 0 & 0 & 0 & 0 & 0 & 0 & 0 & 0 & 0 & 0 & 0 & 0\\\\\n",
       "\t 0 & 0 & 0 & 0 & 0 & 0 & 0 & 0 & 0 & 0 & 0 & 1 & 0 & 0 & 0\\\\\n",
       "\t 0 & 0 & 0 & 0 & 0 & 0 & 0 & 0 & 0 & 1 & 0 & 0 & 0 & 0 & 0\\\\\n",
       "\t 0 & 0 & 0 & 0 & 0 & 1 & 0 & 0 & 0 & 0 & 0 & 0 & 0 & 0 & 0\\\\\n",
       "\t 0 & 0 & 1 & 0 & 0 & 0 & 0 & 0 & 0 & 0 & 0 & 0 & 0 & 0 & 0\\\\\n",
       "\t 0 & 0 & 0 & 0 & 0 & 0 & 0 & 0 & 0 & 0 & 0 & 0 & 1 & 0 & 0\\\\\n",
       "\t 0 & 0 & 0 & 0 & 0 & 0 & 0 & 0 & 0 & 0 & 0 & 0 & 0 & 1 & 0\\\\\n",
       "\t 0 & 0 & 0 & 0 & 0 & 0 & 0 & 0 & 0 & 0 & 1 & 0 & 0 & 0 & 0\\\\\n",
       "\t 0 & 0 & 0 & 0 & 0 & 0 & 0 & 0 & 1 & 0 & 0 & 0 & 0 & 0 & 0\\\\\n",
       "\\end{tabular}\n"
      ],
      "text/markdown": [
       "\n",
       "| 0 | 0 | 0 | 0 | 1 | 0 | 0 | 0 | 0 | 0 | 0 | 0 | 0 | 0 | 0 | \n",
       "| 0 | 0 | 0 | 0 | 0 | 0 | 1 | 0 | 0 | 0 | 0 | 0 | 0 | 0 | 0 | \n",
       "| 0 | 0 | 0 | 0 | 0 | 0 | 0 | 1 | 0 | 0 | 0 | 0 | 0 | 0 | 0 | \n",
       "| 0 | 0 | 0 | 0 | 0 | 0 | 0 | 0 | 0 | 0 | 0 | 0 | 0 | 0 | 1 | \n",
       "| 0 | 0 | 0 | 1 | 0 | 0 | 0 | 0 | 0 | 0 | 0 | 0 | 0 | 0 | 0 | \n",
       "| 1 | 0 | 0 | 0 | 0 | 0 | 0 | 0 | 0 | 0 | 0 | 0 | 0 | 0 | 0 | \n",
       "| 0 | 1 | 0 | 0 | 0 | 0 | 0 | 0 | 0 | 0 | 0 | 0 | 0 | 0 | 0 | \n",
       "| 0 | 0 | 0 | 0 | 0 | 0 | 0 | 0 | 0 | 0 | 0 | 1 | 0 | 0 | 0 | \n",
       "| 0 | 0 | 0 | 0 | 0 | 0 | 0 | 0 | 0 | 1 | 0 | 0 | 0 | 0 | 0 | \n",
       "| 0 | 0 | 0 | 0 | 0 | 1 | 0 | 0 | 0 | 0 | 0 | 0 | 0 | 0 | 0 | \n",
       "| 0 | 0 | 1 | 0 | 0 | 0 | 0 | 0 | 0 | 0 | 0 | 0 | 0 | 0 | 0 | \n",
       "| 0 | 0 | 0 | 0 | 0 | 0 | 0 | 0 | 0 | 0 | 0 | 0 | 1 | 0 | 0 | \n",
       "| 0 | 0 | 0 | 0 | 0 | 0 | 0 | 0 | 0 | 0 | 0 | 0 | 0 | 1 | 0 | \n",
       "| 0 | 0 | 0 | 0 | 0 | 0 | 0 | 0 | 0 | 0 | 1 | 0 | 0 | 0 | 0 | \n",
       "| 0 | 0 | 0 | 0 | 0 | 0 | 0 | 0 | 1 | 0 | 0 | 0 | 0 | 0 | 0 | \n",
       "\n",
       "\n"
      ],
      "text/plain": [
       "      [,1] [,2] [,3] [,4] [,5] [,6] [,7] [,8] [,9] [,10] [,11] [,12] [,13]\n",
       " [1,] 0    0    0    0    1    0    0    0    0    0     0     0     0    \n",
       " [2,] 0    0    0    0    0    0    1    0    0    0     0     0     0    \n",
       " [3,] 0    0    0    0    0    0    0    1    0    0     0     0     0    \n",
       " [4,] 0    0    0    0    0    0    0    0    0    0     0     0     0    \n",
       " [5,] 0    0    0    1    0    0    0    0    0    0     0     0     0    \n",
       " [6,] 1    0    0    0    0    0    0    0    0    0     0     0     0    \n",
       " [7,] 0    1    0    0    0    0    0    0    0    0     0     0     0    \n",
       " [8,] 0    0    0    0    0    0    0    0    0    0     0     1     0    \n",
       " [9,] 0    0    0    0    0    0    0    0    0    1     0     0     0    \n",
       "[10,] 0    0    0    0    0    1    0    0    0    0     0     0     0    \n",
       "[11,] 0    0    1    0    0    0    0    0    0    0     0     0     0    \n",
       "[12,] 0    0    0    0    0    0    0    0    0    0     0     0     1    \n",
       "[13,] 0    0    0    0    0    0    0    0    0    0     0     0     0    \n",
       "[14,] 0    0    0    0    0    0    0    0    0    0     1     0     0    \n",
       "[15,] 0    0    0    0    0    0    0    0    1    0     0     0     0    \n",
       "      [,14] [,15]\n",
       " [1,] 0     0    \n",
       " [2,] 0     0    \n",
       " [3,] 0     0    \n",
       " [4,] 0     1    \n",
       " [5,] 0     0    \n",
       " [6,] 0     0    \n",
       " [7,] 0     0    \n",
       " [8,] 0     0    \n",
       " [9,] 0     0    \n",
       "[10,] 0     0    \n",
       "[11,] 0     0    \n",
       "[12,] 0     0    \n",
       "[13,] 1     0    \n",
       "[14,] 0     0    \n",
       "[15,] 0     0    "
      ]
     },
     "metadata": {},
     "output_type": "display_data"
    },
    {
     "data": {
      "text/html": [
       "125"
      ],
      "text/latex": [
       "125"
      ],
      "text/markdown": [
       "125"
      ],
      "text/plain": [
       "[1] 125"
      ]
     },
     "metadata": {},
     "output_type": "display_data"
    }
   ],
   "source": [
    "a <- AssignmentExact(matriz.15x15.2)\n",
    "matrix(a$solution, nrow = dim(matriz.15x15.2)[1])\n",
    "a$objval"
   ]
  },
  {
   "cell_type": "code",
   "execution_count": 22,
   "metadata": {},
   "outputs": [
    {
     "data": {
      "text/html": [
       "<dl>\n",
       "\t<dt>$solution</dt>\n",
       "\t\t<dd><table>\n",
       "<tbody>\n",
       "\t<tr><td>0</td><td>0</td><td>0</td><td>0</td><td>0</td><td>0</td><td>0</td><td>0</td><td>0</td><td>0</td><td>0</td><td>1</td><td>0</td><td>0</td><td>0</td></tr>\n",
       "\t<tr><td>0</td><td>0</td><td>0</td><td>0</td><td>0</td><td>0</td><td>1</td><td>0</td><td>0</td><td>0</td><td>0</td><td>0</td><td>0</td><td>0</td><td>0</td></tr>\n",
       "\t<tr><td>0</td><td>0</td><td>0</td><td>0</td><td>0</td><td>0</td><td>0</td><td>1</td><td>0</td><td>0</td><td>0</td><td>0</td><td>0</td><td>0</td><td>0</td></tr>\n",
       "\t<tr><td>0</td><td>0</td><td>0</td><td>0</td><td>0</td><td>0</td><td>0</td><td>0</td><td>0</td><td>0</td><td>0</td><td>0</td><td>0</td><td>0</td><td>1</td></tr>\n",
       "\t<tr><td>0</td><td>0</td><td>0</td><td>1</td><td>0</td><td>0</td><td>0</td><td>0</td><td>0</td><td>0</td><td>0</td><td>0</td><td>0</td><td>0</td><td>0</td></tr>\n",
       "\t<tr><td>0</td><td>0</td><td>0</td><td>0</td><td>0</td><td>0</td><td>0</td><td>0</td><td>0</td><td>1</td><td>0</td><td>0</td><td>0</td><td>0</td><td>0</td></tr>\n",
       "\t<tr><td>0</td><td>0</td><td>0</td><td>0</td><td>0</td><td>1</td><td>0</td><td>0</td><td>0</td><td>0</td><td>0</td><td>0</td><td>0</td><td>0</td><td>0</td></tr>\n",
       "\t<tr><td>0</td><td>0</td><td>0</td><td>0</td><td>0</td><td>0</td><td>0</td><td>0</td><td>0</td><td>0</td><td>0</td><td>0</td><td>0</td><td>1</td><td>0</td></tr>\n",
       "\t<tr><td>0</td><td>1</td><td>0</td><td>0</td><td>0</td><td>0</td><td>0</td><td>0</td><td>0</td><td>0</td><td>0</td><td>0</td><td>0</td><td>0</td><td>0</td></tr>\n",
       "\t<tr><td>1</td><td>0</td><td>0</td><td>0</td><td>0</td><td>0</td><td>0</td><td>0</td><td>0</td><td>0</td><td>0</td><td>0</td><td>0</td><td>0</td><td>0</td></tr>\n",
       "\t<tr><td>0</td><td>0</td><td>1</td><td>0</td><td>0</td><td>0</td><td>0</td><td>0</td><td>0</td><td>0</td><td>0</td><td>0</td><td>0</td><td>0</td><td>0</td></tr>\n",
       "\t<tr><td>0</td><td>0</td><td>0</td><td>0</td><td>0</td><td>0</td><td>0</td><td>0</td><td>0</td><td>0</td><td>0</td><td>0</td><td>1</td><td>0</td><td>0</td></tr>\n",
       "\t<tr><td>0</td><td>0</td><td>0</td><td>0</td><td>1</td><td>0</td><td>0</td><td>0</td><td>0</td><td>0</td><td>0</td><td>0</td><td>0</td><td>0</td><td>0</td></tr>\n",
       "\t<tr><td>0</td><td>0</td><td>0</td><td>0</td><td>0</td><td>0</td><td>0</td><td>0</td><td>0</td><td>0</td><td>1</td><td>0</td><td>0</td><td>0</td><td>0</td></tr>\n",
       "\t<tr><td>0</td><td>0</td><td>0</td><td>0</td><td>0</td><td>0</td><td>0</td><td>0</td><td>1</td><td>0</td><td>0</td><td>0</td><td>0</td><td>0</td><td>0</td></tr>\n",
       "</tbody>\n",
       "</table>\n",
       "</dd>\n",
       "\t<dt>$objval</dt>\n",
       "\t\t<dd><strong>V2:</strong> 146</dd>\n",
       "</dl>\n"
      ],
      "text/latex": [
       "\\begin{description}\n",
       "\\item[\\$solution] \\begin{tabular}{lllllllllllllll}\n",
       "\t 0 & 0 & 0 & 0 & 0 & 0 & 0 & 0 & 0 & 0 & 0 & 1 & 0 & 0 & 0\\\\\n",
       "\t 0 & 0 & 0 & 0 & 0 & 0 & 1 & 0 & 0 & 0 & 0 & 0 & 0 & 0 & 0\\\\\n",
       "\t 0 & 0 & 0 & 0 & 0 & 0 & 0 & 1 & 0 & 0 & 0 & 0 & 0 & 0 & 0\\\\\n",
       "\t 0 & 0 & 0 & 0 & 0 & 0 & 0 & 0 & 0 & 0 & 0 & 0 & 0 & 0 & 1\\\\\n",
       "\t 0 & 0 & 0 & 1 & 0 & 0 & 0 & 0 & 0 & 0 & 0 & 0 & 0 & 0 & 0\\\\\n",
       "\t 0 & 0 & 0 & 0 & 0 & 0 & 0 & 0 & 0 & 1 & 0 & 0 & 0 & 0 & 0\\\\\n",
       "\t 0 & 0 & 0 & 0 & 0 & 1 & 0 & 0 & 0 & 0 & 0 & 0 & 0 & 0 & 0\\\\\n",
       "\t 0 & 0 & 0 & 0 & 0 & 0 & 0 & 0 & 0 & 0 & 0 & 0 & 0 & 1 & 0\\\\\n",
       "\t 0 & 1 & 0 & 0 & 0 & 0 & 0 & 0 & 0 & 0 & 0 & 0 & 0 & 0 & 0\\\\\n",
       "\t 1 & 0 & 0 & 0 & 0 & 0 & 0 & 0 & 0 & 0 & 0 & 0 & 0 & 0 & 0\\\\\n",
       "\t 0 & 0 & 1 & 0 & 0 & 0 & 0 & 0 & 0 & 0 & 0 & 0 & 0 & 0 & 0\\\\\n",
       "\t 0 & 0 & 0 & 0 & 0 & 0 & 0 & 0 & 0 & 0 & 0 & 0 & 1 & 0 & 0\\\\\n",
       "\t 0 & 0 & 0 & 0 & 1 & 0 & 0 & 0 & 0 & 0 & 0 & 0 & 0 & 0 & 0\\\\\n",
       "\t 0 & 0 & 0 & 0 & 0 & 0 & 0 & 0 & 0 & 0 & 1 & 0 & 0 & 0 & 0\\\\\n",
       "\t 0 & 0 & 0 & 0 & 0 & 0 & 0 & 0 & 1 & 0 & 0 & 0 & 0 & 0 & 0\\\\\n",
       "\\end{tabular}\n",
       "\n",
       "\\item[\\$objval] \\textbf{V2:} 146\n",
       "\\end{description}\n"
      ],
      "text/markdown": [
       "$solution\n",
       ":   \n",
       "| 0 | 0 | 0 | 0 | 0 | 0 | 0 | 0 | 0 | 0 | 0 | 1 | 0 | 0 | 0 | \n",
       "| 0 | 0 | 0 | 0 | 0 | 0 | 1 | 0 | 0 | 0 | 0 | 0 | 0 | 0 | 0 | \n",
       "| 0 | 0 | 0 | 0 | 0 | 0 | 0 | 1 | 0 | 0 | 0 | 0 | 0 | 0 | 0 | \n",
       "| 0 | 0 | 0 | 0 | 0 | 0 | 0 | 0 | 0 | 0 | 0 | 0 | 0 | 0 | 1 | \n",
       "| 0 | 0 | 0 | 1 | 0 | 0 | 0 | 0 | 0 | 0 | 0 | 0 | 0 | 0 | 0 | \n",
       "| 0 | 0 | 0 | 0 | 0 | 0 | 0 | 0 | 0 | 1 | 0 | 0 | 0 | 0 | 0 | \n",
       "| 0 | 0 | 0 | 0 | 0 | 1 | 0 | 0 | 0 | 0 | 0 | 0 | 0 | 0 | 0 | \n",
       "| 0 | 0 | 0 | 0 | 0 | 0 | 0 | 0 | 0 | 0 | 0 | 0 | 0 | 1 | 0 | \n",
       "| 0 | 1 | 0 | 0 | 0 | 0 | 0 | 0 | 0 | 0 | 0 | 0 | 0 | 0 | 0 | \n",
       "| 1 | 0 | 0 | 0 | 0 | 0 | 0 | 0 | 0 | 0 | 0 | 0 | 0 | 0 | 0 | \n",
       "| 0 | 0 | 1 | 0 | 0 | 0 | 0 | 0 | 0 | 0 | 0 | 0 | 0 | 0 | 0 | \n",
       "| 0 | 0 | 0 | 0 | 0 | 0 | 0 | 0 | 0 | 0 | 0 | 0 | 1 | 0 | 0 | \n",
       "| 0 | 0 | 0 | 0 | 1 | 0 | 0 | 0 | 0 | 0 | 0 | 0 | 0 | 0 | 0 | \n",
       "| 0 | 0 | 0 | 0 | 0 | 0 | 0 | 0 | 0 | 0 | 1 | 0 | 0 | 0 | 0 | \n",
       "| 0 | 0 | 0 | 0 | 0 | 0 | 0 | 0 | 1 | 0 | 0 | 0 | 0 | 0 | 0 | \n",
       "\n",
       "\n",
       "\n",
       "$objval\n",
       ":   **V2:** 146\n",
       "\n",
       "\n"
      ],
      "text/plain": [
       "$solution\n",
       "      [,1] [,2] [,3] [,4] [,5] [,6] [,7] [,8] [,9] [,10] [,11] [,12] [,13]\n",
       " [1,]    0    0    0    0    0    0    0    0    0     0     0     1     0\n",
       " [2,]    0    0    0    0    0    0    1    0    0     0     0     0     0\n",
       " [3,]    0    0    0    0    0    0    0    1    0     0     0     0     0\n",
       " [4,]    0    0    0    0    0    0    0    0    0     0     0     0     0\n",
       " [5,]    0    0    0    1    0    0    0    0    0     0     0     0     0\n",
       " [6,]    0    0    0    0    0    0    0    0    0     1     0     0     0\n",
       " [7,]    0    0    0    0    0    1    0    0    0     0     0     0     0\n",
       " [8,]    0    0    0    0    0    0    0    0    0     0     0     0     0\n",
       " [9,]    0    1    0    0    0    0    0    0    0     0     0     0     0\n",
       "[10,]    1    0    0    0    0    0    0    0    0     0     0     0     0\n",
       "[11,]    0    0    1    0    0    0    0    0    0     0     0     0     0\n",
       "[12,]    0    0    0    0    0    0    0    0    0     0     0     0     1\n",
       "[13,]    0    0    0    0    1    0    0    0    0     0     0     0     0\n",
       "[14,]    0    0    0    0    0    0    0    0    0     0     1     0     0\n",
       "[15,]    0    0    0    0    0    0    0    0    1     0     0     0     0\n",
       "      [,14] [,15]\n",
       " [1,]     0     0\n",
       " [2,]     0     0\n",
       " [3,]     0     0\n",
       " [4,]     0     1\n",
       " [5,]     0     0\n",
       " [6,]     0     0\n",
       " [7,]     0     0\n",
       " [8,]     1     0\n",
       " [9,]     0     0\n",
       "[10,]     0     0\n",
       "[11,]     0     0\n",
       "[12,]     0     0\n",
       "[13,]     0     0\n",
       "[14,]     0     0\n",
       "[15,]     0     0\n",
       "\n",
       "$objval\n",
       " V2 \n",
       "146 \n"
      ]
     },
     "metadata": {},
     "output_type": "display_data"
    }
   ],
   "source": [
    "AssignmentGreedy(matriz.15x15.2)"
   ]
  },
  {
   "cell_type": "code",
   "execution_count": 23,
   "metadata": {},
   "outputs": [
    {
     "data": {
      "text/html": [
       "<dl>\n",
       "\t<dt>$solution</dt>\n",
       "\t\t<dd><table>\n",
       "<tbody>\n",
       "\t<tr><td>0</td><td>0</td><td>0</td><td>0</td><td>0</td><td>0</td><td>0</td><td>0</td><td>0</td><td>0</td><td>0</td><td>1</td><td>0</td><td>0</td><td>0</td></tr>\n",
       "\t<tr><td>0</td><td>0</td><td>0</td><td>0</td><td>0</td><td>0</td><td>1</td><td>0</td><td>0</td><td>0</td><td>0</td><td>0</td><td>0</td><td>0</td><td>0</td></tr>\n",
       "\t<tr><td>0</td><td>0</td><td>0</td><td>0</td><td>0</td><td>0</td><td>0</td><td>1</td><td>0</td><td>0</td><td>0</td><td>0</td><td>0</td><td>0</td><td>0</td></tr>\n",
       "\t<tr><td>0</td><td>0</td><td>0</td><td>0</td><td>0</td><td>0</td><td>0</td><td>0</td><td>0</td><td>0</td><td>0</td><td>0</td><td>0</td><td>0</td><td>1</td></tr>\n",
       "\t<tr><td>0</td><td>0</td><td>0</td><td>1</td><td>0</td><td>0</td><td>0</td><td>0</td><td>0</td><td>0</td><td>0</td><td>0</td><td>0</td><td>0</td><td>0</td></tr>\n",
       "\t<tr><td>0</td><td>0</td><td>0</td><td>0</td><td>0</td><td>0</td><td>0</td><td>0</td><td>0</td><td>1</td><td>0</td><td>0</td><td>0</td><td>0</td><td>0</td></tr>\n",
       "\t<tr><td>0</td><td>0</td><td>0</td><td>0</td><td>0</td><td>1</td><td>0</td><td>0</td><td>0</td><td>0</td><td>0</td><td>0</td><td>0</td><td>0</td><td>0</td></tr>\n",
       "\t<tr><td>0</td><td>0</td><td>0</td><td>0</td><td>0</td><td>0</td><td>0</td><td>0</td><td>0</td><td>0</td><td>0</td><td>0</td><td>0</td><td>1</td><td>0</td></tr>\n",
       "\t<tr><td>0</td><td>1</td><td>0</td><td>0</td><td>0</td><td>0</td><td>0</td><td>0</td><td>0</td><td>0</td><td>0</td><td>0</td><td>0</td><td>0</td><td>0</td></tr>\n",
       "\t<tr><td>1</td><td>0</td><td>0</td><td>0</td><td>0</td><td>0</td><td>0</td><td>0</td><td>0</td><td>0</td><td>0</td><td>0</td><td>0</td><td>0</td><td>0</td></tr>\n",
       "\t<tr><td>0</td><td>0</td><td>1</td><td>0</td><td>0</td><td>0</td><td>0</td><td>0</td><td>0</td><td>0</td><td>0</td><td>0</td><td>0</td><td>0</td><td>0</td></tr>\n",
       "\t<tr><td>0</td><td>0</td><td>0</td><td>0</td><td>0</td><td>0</td><td>0</td><td>0</td><td>0</td><td>0</td><td>0</td><td>0</td><td>1</td><td>0</td><td>0</td></tr>\n",
       "\t<tr><td>0</td><td>0</td><td>0</td><td>0</td><td>1</td><td>0</td><td>0</td><td>0</td><td>0</td><td>0</td><td>0</td><td>0</td><td>0</td><td>0</td><td>0</td></tr>\n",
       "\t<tr><td>0</td><td>0</td><td>0</td><td>0</td><td>0</td><td>0</td><td>0</td><td>0</td><td>0</td><td>0</td><td>1</td><td>0</td><td>0</td><td>0</td><td>0</td></tr>\n",
       "\t<tr><td>0</td><td>0</td><td>0</td><td>0</td><td>0</td><td>0</td><td>0</td><td>0</td><td>1</td><td>0</td><td>0</td><td>0</td><td>0</td><td>0</td><td>0</td></tr>\n",
       "</tbody>\n",
       "</table>\n",
       "</dd>\n",
       "\t<dt>$objval</dt>\n",
       "\t\t<dd><strong>V2:</strong> 146</dd>\n",
       "</dl>\n"
      ],
      "text/latex": [
       "\\begin{description}\n",
       "\\item[\\$solution] \\begin{tabular}{lllllllllllllll}\n",
       "\t 0 & 0 & 0 & 0 & 0 & 0 & 0 & 0 & 0 & 0 & 0 & 1 & 0 & 0 & 0\\\\\n",
       "\t 0 & 0 & 0 & 0 & 0 & 0 & 1 & 0 & 0 & 0 & 0 & 0 & 0 & 0 & 0\\\\\n",
       "\t 0 & 0 & 0 & 0 & 0 & 0 & 0 & 1 & 0 & 0 & 0 & 0 & 0 & 0 & 0\\\\\n",
       "\t 0 & 0 & 0 & 0 & 0 & 0 & 0 & 0 & 0 & 0 & 0 & 0 & 0 & 0 & 1\\\\\n",
       "\t 0 & 0 & 0 & 1 & 0 & 0 & 0 & 0 & 0 & 0 & 0 & 0 & 0 & 0 & 0\\\\\n",
       "\t 0 & 0 & 0 & 0 & 0 & 0 & 0 & 0 & 0 & 1 & 0 & 0 & 0 & 0 & 0\\\\\n",
       "\t 0 & 0 & 0 & 0 & 0 & 1 & 0 & 0 & 0 & 0 & 0 & 0 & 0 & 0 & 0\\\\\n",
       "\t 0 & 0 & 0 & 0 & 0 & 0 & 0 & 0 & 0 & 0 & 0 & 0 & 0 & 1 & 0\\\\\n",
       "\t 0 & 1 & 0 & 0 & 0 & 0 & 0 & 0 & 0 & 0 & 0 & 0 & 0 & 0 & 0\\\\\n",
       "\t 1 & 0 & 0 & 0 & 0 & 0 & 0 & 0 & 0 & 0 & 0 & 0 & 0 & 0 & 0\\\\\n",
       "\t 0 & 0 & 1 & 0 & 0 & 0 & 0 & 0 & 0 & 0 & 0 & 0 & 0 & 0 & 0\\\\\n",
       "\t 0 & 0 & 0 & 0 & 0 & 0 & 0 & 0 & 0 & 0 & 0 & 0 & 1 & 0 & 0\\\\\n",
       "\t 0 & 0 & 0 & 0 & 1 & 0 & 0 & 0 & 0 & 0 & 0 & 0 & 0 & 0 & 0\\\\\n",
       "\t 0 & 0 & 0 & 0 & 0 & 0 & 0 & 0 & 0 & 0 & 1 & 0 & 0 & 0 & 0\\\\\n",
       "\t 0 & 0 & 0 & 0 & 0 & 0 & 0 & 0 & 1 & 0 & 0 & 0 & 0 & 0 & 0\\\\\n",
       "\\end{tabular}\n",
       "\n",
       "\\item[\\$objval] \\textbf{V2:} 146\n",
       "\\end{description}\n"
      ],
      "text/markdown": [
       "$solution\n",
       ":   \n",
       "| 0 | 0 | 0 | 0 | 0 | 0 | 0 | 0 | 0 | 0 | 0 | 1 | 0 | 0 | 0 | \n",
       "| 0 | 0 | 0 | 0 | 0 | 0 | 1 | 0 | 0 | 0 | 0 | 0 | 0 | 0 | 0 | \n",
       "| 0 | 0 | 0 | 0 | 0 | 0 | 0 | 1 | 0 | 0 | 0 | 0 | 0 | 0 | 0 | \n",
       "| 0 | 0 | 0 | 0 | 0 | 0 | 0 | 0 | 0 | 0 | 0 | 0 | 0 | 0 | 1 | \n",
       "| 0 | 0 | 0 | 1 | 0 | 0 | 0 | 0 | 0 | 0 | 0 | 0 | 0 | 0 | 0 | \n",
       "| 0 | 0 | 0 | 0 | 0 | 0 | 0 | 0 | 0 | 1 | 0 | 0 | 0 | 0 | 0 | \n",
       "| 0 | 0 | 0 | 0 | 0 | 1 | 0 | 0 | 0 | 0 | 0 | 0 | 0 | 0 | 0 | \n",
       "| 0 | 0 | 0 | 0 | 0 | 0 | 0 | 0 | 0 | 0 | 0 | 0 | 0 | 1 | 0 | \n",
       "| 0 | 1 | 0 | 0 | 0 | 0 | 0 | 0 | 0 | 0 | 0 | 0 | 0 | 0 | 0 | \n",
       "| 1 | 0 | 0 | 0 | 0 | 0 | 0 | 0 | 0 | 0 | 0 | 0 | 0 | 0 | 0 | \n",
       "| 0 | 0 | 1 | 0 | 0 | 0 | 0 | 0 | 0 | 0 | 0 | 0 | 0 | 0 | 0 | \n",
       "| 0 | 0 | 0 | 0 | 0 | 0 | 0 | 0 | 0 | 0 | 0 | 0 | 1 | 0 | 0 | \n",
       "| 0 | 0 | 0 | 0 | 1 | 0 | 0 | 0 | 0 | 0 | 0 | 0 | 0 | 0 | 0 | \n",
       "| 0 | 0 | 0 | 0 | 0 | 0 | 0 | 0 | 0 | 0 | 1 | 0 | 0 | 0 | 0 | \n",
       "| 0 | 0 | 0 | 0 | 0 | 0 | 0 | 0 | 1 | 0 | 0 | 0 | 0 | 0 | 0 | \n",
       "\n",
       "\n",
       "\n",
       "$objval\n",
       ":   **V2:** 146\n",
       "\n",
       "\n"
      ],
      "text/plain": [
       "$solution\n",
       "      [,1] [,2] [,3] [,4] [,5] [,6] [,7] [,8] [,9] [,10] [,11] [,12] [,13]\n",
       " [1,]    0    0    0    0    0    0    0    0    0     0     0     1     0\n",
       " [2,]    0    0    0    0    0    0    1    0    0     0     0     0     0\n",
       " [3,]    0    0    0    0    0    0    0    1    0     0     0     0     0\n",
       " [4,]    0    0    0    0    0    0    0    0    0     0     0     0     0\n",
       " [5,]    0    0    0    1    0    0    0    0    0     0     0     0     0\n",
       " [6,]    0    0    0    0    0    0    0    0    0     1     0     0     0\n",
       " [7,]    0    0    0    0    0    1    0    0    0     0     0     0     0\n",
       " [8,]    0    0    0    0    0    0    0    0    0     0     0     0     0\n",
       " [9,]    0    1    0    0    0    0    0    0    0     0     0     0     0\n",
       "[10,]    1    0    0    0    0    0    0    0    0     0     0     0     0\n",
       "[11,]    0    0    1    0    0    0    0    0    0     0     0     0     0\n",
       "[12,]    0    0    0    0    0    0    0    0    0     0     0     0     1\n",
       "[13,]    0    0    0    0    1    0    0    0    0     0     0     0     0\n",
       "[14,]    0    0    0    0    0    0    0    0    0     0     1     0     0\n",
       "[15,]    0    0    0    0    0    0    0    0    1     0     0     0     0\n",
       "      [,14] [,15]\n",
       " [1,]     0     0\n",
       " [2,]     0     0\n",
       " [3,]     0     0\n",
       " [4,]     0     1\n",
       " [5,]     0     0\n",
       " [6,]     0     0\n",
       " [7,]     0     0\n",
       " [8,]     1     0\n",
       " [9,]     0     0\n",
       "[10,]     0     0\n",
       "[11,]     0     0\n",
       "[12,]     0     0\n",
       "[13,]     0     0\n",
       "[14,]     0     0\n",
       "[15,]     0     0\n",
       "\n",
       "$objval\n",
       " V2 \n",
       "146 \n"
      ]
     },
     "metadata": {},
     "output_type": "display_data"
    }
   ],
   "source": [
    "AssignmentGreedyLocalSearch(matriz.15x15.2)"
   ]
  },
  {
   "cell_type": "code",
   "execution_count": 24,
   "metadata": {},
   "outputs": [
    {
     "data": {
      "text/html": [
       "<table>\n",
       "<thead><tr><th scope=col>V1</th><th scope=col>V2</th><th scope=col>V3</th><th scope=col>V4</th><th scope=col>V5</th><th scope=col>V6</th><th scope=col>V7</th><th scope=col>V8</th><th scope=col>V9</th><th scope=col>V10</th><th scope=col>V11</th><th scope=col>V12</th><th scope=col>V13</th><th scope=col>V14</th><th scope=col>V15</th></tr></thead>\n",
       "<tbody>\n",
       "\t<tr><td> 60</td><td>40 </td><td>71 </td><td>35 </td><td>28 </td><td>40 </td><td>51 </td><td> 79</td><td>61 </td><td>43 </td><td>76 </td><td>12 </td><td>43 </td><td> 0 </td><td>96 </td></tr>\n",
       "\t<tr><td> 93</td><td> 8 </td><td>72 </td><td> 6 </td><td>44 </td><td>88 </td><td>76 </td><td> 36</td><td>83 </td><td>16 </td><td>12 </td><td> 9 </td><td>84 </td><td>77 </td><td>31 </td></tr>\n",
       "\t<tr><td> 28</td><td>24 </td><td>61 </td><td> 5 </td><td>49 </td><td>12 </td><td>18 </td><td> 74</td><td>96 </td><td>82 </td><td>85 </td><td>63 </td><td>48 </td><td>80 </td><td>45 </td></tr>\n",
       "\t<tr><td> 13</td><td>33 </td><td>54 </td><td>73 </td><td>92 </td><td>86 </td><td>47 </td><td> 66</td><td> 6 </td><td>99 </td><td>60 </td><td> 2 </td><td>77 </td><td>16 </td><td>57 </td></tr>\n",
       "\t<tr><td> 15</td><td>48 </td><td>83 </td><td>80 </td><td>23 </td><td> 8 </td><td>66 </td><td> 75</td><td>41 </td><td>64 </td><td>12 </td><td>49 </td><td>36 </td><td>28 </td><td>15 </td></tr>\n",
       "\t<tr><td> 92</td><td>15 </td><td>89 </td><td>42 </td><td>28 </td><td>41 </td><td>84 </td><td>100</td><td> 7 </td><td>40 </td><td>70 </td><td>50 </td><td>43 </td><td>81 </td><td>96 </td></tr>\n",
       "\t<tr><td> 43</td><td> 6 </td><td>25 </td><td> 3 </td><td>23 </td><td>65 </td><td>70 </td><td> 89</td><td>25 </td><td>69 </td><td>76 </td><td>24 </td><td>30 </td><td>21 </td><td>29 </td></tr>\n",
       "\t<tr><td> 24</td><td>40 </td><td>56 </td><td>65 </td><td>98 </td><td>86 </td><td>45 </td><td> 74</td><td>33 </td><td> 5 </td><td>78 </td><td>29 </td><td>17 </td><td>46 </td><td>85 </td></tr>\n",
       "\t<tr><td> 27</td><td>84 </td><td> 0 </td><td> 5 </td><td>83 </td><td>22 </td><td>96 </td><td> 86</td><td>25 </td><td>55 </td><td>99 </td><td>85 </td><td>40 </td><td>16 </td><td>21 </td></tr>\n",
       "\t<tr><td> 33</td><td> 6 </td><td>99 </td><td>30 </td><td>47 </td><td>23 </td><td>74 </td><td> 65</td><td>64 </td><td>32 </td><td>80 </td><td>23 </td><td>39 </td><td>23 </td><td>52 </td></tr>\n",
       "\t<tr><td> 74</td><td>88 </td><td>81 </td><td>14 </td><td>60 </td><td>41 </td><td>48 </td><td> 31</td><td>70 </td><td>37 </td><td>74 </td><td>30 </td><td>87 </td><td>33 </td><td>76 </td></tr>\n",
       "\t<tr><td>100</td><td>62 </td><td>42 </td><td>26 </td><td>10 </td><td>65 </td><td> 7 </td><td> 92</td><td>87 </td><td>42 </td><td> 7 </td><td>13 </td><td>40 </td><td>82 </td><td>55 </td></tr>\n",
       "\t<tr><td> 97</td><td>12 </td><td>84 </td><td>97 </td><td>74 </td><td>43 </td><td>40 </td><td> 46</td><td>81 </td><td>71 </td><td>75 </td><td>18 </td><td>35 </td><td>36 </td><td>32 </td></tr>\n",
       "\t<tr><td> 12</td><td>37 </td><td>13 </td><td>72 </td><td>11 </td><td>96 </td><td>40 </td><td>  4</td><td>16 </td><td>52 </td><td>93 </td><td>96 </td><td>78 </td><td>18 </td><td>94 </td></tr>\n",
       "\t<tr><td> 58</td><td>88 </td><td>29 </td><td>57 </td><td>23 </td><td> 4 </td><td>39 </td><td> 73</td><td>58 </td><td>80 </td><td>19 </td><td>14 </td><td>17 </td><td>25 </td><td>44 </td></tr>\n",
       "</tbody>\n",
       "</table>\n"
      ],
      "text/latex": [
       "\\begin{tabular}{lllllllllllllll}\n",
       " V1 & V2 & V3 & V4 & V5 & V6 & V7 & V8 & V9 & V10 & V11 & V12 & V13 & V14 & V15\\\\\n",
       "\\hline\n",
       "\t  60 & 40  & 71  & 35  & 28  & 40  & 51  &  79 & 61  & 43  & 76  & 12  & 43  &  0  & 96 \\\\\n",
       "\t  93 &  8  & 72  &  6  & 44  & 88  & 76  &  36 & 83  & 16  & 12  &  9  & 84  & 77  & 31 \\\\\n",
       "\t  28 & 24  & 61  &  5  & 49  & 12  & 18  &  74 & 96  & 82  & 85  & 63  & 48  & 80  & 45 \\\\\n",
       "\t  13 & 33  & 54  & 73  & 92  & 86  & 47  &  66 &  6  & 99  & 60  &  2  & 77  & 16  & 57 \\\\\n",
       "\t  15 & 48  & 83  & 80  & 23  &  8  & 66  &  75 & 41  & 64  & 12  & 49  & 36  & 28  & 15 \\\\\n",
       "\t  92 & 15  & 89  & 42  & 28  & 41  & 84  & 100 &  7  & 40  & 70  & 50  & 43  & 81  & 96 \\\\\n",
       "\t  43 &  6  & 25  &  3  & 23  & 65  & 70  &  89 & 25  & 69  & 76  & 24  & 30  & 21  & 29 \\\\\n",
       "\t  24 & 40  & 56  & 65  & 98  & 86  & 45  &  74 & 33  &  5  & 78  & 29  & 17  & 46  & 85 \\\\\n",
       "\t  27 & 84  &  0  &  5  & 83  & 22  & 96  &  86 & 25  & 55  & 99  & 85  & 40  & 16  & 21 \\\\\n",
       "\t  33 &  6  & 99  & 30  & 47  & 23  & 74  &  65 & 64  & 32  & 80  & 23  & 39  & 23  & 52 \\\\\n",
       "\t  74 & 88  & 81  & 14  & 60  & 41  & 48  &  31 & 70  & 37  & 74  & 30  & 87  & 33  & 76 \\\\\n",
       "\t 100 & 62  & 42  & 26  & 10  & 65  &  7  &  92 & 87  & 42  &  7  & 13  & 40  & 82  & 55 \\\\\n",
       "\t  97 & 12  & 84  & 97  & 74  & 43  & 40  &  46 & 81  & 71  & 75  & 18  & 35  & 36  & 32 \\\\\n",
       "\t  12 & 37  & 13  & 72  & 11  & 96  & 40  &   4 & 16  & 52  & 93  & 96  & 78  & 18  & 94 \\\\\n",
       "\t  58 & 88  & 29  & 57  & 23  &  4  & 39  &  73 & 58  & 80  & 19  & 14  & 17  & 25  & 44 \\\\\n",
       "\\end{tabular}\n"
      ],
      "text/markdown": [
       "\n",
       "V1 | V2 | V3 | V4 | V5 | V6 | V7 | V8 | V9 | V10 | V11 | V12 | V13 | V14 | V15 | \n",
       "|---|---|---|---|---|---|---|---|---|---|---|---|---|---|---|\n",
       "|  60 | 40  | 71  | 35  | 28  | 40  | 51  |  79 | 61  | 43  | 76  | 12  | 43  |  0  | 96  | \n",
       "|  93 |  8  | 72  |  6  | 44  | 88  | 76  |  36 | 83  | 16  | 12  |  9  | 84  | 77  | 31  | \n",
       "|  28 | 24  | 61  |  5  | 49  | 12  | 18  |  74 | 96  | 82  | 85  | 63  | 48  | 80  | 45  | \n",
       "|  13 | 33  | 54  | 73  | 92  | 86  | 47  |  66 |  6  | 99  | 60  |  2  | 77  | 16  | 57  | \n",
       "|  15 | 48  | 83  | 80  | 23  |  8  | 66  |  75 | 41  | 64  | 12  | 49  | 36  | 28  | 15  | \n",
       "|  92 | 15  | 89  | 42  | 28  | 41  | 84  | 100 |  7  | 40  | 70  | 50  | 43  | 81  | 96  | \n",
       "|  43 |  6  | 25  |  3  | 23  | 65  | 70  |  89 | 25  | 69  | 76  | 24  | 30  | 21  | 29  | \n",
       "|  24 | 40  | 56  | 65  | 98  | 86  | 45  |  74 | 33  |  5  | 78  | 29  | 17  | 46  | 85  | \n",
       "|  27 | 84  |  0  |  5  | 83  | 22  | 96  |  86 | 25  | 55  | 99  | 85  | 40  | 16  | 21  | \n",
       "|  33 |  6  | 99  | 30  | 47  | 23  | 74  |  65 | 64  | 32  | 80  | 23  | 39  | 23  | 52  | \n",
       "|  74 | 88  | 81  | 14  | 60  | 41  | 48  |  31 | 70  | 37  | 74  | 30  | 87  | 33  | 76  | \n",
       "| 100 | 62  | 42  | 26  | 10  | 65  |  7  |  92 | 87  | 42  |  7  | 13  | 40  | 82  | 55  | \n",
       "|  97 | 12  | 84  | 97  | 74  | 43  | 40  |  46 | 81  | 71  | 75  | 18  | 35  | 36  | 32  | \n",
       "|  12 | 37  | 13  | 72  | 11  | 96  | 40  |   4 | 16  | 52  | 93  | 96  | 78  | 18  | 94  | \n",
       "|  58 | 88  | 29  | 57  | 23  |  4  | 39  |  73 | 58  | 80  | 19  | 14  | 17  | 25  | 44  | \n",
       "\n",
       "\n"
      ],
      "text/plain": [
       "      V1  V2 V3 V4 V5 V6 V7 V8  V9 V10 V11 V12 V13 V14 V15\n",
       " [1,]  60 40 71 35 28 40 51  79 61 43  76  12  43   0  96 \n",
       " [2,]  93  8 72  6 44 88 76  36 83 16  12   9  84  77  31 \n",
       " [3,]  28 24 61  5 49 12 18  74 96 82  85  63  48  80  45 \n",
       " [4,]  13 33 54 73 92 86 47  66  6 99  60   2  77  16  57 \n",
       " [5,]  15 48 83 80 23  8 66  75 41 64  12  49  36  28  15 \n",
       " [6,]  92 15 89 42 28 41 84 100  7 40  70  50  43  81  96 \n",
       " [7,]  43  6 25  3 23 65 70  89 25 69  76  24  30  21  29 \n",
       " [8,]  24 40 56 65 98 86 45  74 33  5  78  29  17  46  85 \n",
       " [9,]  27 84  0  5 83 22 96  86 25 55  99  85  40  16  21 \n",
       "[10,]  33  6 99 30 47 23 74  65 64 32  80  23  39  23  52 \n",
       "[11,]  74 88 81 14 60 41 48  31 70 37  74  30  87  33  76 \n",
       "[12,] 100 62 42 26 10 65  7  92 87 42   7  13  40  82  55 \n",
       "[13,]  97 12 84 97 74 43 40  46 81 71  75  18  35  36  32 \n",
       "[14,]  12 37 13 72 11 96 40   4 16 52  93  96  78  18  94 \n",
       "[15,]  58 88 29 57 23  4 39  73 58 80  19  14  17  25  44 "
      ]
     },
     "metadata": {},
     "output_type": "display_data"
    }
   ],
   "source": [
    "(matriz.15x15.3 <- as.matrix(read.csv(\"./data/assignment/matriz_15x15_3.csv\", header = FALSE)))"
   ]
  },
  {
   "cell_type": "code",
   "execution_count": 25,
   "metadata": {},
   "outputs": [
    {
     "data": {
      "text/html": [
       "<table>\n",
       "<tbody>\n",
       "\t<tr><td>0</td><td>0</td><td>0</td><td>0</td><td>0</td><td>0</td><td>0</td><td>0</td><td>0</td><td>0</td><td>0</td><td>0</td><td>0</td><td>1</td><td>0</td></tr>\n",
       "\t<tr><td>0</td><td>0</td><td>0</td><td>0</td><td>0</td><td>0</td><td>0</td><td>0</td><td>0</td><td>0</td><td>1</td><td>0</td><td>0</td><td>0</td><td>0</td></tr>\n",
       "\t<tr><td>0</td><td>0</td><td>0</td><td>0</td><td>0</td><td>1</td><td>0</td><td>0</td><td>0</td><td>0</td><td>0</td><td>0</td><td>0</td><td>0</td><td>0</td></tr>\n",
       "\t<tr><td>1</td><td>0</td><td>0</td><td>0</td><td>0</td><td>0</td><td>0</td><td>0</td><td>0</td><td>0</td><td>0</td><td>0</td><td>0</td><td>0</td><td>0</td></tr>\n",
       "\t<tr><td>0</td><td>0</td><td>0</td><td>0</td><td>0</td><td>0</td><td>0</td><td>0</td><td>0</td><td>0</td><td>0</td><td>0</td><td>0</td><td>0</td><td>1</td></tr>\n",
       "\t<tr><td>0</td><td>0</td><td>0</td><td>0</td><td>0</td><td>0</td><td>0</td><td>0</td><td>1</td><td>0</td><td>0</td><td>0</td><td>0</td><td>0</td><td>0</td></tr>\n",
       "\t<tr><td>0</td><td>0</td><td>0</td><td>0</td><td>1</td><td>0</td><td>0</td><td>0</td><td>0</td><td>0</td><td>0</td><td>0</td><td>0</td><td>0</td><td>0</td></tr>\n",
       "\t<tr><td>0</td><td>0</td><td>0</td><td>0</td><td>0</td><td>0</td><td>0</td><td>0</td><td>0</td><td>1</td><td>0</td><td>0</td><td>0</td><td>0</td><td>0</td></tr>\n",
       "\t<tr><td>0</td><td>0</td><td>1</td><td>0</td><td>0</td><td>0</td><td>0</td><td>0</td><td>0</td><td>0</td><td>0</td><td>0</td><td>0</td><td>0</td><td>0</td></tr>\n",
       "\t<tr><td>0</td><td>1</td><td>0</td><td>0</td><td>0</td><td>0</td><td>0</td><td>0</td><td>0</td><td>0</td><td>0</td><td>0</td><td>0</td><td>0</td><td>0</td></tr>\n",
       "\t<tr><td>0</td><td>0</td><td>0</td><td>1</td><td>0</td><td>0</td><td>0</td><td>0</td><td>0</td><td>0</td><td>0</td><td>0</td><td>0</td><td>0</td><td>0</td></tr>\n",
       "\t<tr><td>0</td><td>0</td><td>0</td><td>0</td><td>0</td><td>0</td><td>1</td><td>0</td><td>0</td><td>0</td><td>0</td><td>0</td><td>0</td><td>0</td><td>0</td></tr>\n",
       "\t<tr><td>0</td><td>0</td><td>0</td><td>0</td><td>0</td><td>0</td><td>0</td><td>0</td><td>0</td><td>0</td><td>0</td><td>1</td><td>0</td><td>0</td><td>0</td></tr>\n",
       "\t<tr><td>0</td><td>0</td><td>0</td><td>0</td><td>0</td><td>0</td><td>0</td><td>1</td><td>0</td><td>0</td><td>0</td><td>0</td><td>0</td><td>0</td><td>0</td></tr>\n",
       "\t<tr><td>0</td><td>0</td><td>0</td><td>0</td><td>0</td><td>0</td><td>0</td><td>0</td><td>0</td><td>0</td><td>0</td><td>0</td><td>1</td><td>0</td><td>0</td></tr>\n",
       "</tbody>\n",
       "</table>\n"
      ],
      "text/latex": [
       "\\begin{tabular}{lllllllllllllll}\n",
       "\t 0 & 0 & 0 & 0 & 0 & 0 & 0 & 0 & 0 & 0 & 0 & 0 & 0 & 1 & 0\\\\\n",
       "\t 0 & 0 & 0 & 0 & 0 & 0 & 0 & 0 & 0 & 0 & 1 & 0 & 0 & 0 & 0\\\\\n",
       "\t 0 & 0 & 0 & 0 & 0 & 1 & 0 & 0 & 0 & 0 & 0 & 0 & 0 & 0 & 0\\\\\n",
       "\t 1 & 0 & 0 & 0 & 0 & 0 & 0 & 0 & 0 & 0 & 0 & 0 & 0 & 0 & 0\\\\\n",
       "\t 0 & 0 & 0 & 0 & 0 & 0 & 0 & 0 & 0 & 0 & 0 & 0 & 0 & 0 & 1\\\\\n",
       "\t 0 & 0 & 0 & 0 & 0 & 0 & 0 & 0 & 1 & 0 & 0 & 0 & 0 & 0 & 0\\\\\n",
       "\t 0 & 0 & 0 & 0 & 1 & 0 & 0 & 0 & 0 & 0 & 0 & 0 & 0 & 0 & 0\\\\\n",
       "\t 0 & 0 & 0 & 0 & 0 & 0 & 0 & 0 & 0 & 1 & 0 & 0 & 0 & 0 & 0\\\\\n",
       "\t 0 & 0 & 1 & 0 & 0 & 0 & 0 & 0 & 0 & 0 & 0 & 0 & 0 & 0 & 0\\\\\n",
       "\t 0 & 1 & 0 & 0 & 0 & 0 & 0 & 0 & 0 & 0 & 0 & 0 & 0 & 0 & 0\\\\\n",
       "\t 0 & 0 & 0 & 1 & 0 & 0 & 0 & 0 & 0 & 0 & 0 & 0 & 0 & 0 & 0\\\\\n",
       "\t 0 & 0 & 0 & 0 & 0 & 0 & 1 & 0 & 0 & 0 & 0 & 0 & 0 & 0 & 0\\\\\n",
       "\t 0 & 0 & 0 & 0 & 0 & 0 & 0 & 0 & 0 & 0 & 0 & 1 & 0 & 0 & 0\\\\\n",
       "\t 0 & 0 & 0 & 0 & 0 & 0 & 0 & 1 & 0 & 0 & 0 & 0 & 0 & 0 & 0\\\\\n",
       "\t 0 & 0 & 0 & 0 & 0 & 0 & 0 & 0 & 0 & 0 & 0 & 0 & 1 & 0 & 0\\\\\n",
       "\\end{tabular}\n"
      ],
      "text/markdown": [
       "\n",
       "| 0 | 0 | 0 | 0 | 0 | 0 | 0 | 0 | 0 | 0 | 0 | 0 | 0 | 1 | 0 | \n",
       "| 0 | 0 | 0 | 0 | 0 | 0 | 0 | 0 | 0 | 0 | 1 | 0 | 0 | 0 | 0 | \n",
       "| 0 | 0 | 0 | 0 | 0 | 1 | 0 | 0 | 0 | 0 | 0 | 0 | 0 | 0 | 0 | \n",
       "| 1 | 0 | 0 | 0 | 0 | 0 | 0 | 0 | 0 | 0 | 0 | 0 | 0 | 0 | 0 | \n",
       "| 0 | 0 | 0 | 0 | 0 | 0 | 0 | 0 | 0 | 0 | 0 | 0 | 0 | 0 | 1 | \n",
       "| 0 | 0 | 0 | 0 | 0 | 0 | 0 | 0 | 1 | 0 | 0 | 0 | 0 | 0 | 0 | \n",
       "| 0 | 0 | 0 | 0 | 1 | 0 | 0 | 0 | 0 | 0 | 0 | 0 | 0 | 0 | 0 | \n",
       "| 0 | 0 | 0 | 0 | 0 | 0 | 0 | 0 | 0 | 1 | 0 | 0 | 0 | 0 | 0 | \n",
       "| 0 | 0 | 1 | 0 | 0 | 0 | 0 | 0 | 0 | 0 | 0 | 0 | 0 | 0 | 0 | \n",
       "| 0 | 1 | 0 | 0 | 0 | 0 | 0 | 0 | 0 | 0 | 0 | 0 | 0 | 0 | 0 | \n",
       "| 0 | 0 | 0 | 1 | 0 | 0 | 0 | 0 | 0 | 0 | 0 | 0 | 0 | 0 | 0 | \n",
       "| 0 | 0 | 0 | 0 | 0 | 0 | 1 | 0 | 0 | 0 | 0 | 0 | 0 | 0 | 0 | \n",
       "| 0 | 0 | 0 | 0 | 0 | 0 | 0 | 0 | 0 | 0 | 0 | 1 | 0 | 0 | 0 | \n",
       "| 0 | 0 | 0 | 0 | 0 | 0 | 0 | 1 | 0 | 0 | 0 | 0 | 0 | 0 | 0 | \n",
       "| 0 | 0 | 0 | 0 | 0 | 0 | 0 | 0 | 0 | 0 | 0 | 0 | 1 | 0 | 0 | \n",
       "\n",
       "\n"
      ],
      "text/plain": [
       "      [,1] [,2] [,3] [,4] [,5] [,6] [,7] [,8] [,9] [,10] [,11] [,12] [,13]\n",
       " [1,] 0    0    0    0    0    0    0    0    0    0     0     0     0    \n",
       " [2,] 0    0    0    0    0    0    0    0    0    0     1     0     0    \n",
       " [3,] 0    0    0    0    0    1    0    0    0    0     0     0     0    \n",
       " [4,] 1    0    0    0    0    0    0    0    0    0     0     0     0    \n",
       " [5,] 0    0    0    0    0    0    0    0    0    0     0     0     0    \n",
       " [6,] 0    0    0    0    0    0    0    0    1    0     0     0     0    \n",
       " [7,] 0    0    0    0    1    0    0    0    0    0     0     0     0    \n",
       " [8,] 0    0    0    0    0    0    0    0    0    1     0     0     0    \n",
       " [9,] 0    0    1    0    0    0    0    0    0    0     0     0     0    \n",
       "[10,] 0    1    0    0    0    0    0    0    0    0     0     0     0    \n",
       "[11,] 0    0    0    1    0    0    0    0    0    0     0     0     0    \n",
       "[12,] 0    0    0    0    0    0    1    0    0    0     0     0     0    \n",
       "[13,] 0    0    0    0    0    0    0    0    0    0     0     1     0    \n",
       "[14,] 0    0    0    0    0    0    0    1    0    0     0     0     0    \n",
       "[15,] 0    0    0    0    0    0    0    0    0    0     0     0     1    \n",
       "      [,14] [,15]\n",
       " [1,] 1     0    \n",
       " [2,] 0     0    \n",
       " [3,] 0     0    \n",
       " [4,] 0     0    \n",
       " [5,] 0     1    \n",
       " [6,] 0     0    \n",
       " [7,] 0     0    \n",
       " [8,] 0     0    \n",
       " [9,] 0     0    \n",
       "[10,] 0     0    \n",
       "[11,] 0     0    \n",
       "[12,] 0     0    \n",
       "[13,] 0     0    \n",
       "[14,] 0     0    \n",
       "[15,] 0     0    "
      ]
     },
     "metadata": {},
     "output_type": "display_data"
    },
    {
     "data": {
      "text/html": [
       "153"
      ],
      "text/latex": [
       "153"
      ],
      "text/markdown": [
       "153"
      ],
      "text/plain": [
       "[1] 153"
      ]
     },
     "metadata": {},
     "output_type": "display_data"
    }
   ],
   "source": [
    "a <- AssignmentExact(matriz.15x15.3)\n",
    "matrix(a$solution, nrow = dim(matriz.15x15.3)[1])\n",
    "a$objval"
   ]
  },
  {
   "cell_type": "code",
   "execution_count": 26,
   "metadata": {},
   "outputs": [
    {
     "data": {
      "text/html": [
       "<dl>\n",
       "\t<dt>$solution</dt>\n",
       "\t\t<dd><table>\n",
       "<tbody>\n",
       "\t<tr><td>0</td><td>0</td><td>0</td><td>0</td><td>0</td><td>0</td><td>0</td><td>0</td><td>0</td><td>0</td><td>0</td><td>0</td><td>0</td><td>1</td><td>0</td></tr>\n",
       "\t<tr><td>0</td><td>0</td><td>0</td><td>0</td><td>0</td><td>0</td><td>0</td><td>0</td><td>0</td><td>0</td><td>1</td><td>0</td><td>0</td><td>0</td><td>0</td></tr>\n",
       "\t<tr><td>0</td><td>0</td><td>0</td><td>0</td><td>0</td><td>0</td><td>0</td><td>0</td><td>0</td><td>0</td><td>0</td><td>0</td><td>1</td><td>0</td><td>0</td></tr>\n",
       "\t<tr><td>0</td><td>0</td><td>0</td><td>0</td><td>0</td><td>0</td><td>0</td><td>0</td><td>0</td><td>0</td><td>0</td><td>1</td><td>0</td><td>0</td><td>0</td></tr>\n",
       "\t<tr><td>1</td><td>0</td><td>0</td><td>0</td><td>0</td><td>0</td><td>0</td><td>0</td><td>0</td><td>0</td><td>0</td><td>0</td><td>0</td><td>0</td><td>0</td></tr>\n",
       "\t<tr><td>0</td><td>0</td><td>0</td><td>0</td><td>0</td><td>0</td><td>0</td><td>0</td><td>1</td><td>0</td><td>0</td><td>0</td><td>0</td><td>0</td><td>0</td></tr>\n",
       "\t<tr><td>0</td><td>0</td><td>0</td><td>1</td><td>0</td><td>0</td><td>0</td><td>0</td><td>0</td><td>0</td><td>0</td><td>0</td><td>0</td><td>0</td><td>0</td></tr>\n",
       "\t<tr><td>0</td><td>0</td><td>0</td><td>0</td><td>0</td><td>0</td><td>0</td><td>0</td><td>0</td><td>1</td><td>0</td><td>0</td><td>0</td><td>0</td><td>0</td></tr>\n",
       "\t<tr><td>0</td><td>0</td><td>1</td><td>0</td><td>0</td><td>0</td><td>0</td><td>0</td><td>0</td><td>0</td><td>0</td><td>0</td><td>0</td><td>0</td><td>0</td></tr>\n",
       "\t<tr><td>0</td><td>1</td><td>0</td><td>0</td><td>0</td><td>0</td><td>0</td><td>0</td><td>0</td><td>0</td><td>0</td><td>0</td><td>0</td><td>0</td><td>0</td></tr>\n",
       "\t<tr><td>0</td><td>0</td><td>0</td><td>0</td><td>1</td><td>0</td><td>0</td><td>0</td><td>0</td><td>0</td><td>0</td><td>0</td><td>0</td><td>0</td><td>0</td></tr>\n",
       "\t<tr><td>0</td><td>0</td><td>0</td><td>0</td><td>0</td><td>0</td><td>1</td><td>0</td><td>0</td><td>0</td><td>0</td><td>0</td><td>0</td><td>0</td><td>0</td></tr>\n",
       "\t<tr><td>0</td><td>0</td><td>0</td><td>0</td><td>0</td><td>0</td><td>0</td><td>0</td><td>0</td><td>0</td><td>0</td><td>0</td><td>0</td><td>0</td><td>1</td></tr>\n",
       "\t<tr><td>0</td><td>0</td><td>0</td><td>0</td><td>0</td><td>0</td><td>0</td><td>1</td><td>0</td><td>0</td><td>0</td><td>0</td><td>0</td><td>0</td><td>0</td></tr>\n",
       "\t<tr><td>0</td><td>0</td><td>0</td><td>0</td><td>0</td><td>1</td><td>0</td><td>0</td><td>0</td><td>0</td><td>0</td><td>0</td><td>0</td><td>0</td><td>0</td></tr>\n",
       "</tbody>\n",
       "</table>\n",
       "</dd>\n",
       "\t<dt>$objval</dt>\n",
       "\t\t<dd><strong>V3:</strong> 205</dd>\n",
       "</dl>\n"
      ],
      "text/latex": [
       "\\begin{description}\n",
       "\\item[\\$solution] \\begin{tabular}{lllllllllllllll}\n",
       "\t 0 & 0 & 0 & 0 & 0 & 0 & 0 & 0 & 0 & 0 & 0 & 0 & 0 & 1 & 0\\\\\n",
       "\t 0 & 0 & 0 & 0 & 0 & 0 & 0 & 0 & 0 & 0 & 1 & 0 & 0 & 0 & 0\\\\\n",
       "\t 0 & 0 & 0 & 0 & 0 & 0 & 0 & 0 & 0 & 0 & 0 & 0 & 1 & 0 & 0\\\\\n",
       "\t 0 & 0 & 0 & 0 & 0 & 0 & 0 & 0 & 0 & 0 & 0 & 1 & 0 & 0 & 0\\\\\n",
       "\t 1 & 0 & 0 & 0 & 0 & 0 & 0 & 0 & 0 & 0 & 0 & 0 & 0 & 0 & 0\\\\\n",
       "\t 0 & 0 & 0 & 0 & 0 & 0 & 0 & 0 & 1 & 0 & 0 & 0 & 0 & 0 & 0\\\\\n",
       "\t 0 & 0 & 0 & 1 & 0 & 0 & 0 & 0 & 0 & 0 & 0 & 0 & 0 & 0 & 0\\\\\n",
       "\t 0 & 0 & 0 & 0 & 0 & 0 & 0 & 0 & 0 & 1 & 0 & 0 & 0 & 0 & 0\\\\\n",
       "\t 0 & 0 & 1 & 0 & 0 & 0 & 0 & 0 & 0 & 0 & 0 & 0 & 0 & 0 & 0\\\\\n",
       "\t 0 & 1 & 0 & 0 & 0 & 0 & 0 & 0 & 0 & 0 & 0 & 0 & 0 & 0 & 0\\\\\n",
       "\t 0 & 0 & 0 & 0 & 1 & 0 & 0 & 0 & 0 & 0 & 0 & 0 & 0 & 0 & 0\\\\\n",
       "\t 0 & 0 & 0 & 0 & 0 & 0 & 1 & 0 & 0 & 0 & 0 & 0 & 0 & 0 & 0\\\\\n",
       "\t 0 & 0 & 0 & 0 & 0 & 0 & 0 & 0 & 0 & 0 & 0 & 0 & 0 & 0 & 1\\\\\n",
       "\t 0 & 0 & 0 & 0 & 0 & 0 & 0 & 1 & 0 & 0 & 0 & 0 & 0 & 0 & 0\\\\\n",
       "\t 0 & 0 & 0 & 0 & 0 & 1 & 0 & 0 & 0 & 0 & 0 & 0 & 0 & 0 & 0\\\\\n",
       "\\end{tabular}\n",
       "\n",
       "\\item[\\$objval] \\textbf{V3:} 205\n",
       "\\end{description}\n"
      ],
      "text/markdown": [
       "$solution\n",
       ":   \n",
       "| 0 | 0 | 0 | 0 | 0 | 0 | 0 | 0 | 0 | 0 | 0 | 0 | 0 | 1 | 0 | \n",
       "| 0 | 0 | 0 | 0 | 0 | 0 | 0 | 0 | 0 | 0 | 1 | 0 | 0 | 0 | 0 | \n",
       "| 0 | 0 | 0 | 0 | 0 | 0 | 0 | 0 | 0 | 0 | 0 | 0 | 1 | 0 | 0 | \n",
       "| 0 | 0 | 0 | 0 | 0 | 0 | 0 | 0 | 0 | 0 | 0 | 1 | 0 | 0 | 0 | \n",
       "| 1 | 0 | 0 | 0 | 0 | 0 | 0 | 0 | 0 | 0 | 0 | 0 | 0 | 0 | 0 | \n",
       "| 0 | 0 | 0 | 0 | 0 | 0 | 0 | 0 | 1 | 0 | 0 | 0 | 0 | 0 | 0 | \n",
       "| 0 | 0 | 0 | 1 | 0 | 0 | 0 | 0 | 0 | 0 | 0 | 0 | 0 | 0 | 0 | \n",
       "| 0 | 0 | 0 | 0 | 0 | 0 | 0 | 0 | 0 | 1 | 0 | 0 | 0 | 0 | 0 | \n",
       "| 0 | 0 | 1 | 0 | 0 | 0 | 0 | 0 | 0 | 0 | 0 | 0 | 0 | 0 | 0 | \n",
       "| 0 | 1 | 0 | 0 | 0 | 0 | 0 | 0 | 0 | 0 | 0 | 0 | 0 | 0 | 0 | \n",
       "| 0 | 0 | 0 | 0 | 1 | 0 | 0 | 0 | 0 | 0 | 0 | 0 | 0 | 0 | 0 | \n",
       "| 0 | 0 | 0 | 0 | 0 | 0 | 1 | 0 | 0 | 0 | 0 | 0 | 0 | 0 | 0 | \n",
       "| 0 | 0 | 0 | 0 | 0 | 0 | 0 | 0 | 0 | 0 | 0 | 0 | 0 | 0 | 1 | \n",
       "| 0 | 0 | 0 | 0 | 0 | 0 | 0 | 1 | 0 | 0 | 0 | 0 | 0 | 0 | 0 | \n",
       "| 0 | 0 | 0 | 0 | 0 | 1 | 0 | 0 | 0 | 0 | 0 | 0 | 0 | 0 | 0 | \n",
       "\n",
       "\n",
       "\n",
       "$objval\n",
       ":   **V3:** 205\n",
       "\n",
       "\n"
      ],
      "text/plain": [
       "$solution\n",
       "      [,1] [,2] [,3] [,4] [,5] [,6] [,7] [,8] [,9] [,10] [,11] [,12] [,13]\n",
       " [1,]    0    0    0    0    0    0    0    0    0     0     0     0     0\n",
       " [2,]    0    0    0    0    0    0    0    0    0     0     1     0     0\n",
       " [3,]    0    0    0    0    0    0    0    0    0     0     0     0     1\n",
       " [4,]    0    0    0    0    0    0    0    0    0     0     0     1     0\n",
       " [5,]    1    0    0    0    0    0    0    0    0     0     0     0     0\n",
       " [6,]    0    0    0    0    0    0    0    0    1     0     0     0     0\n",
       " [7,]    0    0    0    1    0    0    0    0    0     0     0     0     0\n",
       " [8,]    0    0    0    0    0    0    0    0    0     1     0     0     0\n",
       " [9,]    0    0    1    0    0    0    0    0    0     0     0     0     0\n",
       "[10,]    0    1    0    0    0    0    0    0    0     0     0     0     0\n",
       "[11,]    0    0    0    0    1    0    0    0    0     0     0     0     0\n",
       "[12,]    0    0    0    0    0    0    1    0    0     0     0     0     0\n",
       "[13,]    0    0    0    0    0    0    0    0    0     0     0     0     0\n",
       "[14,]    0    0    0    0    0    0    0    1    0     0     0     0     0\n",
       "[15,]    0    0    0    0    0    1    0    0    0     0     0     0     0\n",
       "      [,14] [,15]\n",
       " [1,]     1     0\n",
       " [2,]     0     0\n",
       " [3,]     0     0\n",
       " [4,]     0     0\n",
       " [5,]     0     0\n",
       " [6,]     0     0\n",
       " [7,]     0     0\n",
       " [8,]     0     0\n",
       " [9,]     0     0\n",
       "[10,]     0     0\n",
       "[11,]     0     0\n",
       "[12,]     0     0\n",
       "[13,]     0     1\n",
       "[14,]     0     0\n",
       "[15,]     0     0\n",
       "\n",
       "$objval\n",
       " V3 \n",
       "205 \n"
      ]
     },
     "metadata": {},
     "output_type": "display_data"
    }
   ],
   "source": [
    "AssignmentGreedy(matriz.15x15.3)"
   ]
  },
  {
   "cell_type": "code",
   "execution_count": 27,
   "metadata": {},
   "outputs": [
    {
     "data": {
      "text/html": [
       "<dl>\n",
       "\t<dt>$solution</dt>\n",
       "\t\t<dd><table>\n",
       "<tbody>\n",
       "\t<tr><td>0</td><td>0</td><td>0</td><td>0</td><td>0</td><td>0</td><td>0</td><td>0</td><td>0</td><td>0</td><td>0</td><td>0</td><td>0</td><td>1</td><td>0</td></tr>\n",
       "\t<tr><td>0</td><td>0</td><td>0</td><td>0</td><td>0</td><td>0</td><td>0</td><td>0</td><td>0</td><td>0</td><td>1</td><td>0</td><td>0</td><td>0</td><td>0</td></tr>\n",
       "\t<tr><td>0</td><td>0</td><td>0</td><td>0</td><td>0</td><td>1</td><td>0</td><td>0</td><td>0</td><td>0</td><td>0</td><td>0</td><td>0</td><td>0</td><td>0</td></tr>\n",
       "\t<tr><td>0</td><td>0</td><td>0</td><td>0</td><td>0</td><td>0</td><td>0</td><td>0</td><td>0</td><td>0</td><td>0</td><td>1</td><td>0</td><td>0</td><td>0</td></tr>\n",
       "\t<tr><td>1</td><td>0</td><td>0</td><td>0</td><td>0</td><td>0</td><td>0</td><td>0</td><td>0</td><td>0</td><td>0</td><td>0</td><td>0</td><td>0</td><td>0</td></tr>\n",
       "\t<tr><td>0</td><td>0</td><td>0</td><td>0</td><td>0</td><td>0</td><td>0</td><td>0</td><td>1</td><td>0</td><td>0</td><td>0</td><td>0</td><td>0</td><td>0</td></tr>\n",
       "\t<tr><td>0</td><td>0</td><td>0</td><td>0</td><td>1</td><td>0</td><td>0</td><td>0</td><td>0</td><td>0</td><td>0</td><td>0</td><td>0</td><td>0</td><td>0</td></tr>\n",
       "\t<tr><td>0</td><td>0</td><td>0</td><td>0</td><td>0</td><td>0</td><td>0</td><td>0</td><td>0</td><td>1</td><td>0</td><td>0</td><td>0</td><td>0</td><td>0</td></tr>\n",
       "\t<tr><td>0</td><td>0</td><td>1</td><td>0</td><td>0</td><td>0</td><td>0</td><td>0</td><td>0</td><td>0</td><td>0</td><td>0</td><td>0</td><td>0</td><td>0</td></tr>\n",
       "\t<tr><td>0</td><td>1</td><td>0</td><td>0</td><td>0</td><td>0</td><td>0</td><td>0</td><td>0</td><td>0</td><td>0</td><td>0</td><td>0</td><td>0</td><td>0</td></tr>\n",
       "\t<tr><td>0</td><td>0</td><td>0</td><td>1</td><td>0</td><td>0</td><td>0</td><td>0</td><td>0</td><td>0</td><td>0</td><td>0</td><td>0</td><td>0</td><td>0</td></tr>\n",
       "\t<tr><td>0</td><td>0</td><td>0</td><td>0</td><td>0</td><td>0</td><td>1</td><td>0</td><td>0</td><td>0</td><td>0</td><td>0</td><td>0</td><td>0</td><td>0</td></tr>\n",
       "\t<tr><td>0</td><td>0</td><td>0</td><td>0</td><td>0</td><td>0</td><td>0</td><td>0</td><td>0</td><td>0</td><td>0</td><td>0</td><td>0</td><td>0</td><td>1</td></tr>\n",
       "\t<tr><td>0</td><td>0</td><td>0</td><td>0</td><td>0</td><td>0</td><td>0</td><td>1</td><td>0</td><td>0</td><td>0</td><td>0</td><td>0</td><td>0</td><td>0</td></tr>\n",
       "\t<tr><td>0</td><td>0</td><td>0</td><td>0</td><td>0</td><td>0</td><td>0</td><td>0</td><td>0</td><td>0</td><td>0</td><td>0</td><td>1</td><td>0</td><td>0</td></tr>\n",
       "</tbody>\n",
       "</table>\n",
       "</dd>\n",
       "\t<dt>$objval</dt>\n",
       "\t\t<dd><strong>V3:</strong> 156</dd>\n",
       "</dl>\n"
      ],
      "text/latex": [
       "\\begin{description}\n",
       "\\item[\\$solution] \\begin{tabular}{lllllllllllllll}\n",
       "\t 0 & 0 & 0 & 0 & 0 & 0 & 0 & 0 & 0 & 0 & 0 & 0 & 0 & 1 & 0\\\\\n",
       "\t 0 & 0 & 0 & 0 & 0 & 0 & 0 & 0 & 0 & 0 & 1 & 0 & 0 & 0 & 0\\\\\n",
       "\t 0 & 0 & 0 & 0 & 0 & 1 & 0 & 0 & 0 & 0 & 0 & 0 & 0 & 0 & 0\\\\\n",
       "\t 0 & 0 & 0 & 0 & 0 & 0 & 0 & 0 & 0 & 0 & 0 & 1 & 0 & 0 & 0\\\\\n",
       "\t 1 & 0 & 0 & 0 & 0 & 0 & 0 & 0 & 0 & 0 & 0 & 0 & 0 & 0 & 0\\\\\n",
       "\t 0 & 0 & 0 & 0 & 0 & 0 & 0 & 0 & 1 & 0 & 0 & 0 & 0 & 0 & 0\\\\\n",
       "\t 0 & 0 & 0 & 0 & 1 & 0 & 0 & 0 & 0 & 0 & 0 & 0 & 0 & 0 & 0\\\\\n",
       "\t 0 & 0 & 0 & 0 & 0 & 0 & 0 & 0 & 0 & 1 & 0 & 0 & 0 & 0 & 0\\\\\n",
       "\t 0 & 0 & 1 & 0 & 0 & 0 & 0 & 0 & 0 & 0 & 0 & 0 & 0 & 0 & 0\\\\\n",
       "\t 0 & 1 & 0 & 0 & 0 & 0 & 0 & 0 & 0 & 0 & 0 & 0 & 0 & 0 & 0\\\\\n",
       "\t 0 & 0 & 0 & 1 & 0 & 0 & 0 & 0 & 0 & 0 & 0 & 0 & 0 & 0 & 0\\\\\n",
       "\t 0 & 0 & 0 & 0 & 0 & 0 & 1 & 0 & 0 & 0 & 0 & 0 & 0 & 0 & 0\\\\\n",
       "\t 0 & 0 & 0 & 0 & 0 & 0 & 0 & 0 & 0 & 0 & 0 & 0 & 0 & 0 & 1\\\\\n",
       "\t 0 & 0 & 0 & 0 & 0 & 0 & 0 & 1 & 0 & 0 & 0 & 0 & 0 & 0 & 0\\\\\n",
       "\t 0 & 0 & 0 & 0 & 0 & 0 & 0 & 0 & 0 & 0 & 0 & 0 & 1 & 0 & 0\\\\\n",
       "\\end{tabular}\n",
       "\n",
       "\\item[\\$objval] \\textbf{V3:} 156\n",
       "\\end{description}\n"
      ],
      "text/markdown": [
       "$solution\n",
       ":   \n",
       "| 0 | 0 | 0 | 0 | 0 | 0 | 0 | 0 | 0 | 0 | 0 | 0 | 0 | 1 | 0 | \n",
       "| 0 | 0 | 0 | 0 | 0 | 0 | 0 | 0 | 0 | 0 | 1 | 0 | 0 | 0 | 0 | \n",
       "| 0 | 0 | 0 | 0 | 0 | 1 | 0 | 0 | 0 | 0 | 0 | 0 | 0 | 0 | 0 | \n",
       "| 0 | 0 | 0 | 0 | 0 | 0 | 0 | 0 | 0 | 0 | 0 | 1 | 0 | 0 | 0 | \n",
       "| 1 | 0 | 0 | 0 | 0 | 0 | 0 | 0 | 0 | 0 | 0 | 0 | 0 | 0 | 0 | \n",
       "| 0 | 0 | 0 | 0 | 0 | 0 | 0 | 0 | 1 | 0 | 0 | 0 | 0 | 0 | 0 | \n",
       "| 0 | 0 | 0 | 0 | 1 | 0 | 0 | 0 | 0 | 0 | 0 | 0 | 0 | 0 | 0 | \n",
       "| 0 | 0 | 0 | 0 | 0 | 0 | 0 | 0 | 0 | 1 | 0 | 0 | 0 | 0 | 0 | \n",
       "| 0 | 0 | 1 | 0 | 0 | 0 | 0 | 0 | 0 | 0 | 0 | 0 | 0 | 0 | 0 | \n",
       "| 0 | 1 | 0 | 0 | 0 | 0 | 0 | 0 | 0 | 0 | 0 | 0 | 0 | 0 | 0 | \n",
       "| 0 | 0 | 0 | 1 | 0 | 0 | 0 | 0 | 0 | 0 | 0 | 0 | 0 | 0 | 0 | \n",
       "| 0 | 0 | 0 | 0 | 0 | 0 | 1 | 0 | 0 | 0 | 0 | 0 | 0 | 0 | 0 | \n",
       "| 0 | 0 | 0 | 0 | 0 | 0 | 0 | 0 | 0 | 0 | 0 | 0 | 0 | 0 | 1 | \n",
       "| 0 | 0 | 0 | 0 | 0 | 0 | 0 | 1 | 0 | 0 | 0 | 0 | 0 | 0 | 0 | \n",
       "| 0 | 0 | 0 | 0 | 0 | 0 | 0 | 0 | 0 | 0 | 0 | 0 | 1 | 0 | 0 | \n",
       "\n",
       "\n",
       "\n",
       "$objval\n",
       ":   **V3:** 156\n",
       "\n",
       "\n"
      ],
      "text/plain": [
       "$solution\n",
       "      [,1] [,2] [,3] [,4] [,5] [,6] [,7] [,8] [,9] [,10] [,11] [,12] [,13]\n",
       " [1,]    0    0    0    0    0    0    0    0    0     0     0     0     0\n",
       " [2,]    0    0    0    0    0    0    0    0    0     0     1     0     0\n",
       " [3,]    0    0    0    0    0    1    0    0    0     0     0     0     0\n",
       " [4,]    0    0    0    0    0    0    0    0    0     0     0     1     0\n",
       " [5,]    1    0    0    0    0    0    0    0    0     0     0     0     0\n",
       " [6,]    0    0    0    0    0    0    0    0    1     0     0     0     0\n",
       " [7,]    0    0    0    0    1    0    0    0    0     0     0     0     0\n",
       " [8,]    0    0    0    0    0    0    0    0    0     1     0     0     0\n",
       " [9,]    0    0    1    0    0    0    0    0    0     0     0     0     0\n",
       "[10,]    0    1    0    0    0    0    0    0    0     0     0     0     0\n",
       "[11,]    0    0    0    1    0    0    0    0    0     0     0     0     0\n",
       "[12,]    0    0    0    0    0    0    1    0    0     0     0     0     0\n",
       "[13,]    0    0    0    0    0    0    0    0    0     0     0     0     0\n",
       "[14,]    0    0    0    0    0    0    0    1    0     0     0     0     0\n",
       "[15,]    0    0    0    0    0    0    0    0    0     0     0     0     1\n",
       "      [,14] [,15]\n",
       " [1,]     1     0\n",
       " [2,]     0     0\n",
       " [3,]     0     0\n",
       " [4,]     0     0\n",
       " [5,]     0     0\n",
       " [6,]     0     0\n",
       " [7,]     0     0\n",
       " [8,]     0     0\n",
       " [9,]     0     0\n",
       "[10,]     0     0\n",
       "[11,]     0     0\n",
       "[12,]     0     0\n",
       "[13,]     0     1\n",
       "[14,]     0     0\n",
       "[15,]     0     0\n",
       "\n",
       "$objval\n",
       " V3 \n",
       "156 \n"
      ]
     },
     "metadata": {},
     "output_type": "display_data"
    }
   ],
   "source": [
    "AssignmentGreedyLocalSearch(matriz.15x15.3)"
   ]
  },
  {
   "cell_type": "markdown",
   "metadata": {},
   "source": [
    "### Asignación Generalizado"
   ]
  },
  {
   "cell_type": "code",
   "execution_count": 28,
   "metadata": {},
   "outputs": [],
   "source": [
    "ReadGeneralizedAssignment <- function(file.name) {\n",
    "    con <- \n",
    "        file.name %>%\n",
    "        file(open = \"r\")\n",
    "    raw <- \n",
    "        con %>%\n",
    "        readLines(warn = FALSE) %>% \n",
    "        strsplit(\" \") %>%\n",
    "        unlist() %>%\n",
    "        as.integer()\n",
    "    close(con)\n",
    "    list(\n",
    "        m = raw[1],\n",
    "        n = raw[2],\n",
    "        cost = matrix(raw[3:(2 + raw[1] * raw[2])], \n",
    "                      nrow = raw[1], ncol = raw[2], byrow = TRUE),\n",
    "        resource = matrix(raw[(3 + raw[1] * raw[2]):(2 + 2 * raw[1] * raw[2])], \n",
    "                          nrow = raw[1], ncol = raw[2], byrow = TRUE),\n",
    "        capacity = raw[(3 + 2 * raw[1] * raw[2]):length(raw)]\n",
    "        \n",
    "    ) %>%\n",
    "    return()\n",
    "}"
   ]
  },
  {
   "cell_type": "markdown",
   "metadata": {},
   "source": [
    "#### Descripción:\n",
    "TODO"
   ]
  },
  {
   "cell_type": "markdown",
   "metadata": {},
   "source": [
    "#### Modelo:\n",
    "TODO"
   ]
  },
  {
   "cell_type": "code",
   "execution_count": 29,
   "metadata": {},
   "outputs": [],
   "source": [
    "GeneralizedAssignmentExact <- function(problem.statement, direction = \"max\", ...) {    \n",
    "    \n",
    "    m <- problem.statement$m\n",
    "    n <- problem.statement$n\n",
    "    cost <- problem.statement$cost\n",
    "    resource <- problem.statement$resource\n",
    "    capacity <- problem.statement$capacity\n",
    "    demand <- rep(1, n)\n",
    "    \n",
    "    \n",
    "    conditions <- matrix(0, nrow = n + m, ncol = n * m)\n",
    "    for (i in 1:m) {\n",
    "        conditions[i, seq(n) + (i - 1) * n] <- resource[i, ]\n",
    "    }\n",
    "    for (i in (m + 1):(n + m)) {\n",
    "        conditions[i, seq(i - m, m * n, by = n)] <- 1\n",
    "    }\n",
    "    res <- c(rep(\"<=\", m), rep(\"=\", n))\n",
    "    return(Solve(direction, t(cost), conditions, c(capacity, demand), res, all.bin = TRUE, ...))\n",
    "}"
   ]
  },
  {
   "cell_type": "markdown",
   "metadata": {},
   "source": [
    "#### Heurísticas:\n",
    "TODO"
   ]
  },
  {
   "cell_type": "code",
   "execution_count": 30,
   "metadata": {},
   "outputs": [],
   "source": [
    "GeneralizedAssignmentGreedy <- function(cost) {    \n",
    "    \n",
    "}"
   ]
  },
  {
   "cell_type": "markdown",
   "metadata": {},
   "source": [
    "### Ejemplos"
   ]
  },
  {
   "cell_type": "code",
   "execution_count": 31,
   "metadata": {},
   "outputs": [
    {
     "data": {
      "text/html": [
       "<dl>\n",
       "\t<dt>$m</dt>\n",
       "\t\t<dd>5</dd>\n",
       "\t<dt>$n</dt>\n",
       "\t\t<dd>20</dd>\n",
       "\t<dt>$cost</dt>\n",
       "\t\t<dd><table>\n",
       "<tbody>\n",
       "\t<tr><td>15</td><td>12</td><td>16</td><td>15</td><td>20</td><td>18</td><td>11</td><td>14</td><td>23</td><td>14</td><td>18</td><td>13</td><td>11</td><td>15</td><td>17</td><td>18</td><td>20</td><td>11</td><td>20</td><td>24</td></tr>\n",
       "\t<tr><td>22</td><td>14</td><td>10</td><td>15</td><td>12</td><td>21</td><td>24</td><td>16</td><td>17</td><td>22</td><td>11</td><td>15</td><td>18</td><td>15</td><td>18</td><td>23</td><td>22</td><td>23</td><td>21</td><td>13</td></tr>\n",
       "\t<tr><td>25</td><td>11</td><td>22</td><td>10</td><td>22</td><td>17</td><td>22</td><td>12</td><td>21</td><td>21</td><td>16</td><td>14</td><td>23</td><td>21</td><td>14</td><td>17</td><td>25</td><td>18</td><td>15</td><td>15</td></tr>\n",
       "\t<tr><td>23</td><td>13</td><td>14</td><td>25</td><td>21</td><td>18</td><td>23</td><td>19</td><td>17</td><td>18</td><td>20</td><td>20</td><td>22</td><td>24</td><td>23</td><td>13</td><td>17</td><td>22</td><td>20</td><td>21</td></tr>\n",
       "\t<tr><td>15</td><td>25</td><td>22</td><td>14</td><td>17</td><td>21</td><td>16</td><td>21</td><td>20</td><td>12</td><td>15</td><td>18</td><td>17</td><td>21</td><td>20</td><td>20</td><td>13</td><td>14</td><td>23</td><td>14</td></tr>\n",
       "</tbody>\n",
       "</table>\n",
       "</dd>\n",
       "\t<dt>$resource</dt>\n",
       "\t\t<dd><table>\n",
       "<tbody>\n",
       "\t<tr><td>11</td><td>11</td><td> 5</td><td>25</td><td>10</td><td>17</td><td>16</td><td>20</td><td> 5</td><td>20</td><td>14</td><td>10</td><td>15</td><td> 6</td><td>11</td><td>14</td><td>13</td><td> 8</td><td>15</td><td>11</td></tr>\n",
       "\t<tr><td>17</td><td>17</td><td>12</td><td>23</td><td>16</td><td>25</td><td>13</td><td>16</td><td>19</td><td>16</td><td>24</td><td>17</td><td>24</td><td> 6</td><td> 6</td><td>16</td><td>25</td><td>21</td><td> 5</td><td>18</td></tr>\n",
       "\t<tr><td>13</td><td>13</td><td>20</td><td>17</td><td> 8</td><td> 7</td><td>16</td><td> 9</td><td>23</td><td>18</td><td>21</td><td>24</td><td>11</td><td>15</td><td>12</td><td>24</td><td>19</td><td>23</td><td>13</td><td>12</td></tr>\n",
       "\t<tr><td> 6</td><td>10</td><td>18</td><td>16</td><td>12</td><td>25</td><td>17</td><td> 7</td><td>10</td><td> 6</td><td>20</td><td>20</td><td> 9</td><td>20</td><td>11</td><td>21</td><td> 6</td><td> 9</td><td>20</td><td>23</td></tr>\n",
       "\t<tr><td> 7</td><td>14</td><td>18</td><td>24</td><td> 7</td><td>24</td><td>18</td><td>19</td><td>18</td><td>23</td><td>15</td><td>16</td><td>14</td><td> 9</td><td>16</td><td>25</td><td>15</td><td>20</td><td>23</td><td>17</td></tr>\n",
       "</tbody>\n",
       "</table>\n",
       "</dd>\n",
       "\t<dt>$capacity</dt>\n",
       "\t\t<dd><ol class=list-inline>\n",
       "\t<li>42</li>\n",
       "\t<li>54</li>\n",
       "\t<li>52</li>\n",
       "\t<li>47</li>\n",
       "\t<li>55</li>\n",
       "</ol>\n",
       "</dd>\n",
       "</dl>\n"
      ],
      "text/latex": [
       "\\begin{description}\n",
       "\\item[\\$m] 5\n",
       "\\item[\\$n] 20\n",
       "\\item[\\$cost] \\begin{tabular}{llllllllllllllllllll}\n",
       "\t 15 & 12 & 16 & 15 & 20 & 18 & 11 & 14 & 23 & 14 & 18 & 13 & 11 & 15 & 17 & 18 & 20 & 11 & 20 & 24\\\\\n",
       "\t 22 & 14 & 10 & 15 & 12 & 21 & 24 & 16 & 17 & 22 & 11 & 15 & 18 & 15 & 18 & 23 & 22 & 23 & 21 & 13\\\\\n",
       "\t 25 & 11 & 22 & 10 & 22 & 17 & 22 & 12 & 21 & 21 & 16 & 14 & 23 & 21 & 14 & 17 & 25 & 18 & 15 & 15\\\\\n",
       "\t 23 & 13 & 14 & 25 & 21 & 18 & 23 & 19 & 17 & 18 & 20 & 20 & 22 & 24 & 23 & 13 & 17 & 22 & 20 & 21\\\\\n",
       "\t 15 & 25 & 22 & 14 & 17 & 21 & 16 & 21 & 20 & 12 & 15 & 18 & 17 & 21 & 20 & 20 & 13 & 14 & 23 & 14\\\\\n",
       "\\end{tabular}\n",
       "\n",
       "\\item[\\$resource] \\begin{tabular}{llllllllllllllllllll}\n",
       "\t 11 & 11 &  5 & 25 & 10 & 17 & 16 & 20 &  5 & 20 & 14 & 10 & 15 &  6 & 11 & 14 & 13 &  8 & 15 & 11\\\\\n",
       "\t 17 & 17 & 12 & 23 & 16 & 25 & 13 & 16 & 19 & 16 & 24 & 17 & 24 &  6 &  6 & 16 & 25 & 21 &  5 & 18\\\\\n",
       "\t 13 & 13 & 20 & 17 &  8 &  7 & 16 &  9 & 23 & 18 & 21 & 24 & 11 & 15 & 12 & 24 & 19 & 23 & 13 & 12\\\\\n",
       "\t  6 & 10 & 18 & 16 & 12 & 25 & 17 &  7 & 10 &  6 & 20 & 20 &  9 & 20 & 11 & 21 &  6 &  9 & 20 & 23\\\\\n",
       "\t  7 & 14 & 18 & 24 &  7 & 24 & 18 & 19 & 18 & 23 & 15 & 16 & 14 &  9 & 16 & 25 & 15 & 20 & 23 & 17\\\\\n",
       "\\end{tabular}\n",
       "\n",
       "\\item[\\$capacity] \\begin{enumerate*}\n",
       "\\item 42\n",
       "\\item 54\n",
       "\\item 52\n",
       "\\item 47\n",
       "\\item 55\n",
       "\\end{enumerate*}\n",
       "\n",
       "\\end{description}\n"
      ],
      "text/markdown": [
       "$m\n",
       ":   5\n",
       "$n\n",
       ":   20\n",
       "$cost\n",
       ":   \n",
       "| 15 | 12 | 16 | 15 | 20 | 18 | 11 | 14 | 23 | 14 | 18 | 13 | 11 | 15 | 17 | 18 | 20 | 11 | 20 | 24 | \n",
       "| 22 | 14 | 10 | 15 | 12 | 21 | 24 | 16 | 17 | 22 | 11 | 15 | 18 | 15 | 18 | 23 | 22 | 23 | 21 | 13 | \n",
       "| 25 | 11 | 22 | 10 | 22 | 17 | 22 | 12 | 21 | 21 | 16 | 14 | 23 | 21 | 14 | 17 | 25 | 18 | 15 | 15 | \n",
       "| 23 | 13 | 14 | 25 | 21 | 18 | 23 | 19 | 17 | 18 | 20 | 20 | 22 | 24 | 23 | 13 | 17 | 22 | 20 | 21 | \n",
       "| 15 | 25 | 22 | 14 | 17 | 21 | 16 | 21 | 20 | 12 | 15 | 18 | 17 | 21 | 20 | 20 | 13 | 14 | 23 | 14 | \n",
       "\n",
       "\n",
       "\n",
       "$resource\n",
       ":   \n",
       "| 11 | 11 |  5 | 25 | 10 | 17 | 16 | 20 |  5 | 20 | 14 | 10 | 15 |  6 | 11 | 14 | 13 |  8 | 15 | 11 | \n",
       "| 17 | 17 | 12 | 23 | 16 | 25 | 13 | 16 | 19 | 16 | 24 | 17 | 24 |  6 |  6 | 16 | 25 | 21 |  5 | 18 | \n",
       "| 13 | 13 | 20 | 17 |  8 |  7 | 16 |  9 | 23 | 18 | 21 | 24 | 11 | 15 | 12 | 24 | 19 | 23 | 13 | 12 | \n",
       "|  6 | 10 | 18 | 16 | 12 | 25 | 17 |  7 | 10 |  6 | 20 | 20 |  9 | 20 | 11 | 21 |  6 |  9 | 20 | 23 | \n",
       "|  7 | 14 | 18 | 24 |  7 | 24 | 18 | 19 | 18 | 23 | 15 | 16 | 14 |  9 | 16 | 25 | 15 | 20 | 23 | 17 | \n",
       "\n",
       "\n",
       "\n",
       "$capacity\n",
       ":   1. 42\n",
       "2. 54\n",
       "3. 52\n",
       "4. 47\n",
       "5. 55\n",
       "\n",
       "\n",
       "\n",
       "\n",
       "\n"
      ],
      "text/plain": [
       "$m\n",
       "[1] 5\n",
       "\n",
       "$n\n",
       "[1] 20\n",
       "\n",
       "$cost\n",
       "     [,1] [,2] [,3] [,4] [,5] [,6] [,7] [,8] [,9] [,10] [,11] [,12] [,13] [,14]\n",
       "[1,]   15   12   16   15   20   18   11   14   23    14    18    13    11    15\n",
       "[2,]   22   14   10   15   12   21   24   16   17    22    11    15    18    15\n",
       "[3,]   25   11   22   10   22   17   22   12   21    21    16    14    23    21\n",
       "[4,]   23   13   14   25   21   18   23   19   17    18    20    20    22    24\n",
       "[5,]   15   25   22   14   17   21   16   21   20    12    15    18    17    21\n",
       "     [,15] [,16] [,17] [,18] [,19] [,20]\n",
       "[1,]    17    18    20    11    20    24\n",
       "[2,]    18    23    22    23    21    13\n",
       "[3,]    14    17    25    18    15    15\n",
       "[4,]    23    13    17    22    20    21\n",
       "[5,]    20    20    13    14    23    14\n",
       "\n",
       "$resource\n",
       "     [,1] [,2] [,3] [,4] [,5] [,6] [,7] [,8] [,9] [,10] [,11] [,12] [,13] [,14]\n",
       "[1,]   11   11    5   25   10   17   16   20    5    20    14    10    15     6\n",
       "[2,]   17   17   12   23   16   25   13   16   19    16    24    17    24     6\n",
       "[3,]   13   13   20   17    8    7   16    9   23    18    21    24    11    15\n",
       "[4,]    6   10   18   16   12   25   17    7   10     6    20    20     9    20\n",
       "[5,]    7   14   18   24    7   24   18   19   18    23    15    16    14     9\n",
       "     [,15] [,16] [,17] [,18] [,19] [,20]\n",
       "[1,]    11    14    13     8    15    11\n",
       "[2,]     6    16    25    21     5    18\n",
       "[3,]    12    24    19    23    13    12\n",
       "[4,]    11    21     6     9    20    23\n",
       "[5,]    16    25    15    20    23    17\n",
       "\n",
       "$capacity\n",
       "[1] 42 54 52 47 55\n"
      ]
     },
     "metadata": {},
     "output_type": "display_data"
    }
   ],
   "source": [
    "(gap2.1 <- ReadGeneralizedAssignment(\"./data/assignment/gap2_1.txt\"))"
   ]
  },
  {
   "cell_type": "code",
   "execution_count": 32,
   "metadata": {},
   "outputs": [
    {
     "data": {
      "text/html": [
       "<table>\n",
       "<tbody>\n",
       "\t<tr><td>0</td><td>0</td><td>1</td><td>0</td><td>0</td><td>1</td><td>0</td><td>0</td><td>1</td><td>0</td><td>0</td><td>0</td><td>0</td><td>0</td><td>0</td><td>0</td><td>0</td><td>0</td><td>0</td><td>1</td></tr>\n",
       "\t<tr><td>0</td><td>0</td><td>0</td><td>0</td><td>0</td><td>0</td><td>1</td><td>0</td><td>0</td><td>1</td><td>0</td><td>0</td><td>0</td><td>0</td><td>0</td><td>1</td><td>0</td><td>0</td><td>1</td><td>0</td></tr>\n",
       "\t<tr><td>1</td><td>0</td><td>0</td><td>0</td><td>1</td><td>0</td><td>0</td><td>0</td><td>0</td><td>0</td><td>0</td><td>0</td><td>1</td><td>0</td><td>0</td><td>0</td><td>1</td><td>0</td><td>0</td><td>0</td></tr>\n",
       "\t<tr><td>0</td><td>0</td><td>0</td><td>1</td><td>0</td><td>0</td><td>0</td><td>1</td><td>0</td><td>0</td><td>0</td><td>0</td><td>0</td><td>0</td><td>1</td><td>0</td><td>0</td><td>1</td><td>0</td><td>0</td></tr>\n",
       "\t<tr><td>0</td><td>1</td><td>0</td><td>0</td><td>0</td><td>0</td><td>0</td><td>0</td><td>0</td><td>0</td><td>1</td><td>1</td><td>0</td><td>1</td><td>0</td><td>0</td><td>0</td><td>0</td><td>0</td><td>0</td></tr>\n",
       "</tbody>\n",
       "</table>\n"
      ],
      "text/latex": [
       "\\begin{tabular}{llllllllllllllllllll}\n",
       "\t 0 & 0 & 1 & 0 & 0 & 1 & 0 & 0 & 1 & 0 & 0 & 0 & 0 & 0 & 0 & 0 & 0 & 0 & 0 & 1\\\\\n",
       "\t 0 & 0 & 0 & 0 & 0 & 0 & 1 & 0 & 0 & 1 & 0 & 0 & 0 & 0 & 0 & 1 & 0 & 0 & 1 & 0\\\\\n",
       "\t 1 & 0 & 0 & 0 & 1 & 0 & 0 & 0 & 0 & 0 & 0 & 0 & 1 & 0 & 0 & 0 & 1 & 0 & 0 & 0\\\\\n",
       "\t 0 & 0 & 0 & 1 & 0 & 0 & 0 & 1 & 0 & 0 & 0 & 0 & 0 & 0 & 1 & 0 & 0 & 1 & 0 & 0\\\\\n",
       "\t 0 & 1 & 0 & 0 & 0 & 0 & 0 & 0 & 0 & 0 & 1 & 1 & 0 & 1 & 0 & 0 & 0 & 0 & 0 & 0\\\\\n",
       "\\end{tabular}\n"
      ],
      "text/markdown": [
       "\n",
       "| 0 | 0 | 1 | 0 | 0 | 1 | 0 | 0 | 1 | 0 | 0 | 0 | 0 | 0 | 0 | 0 | 0 | 0 | 0 | 1 | \n",
       "| 0 | 0 | 0 | 0 | 0 | 0 | 1 | 0 | 0 | 1 | 0 | 0 | 0 | 0 | 0 | 1 | 0 | 0 | 1 | 0 | \n",
       "| 1 | 0 | 0 | 0 | 1 | 0 | 0 | 0 | 0 | 0 | 0 | 0 | 1 | 0 | 0 | 0 | 1 | 0 | 0 | 0 | \n",
       "| 0 | 0 | 0 | 1 | 0 | 0 | 0 | 1 | 0 | 0 | 0 | 0 | 0 | 0 | 1 | 0 | 0 | 1 | 0 | 0 | \n",
       "| 0 | 1 | 0 | 0 | 0 | 0 | 0 | 0 | 0 | 0 | 1 | 1 | 0 | 1 | 0 | 0 | 0 | 0 | 0 | 0 | \n",
       "\n",
       "\n"
      ],
      "text/plain": [
       "     [,1] [,2] [,3] [,4] [,5] [,6] [,7] [,8] [,9] [,10] [,11] [,12] [,13] [,14]\n",
       "[1,] 0    0    1    0    0    1    0    0    1    0     0     0     0     0    \n",
       "[2,] 0    0    0    0    0    0    1    0    0    1     0     0     0     0    \n",
       "[3,] 1    0    0    0    1    0    0    0    0    0     0     0     1     0    \n",
       "[4,] 0    0    0    1    0    0    0    1    0    0     0     0     0     0    \n",
       "[5,] 0    1    0    0    0    0    0    0    0    0     1     1     0     1    \n",
       "     [,15] [,16] [,17] [,18] [,19] [,20]\n",
       "[1,] 0     0     0     0     0     1    \n",
       "[2,] 0     1     0     0     1     0    \n",
       "[3,] 0     0     1     0     0     0    \n",
       "[4,] 1     0     0     1     0     0    \n",
       "[5,] 0     0     0     0     0     0    "
      ]
     },
     "metadata": {},
     "output_type": "display_data"
    },
    {
     "data": {
      "text/html": [
       "434"
      ],
      "text/latex": [
       "434"
      ],
      "text/markdown": [
       "434"
      ],
      "text/plain": [
       "[1] 434"
      ]
     },
     "metadata": {},
     "output_type": "display_data"
    }
   ],
   "source": [
    "a <- GeneralizedAssignmentExact(gap2.1)\n",
    "matrix(a$solution, nrow = gap2.1$m, byrow = TRUE)\n",
    "a$objval"
   ]
  },
  {
   "cell_type": "code",
   "execution_count": 33,
   "metadata": {},
   "outputs": [
    {
     "data": {
      "text/html": [
       "<dl>\n",
       "\t<dt>$m</dt>\n",
       "\t\t<dd>5</dd>\n",
       "\t<dt>$n</dt>\n",
       "\t\t<dd>30</dd>\n",
       "\t<dt>$cost</dt>\n",
       "\t\t<dd><table>\n",
       "<tbody>\n",
       "\t<tr><td>15</td><td>16</td><td>12</td><td>17</td><td>12</td><td>15</td><td>19</td><td>15</td><td>19</td><td>17</td><td>25</td><td>17</td><td>19</td><td>15</td><td>20</td><td>16</td><td>12</td><td>16</td><td>13</td><td>22</td><td>16</td><td>16</td><td>14</td><td>21</td><td>21</td><td>24</td><td>13</td><td>25</td><td>21</td><td>22</td></tr>\n",
       "\t<tr><td>12</td><td>20</td><td>11</td><td>13</td><td>22</td><td>15</td><td>14</td><td>22</td><td>21</td><td>10</td><td>24</td><td>22</td><td>23</td><td>14</td><td>14</td><td>22</td><td>22</td><td>17</td><td>14</td><td>19</td><td>21</td><td>11</td><td>20</td><td>21</td><td>14</td><td>23</td><td>10</td><td>17</td><td>24</td><td>22</td></tr>\n",
       "\t<tr><td>19</td><td>19</td><td>16</td><td>11</td><td>18</td><td>20</td><td>18</td><td>22</td><td>21</td><td>15</td><td>22</td><td>23</td><td>16</td><td>23</td><td>18</td><td>18</td><td>18</td><td>22</td><td>21</td><td>12</td><td>20</td><td>18</td><td>13</td><td>25</td><td>10</td><td>23</td><td>21</td><td>24</td><td>22</td><td>18</td></tr>\n",
       "\t<tr><td>23</td><td>12</td><td>13</td><td>12</td><td>24</td><td>23</td><td>11</td><td>20</td><td>14</td><td>20</td><td>19</td><td>14</td><td>19</td><td>22</td><td>24</td><td>13</td><td>10</td><td>16</td><td>12</td><td>23</td><td>18</td><td>24</td><td>24</td><td>18</td><td>25</td><td>10</td><td>18</td><td>18</td><td>19</td><td>15</td></tr>\n",
       "\t<tr><td>15</td><td>13</td><td>16</td><td>23</td><td>19</td><td>21</td><td>15</td><td>12</td><td>18</td><td>21</td><td>12</td><td>18</td><td>21</td><td>16</td><td>17</td><td>14</td><td>13</td><td>14</td><td>19</td><td>18</td><td>21</td><td>12</td><td>14</td><td>17</td><td>15</td><td>24</td><td>21</td><td>13</td><td>11</td><td>24</td></tr>\n",
       "</tbody>\n",
       "</table>\n",
       "</dd>\n",
       "\t<dt>$resource</dt>\n",
       "\t\t<dd><table>\n",
       "<tbody>\n",
       "\t<tr><td> 7</td><td>13</td><td>21</td><td>19</td><td>10</td><td>23</td><td>14</td><td>16</td><td>13</td><td>16</td><td>17</td><td>11</td><td>23</td><td>20</td><td> 9</td><td>24</td><td>24</td><td>19</td><td>18</td><td>21</td><td>18</td><td>18</td><td>18</td><td>17</td><td>24</td><td>19</td><td> 9</td><td> 9</td><td> 7</td><td>13</td></tr>\n",
       "\t<tr><td>12</td><td>12</td><td>23</td><td>23</td><td> 6</td><td>24</td><td>13</td><td>24</td><td>16</td><td>17</td><td> 9</td><td>15</td><td> 5</td><td>20</td><td>19</td><td>17</td><td>16</td><td>13</td><td> 8</td><td>13</td><td>24</td><td> 5</td><td> 6</td><td>25</td><td>10</td><td>16</td><td>23</td><td> 8</td><td> 6</td><td>13</td></tr>\n",
       "\t<tr><td>11</td><td>17</td><td>17</td><td>21</td><td>12</td><td>13</td><td>16</td><td>17</td><td>15</td><td>11</td><td>16</td><td>20</td><td>23</td><td>18</td><td>14</td><td>24</td><td>23</td><td>21</td><td> 6</td><td>20</td><td>13</td><td>10</td><td>20</td><td>15</td><td>20</td><td>10</td><td> 8</td><td>23</td><td>24</td><td>18</td></tr>\n",
       "\t<tr><td>18</td><td>23</td><td>13</td><td> 8</td><td>15</td><td>12</td><td>16</td><td>13</td><td> 9</td><td> 6</td><td>12</td><td>13</td><td>13</td><td>14</td><td>18</td><td> 6</td><td> 6</td><td> 7</td><td>12</td><td>10</td><td>22</td><td>10</td><td> 8</td><td> 8</td><td> 9</td><td>18</td><td> 5</td><td> 7</td><td>21</td><td>22</td></tr>\n",
       "\t<tr><td>22</td><td> 7</td><td> 7</td><td>13</td><td>12</td><td>15</td><td>13</td><td>12</td><td>23</td><td>16</td><td>21</td><td> 9</td><td>15</td><td>16</td><td> 6</td><td>18</td><td>11</td><td>16</td><td>22</td><td> 6</td><td> 9</td><td> 7</td><td>15</td><td> 9</td><td> 6</td><td>16</td><td>17</td><td>23</td><td> 5</td><td>10</td></tr>\n",
       "</tbody>\n",
       "</table>\n",
       "</dd>\n",
       "\t<dt>$capacity</dt>\n",
       "\t\t<dd><ol class=list-inline>\n",
       "\t<li>79</li>\n",
       "\t<li>72</li>\n",
       "\t<li>79</li>\n",
       "\t<li>61</li>\n",
       "\t<li>64</li>\n",
       "</ol>\n",
       "</dd>\n",
       "</dl>\n"
      ],
      "text/latex": [
       "\\begin{description}\n",
       "\\item[\\$m] 5\n",
       "\\item[\\$n] 30\n",
       "\\item[\\$cost] \\begin{tabular}{llllllllllllllllllllllllllllll}\n",
       "\t 15 & 16 & 12 & 17 & 12 & 15 & 19 & 15 & 19 & 17 & 25 & 17 & 19 & 15 & 20 & 16 & 12 & 16 & 13 & 22 & 16 & 16 & 14 & 21 & 21 & 24 & 13 & 25 & 21 & 22\\\\\n",
       "\t 12 & 20 & 11 & 13 & 22 & 15 & 14 & 22 & 21 & 10 & 24 & 22 & 23 & 14 & 14 & 22 & 22 & 17 & 14 & 19 & 21 & 11 & 20 & 21 & 14 & 23 & 10 & 17 & 24 & 22\\\\\n",
       "\t 19 & 19 & 16 & 11 & 18 & 20 & 18 & 22 & 21 & 15 & 22 & 23 & 16 & 23 & 18 & 18 & 18 & 22 & 21 & 12 & 20 & 18 & 13 & 25 & 10 & 23 & 21 & 24 & 22 & 18\\\\\n",
       "\t 23 & 12 & 13 & 12 & 24 & 23 & 11 & 20 & 14 & 20 & 19 & 14 & 19 & 22 & 24 & 13 & 10 & 16 & 12 & 23 & 18 & 24 & 24 & 18 & 25 & 10 & 18 & 18 & 19 & 15\\\\\n",
       "\t 15 & 13 & 16 & 23 & 19 & 21 & 15 & 12 & 18 & 21 & 12 & 18 & 21 & 16 & 17 & 14 & 13 & 14 & 19 & 18 & 21 & 12 & 14 & 17 & 15 & 24 & 21 & 13 & 11 & 24\\\\\n",
       "\\end{tabular}\n",
       "\n",
       "\\item[\\$resource] \\begin{tabular}{llllllllllllllllllllllllllllll}\n",
       "\t  7 & 13 & 21 & 19 & 10 & 23 & 14 & 16 & 13 & 16 & 17 & 11 & 23 & 20 &  9 & 24 & 24 & 19 & 18 & 21 & 18 & 18 & 18 & 17 & 24 & 19 &  9 &  9 &  7 & 13\\\\\n",
       "\t 12 & 12 & 23 & 23 &  6 & 24 & 13 & 24 & 16 & 17 &  9 & 15 &  5 & 20 & 19 & 17 & 16 & 13 &  8 & 13 & 24 &  5 &  6 & 25 & 10 & 16 & 23 &  8 &  6 & 13\\\\\n",
       "\t 11 & 17 & 17 & 21 & 12 & 13 & 16 & 17 & 15 & 11 & 16 & 20 & 23 & 18 & 14 & 24 & 23 & 21 &  6 & 20 & 13 & 10 & 20 & 15 & 20 & 10 &  8 & 23 & 24 & 18\\\\\n",
       "\t 18 & 23 & 13 &  8 & 15 & 12 & 16 & 13 &  9 &  6 & 12 & 13 & 13 & 14 & 18 &  6 &  6 &  7 & 12 & 10 & 22 & 10 &  8 &  8 &  9 & 18 &  5 &  7 & 21 & 22\\\\\n",
       "\t 22 &  7 &  7 & 13 & 12 & 15 & 13 & 12 & 23 & 16 & 21 &  9 & 15 & 16 &  6 & 18 & 11 & 16 & 22 &  6 &  9 &  7 & 15 &  9 &  6 & 16 & 17 & 23 &  5 & 10\\\\\n",
       "\\end{tabular}\n",
       "\n",
       "\\item[\\$capacity] \\begin{enumerate*}\n",
       "\\item 79\n",
       "\\item 72\n",
       "\\item 79\n",
       "\\item 61\n",
       "\\item 64\n",
       "\\end{enumerate*}\n",
       "\n",
       "\\end{description}\n"
      ],
      "text/markdown": [
       "$m\n",
       ":   5\n",
       "$n\n",
       ":   30\n",
       "$cost\n",
       ":   \n",
       "| 15 | 16 | 12 | 17 | 12 | 15 | 19 | 15 | 19 | 17 | 25 | 17 | 19 | 15 | 20 | 16 | 12 | 16 | 13 | 22 | 16 | 16 | 14 | 21 | 21 | 24 | 13 | 25 | 21 | 22 | \n",
       "| 12 | 20 | 11 | 13 | 22 | 15 | 14 | 22 | 21 | 10 | 24 | 22 | 23 | 14 | 14 | 22 | 22 | 17 | 14 | 19 | 21 | 11 | 20 | 21 | 14 | 23 | 10 | 17 | 24 | 22 | \n",
       "| 19 | 19 | 16 | 11 | 18 | 20 | 18 | 22 | 21 | 15 | 22 | 23 | 16 | 23 | 18 | 18 | 18 | 22 | 21 | 12 | 20 | 18 | 13 | 25 | 10 | 23 | 21 | 24 | 22 | 18 | \n",
       "| 23 | 12 | 13 | 12 | 24 | 23 | 11 | 20 | 14 | 20 | 19 | 14 | 19 | 22 | 24 | 13 | 10 | 16 | 12 | 23 | 18 | 24 | 24 | 18 | 25 | 10 | 18 | 18 | 19 | 15 | \n",
       "| 15 | 13 | 16 | 23 | 19 | 21 | 15 | 12 | 18 | 21 | 12 | 18 | 21 | 16 | 17 | 14 | 13 | 14 | 19 | 18 | 21 | 12 | 14 | 17 | 15 | 24 | 21 | 13 | 11 | 24 | \n",
       "\n",
       "\n",
       "\n",
       "$resource\n",
       ":   \n",
       "|  7 | 13 | 21 | 19 | 10 | 23 | 14 | 16 | 13 | 16 | 17 | 11 | 23 | 20 |  9 | 24 | 24 | 19 | 18 | 21 | 18 | 18 | 18 | 17 | 24 | 19 |  9 |  9 |  7 | 13 | \n",
       "| 12 | 12 | 23 | 23 |  6 | 24 | 13 | 24 | 16 | 17 |  9 | 15 |  5 | 20 | 19 | 17 | 16 | 13 |  8 | 13 | 24 |  5 |  6 | 25 | 10 | 16 | 23 |  8 |  6 | 13 | \n",
       "| 11 | 17 | 17 | 21 | 12 | 13 | 16 | 17 | 15 | 11 | 16 | 20 | 23 | 18 | 14 | 24 | 23 | 21 |  6 | 20 | 13 | 10 | 20 | 15 | 20 | 10 |  8 | 23 | 24 | 18 | \n",
       "| 18 | 23 | 13 |  8 | 15 | 12 | 16 | 13 |  9 |  6 | 12 | 13 | 13 | 14 | 18 |  6 |  6 |  7 | 12 | 10 | 22 | 10 |  8 |  8 |  9 | 18 |  5 |  7 | 21 | 22 | \n",
       "| 22 |  7 |  7 | 13 | 12 | 15 | 13 | 12 | 23 | 16 | 21 |  9 | 15 | 16 |  6 | 18 | 11 | 16 | 22 |  6 |  9 |  7 | 15 |  9 |  6 | 16 | 17 | 23 |  5 | 10 | \n",
       "\n",
       "\n",
       "\n",
       "$capacity\n",
       ":   1. 79\n",
       "2. 72\n",
       "3. 79\n",
       "4. 61\n",
       "5. 64\n",
       "\n",
       "\n",
       "\n",
       "\n",
       "\n"
      ],
      "text/plain": [
       "$m\n",
       "[1] 5\n",
       "\n",
       "$n\n",
       "[1] 30\n",
       "\n",
       "$cost\n",
       "     [,1] [,2] [,3] [,4] [,5] [,6] [,7] [,8] [,9] [,10] [,11] [,12] [,13] [,14]\n",
       "[1,]   15   16   12   17   12   15   19   15   19    17    25    17    19    15\n",
       "[2,]   12   20   11   13   22   15   14   22   21    10    24    22    23    14\n",
       "[3,]   19   19   16   11   18   20   18   22   21    15    22    23    16    23\n",
       "[4,]   23   12   13   12   24   23   11   20   14    20    19    14    19    22\n",
       "[5,]   15   13   16   23   19   21   15   12   18    21    12    18    21    16\n",
       "     [,15] [,16] [,17] [,18] [,19] [,20] [,21] [,22] [,23] [,24] [,25] [,26]\n",
       "[1,]    20    16    12    16    13    22    16    16    14    21    21    24\n",
       "[2,]    14    22    22    17    14    19    21    11    20    21    14    23\n",
       "[3,]    18    18    18    22    21    12    20    18    13    25    10    23\n",
       "[4,]    24    13    10    16    12    23    18    24    24    18    25    10\n",
       "[5,]    17    14    13    14    19    18    21    12    14    17    15    24\n",
       "     [,27] [,28] [,29] [,30]\n",
       "[1,]    13    25    21    22\n",
       "[2,]    10    17    24    22\n",
       "[3,]    21    24    22    18\n",
       "[4,]    18    18    19    15\n",
       "[5,]    21    13    11    24\n",
       "\n",
       "$resource\n",
       "     [,1] [,2] [,3] [,4] [,5] [,6] [,7] [,8] [,9] [,10] [,11] [,12] [,13] [,14]\n",
       "[1,]    7   13   21   19   10   23   14   16   13    16    17    11    23    20\n",
       "[2,]   12   12   23   23    6   24   13   24   16    17     9    15     5    20\n",
       "[3,]   11   17   17   21   12   13   16   17   15    11    16    20    23    18\n",
       "[4,]   18   23   13    8   15   12   16   13    9     6    12    13    13    14\n",
       "[5,]   22    7    7   13   12   15   13   12   23    16    21     9    15    16\n",
       "     [,15] [,16] [,17] [,18] [,19] [,20] [,21] [,22] [,23] [,24] [,25] [,26]\n",
       "[1,]     9    24    24    19    18    21    18    18    18    17    24    19\n",
       "[2,]    19    17    16    13     8    13    24     5     6    25    10    16\n",
       "[3,]    14    24    23    21     6    20    13    10    20    15    20    10\n",
       "[4,]    18     6     6     7    12    10    22    10     8     8     9    18\n",
       "[5,]     6    18    11    16    22     6     9     7    15     9     6    16\n",
       "     [,27] [,28] [,29] [,30]\n",
       "[1,]     9     9     7    13\n",
       "[2,]    23     8     6    13\n",
       "[3,]     8    23    24    18\n",
       "[4,]     5     7    21    22\n",
       "[5,]    17    23     5    10\n",
       "\n",
       "$capacity\n",
       "[1] 79 72 79 61 64\n"
      ]
     },
     "metadata": {},
     "output_type": "display_data"
    }
   ],
   "source": [
    "(gap4.1 <- ReadGeneralizedAssignment(\"./data/assignment/gap4_1.txt\"))"
   ]
  },
  {
   "cell_type": "code",
   "execution_count": 34,
   "metadata": {},
   "outputs": [
    {
     "data": {
      "text/html": [
       "<table>\n",
       "<tbody>\n",
       "\t<tr><td>0</td><td>0</td><td>0</td><td>0</td><td>0</td><td>0</td><td>1</td><td>0</td><td>0</td><td>0</td><td>0</td><td>0</td><td>0</td><td>0</td><td>1</td><td>0</td><td>0</td><td>1</td><td>0</td><td>0</td><td>0</td><td>0</td><td>0</td><td>0</td><td>0</td><td>1</td><td>0</td><td>1</td><td>0</td><td>0</td></tr>\n",
       "\t<tr><td>0</td><td>1</td><td>0</td><td>0</td><td>1</td><td>0</td><td>0</td><td>0</td><td>0</td><td>0</td><td>1</td><td>0</td><td>1</td><td>0</td><td>0</td><td>1</td><td>1</td><td>0</td><td>0</td><td>0</td><td>0</td><td>0</td><td>0</td><td>0</td><td>0</td><td>0</td><td>0</td><td>0</td><td>1</td><td>0</td></tr>\n",
       "\t<tr><td>0</td><td>0</td><td>0</td><td>0</td><td>0</td><td>0</td><td>0</td><td>1</td><td>1</td><td>0</td><td>0</td><td>0</td><td>0</td><td>1</td><td>0</td><td>0</td><td>0</td><td>0</td><td>1</td><td>0</td><td>0</td><td>0</td><td>0</td><td>1</td><td>0</td><td>0</td><td>1</td><td>0</td><td>0</td><td>0</td></tr>\n",
       "\t<tr><td>1</td><td>0</td><td>0</td><td>0</td><td>0</td><td>0</td><td>0</td><td>0</td><td>0</td><td>1</td><td>0</td><td>0</td><td>0</td><td>0</td><td>0</td><td>0</td><td>0</td><td>0</td><td>0</td><td>1</td><td>0</td><td>1</td><td>1</td><td>0</td><td>1</td><td>0</td><td>0</td><td>0</td><td>0</td><td>0</td></tr>\n",
       "\t<tr><td>0</td><td>0</td><td>1</td><td>1</td><td>0</td><td>1</td><td>0</td><td>0</td><td>0</td><td>0</td><td>0</td><td>1</td><td>0</td><td>0</td><td>0</td><td>0</td><td>0</td><td>0</td><td>0</td><td>0</td><td>1</td><td>0</td><td>0</td><td>0</td><td>0</td><td>0</td><td>0</td><td>0</td><td>0</td><td>1</td></tr>\n",
       "</tbody>\n",
       "</table>\n"
      ],
      "text/latex": [
       "\\begin{tabular}{llllllllllllllllllllllllllllll}\n",
       "\t 0 & 0 & 0 & 0 & 0 & 0 & 1 & 0 & 0 & 0 & 0 & 0 & 0 & 0 & 1 & 0 & 0 & 1 & 0 & 0 & 0 & 0 & 0 & 0 & 0 & 1 & 0 & 1 & 0 & 0\\\\\n",
       "\t 0 & 1 & 0 & 0 & 1 & 0 & 0 & 0 & 0 & 0 & 1 & 0 & 1 & 0 & 0 & 1 & 1 & 0 & 0 & 0 & 0 & 0 & 0 & 0 & 0 & 0 & 0 & 0 & 1 & 0\\\\\n",
       "\t 0 & 0 & 0 & 0 & 0 & 0 & 0 & 1 & 1 & 0 & 0 & 0 & 0 & 1 & 0 & 0 & 0 & 0 & 1 & 0 & 0 & 0 & 0 & 1 & 0 & 0 & 1 & 0 & 0 & 0\\\\\n",
       "\t 1 & 0 & 0 & 0 & 0 & 0 & 0 & 0 & 0 & 1 & 0 & 0 & 0 & 0 & 0 & 0 & 0 & 0 & 0 & 1 & 0 & 1 & 1 & 0 & 1 & 0 & 0 & 0 & 0 & 0\\\\\n",
       "\t 0 & 0 & 1 & 1 & 0 & 1 & 0 & 0 & 0 & 0 & 0 & 1 & 0 & 0 & 0 & 0 & 0 & 0 & 0 & 0 & 1 & 0 & 0 & 0 & 0 & 0 & 0 & 0 & 0 & 1\\\\\n",
       "\\end{tabular}\n"
      ],
      "text/markdown": [
       "\n",
       "| 0 | 0 | 0 | 0 | 0 | 0 | 1 | 0 | 0 | 0 | 0 | 0 | 0 | 0 | 1 | 0 | 0 | 1 | 0 | 0 | 0 | 0 | 0 | 0 | 0 | 1 | 0 | 1 | 0 | 0 | \n",
       "| 0 | 1 | 0 | 0 | 1 | 0 | 0 | 0 | 0 | 0 | 1 | 0 | 1 | 0 | 0 | 1 | 1 | 0 | 0 | 0 | 0 | 0 | 0 | 0 | 0 | 0 | 0 | 0 | 1 | 0 | \n",
       "| 0 | 0 | 0 | 0 | 0 | 0 | 0 | 1 | 1 | 0 | 0 | 0 | 0 | 1 | 0 | 0 | 0 | 0 | 1 | 0 | 0 | 0 | 0 | 1 | 0 | 0 | 1 | 0 | 0 | 0 | \n",
       "| 1 | 0 | 0 | 0 | 0 | 0 | 0 | 0 | 0 | 1 | 0 | 0 | 0 | 0 | 0 | 0 | 0 | 0 | 0 | 1 | 0 | 1 | 1 | 0 | 1 | 0 | 0 | 0 | 0 | 0 | \n",
       "| 0 | 0 | 1 | 1 | 0 | 1 | 0 | 0 | 0 | 0 | 0 | 1 | 0 | 0 | 0 | 0 | 0 | 0 | 0 | 0 | 1 | 0 | 0 | 0 | 0 | 0 | 0 | 0 | 0 | 1 | \n",
       "\n",
       "\n"
      ],
      "text/plain": [
       "     [,1] [,2] [,3] [,4] [,5] [,6] [,7] [,8] [,9] [,10] [,11] [,12] [,13] [,14]\n",
       "[1,] 0    0    0    0    0    0    1    0    0    0     0     0     0     0    \n",
       "[2,] 0    1    0    0    1    0    0    0    0    0     1     0     1     0    \n",
       "[3,] 0    0    0    0    0    0    0    1    1    0     0     0     0     1    \n",
       "[4,] 1    0    0    0    0    0    0    0    0    1     0     0     0     0    \n",
       "[5,] 0    0    1    1    0    1    0    0    0    0     0     1     0     0    \n",
       "     [,15] [,16] [,17] [,18] [,19] [,20] [,21] [,22] [,23] [,24] [,25] [,26]\n",
       "[1,] 1     0     0     1     0     0     0     0     0     0     0     1    \n",
       "[2,] 0     1     1     0     0     0     0     0     0     0     0     0    \n",
       "[3,] 0     0     0     0     1     0     0     0     0     1     0     0    \n",
       "[4,] 0     0     0     0     0     1     0     1     1     0     1     0    \n",
       "[5,] 0     0     0     0     0     0     1     0     0     0     0     0    \n",
       "     [,27] [,28] [,29] [,30]\n",
       "[1,] 0     1     0     0    \n",
       "[2,] 0     0     1     0    \n",
       "[3,] 1     0     0     0    \n",
       "[4,] 0     0     0     0    \n",
       "[5,] 0     0     0     1    "
      ]
     },
     "metadata": {},
     "output_type": "display_data"
    },
    {
     "data": {
      "text/html": [
       "656"
      ],
      "text/latex": [
       "656"
      ],
      "text/markdown": [
       "656"
      ],
      "text/plain": [
       "[1] 656"
      ]
     },
     "metadata": {},
     "output_type": "display_data"
    }
   ],
   "source": [
    "a <- GeneralizedAssignmentExact(gap4.1)\n",
    "matrix(a$solution, nrow = gap4.1$m, byrow = TRUE)\n",
    "a$objval"
   ]
  },
  {
   "cell_type": "code",
   "execution_count": 35,
   "metadata": {},
   "outputs": [
    {
     "data": {
      "text/html": [
       "<dl>\n",
       "\t<dt>$m</dt>\n",
       "\t\t<dd>8</dd>\n",
       "\t<dt>$n</dt>\n",
       "\t\t<dd>32</dd>\n",
       "\t<dt>$cost</dt>\n",
       "\t\t<dd><table>\n",
       "<tbody>\n",
       "\t<tr><td>21</td><td>22</td><td>17</td><td>16</td><td>17</td><td>24</td><td>17</td><td>15</td><td>25</td><td>18</td><td>18</td><td>21</td><td>19</td><td>23</td><td>24</td><td>25</td><td>25</td><td>16</td><td>22</td><td>20</td><td>20</td><td>20</td><td>20</td><td>21</td><td>24</td><td>19</td><td>22</td><td>15</td><td>20</td><td>17</td><td>17</td><td>22</td></tr>\n",
       "\t<tr><td>18</td><td>24</td><td>18</td><td>22</td><td>19</td><td>25</td><td>23</td><td>15</td><td>24</td><td>22</td><td>19</td><td>19</td><td>20</td><td>25</td><td>23</td><td>25</td><td>20</td><td>16</td><td>22</td><td>24</td><td>23</td><td>17</td><td>24</td><td>18</td><td>18</td><td>22</td><td>15</td><td>20</td><td>17</td><td>19</td><td>15</td><td>22</td></tr>\n",
       "\t<tr><td>24</td><td>20</td><td>20</td><td>15</td><td>21</td><td>15</td><td>21</td><td>22</td><td>19</td><td>16</td><td>16</td><td>19</td><td>21</td><td>21</td><td>15</td><td>17</td><td>24</td><td>17</td><td>19</td><td>18</td><td>21</td><td>25</td><td>17</td><td>24</td><td>21</td><td>24</td><td>25</td><td>17</td><td>19</td><td>24</td><td>21</td><td>22</td></tr>\n",
       "\t<tr><td>21</td><td>20</td><td>16</td><td>21</td><td>20</td><td>18</td><td>22</td><td>17</td><td>18</td><td>19</td><td>16</td><td>15</td><td>21</td><td>24</td><td>23</td><td>19</td><td>20</td><td>20</td><td>16</td><td>16</td><td>21</td><td>17</td><td>17</td><td>20</td><td>22</td><td>21</td><td>16</td><td>16</td><td>15</td><td>17</td><td>24</td><td>24</td></tr>\n",
       "\t<tr><td>20</td><td>19</td><td>20</td><td>25</td><td>17</td><td>22</td><td>17</td><td>18</td><td>20</td><td>23</td><td>20</td><td>16</td><td>17</td><td>24</td><td>18</td><td>16</td><td>20</td><td>23</td><td>22</td><td>15</td><td>15</td><td>23</td><td>18</td><td>21</td><td>25</td><td>20</td><td>18</td><td>19</td><td>24</td><td>25</td><td>17</td><td>16</td></tr>\n",
       "\t<tr><td>17</td><td>24</td><td>22</td><td>23</td><td>17</td><td>20</td><td>19</td><td>16</td><td>24</td><td>21</td><td>25</td><td>16</td><td>25</td><td>23</td><td>22</td><td>23</td><td>15</td><td>15</td><td>15</td><td>20</td><td>20</td><td>21</td><td>23</td><td>24</td><td>21</td><td>25</td><td>23</td><td>22</td><td>25</td><td>24</td><td>21</td><td>17</td></tr>\n",
       "\t<tr><td>15</td><td>22</td><td>23</td><td>24</td><td>17</td><td>23</td><td>16</td><td>16</td><td>18</td><td>19</td><td>15</td><td>15</td><td>23</td><td>18</td><td>24</td><td>25</td><td>18</td><td>25</td><td>18</td><td>15</td><td>16</td><td>22</td><td>19</td><td>18</td><td>19</td><td>22</td><td>18</td><td>23</td><td>16</td><td>15</td><td>25</td><td>25</td></tr>\n",
       "\t<tr><td>20</td><td>18</td><td>18</td><td>24</td><td>25</td><td>20</td><td>16</td><td>19</td><td>25</td><td>24</td><td>25</td><td>24</td><td>15</td><td>22</td><td>21</td><td>23</td><td>15</td><td>24</td><td>17</td><td>15</td><td>24</td><td>16</td><td>25</td><td>19</td><td>19</td><td>22</td><td>17</td><td>16</td><td>15</td><td>20</td><td>20</td><td>18</td></tr>\n",
       "</tbody>\n",
       "</table>\n",
       "</dd>\n",
       "\t<dt>$resource</dt>\n",
       "\t\t<dd><table>\n",
       "<tbody>\n",
       "\t<tr><td>12</td><td>24</td><td>13</td><td>15</td><td>19</td><td> 7</td><td> 6</td><td>25</td><td>15</td><td>19</td><td>12</td><td>24</td><td>24</td><td>25</td><td>15</td><td>19</td><td>15</td><td>24</td><td> 8</td><td>18</td><td> 9</td><td>23</td><td>10</td><td> 8</td><td>11</td><td>10</td><td>18</td><td>21</td><td>20</td><td>14</td><td>20</td><td>16</td></tr>\n",
       "\t<tr><td>10</td><td>20</td><td>10</td><td>24</td><td>10</td><td>25</td><td>11</td><td>11</td><td>23</td><td>14</td><td> 6</td><td>16</td><td> 5</td><td>20</td><td>15</td><td>11</td><td>11</td><td>19</td><td> 5</td><td> 7</td><td>25</td><td> 9</td><td> 5</td><td>24</td><td> 6</td><td>13</td><td>13</td><td>25</td><td>19</td><td>18</td><td>22</td><td> 7</td></tr>\n",
       "\t<tr><td>24</td><td> 6</td><td>16</td><td>19</td><td>18</td><td> 9</td><td>20</td><td>23</td><td>19</td><td>23</td><td>15</td><td>10</td><td>25</td><td>25</td><td>12</td><td>17</td><td>16</td><td> 8</td><td>10</td><td> 9</td><td> 9</td><td>21</td><td>19</td><td>11</td><td>14</td><td>22</td><td>20</td><td>23</td><td>23</td><td> 9</td><td> 8</td><td>25</td></tr>\n",
       "\t<tr><td>17</td><td>19</td><td>11</td><td>25</td><td>24</td><td>11</td><td>16</td><td> 8</td><td>22</td><td>18</td><td> 5</td><td> 6</td><td>21</td><td>22</td><td>19</td><td> 6</td><td>14</td><td>14</td><td>13</td><td>12</td><td>21</td><td>20</td><td> 8</td><td>12</td><td>25</td><td>11</td><td>13</td><td>20</td><td>22</td><td>22</td><td>15</td><td> 8</td></tr>\n",
       "\t<tr><td> 8</td><td> 8</td><td>19</td><td>24</td><td>25</td><td>20</td><td>18</td><td>22</td><td> 9</td><td>21</td><td>19</td><td>18</td><td>22</td><td> 5</td><td> 6</td><td> 6</td><td>23</td><td>15</td><td>12</td><td>25</td><td>14</td><td>10</td><td>18</td><td>14</td><td>10</td><td> 5</td><td>22</td><td> 7</td><td>17</td><td>16</td><td>21</td><td>13</td></tr>\n",
       "\t<tr><td>10</td><td>23</td><td>10</td><td>17</td><td>19</td><td> 7</td><td>11</td><td>22</td><td>25</td><td>19</td><td>12</td><td>25</td><td> 5</td><td>20</td><td> 9</td><td>17</td><td>11</td><td>24</td><td> 7</td><td>13</td><td>23</td><td>19</td><td>25</td><td> 7</td><td> 6</td><td>13</td><td> 9</td><td> 5</td><td>15</td><td> 7</td><td>21</td><td> 7</td></tr>\n",
       "\t<tr><td> 6</td><td> 6</td><td>20</td><td> 5</td><td>21</td><td> 7</td><td>13</td><td> 7</td><td>11</td><td> 7</td><td>19</td><td>16</td><td>15</td><td>22</td><td>19</td><td>13</td><td>24</td><td>12</td><td> 8</td><td>25</td><td>17</td><td>12</td><td>14</td><td> 5</td><td>11</td><td> 9</td><td>18</td><td> 5</td><td>11</td><td>22</td><td>14</td><td>12</td></tr>\n",
       "\t<tr><td>13</td><td>21</td><td> 7</td><td> 8</td><td>24</td><td>15</td><td> 9</td><td> 6</td><td>16</td><td> 5</td><td> 6</td><td>10</td><td>23</td><td>20</td><td> 8</td><td>24</td><td>13</td><td> 9</td><td> 7</td><td>23</td><td> 6</td><td>21</td><td>25</td><td> 9</td><td> 6</td><td>17</td><td>21</td><td> 6</td><td> 8</td><td>17</td><td>18</td><td>25</td></tr>\n",
       "</tbody>\n",
       "</table>\n",
       "</dd>\n",
       "\t<dt>$capacity</dt>\n",
       "\t\t<dd><ol class=list-inline>\n",
       "\t<li>51</li>\n",
       "\t<li>45</li>\n",
       "\t<li>52</li>\n",
       "\t<li>50</li>\n",
       "\t<li>49</li>\n",
       "\t<li>46</li>\n",
       "\t<li>42</li>\n",
       "\t<li>44</li>\n",
       "</ol>\n",
       "</dd>\n",
       "</dl>\n"
      ],
      "text/latex": [
       "\\begin{description}\n",
       "\\item[\\$m] 8\n",
       "\\item[\\$n] 32\n",
       "\\item[\\$cost] \\begin{tabular}{llllllllllllllllllllllllllllllll}\n",
       "\t 21 & 22 & 17 & 16 & 17 & 24 & 17 & 15 & 25 & 18 & 18 & 21 & 19 & 23 & 24 & 25 & 25 & 16 & 22 & 20 & 20 & 20 & 20 & 21 & 24 & 19 & 22 & 15 & 20 & 17 & 17 & 22\\\\\n",
       "\t 18 & 24 & 18 & 22 & 19 & 25 & 23 & 15 & 24 & 22 & 19 & 19 & 20 & 25 & 23 & 25 & 20 & 16 & 22 & 24 & 23 & 17 & 24 & 18 & 18 & 22 & 15 & 20 & 17 & 19 & 15 & 22\\\\\n",
       "\t 24 & 20 & 20 & 15 & 21 & 15 & 21 & 22 & 19 & 16 & 16 & 19 & 21 & 21 & 15 & 17 & 24 & 17 & 19 & 18 & 21 & 25 & 17 & 24 & 21 & 24 & 25 & 17 & 19 & 24 & 21 & 22\\\\\n",
       "\t 21 & 20 & 16 & 21 & 20 & 18 & 22 & 17 & 18 & 19 & 16 & 15 & 21 & 24 & 23 & 19 & 20 & 20 & 16 & 16 & 21 & 17 & 17 & 20 & 22 & 21 & 16 & 16 & 15 & 17 & 24 & 24\\\\\n",
       "\t 20 & 19 & 20 & 25 & 17 & 22 & 17 & 18 & 20 & 23 & 20 & 16 & 17 & 24 & 18 & 16 & 20 & 23 & 22 & 15 & 15 & 23 & 18 & 21 & 25 & 20 & 18 & 19 & 24 & 25 & 17 & 16\\\\\n",
       "\t 17 & 24 & 22 & 23 & 17 & 20 & 19 & 16 & 24 & 21 & 25 & 16 & 25 & 23 & 22 & 23 & 15 & 15 & 15 & 20 & 20 & 21 & 23 & 24 & 21 & 25 & 23 & 22 & 25 & 24 & 21 & 17\\\\\n",
       "\t 15 & 22 & 23 & 24 & 17 & 23 & 16 & 16 & 18 & 19 & 15 & 15 & 23 & 18 & 24 & 25 & 18 & 25 & 18 & 15 & 16 & 22 & 19 & 18 & 19 & 22 & 18 & 23 & 16 & 15 & 25 & 25\\\\\n",
       "\t 20 & 18 & 18 & 24 & 25 & 20 & 16 & 19 & 25 & 24 & 25 & 24 & 15 & 22 & 21 & 23 & 15 & 24 & 17 & 15 & 24 & 16 & 25 & 19 & 19 & 22 & 17 & 16 & 15 & 20 & 20 & 18\\\\\n",
       "\\end{tabular}\n",
       "\n",
       "\\item[\\$resource] \\begin{tabular}{llllllllllllllllllllllllllllllll}\n",
       "\t 12 & 24 & 13 & 15 & 19 &  7 &  6 & 25 & 15 & 19 & 12 & 24 & 24 & 25 & 15 & 19 & 15 & 24 &  8 & 18 &  9 & 23 & 10 &  8 & 11 & 10 & 18 & 21 & 20 & 14 & 20 & 16\\\\\n",
       "\t 10 & 20 & 10 & 24 & 10 & 25 & 11 & 11 & 23 & 14 &  6 & 16 &  5 & 20 & 15 & 11 & 11 & 19 &  5 &  7 & 25 &  9 &  5 & 24 &  6 & 13 & 13 & 25 & 19 & 18 & 22 &  7\\\\\n",
       "\t 24 &  6 & 16 & 19 & 18 &  9 & 20 & 23 & 19 & 23 & 15 & 10 & 25 & 25 & 12 & 17 & 16 &  8 & 10 &  9 &  9 & 21 & 19 & 11 & 14 & 22 & 20 & 23 & 23 &  9 &  8 & 25\\\\\n",
       "\t 17 & 19 & 11 & 25 & 24 & 11 & 16 &  8 & 22 & 18 &  5 &  6 & 21 & 22 & 19 &  6 & 14 & 14 & 13 & 12 & 21 & 20 &  8 & 12 & 25 & 11 & 13 & 20 & 22 & 22 & 15 &  8\\\\\n",
       "\t  8 &  8 & 19 & 24 & 25 & 20 & 18 & 22 &  9 & 21 & 19 & 18 & 22 &  5 &  6 &  6 & 23 & 15 & 12 & 25 & 14 & 10 & 18 & 14 & 10 &  5 & 22 &  7 & 17 & 16 & 21 & 13\\\\\n",
       "\t 10 & 23 & 10 & 17 & 19 &  7 & 11 & 22 & 25 & 19 & 12 & 25 &  5 & 20 &  9 & 17 & 11 & 24 &  7 & 13 & 23 & 19 & 25 &  7 &  6 & 13 &  9 &  5 & 15 &  7 & 21 &  7\\\\\n",
       "\t  6 &  6 & 20 &  5 & 21 &  7 & 13 &  7 & 11 &  7 & 19 & 16 & 15 & 22 & 19 & 13 & 24 & 12 &  8 & 25 & 17 & 12 & 14 &  5 & 11 &  9 & 18 &  5 & 11 & 22 & 14 & 12\\\\\n",
       "\t 13 & 21 &  7 &  8 & 24 & 15 &  9 &  6 & 16 &  5 &  6 & 10 & 23 & 20 &  8 & 24 & 13 &  9 &  7 & 23 &  6 & 21 & 25 &  9 &  6 & 17 & 21 &  6 &  8 & 17 & 18 & 25\\\\\n",
       "\\end{tabular}\n",
       "\n",
       "\\item[\\$capacity] \\begin{enumerate*}\n",
       "\\item 51\n",
       "\\item 45\n",
       "\\item 52\n",
       "\\item 50\n",
       "\\item 49\n",
       "\\item 46\n",
       "\\item 42\n",
       "\\item 44\n",
       "\\end{enumerate*}\n",
       "\n",
       "\\end{description}\n"
      ],
      "text/markdown": [
       "$m\n",
       ":   8\n",
       "$n\n",
       ":   32\n",
       "$cost\n",
       ":   \n",
       "| 21 | 22 | 17 | 16 | 17 | 24 | 17 | 15 | 25 | 18 | 18 | 21 | 19 | 23 | 24 | 25 | 25 | 16 | 22 | 20 | 20 | 20 | 20 | 21 | 24 | 19 | 22 | 15 | 20 | 17 | 17 | 22 | \n",
       "| 18 | 24 | 18 | 22 | 19 | 25 | 23 | 15 | 24 | 22 | 19 | 19 | 20 | 25 | 23 | 25 | 20 | 16 | 22 | 24 | 23 | 17 | 24 | 18 | 18 | 22 | 15 | 20 | 17 | 19 | 15 | 22 | \n",
       "| 24 | 20 | 20 | 15 | 21 | 15 | 21 | 22 | 19 | 16 | 16 | 19 | 21 | 21 | 15 | 17 | 24 | 17 | 19 | 18 | 21 | 25 | 17 | 24 | 21 | 24 | 25 | 17 | 19 | 24 | 21 | 22 | \n",
       "| 21 | 20 | 16 | 21 | 20 | 18 | 22 | 17 | 18 | 19 | 16 | 15 | 21 | 24 | 23 | 19 | 20 | 20 | 16 | 16 | 21 | 17 | 17 | 20 | 22 | 21 | 16 | 16 | 15 | 17 | 24 | 24 | \n",
       "| 20 | 19 | 20 | 25 | 17 | 22 | 17 | 18 | 20 | 23 | 20 | 16 | 17 | 24 | 18 | 16 | 20 | 23 | 22 | 15 | 15 | 23 | 18 | 21 | 25 | 20 | 18 | 19 | 24 | 25 | 17 | 16 | \n",
       "| 17 | 24 | 22 | 23 | 17 | 20 | 19 | 16 | 24 | 21 | 25 | 16 | 25 | 23 | 22 | 23 | 15 | 15 | 15 | 20 | 20 | 21 | 23 | 24 | 21 | 25 | 23 | 22 | 25 | 24 | 21 | 17 | \n",
       "| 15 | 22 | 23 | 24 | 17 | 23 | 16 | 16 | 18 | 19 | 15 | 15 | 23 | 18 | 24 | 25 | 18 | 25 | 18 | 15 | 16 | 22 | 19 | 18 | 19 | 22 | 18 | 23 | 16 | 15 | 25 | 25 | \n",
       "| 20 | 18 | 18 | 24 | 25 | 20 | 16 | 19 | 25 | 24 | 25 | 24 | 15 | 22 | 21 | 23 | 15 | 24 | 17 | 15 | 24 | 16 | 25 | 19 | 19 | 22 | 17 | 16 | 15 | 20 | 20 | 18 | \n",
       "\n",
       "\n",
       "\n",
       "$resource\n",
       ":   \n",
       "| 12 | 24 | 13 | 15 | 19 |  7 |  6 | 25 | 15 | 19 | 12 | 24 | 24 | 25 | 15 | 19 | 15 | 24 |  8 | 18 |  9 | 23 | 10 |  8 | 11 | 10 | 18 | 21 | 20 | 14 | 20 | 16 | \n",
       "| 10 | 20 | 10 | 24 | 10 | 25 | 11 | 11 | 23 | 14 |  6 | 16 |  5 | 20 | 15 | 11 | 11 | 19 |  5 |  7 | 25 |  9 |  5 | 24 |  6 | 13 | 13 | 25 | 19 | 18 | 22 |  7 | \n",
       "| 24 |  6 | 16 | 19 | 18 |  9 | 20 | 23 | 19 | 23 | 15 | 10 | 25 | 25 | 12 | 17 | 16 |  8 | 10 |  9 |  9 | 21 | 19 | 11 | 14 | 22 | 20 | 23 | 23 |  9 |  8 | 25 | \n",
       "| 17 | 19 | 11 | 25 | 24 | 11 | 16 |  8 | 22 | 18 |  5 |  6 | 21 | 22 | 19 |  6 | 14 | 14 | 13 | 12 | 21 | 20 |  8 | 12 | 25 | 11 | 13 | 20 | 22 | 22 | 15 |  8 | \n",
       "|  8 |  8 | 19 | 24 | 25 | 20 | 18 | 22 |  9 | 21 | 19 | 18 | 22 |  5 |  6 |  6 | 23 | 15 | 12 | 25 | 14 | 10 | 18 | 14 | 10 |  5 | 22 |  7 | 17 | 16 | 21 | 13 | \n",
       "| 10 | 23 | 10 | 17 | 19 |  7 | 11 | 22 | 25 | 19 | 12 | 25 |  5 | 20 |  9 | 17 | 11 | 24 |  7 | 13 | 23 | 19 | 25 |  7 |  6 | 13 |  9 |  5 | 15 |  7 | 21 |  7 | \n",
       "|  6 |  6 | 20 |  5 | 21 |  7 | 13 |  7 | 11 |  7 | 19 | 16 | 15 | 22 | 19 | 13 | 24 | 12 |  8 | 25 | 17 | 12 | 14 |  5 | 11 |  9 | 18 |  5 | 11 | 22 | 14 | 12 | \n",
       "| 13 | 21 |  7 |  8 | 24 | 15 |  9 |  6 | 16 |  5 |  6 | 10 | 23 | 20 |  8 | 24 | 13 |  9 |  7 | 23 |  6 | 21 | 25 |  9 |  6 | 17 | 21 |  6 |  8 | 17 | 18 | 25 | \n",
       "\n",
       "\n",
       "\n",
       "$capacity\n",
       ":   1. 51\n",
       "2. 45\n",
       "3. 52\n",
       "4. 50\n",
       "5. 49\n",
       "6. 46\n",
       "7. 42\n",
       "8. 44\n",
       "\n",
       "\n",
       "\n",
       "\n",
       "\n"
      ],
      "text/plain": [
       "$m\n",
       "[1] 8\n",
       "\n",
       "$n\n",
       "[1] 32\n",
       "\n",
       "$cost\n",
       "     [,1] [,2] [,3] [,4] [,5] [,6] [,7] [,8] [,9] [,10] [,11] [,12] [,13] [,14]\n",
       "[1,]   21   22   17   16   17   24   17   15   25    18    18    21    19    23\n",
       "[2,]   18   24   18   22   19   25   23   15   24    22    19    19    20    25\n",
       "[3,]   24   20   20   15   21   15   21   22   19    16    16    19    21    21\n",
       "[4,]   21   20   16   21   20   18   22   17   18    19    16    15    21    24\n",
       "[5,]   20   19   20   25   17   22   17   18   20    23    20    16    17    24\n",
       "[6,]   17   24   22   23   17   20   19   16   24    21    25    16    25    23\n",
       "[7,]   15   22   23   24   17   23   16   16   18    19    15    15    23    18\n",
       "[8,]   20   18   18   24   25   20   16   19   25    24    25    24    15    22\n",
       "     [,15] [,16] [,17] [,18] [,19] [,20] [,21] [,22] [,23] [,24] [,25] [,26]\n",
       "[1,]    24    25    25    16    22    20    20    20    20    21    24    19\n",
       "[2,]    23    25    20    16    22    24    23    17    24    18    18    22\n",
       "[3,]    15    17    24    17    19    18    21    25    17    24    21    24\n",
       "[4,]    23    19    20    20    16    16    21    17    17    20    22    21\n",
       "[5,]    18    16    20    23    22    15    15    23    18    21    25    20\n",
       "[6,]    22    23    15    15    15    20    20    21    23    24    21    25\n",
       "[7,]    24    25    18    25    18    15    16    22    19    18    19    22\n",
       "[8,]    21    23    15    24    17    15    24    16    25    19    19    22\n",
       "     [,27] [,28] [,29] [,30] [,31] [,32]\n",
       "[1,]    22    15    20    17    17    22\n",
       "[2,]    15    20    17    19    15    22\n",
       "[3,]    25    17    19    24    21    22\n",
       "[4,]    16    16    15    17    24    24\n",
       "[5,]    18    19    24    25    17    16\n",
       "[6,]    23    22    25    24    21    17\n",
       "[7,]    18    23    16    15    25    25\n",
       "[8,]    17    16    15    20    20    18\n",
       "\n",
       "$resource\n",
       "     [,1] [,2] [,3] [,4] [,5] [,6] [,7] [,8] [,9] [,10] [,11] [,12] [,13] [,14]\n",
       "[1,]   12   24   13   15   19    7    6   25   15    19    12    24    24    25\n",
       "[2,]   10   20   10   24   10   25   11   11   23    14     6    16     5    20\n",
       "[3,]   24    6   16   19   18    9   20   23   19    23    15    10    25    25\n",
       "[4,]   17   19   11   25   24   11   16    8   22    18     5     6    21    22\n",
       "[5,]    8    8   19   24   25   20   18   22    9    21    19    18    22     5\n",
       "[6,]   10   23   10   17   19    7   11   22   25    19    12    25     5    20\n",
       "[7,]    6    6   20    5   21    7   13    7   11     7    19    16    15    22\n",
       "[8,]   13   21    7    8   24   15    9    6   16     5     6    10    23    20\n",
       "     [,15] [,16] [,17] [,18] [,19] [,20] [,21] [,22] [,23] [,24] [,25] [,26]\n",
       "[1,]    15    19    15    24     8    18     9    23    10     8    11    10\n",
       "[2,]    15    11    11    19     5     7    25     9     5    24     6    13\n",
       "[3,]    12    17    16     8    10     9     9    21    19    11    14    22\n",
       "[4,]    19     6    14    14    13    12    21    20     8    12    25    11\n",
       "[5,]     6     6    23    15    12    25    14    10    18    14    10     5\n",
       "[6,]     9    17    11    24     7    13    23    19    25     7     6    13\n",
       "[7,]    19    13    24    12     8    25    17    12    14     5    11     9\n",
       "[8,]     8    24    13     9     7    23     6    21    25     9     6    17\n",
       "     [,27] [,28] [,29] [,30] [,31] [,32]\n",
       "[1,]    18    21    20    14    20    16\n",
       "[2,]    13    25    19    18    22     7\n",
       "[3,]    20    23    23     9     8    25\n",
       "[4,]    13    20    22    22    15     8\n",
       "[5,]    22     7    17    16    21    13\n",
       "[6,]     9     5    15     7    21     7\n",
       "[7,]    18     5    11    22    14    12\n",
       "[8,]    21     6     8    17    18    25\n",
       "\n",
       "$capacity\n",
       "[1] 51 45 52 50 49 46 42 44\n"
      ]
     },
     "metadata": {},
     "output_type": "display_data"
    }
   ],
   "source": [
    "(gap6.1 <- ReadGeneralizedAssignment(\"./data/assignment/gap6_1.txt\"))"
   ]
  },
  {
   "cell_type": "code",
   "execution_count": 36,
   "metadata": {},
   "outputs": [
    {
     "data": {
      "text/html": [
       "<table>\n",
       "<tbody>\n",
       "\t<tr><td>0</td><td>0</td><td>0</td><td>0</td><td>0</td><td>0</td><td>0</td><td>0</td><td>0</td><td>0</td><td>0</td><td>0</td><td>0</td><td>0</td><td>1</td><td>0</td><td>1</td><td>0</td><td>1</td><td>0</td><td>0</td><td>0</td><td>0</td><td>0</td><td>1</td><td>0</td><td>0</td><td>0</td><td>0</td><td>0</td><td>0</td><td>0</td></tr>\n",
       "\t<tr><td>0</td><td>1</td><td>0</td><td>0</td><td>0</td><td>0</td><td>1</td><td>0</td><td>0</td><td>0</td><td>0</td><td>0</td><td>0</td><td>0</td><td>0</td><td>0</td><td>0</td><td>0</td><td>0</td><td>1</td><td>0</td><td>0</td><td>1</td><td>0</td><td>0</td><td>0</td><td>0</td><td>0</td><td>0</td><td>0</td><td>0</td><td>0</td></tr>\n",
       "\t<tr><td>1</td><td>0</td><td>0</td><td>0</td><td>0</td><td>0</td><td>0</td><td>1</td><td>0</td><td>0</td><td>0</td><td>0</td><td>0</td><td>0</td><td>0</td><td>0</td><td>0</td><td>0</td><td>0</td><td>0</td><td>0</td><td>0</td><td>0</td><td>0</td><td>0</td><td>0</td><td>0</td><td>0</td><td>0</td><td>0</td><td>0</td><td>0</td></tr>\n",
       "\t<tr><td>0</td><td>0</td><td>0</td><td>0</td><td>1</td><td>0</td><td>0</td><td>0</td><td>0</td><td>0</td><td>0</td><td>0</td><td>0</td><td>0</td><td>0</td><td>0</td><td>0</td><td>0</td><td>0</td><td>0</td><td>0</td><td>0</td><td>0</td><td>0</td><td>0</td><td>0</td><td>0</td><td>0</td><td>0</td><td>0</td><td>1</td><td>1</td></tr>\n",
       "\t<tr><td>0</td><td>0</td><td>0</td><td>0</td><td>0</td><td>0</td><td>0</td><td>0</td><td>0</td><td>0</td><td>0</td><td>0</td><td>0</td><td>1</td><td>0</td><td>0</td><td>0</td><td>0</td><td>0</td><td>0</td><td>0</td><td>1</td><td>0</td><td>0</td><td>0</td><td>0</td><td>0</td><td>0</td><td>1</td><td>1</td><td>0</td><td>0</td></tr>\n",
       "\t<tr><td>0</td><td>0</td><td>1</td><td>0</td><td>0</td><td>0</td><td>0</td><td>0</td><td>0</td><td>0</td><td>0</td><td>0</td><td>1</td><td>0</td><td>0</td><td>0</td><td>0</td><td>0</td><td>0</td><td>0</td><td>0</td><td>0</td><td>0</td><td>1</td><td>0</td><td>1</td><td>1</td><td>0</td><td>0</td><td>0</td><td>0</td><td>0</td></tr>\n",
       "\t<tr><td>0</td><td>0</td><td>0</td><td>1</td><td>0</td><td>1</td><td>0</td><td>0</td><td>0</td><td>0</td><td>0</td><td>0</td><td>0</td><td>0</td><td>0</td><td>1</td><td>0</td><td>1</td><td>0</td><td>0</td><td>0</td><td>0</td><td>0</td><td>0</td><td>0</td><td>0</td><td>0</td><td>1</td><td>0</td><td>0</td><td>0</td><td>0</td></tr>\n",
       "\t<tr><td>0</td><td>0</td><td>0</td><td>0</td><td>0</td><td>0</td><td>0</td><td>0</td><td>1</td><td>1</td><td>1</td><td>1</td><td>0</td><td>0</td><td>0</td><td>0</td><td>0</td><td>0</td><td>0</td><td>0</td><td>1</td><td>0</td><td>0</td><td>0</td><td>0</td><td>0</td><td>0</td><td>0</td><td>0</td><td>0</td><td>0</td><td>0</td></tr>\n",
       "</tbody>\n",
       "</table>\n"
      ],
      "text/latex": [
       "\\begin{tabular}{llllllllllllllllllllllllllllllll}\n",
       "\t 0 & 0 & 0 & 0 & 0 & 0 & 0 & 0 & 0 & 0 & 0 & 0 & 0 & 0 & 1 & 0 & 1 & 0 & 1 & 0 & 0 & 0 & 0 & 0 & 1 & 0 & 0 & 0 & 0 & 0 & 0 & 0\\\\\n",
       "\t 0 & 1 & 0 & 0 & 0 & 0 & 1 & 0 & 0 & 0 & 0 & 0 & 0 & 0 & 0 & 0 & 0 & 0 & 0 & 1 & 0 & 0 & 1 & 0 & 0 & 0 & 0 & 0 & 0 & 0 & 0 & 0\\\\\n",
       "\t 1 & 0 & 0 & 0 & 0 & 0 & 0 & 1 & 0 & 0 & 0 & 0 & 0 & 0 & 0 & 0 & 0 & 0 & 0 & 0 & 0 & 0 & 0 & 0 & 0 & 0 & 0 & 0 & 0 & 0 & 0 & 0\\\\\n",
       "\t 0 & 0 & 0 & 0 & 1 & 0 & 0 & 0 & 0 & 0 & 0 & 0 & 0 & 0 & 0 & 0 & 0 & 0 & 0 & 0 & 0 & 0 & 0 & 0 & 0 & 0 & 0 & 0 & 0 & 0 & 1 & 1\\\\\n",
       "\t 0 & 0 & 0 & 0 & 0 & 0 & 0 & 0 & 0 & 0 & 0 & 0 & 0 & 1 & 0 & 0 & 0 & 0 & 0 & 0 & 0 & 1 & 0 & 0 & 0 & 0 & 0 & 0 & 1 & 1 & 0 & 0\\\\\n",
       "\t 0 & 0 & 1 & 0 & 0 & 0 & 0 & 0 & 0 & 0 & 0 & 0 & 1 & 0 & 0 & 0 & 0 & 0 & 0 & 0 & 0 & 0 & 0 & 1 & 0 & 1 & 1 & 0 & 0 & 0 & 0 & 0\\\\\n",
       "\t 0 & 0 & 0 & 1 & 0 & 1 & 0 & 0 & 0 & 0 & 0 & 0 & 0 & 0 & 0 & 1 & 0 & 1 & 0 & 0 & 0 & 0 & 0 & 0 & 0 & 0 & 0 & 1 & 0 & 0 & 0 & 0\\\\\n",
       "\t 0 & 0 & 0 & 0 & 0 & 0 & 0 & 0 & 1 & 1 & 1 & 1 & 0 & 0 & 0 & 0 & 0 & 0 & 0 & 0 & 1 & 0 & 0 & 0 & 0 & 0 & 0 & 0 & 0 & 0 & 0 & 0\\\\\n",
       "\\end{tabular}\n"
      ],
      "text/markdown": [
       "\n",
       "| 0 | 0 | 0 | 0 | 0 | 0 | 0 | 0 | 0 | 0 | 0 | 0 | 0 | 0 | 1 | 0 | 1 | 0 | 1 | 0 | 0 | 0 | 0 | 0 | 1 | 0 | 0 | 0 | 0 | 0 | 0 | 0 | \n",
       "| 0 | 1 | 0 | 0 | 0 | 0 | 1 | 0 | 0 | 0 | 0 | 0 | 0 | 0 | 0 | 0 | 0 | 0 | 0 | 1 | 0 | 0 | 1 | 0 | 0 | 0 | 0 | 0 | 0 | 0 | 0 | 0 | \n",
       "| 1 | 0 | 0 | 0 | 0 | 0 | 0 | 1 | 0 | 0 | 0 | 0 | 0 | 0 | 0 | 0 | 0 | 0 | 0 | 0 | 0 | 0 | 0 | 0 | 0 | 0 | 0 | 0 | 0 | 0 | 0 | 0 | \n",
       "| 0 | 0 | 0 | 0 | 1 | 0 | 0 | 0 | 0 | 0 | 0 | 0 | 0 | 0 | 0 | 0 | 0 | 0 | 0 | 0 | 0 | 0 | 0 | 0 | 0 | 0 | 0 | 0 | 0 | 0 | 1 | 1 | \n",
       "| 0 | 0 | 0 | 0 | 0 | 0 | 0 | 0 | 0 | 0 | 0 | 0 | 0 | 1 | 0 | 0 | 0 | 0 | 0 | 0 | 0 | 1 | 0 | 0 | 0 | 0 | 0 | 0 | 1 | 1 | 0 | 0 | \n",
       "| 0 | 0 | 1 | 0 | 0 | 0 | 0 | 0 | 0 | 0 | 0 | 0 | 1 | 0 | 0 | 0 | 0 | 0 | 0 | 0 | 0 | 0 | 0 | 1 | 0 | 1 | 1 | 0 | 0 | 0 | 0 | 0 | \n",
       "| 0 | 0 | 0 | 1 | 0 | 1 | 0 | 0 | 0 | 0 | 0 | 0 | 0 | 0 | 0 | 1 | 0 | 1 | 0 | 0 | 0 | 0 | 0 | 0 | 0 | 0 | 0 | 1 | 0 | 0 | 0 | 0 | \n",
       "| 0 | 0 | 0 | 0 | 0 | 0 | 0 | 0 | 1 | 1 | 1 | 1 | 0 | 0 | 0 | 0 | 0 | 0 | 0 | 0 | 1 | 0 | 0 | 0 | 0 | 0 | 0 | 0 | 0 | 0 | 0 | 0 | \n",
       "\n",
       "\n"
      ],
      "text/plain": [
       "     [,1] [,2] [,3] [,4] [,5] [,6] [,7] [,8] [,9] [,10] [,11] [,12] [,13] [,14]\n",
       "[1,] 0    0    0    0    0    0    0    0    0    0     0     0     0     0    \n",
       "[2,] 0    1    0    0    0    0    1    0    0    0     0     0     0     0    \n",
       "[3,] 1    0    0    0    0    0    0    1    0    0     0     0     0     0    \n",
       "[4,] 0    0    0    0    1    0    0    0    0    0     0     0     0     0    \n",
       "[5,] 0    0    0    0    0    0    0    0    0    0     0     0     0     1    \n",
       "[6,] 0    0    1    0    0    0    0    0    0    0     0     0     1     0    \n",
       "[7,] 0    0    0    1    0    1    0    0    0    0     0     0     0     0    \n",
       "[8,] 0    0    0    0    0    0    0    0    1    1     1     1     0     0    \n",
       "     [,15] [,16] [,17] [,18] [,19] [,20] [,21] [,22] [,23] [,24] [,25] [,26]\n",
       "[1,] 1     0     1     0     1     0     0     0     0     0     1     0    \n",
       "[2,] 0     0     0     0     0     1     0     0     1     0     0     0    \n",
       "[3,] 0     0     0     0     0     0     0     0     0     0     0     0    \n",
       "[4,] 0     0     0     0     0     0     0     0     0     0     0     0    \n",
       "[5,] 0     0     0     0     0     0     0     1     0     0     0     0    \n",
       "[6,] 0     0     0     0     0     0     0     0     0     1     0     1    \n",
       "[7,] 0     1     0     1     0     0     0     0     0     0     0     0    \n",
       "[8,] 0     0     0     0     0     0     1     0     0     0     0     0    \n",
       "     [,27] [,28] [,29] [,30] [,31] [,32]\n",
       "[1,] 0     0     0     0     0     0    \n",
       "[2,] 0     0     0     0     0     0    \n",
       "[3,] 0     0     0     0     0     0    \n",
       "[4,] 0     0     0     0     1     1    \n",
       "[5,] 0     0     1     1     0     0    \n",
       "[6,] 1     0     0     0     0     0    \n",
       "[7,] 0     1     0     0     0     0    \n",
       "[8,] 0     0     0     0     0     0    "
      ]
     },
     "metadata": {},
     "output_type": "display_data"
    },
    {
     "data": {
      "text/html": [
       "761"
      ],
      "text/latex": [
       "761"
      ],
      "text/markdown": [
       "761"
      ],
      "text/plain": [
       "[1] 761"
      ]
     },
     "metadata": {},
     "output_type": "display_data"
    }
   ],
   "source": [
    "a <- GeneralizedAssignmentExact(gap6.1)\n",
    "matrix(a$solution, nrow = gap6.1$m, byrow = TRUE)\n",
    "a$objval"
   ]
  },
  {
   "cell_type": "code",
   "execution_count": 37,
   "metadata": {},
   "outputs": [
    {
     "data": {
      "text/html": [
       "<dl>\n",
       "\t<dt>$m</dt>\n",
       "\t\t<dd>8</dd>\n",
       "\t<dt>$n</dt>\n",
       "\t\t<dd>48</dd>\n",
       "\t<dt>$cost</dt>\n",
       "\t\t<dd><table>\n",
       "<tbody>\n",
       "\t<tr><td>21</td><td>25</td><td>18</td><td>18</td><td>21</td><td>25</td><td>22</td><td>18</td><td>18</td><td>23</td><td>17</td><td>24</td><td>16</td><td>21</td><td>24</td><td>20</td><td>23</td><td>24</td><td>23</td><td>24</td><td>19</td><td>24</td><td>21</td><td>20</td><td>25</td><td>24</td><td>22</td><td>23</td><td>18</td><td>25</td><td>20</td><td>17</td><td>17</td><td>20</td><td>17</td><td>17</td><td>23</td><td>19</td><td>18</td><td>15</td><td>19</td><td>24</td><td>24</td><td>25</td><td>16</td><td>23</td><td>17</td><td>18</td></tr>\n",
       "\t<tr><td>19</td><td>16</td><td>22</td><td>23</td><td>24</td><td>21</td><td>18</td><td>18</td><td>17</td><td>17</td><td>25</td><td>21</td><td>24</td><td>17</td><td>17</td><td>22</td><td>15</td><td>24</td><td>18</td><td>21</td><td>21</td><td>23</td><td>19</td><td>24</td><td>19</td><td>22</td><td>17</td><td>18</td><td>24</td><td>24</td><td>21</td><td>24</td><td>16</td><td>21</td><td>23</td><td>22</td><td>19</td><td>20</td><td>24</td><td>20</td><td>19</td><td>21</td><td>24</td><td>25</td><td>22</td><td>15</td><td>19</td><td>16</td></tr>\n",
       "\t<tr><td>23</td><td>19</td><td>16</td><td>20</td><td>20</td><td>18</td><td>24</td><td>15</td><td>24</td><td>17</td><td>24</td><td>21</td><td>15</td><td>19</td><td>22</td><td>20</td><td>20</td><td>24</td><td>20</td><td>16</td><td>17</td><td>19</td><td>18</td><td>18</td><td>17</td><td>24</td><td>23</td><td>15</td><td>16</td><td>22</td><td>25</td><td>24</td><td>22</td><td>16</td><td>25</td><td>20</td><td>16</td><td>20</td><td>18</td><td>15</td><td>24</td><td>24</td><td>15</td><td>24</td><td>23</td><td>24</td><td>18</td><td>25</td></tr>\n",
       "\t<tr><td>16</td><td>16</td><td>21</td><td>22</td><td>20</td><td>22</td><td>22</td><td>19</td><td>25</td><td>16</td><td>18</td><td>19</td><td>22</td><td>19</td><td>18</td><td>22</td><td>25</td><td>20</td><td>23</td><td>17</td><td>18</td><td>21</td><td>16</td><td>20</td><td>16</td><td>15</td><td>21</td><td>20</td><td>18</td><td>16</td><td>23</td><td>16</td><td>22</td><td>22</td><td>18</td><td>22</td><td>17</td><td>15</td><td>15</td><td>18</td><td>15</td><td>20</td><td>15</td><td>21</td><td>19</td><td>23</td><td>17</td><td>25</td></tr>\n",
       "\t<tr><td>16</td><td>15</td><td>22</td><td>23</td><td>16</td><td>23</td><td>20</td><td>20</td><td>23</td><td>16</td><td>19</td><td>16</td><td>18</td><td>20</td><td>18</td><td>22</td><td>16</td><td>15</td><td>22</td><td>24</td><td>24</td><td>21</td><td>22</td><td>16</td><td>19</td><td>22</td><td>17</td><td>20</td><td>20</td><td>21</td><td>15</td><td>15</td><td>21</td><td>16</td><td>16</td><td>15</td><td>15</td><td>16</td><td>24</td><td>25</td><td>19</td><td>24</td><td>22</td><td>22</td><td>20</td><td>19</td><td>17</td><td>24</td></tr>\n",
       "\t<tr><td>24</td><td>19</td><td>21</td><td>21</td><td>25</td><td>24</td><td>20</td><td>25</td><td>21</td><td>24</td><td>18</td><td>21</td><td>21</td><td>15</td><td>23</td><td>24</td><td>18</td><td>23</td><td>20</td><td>25</td><td>22</td><td>20</td><td>17</td><td>25</td><td>16</td><td>22</td><td>19</td><td>18</td><td>22</td><td>25</td><td>16</td><td>16</td><td>22</td><td>23</td><td>22</td><td>23</td><td>16</td><td>21</td><td>17</td><td>21</td><td>20</td><td>16</td><td>15</td><td>23</td><td>24</td><td>24</td><td>18</td><td>22</td></tr>\n",
       "\t<tr><td>24</td><td>23</td><td>18</td><td>22</td><td>25</td><td>18</td><td>16</td><td>21</td><td>24</td><td>25</td><td>18</td><td>16</td><td>16</td><td>23</td><td>25</td><td>15</td><td>16</td><td>19</td><td>18</td><td>20</td><td>19</td><td>18</td><td>24</td><td>18</td><td>22</td><td>16</td><td>25</td><td>25</td><td>22</td><td>18</td><td>16</td><td>17</td><td>15</td><td>25</td><td>24</td><td>23</td><td>23</td><td>21</td><td>25</td><td>22</td><td>24</td><td>19</td><td>16</td><td>21</td><td>16</td><td>15</td><td>16</td><td>25</td></tr>\n",
       "\t<tr><td>15</td><td>21</td><td>23</td><td>24</td><td>17</td><td>23</td><td>23</td><td>20</td><td>18</td><td>17</td><td>16</td><td>25</td><td>16</td><td>22</td><td>20</td><td>17</td><td>21</td><td>18</td><td>17</td><td>17</td><td>18</td><td>24</td><td>24</td><td>24</td><td>24</td><td>18</td><td>20</td><td>21</td><td>23</td><td>24</td><td>19</td><td>18</td><td>18</td><td>19</td><td>22</td><td>16</td><td>23</td><td>16</td><td>17</td><td>22</td><td>18</td><td>21</td><td>24</td><td>25</td><td>25</td><td>22</td><td>18</td><td>19</td></tr>\n",
       "</tbody>\n",
       "</table>\n",
       "</dd>\n",
       "\t<dt>$resource</dt>\n",
       "\t\t<dd><table>\n",
       "<tbody>\n",
       "\t<tr><td> 7</td><td> 6</td><td> 8</td><td> 6</td><td>13</td><td>16</td><td> 9</td><td>14</td><td>15</td><td> 5</td><td>10</td><td> 6</td><td>10</td><td> 7</td><td>11</td><td>10</td><td>13</td><td> 7</td><td>11</td><td>11</td><td> 9</td><td>15</td><td>10</td><td>11</td><td>10</td><td>14</td><td>16</td><td> 7</td><td>12</td><td>12</td><td> 7</td><td>11</td><td>15</td><td>16</td><td>11</td><td> 8</td><td>13</td><td>10</td><td> 5</td><td> 7</td><td> 6</td><td> 9</td><td> 6</td><td> 5</td><td>11</td><td> 9</td><td>13</td><td>10</td></tr>\n",
       "\t<tr><td>10</td><td> 7</td><td> 5</td><td>10</td><td>16</td><td>14</td><td>15</td><td>10</td><td>16</td><td>15</td><td>16</td><td>16</td><td> 5</td><td>12</td><td>16</td><td> 6</td><td>12</td><td>12</td><td>10</td><td> 9</td><td>15</td><td>11</td><td>13</td><td> 8</td><td>12</td><td>10</td><td>13</td><td>14</td><td>12</td><td>13</td><td> 9</td><td> 7</td><td> 8</td><td>14</td><td> 6</td><td>14</td><td>15</td><td>12</td><td>10</td><td> 9</td><td> 7</td><td> 7</td><td> 9</td><td>16</td><td> 6</td><td> 5</td><td>13</td><td>13</td></tr>\n",
       "\t<tr><td>16</td><td> 8</td><td>13</td><td>16</td><td>16</td><td>11</td><td> 5</td><td>14</td><td>10</td><td> 5</td><td>12</td><td>13</td><td>12</td><td>15</td><td>16</td><td> 5</td><td>16</td><td> 5</td><td>15</td><td> 6</td><td> 7</td><td> 9</td><td>13</td><td>13</td><td>11</td><td> 9</td><td>14</td><td>13</td><td> 8</td><td>12</td><td> 5</td><td>13</td><td> 8</td><td> 9</td><td>14</td><td> 7</td><td>13</td><td>14</td><td> 8</td><td> 9</td><td>14</td><td>14</td><td>12</td><td>10</td><td>10</td><td> 5</td><td>14</td><td> 8</td></tr>\n",
       "\t<tr><td>15</td><td> 7</td><td> 5</td><td> 7</td><td>14</td><td>15</td><td>12</td><td> 6</td><td> 5</td><td> 9</td><td>13</td><td>16</td><td>10</td><td> 6</td><td>15</td><td> 9</td><td>15</td><td> 5</td><td>16</td><td> 6</td><td>11</td><td>13</td><td>15</td><td> 8</td><td>13</td><td> 9</td><td>12</td><td>13</td><td>14</td><td>15</td><td>12</td><td>14</td><td> 8</td><td>14</td><td> 6</td><td>12</td><td>15</td><td> 8</td><td>12</td><td> 5</td><td>10</td><td> 6</td><td>14</td><td> 7</td><td>16</td><td>14</td><td>10</td><td> 9</td></tr>\n",
       "\t<tr><td> 8</td><td>10</td><td> 9</td><td>14</td><td> 7</td><td>10</td><td> 7</td><td>12</td><td>10</td><td>13</td><td>16</td><td> 5</td><td>14</td><td>15</td><td> 7</td><td>12</td><td>16</td><td>13</td><td>11</td><td>10</td><td> 5</td><td>10</td><td>15</td><td>10</td><td> 8</td><td> 5</td><td> 8</td><td> 7</td><td> 6</td><td> 6</td><td> 6</td><td>15</td><td> 7</td><td> 6</td><td>14</td><td>12</td><td> 9</td><td> 6</td><td> 6</td><td>16</td><td>12</td><td>15</td><td>15</td><td>10</td><td> 8</td><td>16</td><td> 7</td><td> 5</td></tr>\n",
       "\t<tr><td>13</td><td> 9</td><td>11</td><td>13</td><td> 5</td><td> 8</td><td>13</td><td> 7</td><td>10</td><td> 8</td><td>10</td><td>11</td><td> 5</td><td>15</td><td>14</td><td> 6</td><td> 8</td><td>13</td><td> 8</td><td> 8</td><td> 9</td><td>12</td><td> 6</td><td>11</td><td>15</td><td> 6</td><td>15</td><td> 7</td><td>16</td><td>16</td><td>13</td><td>16</td><td> 8</td><td>15</td><td> 7</td><td> 5</td><td>15</td><td>11</td><td>12</td><td> 5</td><td>11</td><td>13</td><td>12</td><td> 9</td><td>10</td><td> 7</td><td>10</td><td>13</td></tr>\n",
       "\t<tr><td>16</td><td>15</td><td>14</td><td>10</td><td> 8</td><td>14</td><td> 8</td><td>11</td><td>11</td><td> 8</td><td>11</td><td> 8</td><td>16</td><td> 8</td><td>12</td><td> 8</td><td>16</td><td>12</td><td>15</td><td>12</td><td> 6</td><td> 9</td><td>11</td><td> 5</td><td> 5</td><td> 8</td><td>16</td><td>16</td><td> 7</td><td>14</td><td>11</td><td> 7</td><td>11</td><td>14</td><td>15</td><td> 8</td><td>13</td><td>14</td><td>11</td><td> 7</td><td>12</td><td>16</td><td> 6</td><td>12</td><td> 8</td><td>15</td><td>11</td><td>14</td></tr>\n",
       "\t<tr><td>12</td><td>13</td><td> 7</td><td>14</td><td> 7</td><td>10</td><td> 5</td><td> 7</td><td> 8</td><td> 5</td><td> 8</td><td> 9</td><td>10</td><td>16</td><td> 6</td><td> 5</td><td> 9</td><td> 5</td><td>15</td><td>12</td><td> 7</td><td>13</td><td>10</td><td>16</td><td> 9</td><td>10</td><td>16</td><td> 5</td><td>16</td><td>11</td><td> 7</td><td>10</td><td>16</td><td> 8</td><td>15</td><td> 6</td><td>10</td><td>12</td><td>12</td><td> 7</td><td> 7</td><td>13</td><td> 5</td><td>11</td><td>15</td><td> 8</td><td>10</td><td> 6</td></tr>\n",
       "</tbody>\n",
       "</table>\n",
       "</dd>\n",
       "\t<dt>$capacity</dt>\n",
       "\t\t<dd><ol class=list-inline>\n",
       "\t<li>48</li>\n",
       "\t<li>53</li>\n",
       "\t<li>52</li>\n",
       "\t<li>52</li>\n",
       "\t<li>48</li>\n",
       "\t<li>50</li>\n",
       "\t<li>53</li>\n",
       "\t<li>47</li>\n",
       "</ol>\n",
       "</dd>\n",
       "</dl>\n"
      ],
      "text/latex": [
       "\\begin{description}\n",
       "\\item[\\$m] 8\n",
       "\\item[\\$n] 48\n",
       "\\item[\\$cost] \\begin{tabular}{llllllllllllllllllllllllllllllllllllllllllllllll}\n",
       "\t 21 & 25 & 18 & 18 & 21 & 25 & 22 & 18 & 18 & 23 & 17 & 24 & 16 & 21 & 24 & 20 & 23 & 24 & 23 & 24 & 19 & 24 & 21 & 20 & 25 & 24 & 22 & 23 & 18 & 25 & 20 & 17 & 17 & 20 & 17 & 17 & 23 & 19 & 18 & 15 & 19 & 24 & 24 & 25 & 16 & 23 & 17 & 18\\\\\n",
       "\t 19 & 16 & 22 & 23 & 24 & 21 & 18 & 18 & 17 & 17 & 25 & 21 & 24 & 17 & 17 & 22 & 15 & 24 & 18 & 21 & 21 & 23 & 19 & 24 & 19 & 22 & 17 & 18 & 24 & 24 & 21 & 24 & 16 & 21 & 23 & 22 & 19 & 20 & 24 & 20 & 19 & 21 & 24 & 25 & 22 & 15 & 19 & 16\\\\\n",
       "\t 23 & 19 & 16 & 20 & 20 & 18 & 24 & 15 & 24 & 17 & 24 & 21 & 15 & 19 & 22 & 20 & 20 & 24 & 20 & 16 & 17 & 19 & 18 & 18 & 17 & 24 & 23 & 15 & 16 & 22 & 25 & 24 & 22 & 16 & 25 & 20 & 16 & 20 & 18 & 15 & 24 & 24 & 15 & 24 & 23 & 24 & 18 & 25\\\\\n",
       "\t 16 & 16 & 21 & 22 & 20 & 22 & 22 & 19 & 25 & 16 & 18 & 19 & 22 & 19 & 18 & 22 & 25 & 20 & 23 & 17 & 18 & 21 & 16 & 20 & 16 & 15 & 21 & 20 & 18 & 16 & 23 & 16 & 22 & 22 & 18 & 22 & 17 & 15 & 15 & 18 & 15 & 20 & 15 & 21 & 19 & 23 & 17 & 25\\\\\n",
       "\t 16 & 15 & 22 & 23 & 16 & 23 & 20 & 20 & 23 & 16 & 19 & 16 & 18 & 20 & 18 & 22 & 16 & 15 & 22 & 24 & 24 & 21 & 22 & 16 & 19 & 22 & 17 & 20 & 20 & 21 & 15 & 15 & 21 & 16 & 16 & 15 & 15 & 16 & 24 & 25 & 19 & 24 & 22 & 22 & 20 & 19 & 17 & 24\\\\\n",
       "\t 24 & 19 & 21 & 21 & 25 & 24 & 20 & 25 & 21 & 24 & 18 & 21 & 21 & 15 & 23 & 24 & 18 & 23 & 20 & 25 & 22 & 20 & 17 & 25 & 16 & 22 & 19 & 18 & 22 & 25 & 16 & 16 & 22 & 23 & 22 & 23 & 16 & 21 & 17 & 21 & 20 & 16 & 15 & 23 & 24 & 24 & 18 & 22\\\\\n",
       "\t 24 & 23 & 18 & 22 & 25 & 18 & 16 & 21 & 24 & 25 & 18 & 16 & 16 & 23 & 25 & 15 & 16 & 19 & 18 & 20 & 19 & 18 & 24 & 18 & 22 & 16 & 25 & 25 & 22 & 18 & 16 & 17 & 15 & 25 & 24 & 23 & 23 & 21 & 25 & 22 & 24 & 19 & 16 & 21 & 16 & 15 & 16 & 25\\\\\n",
       "\t 15 & 21 & 23 & 24 & 17 & 23 & 23 & 20 & 18 & 17 & 16 & 25 & 16 & 22 & 20 & 17 & 21 & 18 & 17 & 17 & 18 & 24 & 24 & 24 & 24 & 18 & 20 & 21 & 23 & 24 & 19 & 18 & 18 & 19 & 22 & 16 & 23 & 16 & 17 & 22 & 18 & 21 & 24 & 25 & 25 & 22 & 18 & 19\\\\\n",
       "\\end{tabular}\n",
       "\n",
       "\\item[\\$resource] \\begin{tabular}{llllllllllllllllllllllllllllllllllllllllllllllll}\n",
       "\t  7 &  6 &  8 &  6 & 13 & 16 &  9 & 14 & 15 &  5 & 10 &  6 & 10 &  7 & 11 & 10 & 13 &  7 & 11 & 11 &  9 & 15 & 10 & 11 & 10 & 14 & 16 &  7 & 12 & 12 &  7 & 11 & 15 & 16 & 11 &  8 & 13 & 10 &  5 &  7 &  6 &  9 &  6 &  5 & 11 &  9 & 13 & 10\\\\\n",
       "\t 10 &  7 &  5 & 10 & 16 & 14 & 15 & 10 & 16 & 15 & 16 & 16 &  5 & 12 & 16 &  6 & 12 & 12 & 10 &  9 & 15 & 11 & 13 &  8 & 12 & 10 & 13 & 14 & 12 & 13 &  9 &  7 &  8 & 14 &  6 & 14 & 15 & 12 & 10 &  9 &  7 &  7 &  9 & 16 &  6 &  5 & 13 & 13\\\\\n",
       "\t 16 &  8 & 13 & 16 & 16 & 11 &  5 & 14 & 10 &  5 & 12 & 13 & 12 & 15 & 16 &  5 & 16 &  5 & 15 &  6 &  7 &  9 & 13 & 13 & 11 &  9 & 14 & 13 &  8 & 12 &  5 & 13 &  8 &  9 & 14 &  7 & 13 & 14 &  8 &  9 & 14 & 14 & 12 & 10 & 10 &  5 & 14 &  8\\\\\n",
       "\t 15 &  7 &  5 &  7 & 14 & 15 & 12 &  6 &  5 &  9 & 13 & 16 & 10 &  6 & 15 &  9 & 15 &  5 & 16 &  6 & 11 & 13 & 15 &  8 & 13 &  9 & 12 & 13 & 14 & 15 & 12 & 14 &  8 & 14 &  6 & 12 & 15 &  8 & 12 &  5 & 10 &  6 & 14 &  7 & 16 & 14 & 10 &  9\\\\\n",
       "\t  8 & 10 &  9 & 14 &  7 & 10 &  7 & 12 & 10 & 13 & 16 &  5 & 14 & 15 &  7 & 12 & 16 & 13 & 11 & 10 &  5 & 10 & 15 & 10 &  8 &  5 &  8 &  7 &  6 &  6 &  6 & 15 &  7 &  6 & 14 & 12 &  9 &  6 &  6 & 16 & 12 & 15 & 15 & 10 &  8 & 16 &  7 &  5\\\\\n",
       "\t 13 &  9 & 11 & 13 &  5 &  8 & 13 &  7 & 10 &  8 & 10 & 11 &  5 & 15 & 14 &  6 &  8 & 13 &  8 &  8 &  9 & 12 &  6 & 11 & 15 &  6 & 15 &  7 & 16 & 16 & 13 & 16 &  8 & 15 &  7 &  5 & 15 & 11 & 12 &  5 & 11 & 13 & 12 &  9 & 10 &  7 & 10 & 13\\\\\n",
       "\t 16 & 15 & 14 & 10 &  8 & 14 &  8 & 11 & 11 &  8 & 11 &  8 & 16 &  8 & 12 &  8 & 16 & 12 & 15 & 12 &  6 &  9 & 11 &  5 &  5 &  8 & 16 & 16 &  7 & 14 & 11 &  7 & 11 & 14 & 15 &  8 & 13 & 14 & 11 &  7 & 12 & 16 &  6 & 12 &  8 & 15 & 11 & 14\\\\\n",
       "\t 12 & 13 &  7 & 14 &  7 & 10 &  5 &  7 &  8 &  5 &  8 &  9 & 10 & 16 &  6 &  5 &  9 &  5 & 15 & 12 &  7 & 13 & 10 & 16 &  9 & 10 & 16 &  5 & 16 & 11 &  7 & 10 & 16 &  8 & 15 &  6 & 10 & 12 & 12 &  7 &  7 & 13 &  5 & 11 & 15 &  8 & 10 &  6\\\\\n",
       "\\end{tabular}\n",
       "\n",
       "\\item[\\$capacity] \\begin{enumerate*}\n",
       "\\item 48\n",
       "\\item 53\n",
       "\\item 52\n",
       "\\item 52\n",
       "\\item 48\n",
       "\\item 50\n",
       "\\item 53\n",
       "\\item 47\n",
       "\\end{enumerate*}\n",
       "\n",
       "\\end{description}\n"
      ],
      "text/markdown": [
       "$m\n",
       ":   8\n",
       "$n\n",
       ":   48\n",
       "$cost\n",
       ":   \n",
       "| 21 | 25 | 18 | 18 | 21 | 25 | 22 | 18 | 18 | 23 | 17 | 24 | 16 | 21 | 24 | 20 | 23 | 24 | 23 | 24 | 19 | 24 | 21 | 20 | 25 | 24 | 22 | 23 | 18 | 25 | 20 | 17 | 17 | 20 | 17 | 17 | 23 | 19 | 18 | 15 | 19 | 24 | 24 | 25 | 16 | 23 | 17 | 18 | \n",
       "| 19 | 16 | 22 | 23 | 24 | 21 | 18 | 18 | 17 | 17 | 25 | 21 | 24 | 17 | 17 | 22 | 15 | 24 | 18 | 21 | 21 | 23 | 19 | 24 | 19 | 22 | 17 | 18 | 24 | 24 | 21 | 24 | 16 | 21 | 23 | 22 | 19 | 20 | 24 | 20 | 19 | 21 | 24 | 25 | 22 | 15 | 19 | 16 | \n",
       "| 23 | 19 | 16 | 20 | 20 | 18 | 24 | 15 | 24 | 17 | 24 | 21 | 15 | 19 | 22 | 20 | 20 | 24 | 20 | 16 | 17 | 19 | 18 | 18 | 17 | 24 | 23 | 15 | 16 | 22 | 25 | 24 | 22 | 16 | 25 | 20 | 16 | 20 | 18 | 15 | 24 | 24 | 15 | 24 | 23 | 24 | 18 | 25 | \n",
       "| 16 | 16 | 21 | 22 | 20 | 22 | 22 | 19 | 25 | 16 | 18 | 19 | 22 | 19 | 18 | 22 | 25 | 20 | 23 | 17 | 18 | 21 | 16 | 20 | 16 | 15 | 21 | 20 | 18 | 16 | 23 | 16 | 22 | 22 | 18 | 22 | 17 | 15 | 15 | 18 | 15 | 20 | 15 | 21 | 19 | 23 | 17 | 25 | \n",
       "| 16 | 15 | 22 | 23 | 16 | 23 | 20 | 20 | 23 | 16 | 19 | 16 | 18 | 20 | 18 | 22 | 16 | 15 | 22 | 24 | 24 | 21 | 22 | 16 | 19 | 22 | 17 | 20 | 20 | 21 | 15 | 15 | 21 | 16 | 16 | 15 | 15 | 16 | 24 | 25 | 19 | 24 | 22 | 22 | 20 | 19 | 17 | 24 | \n",
       "| 24 | 19 | 21 | 21 | 25 | 24 | 20 | 25 | 21 | 24 | 18 | 21 | 21 | 15 | 23 | 24 | 18 | 23 | 20 | 25 | 22 | 20 | 17 | 25 | 16 | 22 | 19 | 18 | 22 | 25 | 16 | 16 | 22 | 23 | 22 | 23 | 16 | 21 | 17 | 21 | 20 | 16 | 15 | 23 | 24 | 24 | 18 | 22 | \n",
       "| 24 | 23 | 18 | 22 | 25 | 18 | 16 | 21 | 24 | 25 | 18 | 16 | 16 | 23 | 25 | 15 | 16 | 19 | 18 | 20 | 19 | 18 | 24 | 18 | 22 | 16 | 25 | 25 | 22 | 18 | 16 | 17 | 15 | 25 | 24 | 23 | 23 | 21 | 25 | 22 | 24 | 19 | 16 | 21 | 16 | 15 | 16 | 25 | \n",
       "| 15 | 21 | 23 | 24 | 17 | 23 | 23 | 20 | 18 | 17 | 16 | 25 | 16 | 22 | 20 | 17 | 21 | 18 | 17 | 17 | 18 | 24 | 24 | 24 | 24 | 18 | 20 | 21 | 23 | 24 | 19 | 18 | 18 | 19 | 22 | 16 | 23 | 16 | 17 | 22 | 18 | 21 | 24 | 25 | 25 | 22 | 18 | 19 | \n",
       "\n",
       "\n",
       "\n",
       "$resource\n",
       ":   \n",
       "|  7 |  6 |  8 |  6 | 13 | 16 |  9 | 14 | 15 |  5 | 10 |  6 | 10 |  7 | 11 | 10 | 13 |  7 | 11 | 11 |  9 | 15 | 10 | 11 | 10 | 14 | 16 |  7 | 12 | 12 |  7 | 11 | 15 | 16 | 11 |  8 | 13 | 10 |  5 |  7 |  6 |  9 |  6 |  5 | 11 |  9 | 13 | 10 | \n",
       "| 10 |  7 |  5 | 10 | 16 | 14 | 15 | 10 | 16 | 15 | 16 | 16 |  5 | 12 | 16 |  6 | 12 | 12 | 10 |  9 | 15 | 11 | 13 |  8 | 12 | 10 | 13 | 14 | 12 | 13 |  9 |  7 |  8 | 14 |  6 | 14 | 15 | 12 | 10 |  9 |  7 |  7 |  9 | 16 |  6 |  5 | 13 | 13 | \n",
       "| 16 |  8 | 13 | 16 | 16 | 11 |  5 | 14 | 10 |  5 | 12 | 13 | 12 | 15 | 16 |  5 | 16 |  5 | 15 |  6 |  7 |  9 | 13 | 13 | 11 |  9 | 14 | 13 |  8 | 12 |  5 | 13 |  8 |  9 | 14 |  7 | 13 | 14 |  8 |  9 | 14 | 14 | 12 | 10 | 10 |  5 | 14 |  8 | \n",
       "| 15 |  7 |  5 |  7 | 14 | 15 | 12 |  6 |  5 |  9 | 13 | 16 | 10 |  6 | 15 |  9 | 15 |  5 | 16 |  6 | 11 | 13 | 15 |  8 | 13 |  9 | 12 | 13 | 14 | 15 | 12 | 14 |  8 | 14 |  6 | 12 | 15 |  8 | 12 |  5 | 10 |  6 | 14 |  7 | 16 | 14 | 10 |  9 | \n",
       "|  8 | 10 |  9 | 14 |  7 | 10 |  7 | 12 | 10 | 13 | 16 |  5 | 14 | 15 |  7 | 12 | 16 | 13 | 11 | 10 |  5 | 10 | 15 | 10 |  8 |  5 |  8 |  7 |  6 |  6 |  6 | 15 |  7 |  6 | 14 | 12 |  9 |  6 |  6 | 16 | 12 | 15 | 15 | 10 |  8 | 16 |  7 |  5 | \n",
       "| 13 |  9 | 11 | 13 |  5 |  8 | 13 |  7 | 10 |  8 | 10 | 11 |  5 | 15 | 14 |  6 |  8 | 13 |  8 |  8 |  9 | 12 |  6 | 11 | 15 |  6 | 15 |  7 | 16 | 16 | 13 | 16 |  8 | 15 |  7 |  5 | 15 | 11 | 12 |  5 | 11 | 13 | 12 |  9 | 10 |  7 | 10 | 13 | \n",
       "| 16 | 15 | 14 | 10 |  8 | 14 |  8 | 11 | 11 |  8 | 11 |  8 | 16 |  8 | 12 |  8 | 16 | 12 | 15 | 12 |  6 |  9 | 11 |  5 |  5 |  8 | 16 | 16 |  7 | 14 | 11 |  7 | 11 | 14 | 15 |  8 | 13 | 14 | 11 |  7 | 12 | 16 |  6 | 12 |  8 | 15 | 11 | 14 | \n",
       "| 12 | 13 |  7 | 14 |  7 | 10 |  5 |  7 |  8 |  5 |  8 |  9 | 10 | 16 |  6 |  5 |  9 |  5 | 15 | 12 |  7 | 13 | 10 | 16 |  9 | 10 | 16 |  5 | 16 | 11 |  7 | 10 | 16 |  8 | 15 |  6 | 10 | 12 | 12 |  7 |  7 | 13 |  5 | 11 | 15 |  8 | 10 |  6 | \n",
       "\n",
       "\n",
       "\n",
       "$capacity\n",
       ":   1. 48\n",
       "2. 53\n",
       "3. 52\n",
       "4. 52\n",
       "5. 48\n",
       "6. 50\n",
       "7. 53\n",
       "8. 47\n",
       "\n",
       "\n",
       "\n",
       "\n",
       "\n"
      ],
      "text/plain": [
       "$m\n",
       "[1] 8\n",
       "\n",
       "$n\n",
       "[1] 48\n",
       "\n",
       "$cost\n",
       "     [,1] [,2] [,3] [,4] [,5] [,6] [,7] [,8] [,9] [,10] [,11] [,12] [,13] [,14]\n",
       "[1,]   21   25   18   18   21   25   22   18   18    23    17    24    16    21\n",
       "[2,]   19   16   22   23   24   21   18   18   17    17    25    21    24    17\n",
       "[3,]   23   19   16   20   20   18   24   15   24    17    24    21    15    19\n",
       "[4,]   16   16   21   22   20   22   22   19   25    16    18    19    22    19\n",
       "[5,]   16   15   22   23   16   23   20   20   23    16    19    16    18    20\n",
       "[6,]   24   19   21   21   25   24   20   25   21    24    18    21    21    15\n",
       "[7,]   24   23   18   22   25   18   16   21   24    25    18    16    16    23\n",
       "[8,]   15   21   23   24   17   23   23   20   18    17    16    25    16    22\n",
       "     [,15] [,16] [,17] [,18] [,19] [,20] [,21] [,22] [,23] [,24] [,25] [,26]\n",
       "[1,]    24    20    23    24    23    24    19    24    21    20    25    24\n",
       "[2,]    17    22    15    24    18    21    21    23    19    24    19    22\n",
       "[3,]    22    20    20    24    20    16    17    19    18    18    17    24\n",
       "[4,]    18    22    25    20    23    17    18    21    16    20    16    15\n",
       "[5,]    18    22    16    15    22    24    24    21    22    16    19    22\n",
       "[6,]    23    24    18    23    20    25    22    20    17    25    16    22\n",
       "[7,]    25    15    16    19    18    20    19    18    24    18    22    16\n",
       "[8,]    20    17    21    18    17    17    18    24    24    24    24    18\n",
       "     [,27] [,28] [,29] [,30] [,31] [,32] [,33] [,34] [,35] [,36] [,37] [,38]\n",
       "[1,]    22    23    18    25    20    17    17    20    17    17    23    19\n",
       "[2,]    17    18    24    24    21    24    16    21    23    22    19    20\n",
       "[3,]    23    15    16    22    25    24    22    16    25    20    16    20\n",
       "[4,]    21    20    18    16    23    16    22    22    18    22    17    15\n",
       "[5,]    17    20    20    21    15    15    21    16    16    15    15    16\n",
       "[6,]    19    18    22    25    16    16    22    23    22    23    16    21\n",
       "[7,]    25    25    22    18    16    17    15    25    24    23    23    21\n",
       "[8,]    20    21    23    24    19    18    18    19    22    16    23    16\n",
       "     [,39] [,40] [,41] [,42] [,43] [,44] [,45] [,46] [,47] [,48]\n",
       "[1,]    18    15    19    24    24    25    16    23    17    18\n",
       "[2,]    24    20    19    21    24    25    22    15    19    16\n",
       "[3,]    18    15    24    24    15    24    23    24    18    25\n",
       "[4,]    15    18    15    20    15    21    19    23    17    25\n",
       "[5,]    24    25    19    24    22    22    20    19    17    24\n",
       "[6,]    17    21    20    16    15    23    24    24    18    22\n",
       "[7,]    25    22    24    19    16    21    16    15    16    25\n",
       "[8,]    17    22    18    21    24    25    25    22    18    19\n",
       "\n",
       "$resource\n",
       "     [,1] [,2] [,3] [,4] [,5] [,6] [,7] [,8] [,9] [,10] [,11] [,12] [,13] [,14]\n",
       "[1,]    7    6    8    6   13   16    9   14   15     5    10     6    10     7\n",
       "[2,]   10    7    5   10   16   14   15   10   16    15    16    16     5    12\n",
       "[3,]   16    8   13   16   16   11    5   14   10     5    12    13    12    15\n",
       "[4,]   15    7    5    7   14   15   12    6    5     9    13    16    10     6\n",
       "[5,]    8   10    9   14    7   10    7   12   10    13    16     5    14    15\n",
       "[6,]   13    9   11   13    5    8   13    7   10     8    10    11     5    15\n",
       "[7,]   16   15   14   10    8   14    8   11   11     8    11     8    16     8\n",
       "[8,]   12   13    7   14    7   10    5    7    8     5     8     9    10    16\n",
       "     [,15] [,16] [,17] [,18] [,19] [,20] [,21] [,22] [,23] [,24] [,25] [,26]\n",
       "[1,]    11    10    13     7    11    11     9    15    10    11    10    14\n",
       "[2,]    16     6    12    12    10     9    15    11    13     8    12    10\n",
       "[3,]    16     5    16     5    15     6     7     9    13    13    11     9\n",
       "[4,]    15     9    15     5    16     6    11    13    15     8    13     9\n",
       "[5,]     7    12    16    13    11    10     5    10    15    10     8     5\n",
       "[6,]    14     6     8    13     8     8     9    12     6    11    15     6\n",
       "[7,]    12     8    16    12    15    12     6     9    11     5     5     8\n",
       "[8,]     6     5     9     5    15    12     7    13    10    16     9    10\n",
       "     [,27] [,28] [,29] [,30] [,31] [,32] [,33] [,34] [,35] [,36] [,37] [,38]\n",
       "[1,]    16     7    12    12     7    11    15    16    11     8    13    10\n",
       "[2,]    13    14    12    13     9     7     8    14     6    14    15    12\n",
       "[3,]    14    13     8    12     5    13     8     9    14     7    13    14\n",
       "[4,]    12    13    14    15    12    14     8    14     6    12    15     8\n",
       "[5,]     8     7     6     6     6    15     7     6    14    12     9     6\n",
       "[6,]    15     7    16    16    13    16     8    15     7     5    15    11\n",
       "[7,]    16    16     7    14    11     7    11    14    15     8    13    14\n",
       "[8,]    16     5    16    11     7    10    16     8    15     6    10    12\n",
       "     [,39] [,40] [,41] [,42] [,43] [,44] [,45] [,46] [,47] [,48]\n",
       "[1,]     5     7     6     9     6     5    11     9    13    10\n",
       "[2,]    10     9     7     7     9    16     6     5    13    13\n",
       "[3,]     8     9    14    14    12    10    10     5    14     8\n",
       "[4,]    12     5    10     6    14     7    16    14    10     9\n",
       "[5,]     6    16    12    15    15    10     8    16     7     5\n",
       "[6,]    12     5    11    13    12     9    10     7    10    13\n",
       "[7,]    11     7    12    16     6    12     8    15    11    14\n",
       "[8,]    12     7     7    13     5    11    15     8    10     6\n",
       "\n",
       "$capacity\n",
       "[1] 48 53 52 52 48 50 53 47\n"
      ]
     },
     "metadata": {},
     "output_type": "display_data"
    }
   ],
   "source": [
    "(gap8.1 <- ReadGeneralizedAssignment(\"./data/assignment/gap8_1.txt\"))"
   ]
  },
  {
   "cell_type": "code",
   "execution_count": 38,
   "metadata": {},
   "outputs": [],
   "source": [
    "# a <- GeneralizedAssignmentExact(gap8.1)\n",
    "# matrix(a$solution, nrow = gap8.1$m, byrow = TRUE)\n",
    "# a$objval"
   ]
  },
  {
   "cell_type": "code",
   "execution_count": 39,
   "metadata": {},
   "outputs": [
    {
     "data": {
      "text/html": [
       "<dl>\n",
       "\t<dt>$m</dt>\n",
       "\t\t<dd>10</dd>\n",
       "\t<dt>$n</dt>\n",
       "\t\t<dd>60</dd>\n",
       "\t<dt>$cost</dt>\n",
       "\t\t<dd><table>\n",
       "<tbody>\n",
       "\t<tr><td>25</td><td>18</td><td>15</td><td>16</td><td>18</td><td>25</td><td>19</td><td>18</td><td>25</td><td>23</td><td>19</td><td>25</td><td>19</td><td>21</td><td>24</td><td>16</td><td>18</td><td>23</td><td>18</td><td>17</td><td>25</td><td>20</td><td>24</td><td>21</td><td>17</td><td>19</td><td>24</td><td>25</td><td>17</td><td>19</td><td>19</td><td>25</td><td>20</td><td>17</td><td>21</td><td>20</td><td>20</td><td>17</td><td>19</td><td>25</td><td>25</td><td>19</td><td>23</td><td>24</td><td>20</td><td>16</td><td>21</td><td>24</td><td>17</td><td>15</td><td>17</td><td>19</td><td>15</td><td>21</td><td>25</td><td>16</td><td>21</td><td>20</td><td>24</td><td>22</td></tr>\n",
       "\t<tr><td>21</td><td>21</td><td>15</td><td>23</td><td>23</td><td>22</td><td>20</td><td>22</td><td>21</td><td>24</td><td>20</td><td>19</td><td>23</td><td>24</td><td>23</td><td>23</td><td>22</td><td>22</td><td>15</td><td>18</td><td>20</td><td>19</td><td>20</td><td>24</td><td>22</td><td>20</td><td>20</td><td>20</td><td>20</td><td>17</td><td>20</td><td>24</td><td>18</td><td>19</td><td>22</td><td>17</td><td>21</td><td>17</td><td>19</td><td>17</td><td>22</td><td>22</td><td>18</td><td>22</td><td>20</td><td>17</td><td>19</td><td>15</td><td>15</td><td>19</td><td>23</td><td>22</td><td>24</td><td>23</td><td>17</td><td>21</td><td>25</td><td>23</td><td>20</td><td>19</td></tr>\n",
       "\t<tr><td>21</td><td>17</td><td>24</td><td>17</td><td>24</td><td>15</td><td>22</td><td>24</td><td>20</td><td>18</td><td>21</td><td>23</td><td>19</td><td>24</td><td>23</td><td>22</td><td>22</td><td>21</td><td>16</td><td>18</td><td>21</td><td>22</td><td>25</td><td>22</td><td>17</td><td>25</td><td>22</td><td>22</td><td>24</td><td>22</td><td>25</td><td>20</td><td>16</td><td>19</td><td>23</td><td>20</td><td>18</td><td>23</td><td>23</td><td>19</td><td>19</td><td>21</td><td>17</td><td>22</td><td>15</td><td>16</td><td>23</td><td>24</td><td>17</td><td>22</td><td>23</td><td>18</td><td>24</td><td>16</td><td>20</td><td>25</td><td>19</td><td>17</td><td>22</td><td>21</td></tr>\n",
       "\t<tr><td>21</td><td>20</td><td>22</td><td>15</td><td>23</td><td>24</td><td>25</td><td>22</td><td>18</td><td>16</td><td>23</td><td>24</td><td>20</td><td>21</td><td>15</td><td>21</td><td>17</td><td>20</td><td>24</td><td>22</td><td>24</td><td>25</td><td>16</td><td>17</td><td>18</td><td>20</td><td>25</td><td>18</td><td>24</td><td>24</td><td>24</td><td>22</td><td>19</td><td>20</td><td>15</td><td>20</td><td>17</td><td>19</td><td>16</td><td>23</td><td>15</td><td>22</td><td>22</td><td>24</td><td>15</td><td>16</td><td>20</td><td>17</td><td>21</td><td>24</td><td>24</td><td>24</td><td>24</td><td>25</td><td>19</td><td>24</td><td>25</td><td>16</td><td>22</td><td>19</td></tr>\n",
       "\t<tr><td>24</td><td>23</td><td>22</td><td>19</td><td>18</td><td>16</td><td>23</td><td>18</td><td>22</td><td>24</td><td>25</td><td>16</td><td>23</td><td>21</td><td>17</td><td>18</td><td>19</td><td>17</td><td>25</td><td>17</td><td>18</td><td>23</td><td>24</td><td>18</td><td>24</td><td>23</td><td>23</td><td>15</td><td>19</td><td>18</td><td>24</td><td>19</td><td>19</td><td>24</td><td>24</td><td>24</td><td>15</td><td>21</td><td>21</td><td>24</td><td>24</td><td>19</td><td>23</td><td>24</td><td>21</td><td>23</td><td>24</td><td>22</td><td>18</td><td>19</td><td>24</td><td>15</td><td>17</td><td>17</td><td>25</td><td>17</td><td>24</td><td>16</td><td>19</td><td>21</td></tr>\n",
       "\t<tr><td>16</td><td>21</td><td>19</td><td>22</td><td>16</td><td>16</td><td>17</td><td>23</td><td>25</td><td>16</td><td>18</td><td>22</td><td>15</td><td>25</td><td>20</td><td>15</td><td>18</td><td>23</td><td>22</td><td>16</td><td>17</td><td>17</td><td>16</td><td>24</td><td>24</td><td>16</td><td>17</td><td>23</td><td>19</td><td>23</td><td>15</td><td>17</td><td>24</td><td>19</td><td>24</td><td>24</td><td>24</td><td>16</td><td>22</td><td>16</td><td>18</td><td>23</td><td>23</td><td>20</td><td>16</td><td>25</td><td>23</td><td>17</td><td>18</td><td>23</td><td>24</td><td>19</td><td>22</td><td>19</td><td>19</td><td>18</td><td>21</td><td>21</td><td>22</td><td>17</td></tr>\n",
       "\t<tr><td>23</td><td>23</td><td>19</td><td>18</td><td>19</td><td>19</td><td>21</td><td>24</td><td>22</td><td>16</td><td>17</td><td>25</td><td>24</td><td>17</td><td>23</td><td>17</td><td>20</td><td>25</td><td>25</td><td>22</td><td>17</td><td>24</td><td>17</td><td>17</td><td>23</td><td>23</td><td>16</td><td>17</td><td>19</td><td>19</td><td>23</td><td>24</td><td>17</td><td>25</td><td>18</td><td>19</td><td>18</td><td>16</td><td>17</td><td>17</td><td>24</td><td>23</td><td>17</td><td>19</td><td>15</td><td>23</td><td>22</td><td>17</td><td>23</td><td>21</td><td>15</td><td>19</td><td>18</td><td>22</td><td>23</td><td>16</td><td>16</td><td>22</td><td>16</td><td>21</td></tr>\n",
       "\t<tr><td>24</td><td>16</td><td>15</td><td>25</td><td>16</td><td>15</td><td>20</td><td>20</td><td>22</td><td>18</td><td>21</td><td>19</td><td>21</td><td>19</td><td>17</td><td>17</td><td>17</td><td>22</td><td>25</td><td>17</td><td>20</td><td>25</td><td>15</td><td>17</td><td>20</td><td>16</td><td>23</td><td>20</td><td>23</td><td>22</td><td>23</td><td>15</td><td>21</td><td>24</td><td>21</td><td>23</td><td>19</td><td>24</td><td>17</td><td>24</td><td>25</td><td>18</td><td>24</td><td>21</td><td>20</td><td>18</td><td>22</td><td>15</td><td>16</td><td>18</td><td>23</td><td>24</td><td>25</td><td>20</td><td>20</td><td>21</td><td>17</td><td>15</td><td>24</td><td>21</td></tr>\n",
       "\t<tr><td>18</td><td>18</td><td>18</td><td>19</td><td>18</td><td>24</td><td>22</td><td>19</td><td>25</td><td>15</td><td>16</td><td>23</td><td>17</td><td>16</td><td>18</td><td>22</td><td>21</td><td>18</td><td>21</td><td>18</td><td>20</td><td>18</td><td>16</td><td>24</td><td>17</td><td>22</td><td>24</td><td>18</td><td>22</td><td>18</td><td>24</td><td>23</td><td>23</td><td>25</td><td>20</td><td>23</td><td>18</td><td>22</td><td>21</td><td>18</td><td>24</td><td>17</td><td>15</td><td>25</td><td>23</td><td>16</td><td>22</td><td>24</td><td>18</td><td>21</td><td>16</td><td>24</td><td>22</td><td>18</td><td>25</td><td>23</td><td>23</td><td>18</td><td>16</td><td>22</td></tr>\n",
       "\t<tr><td>16</td><td>18</td><td>19</td><td>18</td><td>18</td><td>24</td><td>24</td><td>23</td><td>25</td><td>16</td><td>20</td><td>22</td><td>25</td><td>16</td><td>20</td><td>18</td><td>19</td><td>24</td><td>24</td><td>25</td><td>22</td><td>23</td><td>23</td><td>24</td><td>18</td><td>24</td><td>16</td><td>21</td><td>17</td><td>22</td><td>22</td><td>16</td><td>15</td><td>17</td><td>19</td><td>23</td><td>15</td><td>19</td><td>22</td><td>22</td><td>23</td><td>23</td><td>16</td><td>20</td><td>22</td><td>24</td><td>20</td><td>20</td><td>23</td><td>16</td><td>24</td><td>17</td><td>22</td><td>17</td><td>19</td><td>25</td><td>16</td><td>16</td><td>19</td><td>16</td></tr>\n",
       "</tbody>\n",
       "</table>\n",
       "</dd>\n",
       "\t<dt>$resource</dt>\n",
       "\t\t<dd><table>\n",
       "<tbody>\n",
       "\t<tr><td>17</td><td>25</td><td> 6</td><td>14</td><td>16</td><td>12</td><td>19</td><td>19</td><td> 5</td><td>16</td><td>23</td><td>16</td><td>15</td><td>22</td><td>19</td><td>10</td><td>25</td><td> 7</td><td>24</td><td> 9</td><td> 7</td><td>24</td><td>22</td><td>23</td><td>10</td><td>25</td><td>21</td><td>16</td><td>13</td><td>17</td><td> 9</td><td> 6</td><td>16</td><td>23</td><td>11</td><td>22</td><td>14</td><td>22</td><td> 5</td><td>14</td><td> 9</td><td>19</td><td>24</td><td>16</td><td> 6</td><td>21</td><td>19</td><td>11</td><td>22</td><td>22</td><td>19</td><td>24</td><td>12</td><td>20</td><td>15</td><td>17</td><td>21</td><td>17</td><td>25</td><td>19</td></tr>\n",
       "\t<tr><td> 6</td><td>24</td><td>12</td><td>24</td><td>14</td><td>22</td><td>11</td><td>10</td><td>25</td><td>12</td><td>20</td><td>17</td><td>18</td><td>22</td><td>11</td><td>15</td><td>20</td><td>20</td><td>21</td><td>12</td><td> 5</td><td> 5</td><td>25</td><td>15</td><td>24</td><td>17</td><td> 7</td><td>21</td><td>11</td><td>12</td><td>24</td><td>16</td><td>12</td><td> 5</td><td> 9</td><td>11</td><td>14</td><td> 7</td><td>14</td><td> 9</td><td>13</td><td> 7</td><td>25</td><td>12</td><td> 6</td><td>10</td><td> 7</td><td>15</td><td>13</td><td>22</td><td> 6</td><td>10</td><td> 5</td><td>21</td><td> 5</td><td>16</td><td>16</td><td>13</td><td> 5</td><td>23</td></tr>\n",
       "\t<tr><td>21</td><td>21</td><td> 7</td><td> 5</td><td>20</td><td>16</td><td> 9</td><td>14</td><td>22</td><td>12</td><td> 9</td><td> 8</td><td>14</td><td>17</td><td>22</td><td> 9</td><td>17</td><td> 8</td><td>12</td><td>15</td><td>24</td><td>19</td><td> 6</td><td> 8</td><td>16</td><td>14</td><td>14</td><td>23</td><td>14</td><td>23</td><td> 5</td><td>21</td><td>17</td><td>25</td><td>13</td><td>23</td><td>23</td><td>12</td><td>20</td><td>19</td><td>16</td><td>15</td><td>22</td><td>19</td><td>18</td><td> 7</td><td> 5</td><td>20</td><td>19</td><td> 9</td><td>23</td><td>14</td><td>14</td><td>11</td><td>20</td><td>15</td><td>25</td><td>17</td><td>12</td><td>13</td></tr>\n",
       "\t<tr><td>22</td><td>14</td><td>19</td><td> 7</td><td> 5</td><td>20</td><td>19</td><td> 5</td><td>20</td><td> 7</td><td>12</td><td> 8</td><td>13</td><td>18</td><td>16</td><td> 9</td><td>23</td><td>16</td><td>16</td><td> 9</td><td>25</td><td> 8</td><td>13</td><td>16</td><td> 6</td><td> 8</td><td> 5</td><td>18</td><td>12</td><td> 5</td><td>12</td><td>16</td><td>12</td><td>25</td><td> 5</td><td>24</td><td>23</td><td>23</td><td>25</td><td>22</td><td>17</td><td>17</td><td>21</td><td>24</td><td>16</td><td> 7</td><td>17</td><td> 9</td><td>13</td><td>24</td><td>22</td><td>25</td><td>25</td><td>23</td><td>12</td><td>12</td><td> 8</td><td>24</td><td>14</td><td> 8</td></tr>\n",
       "\t<tr><td>17</td><td>10</td><td>18</td><td>13</td><td>14</td><td>18</td><td> 6</td><td> 6</td><td>11</td><td> 9</td><td>12</td><td>20</td><td>15</td><td>12</td><td>18</td><td>18</td><td>11</td><td> 7</td><td> 9</td><td>25</td><td>13</td><td> 9</td><td>10</td><td> 9</td><td>15</td><td>10</td><td>19</td><td>15</td><td>15</td><td>14</td><td>25</td><td> 6</td><td>12</td><td>21</td><td> 9</td><td>10</td><td>18</td><td>20</td><td>13</td><td>17</td><td>17</td><td>21</td><td>15</td><td> 9</td><td>22</td><td>11</td><td>14</td><td>14</td><td>13</td><td>16</td><td>12</td><td> 5</td><td>14</td><td>18</td><td>24</td><td> 9</td><td>19</td><td>14</td><td> 9</td><td>24</td></tr>\n",
       "\t<tr><td>24</td><td>23</td><td> 6</td><td>13</td><td> 9</td><td>17</td><td>18</td><td>21</td><td>10</td><td>15</td><td>15</td><td>18</td><td>14</td><td>15</td><td>11</td><td>24</td><td>20</td><td>24</td><td>16</td><td>20</td><td>23</td><td>25</td><td> 9</td><td>21</td><td>21</td><td>13</td><td> 9</td><td>24</td><td>12</td><td> 8</td><td>14</td><td>21</td><td>16</td><td>25</td><td>20</td><td>23</td><td> 8</td><td>16</td><td>20</td><td>10</td><td> 5</td><td>16</td><td>11</td><td>20</td><td>10</td><td>11</td><td>21</td><td>15</td><td>12</td><td>12</td><td>21</td><td>10</td><td>19</td><td>18</td><td>10</td><td>25</td><td>23</td><td>16</td><td> 8</td><td>25</td></tr>\n",
       "\t<tr><td> 5</td><td>21</td><td>24</td><td>13</td><td>21</td><td>11</td><td>18</td><td>12</td><td>24</td><td>22</td><td>20</td><td>21</td><td>16</td><td>18</td><td> 8</td><td>25</td><td> 7</td><td>19</td><td>11</td><td>12</td><td>18</td><td> 5</td><td>15</td><td> 7</td><td>12</td><td> 5</td><td>23</td><td>16</td><td>12</td><td> 5</td><td> 8</td><td>24</td><td>25</td><td>10</td><td>13</td><td>24</td><td>22</td><td>20</td><td>12</td><td>16</td><td>18</td><td> 9</td><td>21</td><td>17</td><td>19</td><td> 6</td><td>21</td><td>12</td><td> 6</td><td> 9</td><td>24</td><td>10</td><td> 8</td><td>13</td><td>13</td><td>13</td><td>23</td><td>25</td><td> 8</td><td>22</td></tr>\n",
       "\t<tr><td> 9</td><td>19</td><td>23</td><td> 7</td><td> 5</td><td> 8</td><td>16</td><td>17</td><td>21</td><td>15</td><td>15</td><td>12</td><td>21</td><td>24</td><td>15</td><td> 6</td><td> 7</td><td>11</td><td> 5</td><td>13</td><td>10</td><td>16</td><td>19</td><td> 9</td><td>22</td><td> 8</td><td>21</td><td>17</td><td> 7</td><td> 8</td><td>25</td><td>23</td><td>20</td><td> 8</td><td>14</td><td>16</td><td> 5</td><td>16</td><td> 5</td><td>10</td><td>17</td><td> 6</td><td>18</td><td> 9</td><td>19</td><td> 9</td><td>11</td><td>18</td><td>23</td><td>14</td><td>24</td><td>13</td><td>20</td><td>10</td><td>22</td><td>19</td><td> 6</td><td>15</td><td>18</td><td>15</td></tr>\n",
       "\t<tr><td>23</td><td>15</td><td>16</td><td>20</td><td>19</td><td>23</td><td> 8</td><td>15</td><td>24</td><td>25</td><td>25</td><td> 5</td><td>13</td><td>14</td><td>12</td><td>25</td><td> 5</td><td>11</td><td>23</td><td>24</td><td>18</td><td> 7</td><td>17</td><td>10</td><td>25</td><td>21</td><td>13</td><td>19</td><td>18</td><td> 6</td><td> 8</td><td> 9</td><td>21</td><td>18</td><td> 5</td><td>12</td><td> 8</td><td> 7</td><td>19</td><td>24</td><td> 7</td><td> 9</td><td>22</td><td> 7</td><td> 9</td><td>10</td><td>14</td><td>24</td><td>22</td><td>24</td><td>15</td><td>16</td><td>11</td><td>19</td><td>18</td><td>18</td><td>16</td><td> 8</td><td> 6</td><td> 8</td></tr>\n",
       "\t<tr><td>10</td><td>14</td><td>24</td><td>13</td><td>18</td><td>11</td><td>13</td><td>24</td><td>22</td><td> 7</td><td>12</td><td>17</td><td>23</td><td>12</td><td>15</td><td> 5</td><td> 5</td><td>16</td><td>20</td><td>22</td><td>18</td><td>12</td><td>20</td><td>12</td><td> 9</td><td> 5</td><td> 7</td><td> 6</td><td>25</td><td> 6</td><td> 7</td><td>13</td><td> 7</td><td>23</td><td>21</td><td>21</td><td>18</td><td> 8</td><td>23</td><td> 7</td><td>11</td><td> 9</td><td>15</td><td>19</td><td> 9</td><td>13</td><td>22</td><td>24</td><td>18</td><td>14</td><td>11</td><td>15</td><td>15</td><td>18</td><td>22</td><td>13</td><td>17</td><td>14</td><td>11</td><td>11</td></tr>\n",
       "</tbody>\n",
       "</table>\n",
       "</dd>\n",
       "\t<dt>$capacity</dt>\n",
       "\t\t<dd><ol class=list-inline>\n",
       "\t<li>79</li>\n",
       "\t<li>67</li>\n",
       "\t<li>74</li>\n",
       "\t<li>73</li>\n",
       "\t<li>67</li>\n",
       "\t<li>78</li>\n",
       "\t<li>73</li>\n",
       "\t<li>68</li>\n",
       "\t<li>73</li>\n",
       "\t<li>69</li>\n",
       "</ol>\n",
       "</dd>\n",
       "</dl>\n"
      ],
      "text/latex": [
       "\\begin{description}\n",
       "\\item[\\$m] 10\n",
       "\\item[\\$n] 60\n",
       "\\item[\\$cost] \\begin{tabular}{llllllllllllllllllllllllllllllllllllllllllllllllllllllllllll}\n",
       "\t 25 & 18 & 15 & 16 & 18 & 25 & 19 & 18 & 25 & 23 & 19 & 25 & 19 & 21 & 24 & 16 & 18 & 23 & 18 & 17 & 25 & 20 & 24 & 21 & 17 & 19 & 24 & 25 & 17 & 19 & 19 & 25 & 20 & 17 & 21 & 20 & 20 & 17 & 19 & 25 & 25 & 19 & 23 & 24 & 20 & 16 & 21 & 24 & 17 & 15 & 17 & 19 & 15 & 21 & 25 & 16 & 21 & 20 & 24 & 22\\\\\n",
       "\t 21 & 21 & 15 & 23 & 23 & 22 & 20 & 22 & 21 & 24 & 20 & 19 & 23 & 24 & 23 & 23 & 22 & 22 & 15 & 18 & 20 & 19 & 20 & 24 & 22 & 20 & 20 & 20 & 20 & 17 & 20 & 24 & 18 & 19 & 22 & 17 & 21 & 17 & 19 & 17 & 22 & 22 & 18 & 22 & 20 & 17 & 19 & 15 & 15 & 19 & 23 & 22 & 24 & 23 & 17 & 21 & 25 & 23 & 20 & 19\\\\\n",
       "\t 21 & 17 & 24 & 17 & 24 & 15 & 22 & 24 & 20 & 18 & 21 & 23 & 19 & 24 & 23 & 22 & 22 & 21 & 16 & 18 & 21 & 22 & 25 & 22 & 17 & 25 & 22 & 22 & 24 & 22 & 25 & 20 & 16 & 19 & 23 & 20 & 18 & 23 & 23 & 19 & 19 & 21 & 17 & 22 & 15 & 16 & 23 & 24 & 17 & 22 & 23 & 18 & 24 & 16 & 20 & 25 & 19 & 17 & 22 & 21\\\\\n",
       "\t 21 & 20 & 22 & 15 & 23 & 24 & 25 & 22 & 18 & 16 & 23 & 24 & 20 & 21 & 15 & 21 & 17 & 20 & 24 & 22 & 24 & 25 & 16 & 17 & 18 & 20 & 25 & 18 & 24 & 24 & 24 & 22 & 19 & 20 & 15 & 20 & 17 & 19 & 16 & 23 & 15 & 22 & 22 & 24 & 15 & 16 & 20 & 17 & 21 & 24 & 24 & 24 & 24 & 25 & 19 & 24 & 25 & 16 & 22 & 19\\\\\n",
       "\t 24 & 23 & 22 & 19 & 18 & 16 & 23 & 18 & 22 & 24 & 25 & 16 & 23 & 21 & 17 & 18 & 19 & 17 & 25 & 17 & 18 & 23 & 24 & 18 & 24 & 23 & 23 & 15 & 19 & 18 & 24 & 19 & 19 & 24 & 24 & 24 & 15 & 21 & 21 & 24 & 24 & 19 & 23 & 24 & 21 & 23 & 24 & 22 & 18 & 19 & 24 & 15 & 17 & 17 & 25 & 17 & 24 & 16 & 19 & 21\\\\\n",
       "\t 16 & 21 & 19 & 22 & 16 & 16 & 17 & 23 & 25 & 16 & 18 & 22 & 15 & 25 & 20 & 15 & 18 & 23 & 22 & 16 & 17 & 17 & 16 & 24 & 24 & 16 & 17 & 23 & 19 & 23 & 15 & 17 & 24 & 19 & 24 & 24 & 24 & 16 & 22 & 16 & 18 & 23 & 23 & 20 & 16 & 25 & 23 & 17 & 18 & 23 & 24 & 19 & 22 & 19 & 19 & 18 & 21 & 21 & 22 & 17\\\\\n",
       "\t 23 & 23 & 19 & 18 & 19 & 19 & 21 & 24 & 22 & 16 & 17 & 25 & 24 & 17 & 23 & 17 & 20 & 25 & 25 & 22 & 17 & 24 & 17 & 17 & 23 & 23 & 16 & 17 & 19 & 19 & 23 & 24 & 17 & 25 & 18 & 19 & 18 & 16 & 17 & 17 & 24 & 23 & 17 & 19 & 15 & 23 & 22 & 17 & 23 & 21 & 15 & 19 & 18 & 22 & 23 & 16 & 16 & 22 & 16 & 21\\\\\n",
       "\t 24 & 16 & 15 & 25 & 16 & 15 & 20 & 20 & 22 & 18 & 21 & 19 & 21 & 19 & 17 & 17 & 17 & 22 & 25 & 17 & 20 & 25 & 15 & 17 & 20 & 16 & 23 & 20 & 23 & 22 & 23 & 15 & 21 & 24 & 21 & 23 & 19 & 24 & 17 & 24 & 25 & 18 & 24 & 21 & 20 & 18 & 22 & 15 & 16 & 18 & 23 & 24 & 25 & 20 & 20 & 21 & 17 & 15 & 24 & 21\\\\\n",
       "\t 18 & 18 & 18 & 19 & 18 & 24 & 22 & 19 & 25 & 15 & 16 & 23 & 17 & 16 & 18 & 22 & 21 & 18 & 21 & 18 & 20 & 18 & 16 & 24 & 17 & 22 & 24 & 18 & 22 & 18 & 24 & 23 & 23 & 25 & 20 & 23 & 18 & 22 & 21 & 18 & 24 & 17 & 15 & 25 & 23 & 16 & 22 & 24 & 18 & 21 & 16 & 24 & 22 & 18 & 25 & 23 & 23 & 18 & 16 & 22\\\\\n",
       "\t 16 & 18 & 19 & 18 & 18 & 24 & 24 & 23 & 25 & 16 & 20 & 22 & 25 & 16 & 20 & 18 & 19 & 24 & 24 & 25 & 22 & 23 & 23 & 24 & 18 & 24 & 16 & 21 & 17 & 22 & 22 & 16 & 15 & 17 & 19 & 23 & 15 & 19 & 22 & 22 & 23 & 23 & 16 & 20 & 22 & 24 & 20 & 20 & 23 & 16 & 24 & 17 & 22 & 17 & 19 & 25 & 16 & 16 & 19 & 16\\\\\n",
       "\\end{tabular}\n",
       "\n",
       "\\item[\\$resource] \\begin{tabular}{llllllllllllllllllllllllllllllllllllllllllllllllllllllllllll}\n",
       "\t 17 & 25 &  6 & 14 & 16 & 12 & 19 & 19 &  5 & 16 & 23 & 16 & 15 & 22 & 19 & 10 & 25 &  7 & 24 &  9 &  7 & 24 & 22 & 23 & 10 & 25 & 21 & 16 & 13 & 17 &  9 &  6 & 16 & 23 & 11 & 22 & 14 & 22 &  5 & 14 &  9 & 19 & 24 & 16 &  6 & 21 & 19 & 11 & 22 & 22 & 19 & 24 & 12 & 20 & 15 & 17 & 21 & 17 & 25 & 19\\\\\n",
       "\t  6 & 24 & 12 & 24 & 14 & 22 & 11 & 10 & 25 & 12 & 20 & 17 & 18 & 22 & 11 & 15 & 20 & 20 & 21 & 12 &  5 &  5 & 25 & 15 & 24 & 17 &  7 & 21 & 11 & 12 & 24 & 16 & 12 &  5 &  9 & 11 & 14 &  7 & 14 &  9 & 13 &  7 & 25 & 12 &  6 & 10 &  7 & 15 & 13 & 22 &  6 & 10 &  5 & 21 &  5 & 16 & 16 & 13 &  5 & 23\\\\\n",
       "\t 21 & 21 &  7 &  5 & 20 & 16 &  9 & 14 & 22 & 12 &  9 &  8 & 14 & 17 & 22 &  9 & 17 &  8 & 12 & 15 & 24 & 19 &  6 &  8 & 16 & 14 & 14 & 23 & 14 & 23 &  5 & 21 & 17 & 25 & 13 & 23 & 23 & 12 & 20 & 19 & 16 & 15 & 22 & 19 & 18 &  7 &  5 & 20 & 19 &  9 & 23 & 14 & 14 & 11 & 20 & 15 & 25 & 17 & 12 & 13\\\\\n",
       "\t 22 & 14 & 19 &  7 &  5 & 20 & 19 &  5 & 20 &  7 & 12 &  8 & 13 & 18 & 16 &  9 & 23 & 16 & 16 &  9 & 25 &  8 & 13 & 16 &  6 &  8 &  5 & 18 & 12 &  5 & 12 & 16 & 12 & 25 &  5 & 24 & 23 & 23 & 25 & 22 & 17 & 17 & 21 & 24 & 16 &  7 & 17 &  9 & 13 & 24 & 22 & 25 & 25 & 23 & 12 & 12 &  8 & 24 & 14 &  8\\\\\n",
       "\t 17 & 10 & 18 & 13 & 14 & 18 &  6 &  6 & 11 &  9 & 12 & 20 & 15 & 12 & 18 & 18 & 11 &  7 &  9 & 25 & 13 &  9 & 10 &  9 & 15 & 10 & 19 & 15 & 15 & 14 & 25 &  6 & 12 & 21 &  9 & 10 & 18 & 20 & 13 & 17 & 17 & 21 & 15 &  9 & 22 & 11 & 14 & 14 & 13 & 16 & 12 &  5 & 14 & 18 & 24 &  9 & 19 & 14 &  9 & 24\\\\\n",
       "\t 24 & 23 &  6 & 13 &  9 & 17 & 18 & 21 & 10 & 15 & 15 & 18 & 14 & 15 & 11 & 24 & 20 & 24 & 16 & 20 & 23 & 25 &  9 & 21 & 21 & 13 &  9 & 24 & 12 &  8 & 14 & 21 & 16 & 25 & 20 & 23 &  8 & 16 & 20 & 10 &  5 & 16 & 11 & 20 & 10 & 11 & 21 & 15 & 12 & 12 & 21 & 10 & 19 & 18 & 10 & 25 & 23 & 16 &  8 & 25\\\\\n",
       "\t  5 & 21 & 24 & 13 & 21 & 11 & 18 & 12 & 24 & 22 & 20 & 21 & 16 & 18 &  8 & 25 &  7 & 19 & 11 & 12 & 18 &  5 & 15 &  7 & 12 &  5 & 23 & 16 & 12 &  5 &  8 & 24 & 25 & 10 & 13 & 24 & 22 & 20 & 12 & 16 & 18 &  9 & 21 & 17 & 19 &  6 & 21 & 12 &  6 &  9 & 24 & 10 &  8 & 13 & 13 & 13 & 23 & 25 &  8 & 22\\\\\n",
       "\t  9 & 19 & 23 &  7 &  5 &  8 & 16 & 17 & 21 & 15 & 15 & 12 & 21 & 24 & 15 &  6 &  7 & 11 &  5 & 13 & 10 & 16 & 19 &  9 & 22 &  8 & 21 & 17 &  7 &  8 & 25 & 23 & 20 &  8 & 14 & 16 &  5 & 16 &  5 & 10 & 17 &  6 & 18 &  9 & 19 &  9 & 11 & 18 & 23 & 14 & 24 & 13 & 20 & 10 & 22 & 19 &  6 & 15 & 18 & 15\\\\\n",
       "\t 23 & 15 & 16 & 20 & 19 & 23 &  8 & 15 & 24 & 25 & 25 &  5 & 13 & 14 & 12 & 25 &  5 & 11 & 23 & 24 & 18 &  7 & 17 & 10 & 25 & 21 & 13 & 19 & 18 &  6 &  8 &  9 & 21 & 18 &  5 & 12 &  8 &  7 & 19 & 24 &  7 &  9 & 22 &  7 &  9 & 10 & 14 & 24 & 22 & 24 & 15 & 16 & 11 & 19 & 18 & 18 & 16 &  8 &  6 &  8\\\\\n",
       "\t 10 & 14 & 24 & 13 & 18 & 11 & 13 & 24 & 22 &  7 & 12 & 17 & 23 & 12 & 15 &  5 &  5 & 16 & 20 & 22 & 18 & 12 & 20 & 12 &  9 &  5 &  7 &  6 & 25 &  6 &  7 & 13 &  7 & 23 & 21 & 21 & 18 &  8 & 23 &  7 & 11 &  9 & 15 & 19 &  9 & 13 & 22 & 24 & 18 & 14 & 11 & 15 & 15 & 18 & 22 & 13 & 17 & 14 & 11 & 11\\\\\n",
       "\\end{tabular}\n",
       "\n",
       "\\item[\\$capacity] \\begin{enumerate*}\n",
       "\\item 79\n",
       "\\item 67\n",
       "\\item 74\n",
       "\\item 73\n",
       "\\item 67\n",
       "\\item 78\n",
       "\\item 73\n",
       "\\item 68\n",
       "\\item 73\n",
       "\\item 69\n",
       "\\end{enumerate*}\n",
       "\n",
       "\\end{description}\n"
      ],
      "text/markdown": [
       "$m\n",
       ":   10\n",
       "$n\n",
       ":   60\n",
       "$cost\n",
       ":   \n",
       "| 25 | 18 | 15 | 16 | 18 | 25 | 19 | 18 | 25 | 23 | 19 | 25 | 19 | 21 | 24 | 16 | 18 | 23 | 18 | 17 | 25 | 20 | 24 | 21 | 17 | 19 | 24 | 25 | 17 | 19 | 19 | 25 | 20 | 17 | 21 | 20 | 20 | 17 | 19 | 25 | 25 | 19 | 23 | 24 | 20 | 16 | 21 | 24 | 17 | 15 | 17 | 19 | 15 | 21 | 25 | 16 | 21 | 20 | 24 | 22 | \n",
       "| 21 | 21 | 15 | 23 | 23 | 22 | 20 | 22 | 21 | 24 | 20 | 19 | 23 | 24 | 23 | 23 | 22 | 22 | 15 | 18 | 20 | 19 | 20 | 24 | 22 | 20 | 20 | 20 | 20 | 17 | 20 | 24 | 18 | 19 | 22 | 17 | 21 | 17 | 19 | 17 | 22 | 22 | 18 | 22 | 20 | 17 | 19 | 15 | 15 | 19 | 23 | 22 | 24 | 23 | 17 | 21 | 25 | 23 | 20 | 19 | \n",
       "| 21 | 17 | 24 | 17 | 24 | 15 | 22 | 24 | 20 | 18 | 21 | 23 | 19 | 24 | 23 | 22 | 22 | 21 | 16 | 18 | 21 | 22 | 25 | 22 | 17 | 25 | 22 | 22 | 24 | 22 | 25 | 20 | 16 | 19 | 23 | 20 | 18 | 23 | 23 | 19 | 19 | 21 | 17 | 22 | 15 | 16 | 23 | 24 | 17 | 22 | 23 | 18 | 24 | 16 | 20 | 25 | 19 | 17 | 22 | 21 | \n",
       "| 21 | 20 | 22 | 15 | 23 | 24 | 25 | 22 | 18 | 16 | 23 | 24 | 20 | 21 | 15 | 21 | 17 | 20 | 24 | 22 | 24 | 25 | 16 | 17 | 18 | 20 | 25 | 18 | 24 | 24 | 24 | 22 | 19 | 20 | 15 | 20 | 17 | 19 | 16 | 23 | 15 | 22 | 22 | 24 | 15 | 16 | 20 | 17 | 21 | 24 | 24 | 24 | 24 | 25 | 19 | 24 | 25 | 16 | 22 | 19 | \n",
       "| 24 | 23 | 22 | 19 | 18 | 16 | 23 | 18 | 22 | 24 | 25 | 16 | 23 | 21 | 17 | 18 | 19 | 17 | 25 | 17 | 18 | 23 | 24 | 18 | 24 | 23 | 23 | 15 | 19 | 18 | 24 | 19 | 19 | 24 | 24 | 24 | 15 | 21 | 21 | 24 | 24 | 19 | 23 | 24 | 21 | 23 | 24 | 22 | 18 | 19 | 24 | 15 | 17 | 17 | 25 | 17 | 24 | 16 | 19 | 21 | \n",
       "| 16 | 21 | 19 | 22 | 16 | 16 | 17 | 23 | 25 | 16 | 18 | 22 | 15 | 25 | 20 | 15 | 18 | 23 | 22 | 16 | 17 | 17 | 16 | 24 | 24 | 16 | 17 | 23 | 19 | 23 | 15 | 17 | 24 | 19 | 24 | 24 | 24 | 16 | 22 | 16 | 18 | 23 | 23 | 20 | 16 | 25 | 23 | 17 | 18 | 23 | 24 | 19 | 22 | 19 | 19 | 18 | 21 | 21 | 22 | 17 | \n",
       "| 23 | 23 | 19 | 18 | 19 | 19 | 21 | 24 | 22 | 16 | 17 | 25 | 24 | 17 | 23 | 17 | 20 | 25 | 25 | 22 | 17 | 24 | 17 | 17 | 23 | 23 | 16 | 17 | 19 | 19 | 23 | 24 | 17 | 25 | 18 | 19 | 18 | 16 | 17 | 17 | 24 | 23 | 17 | 19 | 15 | 23 | 22 | 17 | 23 | 21 | 15 | 19 | 18 | 22 | 23 | 16 | 16 | 22 | 16 | 21 | \n",
       "| 24 | 16 | 15 | 25 | 16 | 15 | 20 | 20 | 22 | 18 | 21 | 19 | 21 | 19 | 17 | 17 | 17 | 22 | 25 | 17 | 20 | 25 | 15 | 17 | 20 | 16 | 23 | 20 | 23 | 22 | 23 | 15 | 21 | 24 | 21 | 23 | 19 | 24 | 17 | 24 | 25 | 18 | 24 | 21 | 20 | 18 | 22 | 15 | 16 | 18 | 23 | 24 | 25 | 20 | 20 | 21 | 17 | 15 | 24 | 21 | \n",
       "| 18 | 18 | 18 | 19 | 18 | 24 | 22 | 19 | 25 | 15 | 16 | 23 | 17 | 16 | 18 | 22 | 21 | 18 | 21 | 18 | 20 | 18 | 16 | 24 | 17 | 22 | 24 | 18 | 22 | 18 | 24 | 23 | 23 | 25 | 20 | 23 | 18 | 22 | 21 | 18 | 24 | 17 | 15 | 25 | 23 | 16 | 22 | 24 | 18 | 21 | 16 | 24 | 22 | 18 | 25 | 23 | 23 | 18 | 16 | 22 | \n",
       "| 16 | 18 | 19 | 18 | 18 | 24 | 24 | 23 | 25 | 16 | 20 | 22 | 25 | 16 | 20 | 18 | 19 | 24 | 24 | 25 | 22 | 23 | 23 | 24 | 18 | 24 | 16 | 21 | 17 | 22 | 22 | 16 | 15 | 17 | 19 | 23 | 15 | 19 | 22 | 22 | 23 | 23 | 16 | 20 | 22 | 24 | 20 | 20 | 23 | 16 | 24 | 17 | 22 | 17 | 19 | 25 | 16 | 16 | 19 | 16 | \n",
       "\n",
       "\n",
       "\n",
       "$resource\n",
       ":   \n",
       "| 17 | 25 |  6 | 14 | 16 | 12 | 19 | 19 |  5 | 16 | 23 | 16 | 15 | 22 | 19 | 10 | 25 |  7 | 24 |  9 |  7 | 24 | 22 | 23 | 10 | 25 | 21 | 16 | 13 | 17 |  9 |  6 | 16 | 23 | 11 | 22 | 14 | 22 |  5 | 14 |  9 | 19 | 24 | 16 |  6 | 21 | 19 | 11 | 22 | 22 | 19 | 24 | 12 | 20 | 15 | 17 | 21 | 17 | 25 | 19 | \n",
       "|  6 | 24 | 12 | 24 | 14 | 22 | 11 | 10 | 25 | 12 | 20 | 17 | 18 | 22 | 11 | 15 | 20 | 20 | 21 | 12 |  5 |  5 | 25 | 15 | 24 | 17 |  7 | 21 | 11 | 12 | 24 | 16 | 12 |  5 |  9 | 11 | 14 |  7 | 14 |  9 | 13 |  7 | 25 | 12 |  6 | 10 |  7 | 15 | 13 | 22 |  6 | 10 |  5 | 21 |  5 | 16 | 16 | 13 |  5 | 23 | \n",
       "| 21 | 21 |  7 |  5 | 20 | 16 |  9 | 14 | 22 | 12 |  9 |  8 | 14 | 17 | 22 |  9 | 17 |  8 | 12 | 15 | 24 | 19 |  6 |  8 | 16 | 14 | 14 | 23 | 14 | 23 |  5 | 21 | 17 | 25 | 13 | 23 | 23 | 12 | 20 | 19 | 16 | 15 | 22 | 19 | 18 |  7 |  5 | 20 | 19 |  9 | 23 | 14 | 14 | 11 | 20 | 15 | 25 | 17 | 12 | 13 | \n",
       "| 22 | 14 | 19 |  7 |  5 | 20 | 19 |  5 | 20 |  7 | 12 |  8 | 13 | 18 | 16 |  9 | 23 | 16 | 16 |  9 | 25 |  8 | 13 | 16 |  6 |  8 |  5 | 18 | 12 |  5 | 12 | 16 | 12 | 25 |  5 | 24 | 23 | 23 | 25 | 22 | 17 | 17 | 21 | 24 | 16 |  7 | 17 |  9 | 13 | 24 | 22 | 25 | 25 | 23 | 12 | 12 |  8 | 24 | 14 |  8 | \n",
       "| 17 | 10 | 18 | 13 | 14 | 18 |  6 |  6 | 11 |  9 | 12 | 20 | 15 | 12 | 18 | 18 | 11 |  7 |  9 | 25 | 13 |  9 | 10 |  9 | 15 | 10 | 19 | 15 | 15 | 14 | 25 |  6 | 12 | 21 |  9 | 10 | 18 | 20 | 13 | 17 | 17 | 21 | 15 |  9 | 22 | 11 | 14 | 14 | 13 | 16 | 12 |  5 | 14 | 18 | 24 |  9 | 19 | 14 |  9 | 24 | \n",
       "| 24 | 23 |  6 | 13 |  9 | 17 | 18 | 21 | 10 | 15 | 15 | 18 | 14 | 15 | 11 | 24 | 20 | 24 | 16 | 20 | 23 | 25 |  9 | 21 | 21 | 13 |  9 | 24 | 12 |  8 | 14 | 21 | 16 | 25 | 20 | 23 |  8 | 16 | 20 | 10 |  5 | 16 | 11 | 20 | 10 | 11 | 21 | 15 | 12 | 12 | 21 | 10 | 19 | 18 | 10 | 25 | 23 | 16 |  8 | 25 | \n",
       "|  5 | 21 | 24 | 13 | 21 | 11 | 18 | 12 | 24 | 22 | 20 | 21 | 16 | 18 |  8 | 25 |  7 | 19 | 11 | 12 | 18 |  5 | 15 |  7 | 12 |  5 | 23 | 16 | 12 |  5 |  8 | 24 | 25 | 10 | 13 | 24 | 22 | 20 | 12 | 16 | 18 |  9 | 21 | 17 | 19 |  6 | 21 | 12 |  6 |  9 | 24 | 10 |  8 | 13 | 13 | 13 | 23 | 25 |  8 | 22 | \n",
       "|  9 | 19 | 23 |  7 |  5 |  8 | 16 | 17 | 21 | 15 | 15 | 12 | 21 | 24 | 15 |  6 |  7 | 11 |  5 | 13 | 10 | 16 | 19 |  9 | 22 |  8 | 21 | 17 |  7 |  8 | 25 | 23 | 20 |  8 | 14 | 16 |  5 | 16 |  5 | 10 | 17 |  6 | 18 |  9 | 19 |  9 | 11 | 18 | 23 | 14 | 24 | 13 | 20 | 10 | 22 | 19 |  6 | 15 | 18 | 15 | \n",
       "| 23 | 15 | 16 | 20 | 19 | 23 |  8 | 15 | 24 | 25 | 25 |  5 | 13 | 14 | 12 | 25 |  5 | 11 | 23 | 24 | 18 |  7 | 17 | 10 | 25 | 21 | 13 | 19 | 18 |  6 |  8 |  9 | 21 | 18 |  5 | 12 |  8 |  7 | 19 | 24 |  7 |  9 | 22 |  7 |  9 | 10 | 14 | 24 | 22 | 24 | 15 | 16 | 11 | 19 | 18 | 18 | 16 |  8 |  6 |  8 | \n",
       "| 10 | 14 | 24 | 13 | 18 | 11 | 13 | 24 | 22 |  7 | 12 | 17 | 23 | 12 | 15 |  5 |  5 | 16 | 20 | 22 | 18 | 12 | 20 | 12 |  9 |  5 |  7 |  6 | 25 |  6 |  7 | 13 |  7 | 23 | 21 | 21 | 18 |  8 | 23 |  7 | 11 |  9 | 15 | 19 |  9 | 13 | 22 | 24 | 18 | 14 | 11 | 15 | 15 | 18 | 22 | 13 | 17 | 14 | 11 | 11 | \n",
       "\n",
       "\n",
       "\n",
       "$capacity\n",
       ":   1. 79\n",
       "2. 67\n",
       "3. 74\n",
       "4. 73\n",
       "5. 67\n",
       "6. 78\n",
       "7. 73\n",
       "8. 68\n",
       "9. 73\n",
       "10. 69\n",
       "\n",
       "\n",
       "\n",
       "\n",
       "\n"
      ],
      "text/plain": [
       "$m\n",
       "[1] 10\n",
       "\n",
       "$n\n",
       "[1] 60\n",
       "\n",
       "$cost\n",
       "      [,1] [,2] [,3] [,4] [,5] [,6] [,7] [,8] [,9] [,10] [,11] [,12] [,13]\n",
       " [1,]   25   18   15   16   18   25   19   18   25    23    19    25    19\n",
       " [2,]   21   21   15   23   23   22   20   22   21    24    20    19    23\n",
       " [3,]   21   17   24   17   24   15   22   24   20    18    21    23    19\n",
       " [4,]   21   20   22   15   23   24   25   22   18    16    23    24    20\n",
       " [5,]   24   23   22   19   18   16   23   18   22    24    25    16    23\n",
       " [6,]   16   21   19   22   16   16   17   23   25    16    18    22    15\n",
       " [7,]   23   23   19   18   19   19   21   24   22    16    17    25    24\n",
       " [8,]   24   16   15   25   16   15   20   20   22    18    21    19    21\n",
       " [9,]   18   18   18   19   18   24   22   19   25    15    16    23    17\n",
       "[10,]   16   18   19   18   18   24   24   23   25    16    20    22    25\n",
       "      [,14] [,15] [,16] [,17] [,18] [,19] [,20] [,21] [,22] [,23] [,24] [,25]\n",
       " [1,]    21    24    16    18    23    18    17    25    20    24    21    17\n",
       " [2,]    24    23    23    22    22    15    18    20    19    20    24    22\n",
       " [3,]    24    23    22    22    21    16    18    21    22    25    22    17\n",
       " [4,]    21    15    21    17    20    24    22    24    25    16    17    18\n",
       " [5,]    21    17    18    19    17    25    17    18    23    24    18    24\n",
       " [6,]    25    20    15    18    23    22    16    17    17    16    24    24\n",
       " [7,]    17    23    17    20    25    25    22    17    24    17    17    23\n",
       " [8,]    19    17    17    17    22    25    17    20    25    15    17    20\n",
       " [9,]    16    18    22    21    18    21    18    20    18    16    24    17\n",
       "[10,]    16    20    18    19    24    24    25    22    23    23    24    18\n",
       "      [,26] [,27] [,28] [,29] [,30] [,31] [,32] [,33] [,34] [,35] [,36] [,37]\n",
       " [1,]    19    24    25    17    19    19    25    20    17    21    20    20\n",
       " [2,]    20    20    20    20    17    20    24    18    19    22    17    21\n",
       " [3,]    25    22    22    24    22    25    20    16    19    23    20    18\n",
       " [4,]    20    25    18    24    24    24    22    19    20    15    20    17\n",
       " [5,]    23    23    15    19    18    24    19    19    24    24    24    15\n",
       " [6,]    16    17    23    19    23    15    17    24    19    24    24    24\n",
       " [7,]    23    16    17    19    19    23    24    17    25    18    19    18\n",
       " [8,]    16    23    20    23    22    23    15    21    24    21    23    19\n",
       " [9,]    22    24    18    22    18    24    23    23    25    20    23    18\n",
       "[10,]    24    16    21    17    22    22    16    15    17    19    23    15\n",
       "      [,38] [,39] [,40] [,41] [,42] [,43] [,44] [,45] [,46] [,47] [,48] [,49]\n",
       " [1,]    17    19    25    25    19    23    24    20    16    21    24    17\n",
       " [2,]    17    19    17    22    22    18    22    20    17    19    15    15\n",
       " [3,]    23    23    19    19    21    17    22    15    16    23    24    17\n",
       " [4,]    19    16    23    15    22    22    24    15    16    20    17    21\n",
       " [5,]    21    21    24    24    19    23    24    21    23    24    22    18\n",
       " [6,]    16    22    16    18    23    23    20    16    25    23    17    18\n",
       " [7,]    16    17    17    24    23    17    19    15    23    22    17    23\n",
       " [8,]    24    17    24    25    18    24    21    20    18    22    15    16\n",
       " [9,]    22    21    18    24    17    15    25    23    16    22    24    18\n",
       "[10,]    19    22    22    23    23    16    20    22    24    20    20    23\n",
       "      [,50] [,51] [,52] [,53] [,54] [,55] [,56] [,57] [,58] [,59] [,60]\n",
       " [1,]    15    17    19    15    21    25    16    21    20    24    22\n",
       " [2,]    19    23    22    24    23    17    21    25    23    20    19\n",
       " [3,]    22    23    18    24    16    20    25    19    17    22    21\n",
       " [4,]    24    24    24    24    25    19    24    25    16    22    19\n",
       " [5,]    19    24    15    17    17    25    17    24    16    19    21\n",
       " [6,]    23    24    19    22    19    19    18    21    21    22    17\n",
       " [7,]    21    15    19    18    22    23    16    16    22    16    21\n",
       " [8,]    18    23    24    25    20    20    21    17    15    24    21\n",
       " [9,]    21    16    24    22    18    25    23    23    18    16    22\n",
       "[10,]    16    24    17    22    17    19    25    16    16    19    16\n",
       "\n",
       "$resource\n",
       "      [,1] [,2] [,3] [,4] [,5] [,6] [,7] [,8] [,9] [,10] [,11] [,12] [,13]\n",
       " [1,]   17   25    6   14   16   12   19   19    5    16    23    16    15\n",
       " [2,]    6   24   12   24   14   22   11   10   25    12    20    17    18\n",
       " [3,]   21   21    7    5   20   16    9   14   22    12     9     8    14\n",
       " [4,]   22   14   19    7    5   20   19    5   20     7    12     8    13\n",
       " [5,]   17   10   18   13   14   18    6    6   11     9    12    20    15\n",
       " [6,]   24   23    6   13    9   17   18   21   10    15    15    18    14\n",
       " [7,]    5   21   24   13   21   11   18   12   24    22    20    21    16\n",
       " [8,]    9   19   23    7    5    8   16   17   21    15    15    12    21\n",
       " [9,]   23   15   16   20   19   23    8   15   24    25    25     5    13\n",
       "[10,]   10   14   24   13   18   11   13   24   22     7    12    17    23\n",
       "      [,14] [,15] [,16] [,17] [,18] [,19] [,20] [,21] [,22] [,23] [,24] [,25]\n",
       " [1,]    22    19    10    25     7    24     9     7    24    22    23    10\n",
       " [2,]    22    11    15    20    20    21    12     5     5    25    15    24\n",
       " [3,]    17    22     9    17     8    12    15    24    19     6     8    16\n",
       " [4,]    18    16     9    23    16    16     9    25     8    13    16     6\n",
       " [5,]    12    18    18    11     7     9    25    13     9    10     9    15\n",
       " [6,]    15    11    24    20    24    16    20    23    25     9    21    21\n",
       " [7,]    18     8    25     7    19    11    12    18     5    15     7    12\n",
       " [8,]    24    15     6     7    11     5    13    10    16    19     9    22\n",
       " [9,]    14    12    25     5    11    23    24    18     7    17    10    25\n",
       "[10,]    12    15     5     5    16    20    22    18    12    20    12     9\n",
       "      [,26] [,27] [,28] [,29] [,30] [,31] [,32] [,33] [,34] [,35] [,36] [,37]\n",
       " [1,]    25    21    16    13    17     9     6    16    23    11    22    14\n",
       " [2,]    17     7    21    11    12    24    16    12     5     9    11    14\n",
       " [3,]    14    14    23    14    23     5    21    17    25    13    23    23\n",
       " [4,]     8     5    18    12     5    12    16    12    25     5    24    23\n",
       " [5,]    10    19    15    15    14    25     6    12    21     9    10    18\n",
       " [6,]    13     9    24    12     8    14    21    16    25    20    23     8\n",
       " [7,]     5    23    16    12     5     8    24    25    10    13    24    22\n",
       " [8,]     8    21    17     7     8    25    23    20     8    14    16     5\n",
       " [9,]    21    13    19    18     6     8     9    21    18     5    12     8\n",
       "[10,]     5     7     6    25     6     7    13     7    23    21    21    18\n",
       "      [,38] [,39] [,40] [,41] [,42] [,43] [,44] [,45] [,46] [,47] [,48] [,49]\n",
       " [1,]    22     5    14     9    19    24    16     6    21    19    11    22\n",
       " [2,]     7    14     9    13     7    25    12     6    10     7    15    13\n",
       " [3,]    12    20    19    16    15    22    19    18     7     5    20    19\n",
       " [4,]    23    25    22    17    17    21    24    16     7    17     9    13\n",
       " [5,]    20    13    17    17    21    15     9    22    11    14    14    13\n",
       " [6,]    16    20    10     5    16    11    20    10    11    21    15    12\n",
       " [7,]    20    12    16    18     9    21    17    19     6    21    12     6\n",
       " [8,]    16     5    10    17     6    18     9    19     9    11    18    23\n",
       " [9,]     7    19    24     7     9    22     7     9    10    14    24    22\n",
       "[10,]     8    23     7    11     9    15    19     9    13    22    24    18\n",
       "      [,50] [,51] [,52] [,53] [,54] [,55] [,56] [,57] [,58] [,59] [,60]\n",
       " [1,]    22    19    24    12    20    15    17    21    17    25    19\n",
       " [2,]    22     6    10     5    21     5    16    16    13     5    23\n",
       " [3,]     9    23    14    14    11    20    15    25    17    12    13\n",
       " [4,]    24    22    25    25    23    12    12     8    24    14     8\n",
       " [5,]    16    12     5    14    18    24     9    19    14     9    24\n",
       " [6,]    12    21    10    19    18    10    25    23    16     8    25\n",
       " [7,]     9    24    10     8    13    13    13    23    25     8    22\n",
       " [8,]    14    24    13    20    10    22    19     6    15    18    15\n",
       " [9,]    24    15    16    11    19    18    18    16     8     6     8\n",
       "[10,]    14    11    15    15    18    22    13    17    14    11    11\n",
       "\n",
       "$capacity\n",
       " [1] 79 67 74 73 67 78 73 68 73 69\n"
      ]
     },
     "metadata": {},
     "output_type": "display_data"
    }
   ],
   "source": [
    "(gap12.1 <- ReadGeneralizedAssignment(\"./data/assignment/gap12_1.txt\"))"
   ]
  },
  {
   "cell_type": "code",
   "execution_count": 40,
   "metadata": {},
   "outputs": [],
   "source": [
    "# a <- GeneralizedAssignmentExact(gap12.1)\n",
    "# matrix(a$solution, nrow = gap12.1$m, byrow = TRUE)\n",
    "# a$objval"
   ]
  },
  {
   "cell_type": "markdown",
   "metadata": {},
   "source": [
    "## Problema de la Mochila"
   ]
  },
  {
   "cell_type": "markdown",
   "metadata": {},
   "source": [
    "#### Descripción:\n",
    "TODO"
   ]
  },
  {
   "cell_type": "markdown",
   "metadata": {},
   "source": [
    "### Mochila Simple"
   ]
  },
  {
   "cell_type": "markdown",
   "metadata": {},
   "source": [
    "#### Descripción:\n",
    "TODO"
   ]
  },
  {
   "cell_type": "markdown",
   "metadata": {},
   "source": [
    "#### Modelo:\n",
    "TODO"
   ]
  },
  {
   "cell_type": "code",
   "execution_count": 41,
   "metadata": {},
   "outputs": [],
   "source": [
    "KnapsackSimpleExact <- function(object, capacity) {\n",
    "    \n",
    "}"
   ]
  },
  {
   "cell_type": "markdown",
   "metadata": {},
   "source": [
    "#### Heurísticas:\n",
    "TODO"
   ]
  },
  {
   "cell_type": "code",
   "execution_count": 42,
   "metadata": {},
   "outputs": [],
   "source": [
    "KnapsackSimpleGreedy <- function(object, capacity) {\n",
    "    \n",
    "}"
   ]
  },
  {
   "cell_type": "markdown",
   "metadata": {},
   "source": [
    "### Mochila Múltiple"
   ]
  },
  {
   "cell_type": "markdown",
   "metadata": {},
   "source": [
    "#### Descripción:\n",
    "TODO"
   ]
  },
  {
   "cell_type": "markdown",
   "metadata": {},
   "source": [
    "#### Modelo:\n",
    "TODO"
   ]
  },
  {
   "cell_type": "code",
   "execution_count": 43,
   "metadata": {},
   "outputs": [],
   "source": [
    "KnapsackMultipleExact <- function(object, capacity) {\n",
    "    \n",
    "}"
   ]
  },
  {
   "cell_type": "markdown",
   "metadata": {},
   "source": [
    "#### Heurísticas:\n",
    "TODO"
   ]
  },
  {
   "cell_type": "code",
   "execution_count": 44,
   "metadata": {},
   "outputs": [],
   "source": [
    "KnapsackMultipleGreedy <- function(object, capacity) {\n",
    "    \n",
    "}"
   ]
  },
  {
   "cell_type": "markdown",
   "metadata": {},
   "source": [
    "### Mochila Multidimensional"
   ]
  },
  {
   "cell_type": "markdown",
   "metadata": {},
   "source": [
    "#### Descripción:\n",
    "TODO"
   ]
  },
  {
   "cell_type": "markdown",
   "metadata": {},
   "source": [
    "#### Modelo:\n",
    "TODO"
   ]
  },
  {
   "cell_type": "code",
   "execution_count": 45,
   "metadata": {},
   "outputs": [],
   "source": [
    "KnapsackMultidimensionalExact <- function(object, capacity, ...) {\n",
    "    n <- length(object$value)\n",
    "    m <- length(capacity)    \n",
    "    return(Solve(\"max\", object$value, t(object$weight), capacity, all.bin = TRUE, ...))\n",
    "}"
   ]
  },
  {
   "cell_type": "markdown",
   "metadata": {},
   "source": [
    "#### Heurísticas:\n",
    "TODO"
   ]
  },
  {
   "cell_type": "code",
   "execution_count": 46,
   "metadata": {},
   "outputs": [],
   "source": [
    "KnapsackMultidimensionalGreedy <- function(object, capacity) {\n",
    "    \n",
    "}"
   ]
  },
  {
   "cell_type": "markdown",
   "metadata": {},
   "source": [
    "### Ejemplos"
   ]
  },
  {
   "cell_type": "code",
   "execution_count": 47,
   "metadata": {},
   "outputs": [
    {
     "data": {
      "text/html": [
       "<dl>\n",
       "\t<dt>$object</dt>\n",
       "\t\t<dd><dl>\n",
       "\t<dt>$value</dt>\n",
       "\t\t<dd><ol class=list-inline>\n",
       "\t<li>12</li>\n",
       "\t<li>13</li>\n",
       "\t<li>15</li>\n",
       "\t<li>10</li>\n",
       "</ol>\n",
       "</dd>\n",
       "\t<dt>$weight</dt>\n",
       "\t\t<dd><table>\n",
       "<tbody>\n",
       "\t<tr><td>0.5</td><td>0.3</td><td>0.2</td></tr>\n",
       "\t<tr><td>1.0</td><td>0.8</td><td>0.2</td></tr>\n",
       "\t<tr><td>1.5</td><td>1.5</td><td>0.1</td></tr>\n",
       "\t<tr><td>3.1</td><td>2.5</td><td>0.4</td></tr>\n",
       "</tbody>\n",
       "</table>\n",
       "</dd>\n",
       "</dl>\n",
       "</dd>\n",
       "\t<dt>$capacity</dt>\n",
       "\t\t<dd><ol class=list-inline>\n",
       "\t<li>3.1</li>\n",
       "\t<li>2.5</li>\n",
       "\t<li>0.4</li>\n",
       "</ol>\n",
       "</dd>\n",
       "</dl>\n"
      ],
      "text/latex": [
       "\\begin{description}\n",
       "\\item[\\$object] \\begin{description}\n",
       "\\item[\\$value] \\begin{enumerate*}\n",
       "\\item 12\n",
       "\\item 13\n",
       "\\item 15\n",
       "\\item 10\n",
       "\\end{enumerate*}\n",
       "\n",
       "\\item[\\$weight] \\begin{tabular}{lll}\n",
       "\t 0.5 & 0.3 & 0.2\\\\\n",
       "\t 1.0 & 0.8 & 0.2\\\\\n",
       "\t 1.5 & 1.5 & 0.1\\\\\n",
       "\t 3.1 & 2.5 & 0.4\\\\\n",
       "\\end{tabular}\n",
       "\n",
       "\\end{description}\n",
       "\n",
       "\\item[\\$capacity] \\begin{enumerate*}\n",
       "\\item 3.1\n",
       "\\item 2.5\n",
       "\\item 0.4\n",
       "\\end{enumerate*}\n",
       "\n",
       "\\end{description}\n"
      ],
      "text/markdown": [
       "$object\n",
       ":   $value\n",
       ":   1. 12\n",
       "2. 13\n",
       "3. 15\n",
       "4. 10\n",
       "\n",
       "\n",
       "\n",
       "$weight\n",
       ":   \n",
       "| 0.5 | 0.3 | 0.2 | \n",
       "| 1.0 | 0.8 | 0.2 | \n",
       "| 1.5 | 1.5 | 0.1 | \n",
       "| 3.1 | 2.5 | 0.4 | \n",
       "\n",
       "\n",
       "\n",
       "\n",
       "\n",
       "\n",
       "$capacity\n",
       ":   1. 3.1\n",
       "2. 2.5\n",
       "3. 0.4\n",
       "\n",
       "\n",
       "\n",
       "\n",
       "\n"
      ],
      "text/plain": [
       "$object\n",
       "$object$value\n",
       "[1] 12 13 15 10\n",
       "\n",
       "$object$weight\n",
       "     [,1] [,2] [,3]\n",
       "[1,]  0.5  0.3  0.2\n",
       "[2,]  1.0  0.8  0.2\n",
       "[3,]  1.5  1.5  0.1\n",
       "[4,]  3.1  2.5  0.4\n",
       "\n",
       "\n",
       "$capacity\n",
       "[1] 3.1 2.5 0.4\n"
      ]
     },
     "metadata": {},
     "output_type": "display_data"
    }
   ],
   "source": [
    "(knapsack.multidimensional.problem.1 <- list(\n",
    "    object = list(\n",
    "        value = c(12, 13, 15, 10),\n",
    "        weight = matrix(c(0.5, 0.3, 0.2,\n",
    "                          1.0, 0.8, 0.2,\n",
    "                          1.5, 1.5, 0.1,\n",
    "                          3.1, 2.5, 0.4), nrow = 4, byrow = TRUE) \n",
    "    ),\n",
    "    capacity = c(3.1, 2.5, 0.4)\n",
    "))"
   ]
  },
  {
   "cell_type": "code",
   "execution_count": 48,
   "metadata": {},
   "outputs": [
    {
     "data": {
      "text/html": [
       "<table>\n",
       "<tbody>\n",
       "\t<tr><td>0</td><td>1</td><td>1</td><td>0</td></tr>\n",
       "</tbody>\n",
       "</table>\n"
      ],
      "text/latex": [
       "\\begin{tabular}{llll}\n",
       "\t 0 & 1 & 1 & 0\\\\\n",
       "\\end{tabular}\n"
      ],
      "text/markdown": [
       "\n",
       "| 0 | 1 | 1 | 0 | \n",
       "\n",
       "\n"
      ],
      "text/plain": [
       "     [,1] [,2] [,3] [,4]\n",
       "[1,] 0    1    1    0   "
      ]
     },
     "metadata": {},
     "output_type": "display_data"
    },
    {
     "data": {
      "text/html": [
       "28"
      ],
      "text/latex": [
       "28"
      ],
      "text/markdown": [
       "28"
      ],
      "text/plain": [
       "[1] 28"
      ]
     },
     "metadata": {},
     "output_type": "display_data"
    }
   ],
   "source": [
    "a <- KnapsackMultidimensionalExact(\n",
    "    knapsack.multidimensional.problem.1$object, \n",
    "    knapsack.multidimensional.problem.1$capacity\n",
    ")\n",
    "matrix(a$solution, nrow = 1, byrow = TRUE)\n",
    "a$objval"
   ]
  }
 ],
 "metadata": {
  "kernelspec": {
   "display_name": "R",
   "language": "R",
   "name": "ir"
  },
  "language_info": {
   "codemirror_mode": "r",
   "file_extension": ".r",
   "mimetype": "text/x-r-source",
   "name": "R",
   "pygments_lexer": "r",
   "version": "3.5.0"
  }
 },
 "nbformat": 4,
 "nbformat_minor": 2
}
