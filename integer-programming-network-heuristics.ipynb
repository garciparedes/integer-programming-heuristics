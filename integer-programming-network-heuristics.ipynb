{
 "cells": [
  {
   "cell_type": "markdown",
   "metadata": {},
   "source": [
    "# [In Progress]"
   ]
  },
  {
   "cell_type": "markdown",
   "metadata": {},
   "source": [
    "# Programación Entera: Heurísticas para Problemas de Redes"
   ]
  },
  {
   "cell_type": "markdown",
   "metadata": {},
   "source": [
    "## Descripción\n",
    "\n",
    "[TODO]\n",
    "\n",
    "## Autor\n",
    "  \n",
    "  * Sergio García Prado - [garciparedes.me](https://garciparedes.me)\n",
    "  \n",
    "## Fecha\n",
    "\n",
    "  * Mayo de 2018\n"
   ]
  },
  {
   "cell_type": "markdown",
   "metadata": {},
   "source": [
    "## Contenidos\n",
    "  \n",
    "  * [Introducción](#Introducción)\n",
    "  * [Problemas De Redes](#Problemas-de-Redes)\n",
    "    * [Flujo de Redes con Costes Fijos](#Flujo-de-Redes-con-Costes-Fijos)\n",
    "    * [Árbol Recubridor Mínimo](#Árbol-Recubridor-Mínimo)\n",
    "    * [Árbol Recubridor Mínimo Capacitado](#Árbol-Recubridor-Mínimo-Capacitado)\n",
    "    * [Problema de Steiner](#Problema-de-Steiner)\n",
    "  * [Conclusiones](#Conclusiones)"
   ]
  },
  {
   "cell_type": "markdown",
   "metadata": {},
   "source": [
    "## Introducción\n",
    "\n",
    "TODO"
   ]
  },
  {
   "cell_type": "code",
   "execution_count": 1,
   "metadata": {},
   "outputs": [],
   "source": [
    "rm(list = ls())"
   ]
  },
  {
   "cell_type": "code",
   "execution_count": 2,
   "metadata": {},
   "outputs": [
    {
     "name": "stderr",
     "output_type": "stream",
     "text": [
      "Using the GLPK callable library version 4.65\n"
     ]
    }
   ],
   "source": [
    "library(slam, warn.conflicts = FALSE)\n",
    "library(Rglpk, warn.conflicts = FALSE)\n",
    "library(purrr, warn.conflicts = FALSE)\n",
    "library(dplyr, warn.conflicts = FALSE)\n",
    "library(magrittr, warn.conflicts = FALSE)\n",
    "library(ggplot2, warn.conflicts = FALSE)\n",
    "library(ggthemes, warn.conflicts = FALSE)\n",
    "library(scales, warn.conflicts = FALSE)\n",
    "library(igraph, warn.conflicts = FALSE)"
   ]
  },
  {
   "cell_type": "code",
   "execution_count": 3,
   "metadata": {},
   "outputs": [],
   "source": [
    "options(repr.matrix.max.rows = 600, repr.matrix.max.cols = 600)"
   ]
  },
  {
   "cell_type": "markdown",
   "metadata": {},
   "source": [
    "#### Constantes y Funciones de Apoyo"
   ]
  },
  {
   "cell_type": "code",
   "execution_count": 4,
   "metadata": {},
   "outputs": [],
   "source": [
    "dataset.root <- \"./data/\"\n",
    "dataset.folder <- paste0(dataset.root, \"network/\")"
   ]
  },
  {
   "cell_type": "code",
   "execution_count": 5,
   "metadata": {},
   "outputs": [],
   "source": [
    "simple.file.names <- c(\"gr15_1.dat\", \"gr15_2.dat\", \"gr15_3.dat\", \"gr15_4.dat\", \"gr15_4.dat\" )"
   ]
  },
  {
   "cell_type": "code",
   "execution_count": 6,
   "metadata": {},
   "outputs": [],
   "source": [
    "Solve <- function(...) {\n",
    "    Rglpk_solve_LP(...)\n",
    "}"
   ]
  },
  {
   "cell_type": "code",
   "execution_count": 7,
   "metadata": {},
   "outputs": [],
   "source": [
    "ReadRaw <- function(file.path) {\n",
    "    con <- \n",
    "        file.path %>%\n",
    "        file(open = \"r\")\n",
    "    raw <- \n",
    "        con %>%\n",
    "        readLines(warn = FALSE) %>% \n",
    "        strsplit(\"[[:blank:]]\") %>%\n",
    "        unlist() %>%\n",
    "        as.double()\n",
    "    close(con)\n",
    "    return(raw)\n",
    "}"
   ]
  },
  {
   "cell_type": "markdown",
   "metadata": {},
   "source": [
    "## Problemas de Redes\n",
    "\n",
    "TODO"
   ]
  },
  {
   "cell_type": "markdown",
   "metadata": {},
   "source": [
    "### Flujo de Redes con Costes Fijos"
   ]
  },
  {
   "cell_type": "markdown",
   "metadata": {},
   "source": [
    "#### Descripción\n",
    "\n",
    "TODO"
   ]
  },
  {
   "cell_type": "markdown",
   "metadata": {},
   "source": [
    "#### Modelo\n",
    "\n",
    "TODO"
   ]
  },
  {
   "cell_type": "markdown",
   "metadata": {},
   "source": [
    "\\begin{equation}\n",
    "    \\begin{array}{ll@{}ll}\n",
    "      \\text{Minimizar} & \\displaystyle \\sum\\limits_{(i,j) \\in A}\\left(f_{ij} \\cdot y_{ij} + c_{ij} \\cdot x_{ij}\\right) \\\\\n",
    "      \\text{sujeto a}  & \\sum\\limits_{j} x_{ij} - \\sum\\limits_{j} x_{ji} = b_{i}, & \\forall i \\in N \\\\\n",
    "                       & x_{ij} \\leq u_{ij} \\cdot y_{ij},  & \\forall (i,j) \\in A \\\\\n",
    "                       & x_{ij} \\geq 0, & \\forall (i,j) \\in A \\\\\n",
    "                       & y_{ij} \\in \\{0, 1\\},  & \\forall (i,j) \\in A\n",
    "    \\end{array}\n",
    "\\end{equation}"
   ]
  },
  {
   "cell_type": "code",
   "execution_count": 8,
   "metadata": {},
   "outputs": [
    {
     "ename": "ERROR",
     "evalue": "Error in Solve1DFixedCostNetworkExact(un.producto): object 'un.producto' not found\n",
     "execution_count": 8,
     "output_type": "error",
     "traceback": [
      "Error in Solve1DFixedCostNetworkExact(un.producto): object 'un.producto' not found\nTraceback:\n",
      "1. Solve1DFixedCostNetworkExact(un.producto)"
     ]
    }
   ],
   "source": [
    "Solve1DFixedCostNetworkExact <- function(p) {\n",
    "    \n",
    "    eq <- sum(p$b)\n",
    "    if (eq != 0) {\n",
    "        p$n <- p$n + 1\n",
    "        p$b <- rbind(p$b, - eq)\n",
    "        p$A <- rbind(p$A, (cbind(seq(1, p$n - 1), p$n, 0, 0, eq)))\n",
    "        if (!is.null(p$F)) {\n",
    "            p$F <- rbind(p$F, 0)\n",
    "        }\n",
    "    } \n",
    "    \n",
    "    \n",
    "    obj <- rep(0, 2 * (p$n ^ 2) + p$n)\n",
    "\n",
    "    \n",
    "    conditions <- matrix(0, nrow = p$n * 2 + nrow(p$A), ncol = 2 * (p$n ^ 2) + p$n)\n",
    "\n",
    "    for (i in 1:p$n) {\n",
    "        conditions[i, (i - 1) * p$n + p$A[which(p$A[,1] == i), 2, drop = FALSE]] <-  1\n",
    "        conditions[i, p$n * (p$A[which(p$A[,2] == i), 1, drop = FALSE] - 1) + i] <- -1\n",
    "        \n",
    "        #conditions[p$n + nrow(p$A) + i, TODO] <- 1\n",
    "        conditions[p$n + nrow(p$A) + i, 2 * p$n ^ 2 + i ] <-  - p$n\n",
    "    }\n",
    "    \n",
    "\n",
    "    for (i in 1:nrow(p$A)) {\n",
    "        conditions[i + p$n, (p$A[i, 1] - 1) * p$n + p$A[i, 2]] <- 1\n",
    "        conditions[i + p$n, p$n ^ 2 + (p$A[i, 1] - 1) * p$n + p$A[i, 2]] <- - p$A[i, 5]        \n",
    "        obj[(p$A[i, 1] - 1) * p$n + p$A[i, 2]] <- p$A[i, 4]\n",
    "        obj[p$n ^ 2  + (p$A[i, 1] - 1) * p$n + p$A[i, 2]] <- p$A[i, 3]\n",
    "    }\n",
    "\n",
    "    \n",
    "    if (!is.null(p$F)) {\n",
    "        obj[(2 * (p$n ^ 2) + 1):(2 * (p$n ^ 2) + p$n)] <- p$F\n",
    "    }\n",
    "        \n",
    "    rhs <- c(p$b, rep(0, nrow(p$A) + p$n))\n",
    "\n",
    "    dir <- rep(c(\"==\", \"<=\"), c(p$n, nrow(p$A) + p$n))\n",
    "    types <- rep(c(\"C\", \"B\"), c(p$n ^ 2 , p$n ^ 2 + p$n))\n",
    "\n",
    "    s <- Solve(obj = obj, \n",
    "               mat = conditions, \n",
    "               dir = dir, \n",
    "               rhs = rhs,\n",
    "               types = types)\n",
    "    \n",
    "    return(s)\n",
    "}\n",
    "a <- Solve1DFixedCostNetworkExact(un.producto)\n",
    "a$optimum\n",
    "\n",
    "print(\"\")\n",
    "matrix(a$solution[1:64], ncol = 8, byrow = TRUE)\n",
    "print(\"\")\n",
    "matrix(a$solution[65:128], ncol = 8, byrow = TRUE)\n",
    "print(\"\")\n",
    "matrix(a$solution[129:136], ncol = 8, byrow = TRUE)\n",
    "#print(a$solution)"
   ]
  },
  {
   "cell_type": "markdown",
   "metadata": {},
   "source": [
    "#### Ejemplos\n",
    "\n",
    "TODO"
   ]
  },
  {
   "cell_type": "markdown",
   "metadata": {},
   "source": [
    "##### distribucion.gas\n",
    "\n",
    "TODO(@garciparedes): Do Example."
   ]
  },
  {
   "cell_type": "code",
   "execution_count": null,
   "metadata": {},
   "outputs": [],
   "source": [
    "distribucion.gas <- \n",
    "    list(\n",
    "        n = 5,\n",
    "        b = matrix(c(800, 600, 0, 0, - 1400), ncol = 1),\n",
    "        A = matrix(c(2, 1,  60 * 100000, 2000,  1000,\n",
    "                     1, 3,  80 * 100000, 2000,  1000,\n",
    "                     2, 3, 100 * 100000, 2000,  1000,\n",
    "                     2, 4, 140 * 100000, 2000,  1000,\n",
    "                     3, 4,  20 * 100000, 2000,  1000,\n",
    "                     3, 5,            0, 2000,  1000,\n",
    "                     4, 5,            0, 2000,  1000), \n",
    "                   ncol = 5, byrow = TRUE)\n",
    "    )"
   ]
  },
  {
   "cell_type": "code",
   "execution_count": null,
   "metadata": {},
   "outputs": [],
   "source": [
    "a <- Solve1DFixedCostNetworkExact(distribucion.gas)\n",
    "a$optimum\n",
    "\n",
    "matrix(a$solution[1:25], ncol = 5, byrow = TRUE)\n",
    "matrix(a$solution[26:50], ncol = 5, byrow = TRUE)"
   ]
  },
  {
   "cell_type": "markdown",
   "metadata": {},
   "source": [
    "##### aguas.residuales\n",
    "\n",
    "TODO(@garciparedes): Do Example."
   ]
  },
  {
   "cell_type": "code",
   "execution_count": null,
   "metadata": {},
   "outputs": [],
   "source": [
    "aguas.residuales <- \n",
    "    list(\n",
    "        n = 9,\n",
    "        b = matrix(c(27, 3, 14, 36, 21, 8, 13, 0, -122), ncol = 1),\n",
    "        A = matrix(c(1, 2,  240, 21, 122,\n",
    "                     1, 3,  350, 30, 122,\n",
    "                     2, 3,  200, 22, 122,\n",
    "                     2, 4,  750, 58, 122,\n",
    "                     3, 4,  610, 43, 122,\n",
    "                     3, 9, 3800,  1, 122,\n",
    "                     4, 3, 1850, 49, 122,\n",
    "                     4, 8,  780, 63, 122,\n",
    "                     5, 6,  620, 44, 122,\n",
    "                     5, 7,  800, 51, 122,\n",
    "                     6, 7,  500, 56, 122,\n",
    "                     6, 8,  630, 94, 122,\n",
    "                     7, 4, 1120, 82, 122,\n",
    "                     7, 9, 3800,  1, 122,\n",
    "                     8, 9, 2500,  2, 122),\n",
    "                   ncol = 5, byrow = TRUE)\n",
    "    )"
   ]
  },
  {
   "cell_type": "code",
   "execution_count": null,
   "metadata": {},
   "outputs": [],
   "source": [
    "a <- Solve1DFixedCostNetworkExact(aguas.residuales)\n",
    "a$optimum\n",
    "\n",
    "matrix(a$solution[1:81], ncol = 9, byrow = TRUE)\n",
    "matrix(a$solution[82:162], ncol = 9, byrow = TRUE)"
   ]
  },
  {
   "cell_type": "markdown",
   "metadata": {},
   "source": [
    "##### un.producto\n",
    "\n",
    "TODO(@garciparedes): Do Example."
   ]
  },
  {
   "cell_type": "code",
   "execution_count": null,
   "metadata": {},
   "outputs": [],
   "source": [
    "un.producto <- \n",
    "    list(\n",
    "        n = 7,\n",
    "        b = matrix(c(380, 450, 0, 0, -200, -250, -300), ncol = 1),\n",
    "        F = matrix(c(0, 0, 50000, 70000, 0, 0, 0), ncol = 1),\n",
    "        A = matrix(c(1, 3,  250, 45, 1000,\n",
    "                     1, 5,  300, 35, 100,\n",
    "                     2, 3,  150, 50, 1000,\n",
    "                     2, 4,  200, 50, 0,\n",
    "                     3, 4,  150, 20, 100,\n",
    "                     3, 5,  100, 40, 200,\n",
    "                     3, 6,  200, 50, 1000,\n",
    "                     3, 7,  200, 50, 1000,\n",
    "                     4, 3,  150, 20, 100,\n",
    "                     4, 6,  100, 60, 200,\n",
    "                     4, 7,  150, 40, 300),\n",
    "                   ncol = 5, byrow = TRUE)\n",
    "    )"
   ]
  },
  {
   "cell_type": "code",
   "execution_count": null,
   "metadata": {},
   "outputs": [],
   "source": [
    "a <- Solve1DFixedCostNetworkExact(un.producto)\n",
    "a$optimum\n",
    "\n",
    "print(\"\")\n",
    "matrix(a$solution[1:64], ncol = 8, byrow = TRUE)\n",
    "print(\"\")\n",
    "matrix(a$solution[65:128], ncol = 8, byrow = TRUE)\n",
    "print(\"\")\n",
    "matrix(a$solution[129:136], ncol = 8, byrow = TRUE)\n",
    "#print(a$solution)"
   ]
  },
  {
   "cell_type": "markdown",
   "metadata": {},
   "source": [
    "##### avicola\n",
    "\n",
    "TODO(@garciparedes): Do Example."
   ]
  },
  {
   "cell_type": "code",
   "execution_count": null,
   "metadata": {},
   "outputs": [],
   "source": []
  },
  {
   "cell_type": "markdown",
   "metadata": {},
   "source": [
    "##### mercasol\n",
    "\n",
    "TODO(@garciparedes): Do Example."
   ]
  },
  {
   "cell_type": "code",
   "execution_count": null,
   "metadata": {},
   "outputs": [],
   "source": []
  },
  {
   "cell_type": "markdown",
   "metadata": {},
   "source": [
    "### Árbol Recubridor Mínimo"
   ]
  },
  {
   "cell_type": "markdown",
   "metadata": {},
   "source": [
    "#### Descripción\n",
    "\n",
    "TODO"
   ]
  },
  {
   "cell_type": "markdown",
   "metadata": {},
   "source": [
    "#### Modelo\n",
    "\n",
    "TODO"
   ]
  },
  {
   "cell_type": "markdown",
   "metadata": {},
   "source": [
    "#### Ejemplos\n",
    "\n",
    "TODO"
   ]
  },
  {
   "cell_type": "markdown",
   "metadata": {},
   "source": [
    "##### matriz.12x12\n",
    "\n",
    "TODO(@garciparedes): Do Example."
   ]
  },
  {
   "cell_type": "code",
   "execution_count": null,
   "metadata": {},
   "outputs": [],
   "source": [
    "matriz.12x12 <- \n",
    "    \"matriz_12x12.dat\" %>%\n",
    "    { paste0(dataset.folder, .) } %>%\n",
    "    ReadRaw() %>%\n",
    "    matrix(ncol = 12)"
   ]
  },
  {
   "cell_type": "markdown",
   "metadata": {},
   "source": [
    "##### berlin.52\n",
    "\n",
    "TODO(@garciparedes): Do Example."
   ]
  },
  {
   "cell_type": "code",
   "execution_count": null,
   "metadata": {},
   "outputs": [],
   "source": []
  },
  {
   "cell_type": "markdown",
   "metadata": {},
   "source": [
    "##### st.70\n",
    "\n",
    "TODO(@garciparedes): Do Example."
   ]
  },
  {
   "cell_type": "code",
   "execution_count": null,
   "metadata": {},
   "outputs": [],
   "source": []
  },
  {
   "cell_type": "markdown",
   "metadata": {},
   "source": [
    "##### a.280\n",
    "\n",
    "TODO(@garciparedes): Do Example."
   ]
  },
  {
   "cell_type": "code",
   "execution_count": null,
   "metadata": {},
   "outputs": [],
   "source": []
  },
  {
   "cell_type": "markdown",
   "metadata": {},
   "source": [
    "##### gr15.{1,...,5}\n",
    "\n",
    "TODO(@garciparedes): Do Example."
   ]
  },
  {
   "cell_type": "code",
   "execution_count": null,
   "metadata": {},
   "outputs": [],
   "source": []
  },
  {
   "cell_type": "markdown",
   "metadata": {},
   "source": [
    "### Árbol Recubridor Mínimo Capacitado"
   ]
  },
  {
   "cell_type": "markdown",
   "metadata": {},
   "source": [
    "#### Descripción\n",
    "\n",
    "TODO"
   ]
  },
  {
   "cell_type": "markdown",
   "metadata": {},
   "source": [
    "#### Modelo\n",
    "\n",
    "TODO"
   ]
  },
  {
   "cell_type": "markdown",
   "metadata": {},
   "source": [
    "#### Ejemplos\n",
    "\n",
    "TODO"
   ]
  },
  {
   "cell_type": "markdown",
   "metadata": {},
   "source": [
    "##### gr15.{1,...,5}\n",
    "\n",
    "TODO(@garciparedes): Do Example."
   ]
  },
  {
   "cell_type": "code",
   "execution_count": null,
   "metadata": {},
   "outputs": [],
   "source": []
  },
  {
   "cell_type": "markdown",
   "metadata": {},
   "source": [
    "### Problema de Steiner"
   ]
  },
  {
   "cell_type": "markdown",
   "metadata": {},
   "source": [
    "#### Descripción\n",
    "\n",
    "TODO"
   ]
  },
  {
   "cell_type": "markdown",
   "metadata": {},
   "source": [
    "#### Modelo\n",
    "\n",
    "TODO"
   ]
  },
  {
   "cell_type": "markdown",
   "metadata": {},
   "source": [
    "#### Ejemplos\n",
    "\n",
    "TODO"
   ]
  },
  {
   "cell_type": "markdown",
   "metadata": {},
   "source": [
    "##### grafo.11.nodos\n",
    "\n",
    "TODO(@garciparedes): Do Example."
   ]
  },
  {
   "cell_type": "code",
   "execution_count": null,
   "metadata": {},
   "outputs": [],
   "source": []
  },
  {
   "cell_type": "markdown",
   "metadata": {},
   "source": [
    "##### gr15.{1,...,5}\n",
    "\n",
    "TODO(@garciparedes): Do Example."
   ]
  },
  {
   "cell_type": "code",
   "execution_count": null,
   "metadata": {},
   "outputs": [],
   "source": []
  },
  {
   "cell_type": "markdown",
   "metadata": {},
   "source": [
    "## Conclusiones\n",
    "\n",
    "TODO"
   ]
  },
  {
   "cell_type": "markdown",
   "metadata": {},
   "source": [
    "## Referencias\n",
    "\n",
    "  * [TRC13] Team, R.C., 2013. R: A language and environment for statistical computing.\n",
    "  * [GP18] Sergio García Prado. Programación Entera: Heurísticas, 2018. [github.com/garciparedes/integer-programming-heuristics](https://github.com/garciparedes/integer-programming-heuristics).\n",
    "  * [SA18] Jesús Sáez Aguado. Programación Entera, 2017/18. Facultad de Ciencias: Departamento de Estadística e Investigación Operativa.\n",
    "  * [THBSST17] Theussl, S., Hornik, K., Buchta, C., Schwendinger, F., Schuchardt, H. and Theussl, M.S., 2017. Package ‘Rglpk’.\n",
    "  "
   ]
  }
 ],
 "metadata": {
  "kernelspec": {
   "display_name": "R",
   "language": "R",
   "name": "ir"
  },
  "language_info": {
   "codemirror_mode": "r",
   "file_extension": ".r",
   "mimetype": "text/x-r-source",
   "name": "R",
   "pygments_lexer": "r",
   "version": "3.5.0"
  }
 },
 "nbformat": 4,
 "nbformat_minor": 2
}
