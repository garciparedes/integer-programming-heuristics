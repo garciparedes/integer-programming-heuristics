{
 "cells": [
  {
   "cell_type": "markdown",
   "metadata": {},
   "source": [
    "# Programación Entera: Heurísticas"
   ]
  },
  {
   "cell_type": "markdown",
   "metadata": {},
   "source": [
    "## Descripción\n",
    "\n",
    "[TODO]\n",
    "\n",
    "## Autor\n",
    "  \n",
    "  * Sergio García Prado - [garciparedes.me](https://garciparedes.me)\n",
    "  \n",
    "## Fecha\n",
    "\n",
    "  * Mayo de 2018\n"
   ]
  },
  {
   "cell_type": "markdown",
   "metadata": {},
   "source": [
    "## Contenidos\n",
    "  \n",
    "  * [Problema de Transporte](#Problema-de-Transporte)\n",
    "  * [Problema de Asignación](#Problema-de-Asignación)\n",
    "    * [Asignación Clásico](#Asignación-Clásico)\n",
    "    * [Asignación Generalizado](#Asignación-Generalizado)\n",
    "  * [Problema de la Mochila](#Problema-de-la-Mochila)\n",
    "    * [Mochila Simple](#Mochila-Simple)\n",
    "    * [Mochila Múltiple](#Mochila-Múltiple)\n",
    "    * [Mochila Multidimensional](#Mochila-Multidimensional)"
   ]
  },
  {
   "cell_type": "code",
   "execution_count": null,
   "metadata": {},
   "outputs": [],
   "source": [
    "library(lpSolve)\n",
    "library(magrittr)"
   ]
  },
  {
   "cell_type": "code",
   "execution_count": null,
   "metadata": {},
   "outputs": [],
   "source": [
    "options(repr.matrix.max.rows = 600, repr.matrix.max.cols = 200)"
   ]
  },
  {
   "cell_type": "markdown",
   "metadata": {},
   "source": [
    "## Funciones de Apoyo"
   ]
  },
  {
   "cell_type": "code",
   "execution_count": null,
   "metadata": {},
   "outputs": [],
   "source": [
    "dataset.folder <- \"./data\""
   ]
  },
  {
   "cell_type": "code",
   "execution_count": null,
   "metadata": {},
   "outputs": [],
   "source": [
    "ReadDataSet <- function() {\n",
    "    \n",
    "}"
   ]
  },
  {
   "cell_type": "code",
   "execution_count": null,
   "metadata": {},
   "outputs": [],
   "source": [
    "Solve <- function(direction = \"max\", f.obj, f.con, f.rhs, f.dir = rep(\"<=\", nrow(f.con)), ...) {\n",
    "    lp(direction, f.obj, f.con, f.dir, f.rhs, ...)\n",
    "}"
   ]
  },
  {
   "cell_type": "markdown",
   "metadata": {},
   "source": [
    "## Problema de Transporte"
   ]
  },
  {
   "cell_type": "markdown",
   "metadata": {},
   "source": [
    "#### Descripción:\n",
    "TODO"
   ]
  },
  {
   "cell_type": "markdown",
   "metadata": {},
   "source": [
    "#### Modelo:\n",
    "TODO"
   ]
  },
  {
   "cell_type": "code",
   "execution_count": null,
   "metadata": {},
   "outputs": [],
   "source": [
    "TransportationExact <- function(demand, capacity, cost, direction = \"min\", ...) {\n",
    "    m <- length(capacity)\n",
    "    n <- length(demand)    \n",
    "    \n",
    "    conditions <- matrix(0, nrow = n + m, ncol = n * m)\n",
    "    for (i in 1:m) {\n",
    "        conditions[i, seq(n) + (i - 1) * n] <- 1\n",
    "    }\n",
    "    for (i in (m+1):(n+m)) {\n",
    "        conditions[i, seq(i - m, m * n, by = n)] <- 1\n",
    "    }\n",
    "    res <- c(rep(\"<=\", m), rep(\">=\", n))\n",
    "    return(Solve(direction, cost, conditions, c(capacity, demand), res, ...))\n",
    "}"
   ]
  },
  {
   "cell_type": "markdown",
   "metadata": {},
   "source": [
    "#### Heurísticas:\n",
    "TODO"
   ]
  },
  {
   "cell_type": "code",
   "execution_count": null,
   "metadata": {},
   "outputs": [],
   "source": [
    "TransportationGreedy <- function(demand, capacity, cost) {\n",
    "    m <- length(capacity)\n",
    "    n <- length(demand) \n",
    "    sol <- list(solution = matrix(0, nrow = m, ncol = n), \n",
    "                objval = 0, slack = capacity)\n",
    "    while (!all(demand == 0)) {\n",
    "        ij <- which(cost == min(cost[sol$slack > 0, demand > 0]), arr.ind = TRUE)\n",
    "        ij.slice <- which(sol$slack[ij[, 1]] > 0 & demand[ij[, 2]] > 0)[1]\n",
    "        i <- ij[ij.slice, 1]\n",
    "        j <- ij[ij.slice, 2]\n",
    "        inc <- min(sol$slack[i], demand[j])    \n",
    "        \n",
    "        sol$solution[i, j] <- sol$solution[i, j] + inc\n",
    "        sol$slack[i] <- sol$slack[i] - inc\n",
    "        demand[j] <- demand[j] - inc\n",
    "        sol$objval <- sol$objval + cost[i, j] * inc\n",
    "    }\n",
    "    return(sol)\n",
    "}"
   ]
  },
  {
   "cell_type": "markdown",
   "metadata": {},
   "source": [
    "### Ejemplos"
   ]
  },
  {
   "cell_type": "code",
   "execution_count": null,
   "metadata": {},
   "outputs": [],
   "source": [
    "transportation.problem.1 <- list(\n",
    "    demand = c(45, 20, 30, 30),\n",
    "    capacity = c(35, 60, 48),\n",
    "    cost = matrix(c(8, 6, 10, 9,\n",
    "                    9, 12,13, 7,\n",
    "                    14,9, 16, 5), nrow = 3, byrow = TRUE)\n",
    ")"
   ]
  },
  {
   "cell_type": "code",
   "execution_count": null,
   "metadata": {},
   "outputs": [],
   "source": [
    "a <- TransportationExact(transportation.problem.1$demand,\n",
    "                    transportation.problem.1$capacity,\n",
    "                    transportation.problem.1$cost)\n",
    "\n",
    "matrix(a$solution, \n",
    "       nrow = 3, byrow =TRUE)\n",
    "print(a$objval)"
   ]
  },
  {
   "cell_type": "code",
   "execution_count": null,
   "metadata": {},
   "outputs": [],
   "source": [
    "TransportationGreedy(transportation.problem.1$demand,\n",
    "                    transportation.problem.1$capacity,\n",
    "                    transportation.problem.1$cost)"
   ]
  },
  {
   "cell_type": "markdown",
   "metadata": {},
   "source": [
    "## Problema de Asignación"
   ]
  },
  {
   "cell_type": "markdown",
   "metadata": {},
   "source": [
    "### Asignación Clásico"
   ]
  },
  {
   "cell_type": "markdown",
   "metadata": {},
   "source": [
    "#### Descripción:\n",
    "TODO"
   ]
  },
  {
   "cell_type": "markdown",
   "metadata": {},
   "source": [
    "#### Modelo:\n",
    "TODO"
   ]
  },
  {
   "cell_type": "code",
   "execution_count": null,
   "metadata": {},
   "outputs": [],
   "source": [
    "AssignmentExact <- function(cost, ...) {\n",
    "    return(TransportationExact(rep(1, dim(cost)[1]), rep(1, dim(cost)[2]), cost, ...))\n",
    "}"
   ]
  },
  {
   "cell_type": "markdown",
   "metadata": {},
   "source": [
    "#### Heurísticas:\n",
    "TODO"
   ]
  },
  {
   "cell_type": "code",
   "execution_count": null,
   "metadata": {},
   "outputs": [],
   "source": [
    "AssignmentGreedy <- function(cost) {    \n",
    "    return(TransportationGreedy(rep(1, dim(cost)[1]), rep(1, dim(cost)[2]), cost))\n",
    "}"
   ]
  },
  {
   "cell_type": "code",
   "execution_count": null,
   "metadata": {},
   "outputs": [],
   "source": [
    "GreedyLocalSearchImprovement <- function(change.1, change.2, cost) {\n",
    "    return((cost[change.1[, drop = FALSE]] + cost[change.2[, drop = FALSE]]) -\n",
    "           (cost[change.1[1], change.2[2]] + cost[change.2[1], change.1[2]]))\n",
    "}"
   ]
  },
  {
   "cell_type": "code",
   "execution_count": null,
   "metadata": {},
   "outputs": [],
   "source": [
    "GreedyLocalSearchBest <- function(cost, changes) {\n",
    "    best = list(v = 0, i = 0, j = 0)\n",
    "    for (i in 1:nrow(changes)) {\n",
    "        for(j in 1:nrow(changes)) {\n",
    "            v.temp <- GreedyLocalSearchImprovement(changes[i, ,drop = FALSE], \n",
    "                                                   changes[j, , drop = FALSE],\n",
    "                                                   cost)\n",
    "            if (best$v < v.temp) {\n",
    "                best$v <- v.temp\n",
    "                best$i <- i\n",
    "                best$j <- j\n",
    "            }\n",
    "        }\n",
    "    }\n",
    "    return(best)\n",
    "}"
   ]
  },
  {
   "cell_type": "code",
   "execution_count": null,
   "metadata": {},
   "outputs": [],
   "source": [
    "AssignmentGreedyLocalSearch <- function(cost) {    \n",
    "    sol <- AssignmentGreedy(cost)\n",
    "        \n",
    "    changes <- which(sol$solution != 0, arr.ind = TRUE)\n",
    "    best <- GreedyLocalSearchBest(cost, changes)\n",
    "    while(best$v > 0) {\n",
    "\n",
    "        sol$solution[changes[best$i, , drop = FALSE]] <- 0\n",
    "        sol$solution[changes[best$j, , drop = FALSE]] <- 0\n",
    "        \n",
    "        temp <- changes[best$i, 2]\n",
    "        changes[best$i, 2] <- changes[best$j, 2]\n",
    "        changes[best$j, 2] <- temp\n",
    "        \n",
    "        \n",
    "        sol$solution[changes[best$i, , drop = FALSE]] <- 1\n",
    "        sol$solution[changes[best$j, , drop = FALSE]] <- 1\n",
    "        \n",
    "        sol$objval <- sol$objval - best$v\n",
    "        \n",
    "        best <- GreedyLocalSearchBest(cost, changes)\n",
    "    }\n",
    "    return(sol)\n",
    "}"
   ]
  },
  {
   "cell_type": "markdown",
   "metadata": {},
   "source": [
    "### Ejemplos"
   ]
  },
  {
   "cell_type": "code",
   "execution_count": null,
   "metadata": {},
   "outputs": [],
   "source": [
    "(matriz.15x15.1 <- as.matrix(read.csv(\"./data/assignment/matriz_15x15_1.csv\", header = FALSE)))"
   ]
  },
  {
   "cell_type": "code",
   "execution_count": null,
   "metadata": {},
   "outputs": [],
   "source": [
    "a <- AssignmentExact(matriz.15x15.1)\n",
    "matrix(a$solution, nrow = dim(matriz.15x15.1)[1])\n",
    "a$objval"
   ]
  },
  {
   "cell_type": "code",
   "execution_count": null,
   "metadata": {},
   "outputs": [],
   "source": [
    "AssignmentGreedy(matriz.15x15.1)"
   ]
  },
  {
   "cell_type": "code",
   "execution_count": null,
   "metadata": {},
   "outputs": [],
   "source": [
    "AssignmentGreedyLocalSearch(matriz.15x15.1)"
   ]
  },
  {
   "cell_type": "code",
   "execution_count": null,
   "metadata": {},
   "outputs": [],
   "source": [
    "(matriz.15x15.2 <- as.matrix(read.csv(\"./data/assignment/matriz_15x15_2.csv\", header = FALSE)))"
   ]
  },
  {
   "cell_type": "code",
   "execution_count": null,
   "metadata": {},
   "outputs": [],
   "source": [
    "a <- AssignmentExact(matriz.15x15.2)\n",
    "matrix(a$solution, nrow = dim(matriz.15x15.2)[1])\n",
    "a$objval"
   ]
  },
  {
   "cell_type": "code",
   "execution_count": null,
   "metadata": {},
   "outputs": [],
   "source": [
    "AssignmentGreedy(matriz.15x15.2)"
   ]
  },
  {
   "cell_type": "code",
   "execution_count": null,
   "metadata": {},
   "outputs": [],
   "source": [
    "AssignmentGreedyLocalSearch(matriz.15x15.2)"
   ]
  },
  {
   "cell_type": "code",
   "execution_count": null,
   "metadata": {},
   "outputs": [],
   "source": [
    "(matriz.15x15.3 <- as.matrix(read.csv(\"./data/assignment/matriz_15x15_3.csv\", header = FALSE)))"
   ]
  },
  {
   "cell_type": "code",
   "execution_count": null,
   "metadata": {},
   "outputs": [],
   "source": [
    "a <- AssignmentExact(matriz.15x15.3)\n",
    "matrix(a$solution, nrow = dim(matriz.15x15.3)[1])\n",
    "a$objval"
   ]
  },
  {
   "cell_type": "code",
   "execution_count": null,
   "metadata": {},
   "outputs": [],
   "source": [
    "AssignmentGreedy(matriz.15x15.3)"
   ]
  },
  {
   "cell_type": "code",
   "execution_count": null,
   "metadata": {},
   "outputs": [],
   "source": [
    "AssignmentGreedyLocalSearch(matriz.15x15.3)"
   ]
  },
  {
   "cell_type": "markdown",
   "metadata": {},
   "source": [
    "### Asignación Generalizado"
   ]
  },
  {
   "cell_type": "code",
   "execution_count": null,
   "metadata": {},
   "outputs": [],
   "source": [
    "ReadGeneralizedAssignment <- function(file.name) {\n",
    "    con <- \n",
    "        file.name %>%\n",
    "        file(open = \"r\")\n",
    "    raw <- \n",
    "        con %>%\n",
    "        readLines(warn = FALSE) %>% \n",
    "        strsplit(\" \") %>%\n",
    "        unlist() %>%\n",
    "        as.integer()\n",
    "    close(con)\n",
    "    list(\n",
    "        m = raw[1],\n",
    "        n = raw[2],\n",
    "        cost = matrix(raw[3:(2 + raw[1] * raw[2])], \n",
    "                      nrow = raw[1], ncol = raw[2], byrow = TRUE),\n",
    "        resource = matrix(raw[(3 + raw[1] * raw[2]):(2 + 2 * raw[1] * raw[2])], \n",
    "                          nrow = raw[1], ncol = raw[2], byrow = TRUE),\n",
    "        capacity = raw[(3 + 2 * raw[1] * raw[2]):length(raw)]\n",
    "        \n",
    "    ) %>%\n",
    "    return()\n",
    "}"
   ]
  },
  {
   "cell_type": "markdown",
   "metadata": {},
   "source": [
    "#### Descripción:\n",
    "TODO"
   ]
  },
  {
   "cell_type": "markdown",
   "metadata": {},
   "source": [
    "#### Modelo:\n",
    "TODO"
   ]
  },
  {
   "cell_type": "code",
   "execution_count": null,
   "metadata": {},
   "outputs": [],
   "source": [
    "GeneralizedAssignmentExact <- function(problem.statement, direction = \"max\", ...) {    \n",
    "    \n",
    "    m <- problem.statement$m\n",
    "    n <- problem.statement$n\n",
    "    cost <- problem.statement$cost\n",
    "    resource <- problem.statement$resource\n",
    "    capacity <- problem.statement$capacity\n",
    "    demand <- rep(1, n)\n",
    "    \n",
    "    \n",
    "    conditions <- matrix(0, nrow = n + m, ncol = n * m)\n",
    "    for (i in 1:m) {\n",
    "        conditions[i, seq(n) + (i - 1) * n] <- resource[i, ]\n",
    "    }\n",
    "    for (i in (m + 1):(n + m)) {\n",
    "        conditions[i, seq(i - m, m * n, by = n)] <- 1\n",
    "    }\n",
    "    res <- c(rep(\"<=\", m), rep(\"=\", n))\n",
    "    return(Solve(direction, t(cost), conditions, c(capacity, demand), res, all.bin = TRUE, ...))\n",
    "}"
   ]
  },
  {
   "cell_type": "markdown",
   "metadata": {},
   "source": [
    "#### Heurísticas:\n",
    "TODO"
   ]
  },
  {
   "cell_type": "code",
   "execution_count": null,
   "metadata": {},
   "outputs": [],
   "source": [
    "GeneralizedAssignmentGreedy <- function(p) {    \n",
    "    sol <- list(solution = matrix(0, nrow = p$m, ncol = p$n), \n",
    "                objval = 0, slack = p$capacity)\n",
    "    while(!all(colSums(sol$solution) == 1)) {\n",
    "        max.resource <- max(p$capacity - p$resource[,colSums(sol$solution) == 0])\n",
    "        \n",
    "        ij <- which(p$capacity - p$resource == max.resource, arr.ind = TRUE)\n",
    "        ij <- ij[colSums(sol$solution[, ij[,2], drop = FALSE]) == 0, , drop = FALSE]\n",
    "        ij <- ij[which.max(p$cost[ij]), ,drop = FALSE]\n",
    "        \n",
    "        sol$solution[ij[1], ij[2]] <- 1\n",
    "        sol$slack[ij[1]] <- sol$slack[ij[1]] - p$resource[ij[1], ij[2]]\n",
    "        sol$objval <- sol$objval + p$cost[ij[1], ij[2]]\n",
    "    }\n",
    "    return(sol)\n",
    "}"
   ]
  },
  {
   "cell_type": "code",
   "execution_count": null,
   "metadata": {},
   "outputs": [],
   "source": [
    "AssignmentGreedyLocalSearchImprovement <- function(change.1, change.2, cost) {\n",
    "    return( - (cost[change.1[, drop = FALSE]] + cost[change.2[, drop = FALSE]]) +\n",
    "              (cost[change.1[1], change.2[2]] + cost[change.2[1], change.1[2]]))\n",
    "}"
   ]
  },
  {
   "cell_type": "code",
   "execution_count": null,
   "metadata": {},
   "outputs": [],
   "source": [
    "AssignmentGreedyLocalSearchBest <- function(p, changes, slack) {\n",
    "    best = list(v = 0, i = 0, j = 0)\n",
    "    for (i in 1:nrow(changes)) {\n",
    "        for(j in 1:nrow(changes)) {\n",
    "            if ((slack[changes[i, , drop = FALSE][1]] + p$resource[changes[i, , drop = FALSE]] - \n",
    "                     p$resource[changes[i, 1], changes[j, 2]] > 0) & \n",
    "                (slack[changes[j, , drop = FALSE][1]] + p$resource[changes[j, , drop = FALSE]] - \n",
    "                     p$resource[changes[j, 1], changes[i, 2]] > 0)) { \n",
    "                    \n",
    "                    v.temp <- AssignmentGreedyLocalSearchImprovement(changes[i, ,drop = FALSE], \n",
    "                                                                     changes[j, , drop = FALSE],\n",
    "                                                                     p$cost)\n",
    "                    if (best$v < v.temp) {\n",
    "                        best$v <- v.temp\n",
    "                        best$i <- i\n",
    "                        best$j <- j\n",
    "                    }\n",
    "                }\n",
    "        }\n",
    "    }\n",
    "    return(best)\n",
    "}"
   ]
  },
  {
   "cell_type": "code",
   "execution_count": null,
   "metadata": {},
   "outputs": [],
   "source": [
    "GeneralizedAssignmentGreedyLocalSearch <- function(p) {\n",
    "    sol <- GeneralizedAssignmentGreedy(p)\n",
    "    \n",
    "    changes <- which(sol$solution != 0, arr.ind = TRUE)\n",
    "    slack <- rowSums(sol$solution * p$resource)\n",
    "    best <- AssignmentGreedyLocalSearchBest(p, changes, sol$slack)\n",
    "    while(best$v > 0) {\n",
    "        \n",
    "        sol$solution[changes[best$i, , drop = FALSE]] <- 0\n",
    "        sol$solution[changes[best$j, , drop = FALSE]] <- 0\n",
    "        sol$slack[changes[best$i][1]] <- sol$slack[changes[best$i][1]] + p$resource[changes[best$i, , drop = FALSE]]\n",
    "        sol$slack[changes[best$j][1]] <- sol$slack[changes[best$j][1]] + p$resource[changes[best$j, , drop = FALSE]]\n",
    "        \n",
    "        temp <- changes[best$i, 2]\n",
    "        changes[best$i, 2] <- changes[best$j, 2]\n",
    "        changes[best$j, 2] <- temp\n",
    "        \n",
    "        sol$solution[changes[best$i, , drop = FALSE]] <- 1\n",
    "        sol$solution[changes[best$j, , drop = FALSE]] <- 1\n",
    "        \n",
    "        sol$slack[changes[best$i][1]] <- sol$slack[changes[best$i][1]] - p$resource[changes[best$i, , drop = FALSE]]\n",
    "        sol$slack[changes[best$j][1]] <- sol$slack[changes[best$j][1]] - p$resource[changes[best$j, , drop = FALSE]]\n",
    "        sol$objval <- sol$objval + best$v\n",
    "        best <- AssignmentGreedyLocalSearchBest(p, changes, sol$slack)\n",
    "    }\n",
    "    return(sol)\n",
    "}"
   ]
  },
  {
   "cell_type": "markdown",
   "metadata": {},
   "source": [
    "### Ejemplos"
   ]
  },
  {
   "cell_type": "code",
   "execution_count": null,
   "metadata": {},
   "outputs": [],
   "source": [
    "(gap2.1 <- ReadGeneralizedAssignment(\"./data/assignment/gap2_1.txt\"))"
   ]
  },
  {
   "cell_type": "code",
   "execution_count": null,
   "metadata": {},
   "outputs": [],
   "source": [
    "a <- GeneralizedAssignmentExact(gap2.1)\n",
    "matrix(a$solution, nrow = gap2.1$m, byrow = TRUE)\n",
    "a$objval"
   ]
  },
  {
   "cell_type": "code",
   "execution_count": null,
   "metadata": {},
   "outputs": [],
   "source": [
    "GeneralizedAssignmentGreedy(gap2.1)"
   ]
  },
  {
   "cell_type": "code",
   "execution_count": null,
   "metadata": {},
   "outputs": [],
   "source": [
    "GeneralizedAssignmentGreedyLocalSearch(gap2.1)"
   ]
  },
  {
   "cell_type": "code",
   "execution_count": null,
   "metadata": {},
   "outputs": [],
   "source": [
    "(gap4.1 <- ReadGeneralizedAssignment(\"./data/assignment/gap4_1.txt\"))"
   ]
  },
  {
   "cell_type": "code",
   "execution_count": null,
   "metadata": {},
   "outputs": [],
   "source": [
    "a <- GeneralizedAssignmentExact(gap4.1)\n",
    "matrix(a$solution, nrow = gap4.1$m, byrow = TRUE)\n",
    "a$objval"
   ]
  },
  {
   "cell_type": "code",
   "execution_count": null,
   "metadata": {},
   "outputs": [],
   "source": [
    "GeneralizedAssignmentGreedy(gap4.1)"
   ]
  },
  {
   "cell_type": "code",
   "execution_count": null,
   "metadata": {},
   "outputs": [],
   "source": [
    "GeneralizedAssignmentGreedyLocalSearch(gap4.1)"
   ]
  },
  {
   "cell_type": "code",
   "execution_count": null,
   "metadata": {},
   "outputs": [],
   "source": [
    "(gap6.1 <- ReadGeneralizedAssignment(\"./data/assignment/gap6_1.txt\"))"
   ]
  },
  {
   "cell_type": "code",
   "execution_count": null,
   "metadata": {},
   "outputs": [],
   "source": [
    "a <- GeneralizedAssignmentExact(gap6.1)\n",
    "matrix(a$solution, nrow = gap6.1$m, byrow = TRUE)\n",
    "a$objval"
   ]
  },
  {
   "cell_type": "code",
   "execution_count": null,
   "metadata": {},
   "outputs": [],
   "source": [
    "GeneralizedAssignmentGreedy(gap6.1)"
   ]
  },
  {
   "cell_type": "code",
   "execution_count": null,
   "metadata": {},
   "outputs": [],
   "source": [
    "GeneralizedAssignmentGreedyLocalSearch(gap6.1)"
   ]
  },
  {
   "cell_type": "code",
   "execution_count": null,
   "metadata": {},
   "outputs": [],
   "source": [
    "(gap8.1 <- ReadGeneralizedAssignment(\"./data/assignment/gap8_1.txt\"))"
   ]
  },
  {
   "cell_type": "code",
   "execution_count": null,
   "metadata": {},
   "outputs": [],
   "source": [
    "# a <- GeneralizedAssignmentExact(gap8.1)\n",
    "# matrix(a$solution, nrow = gap8.1$m, byrow = TRUE)\n",
    "# a$objval"
   ]
  },
  {
   "cell_type": "code",
   "execution_count": null,
   "metadata": {},
   "outputs": [],
   "source": [
    "GeneralizedAssignmentGreedy(gap8.1)"
   ]
  },
  {
   "cell_type": "code",
   "execution_count": null,
   "metadata": {},
   "outputs": [],
   "source": [
    "GeneralizedAssignmentGreedyLocalSearch(gap8.1)"
   ]
  },
  {
   "cell_type": "code",
   "execution_count": null,
   "metadata": {},
   "outputs": [],
   "source": [
    "(gap12.1 <- ReadGeneralizedAssignment(\"./data/assignment/gap12_1.txt\"))"
   ]
  },
  {
   "cell_type": "code",
   "execution_count": null,
   "metadata": {},
   "outputs": [],
   "source": [
    "# a <- GeneralizedAssignmentExact(gap12.1)\n",
    "# matrix(a$solution, nrow = gap12.1$m, byrow = TRUE)\n",
    "# a$objval"
   ]
  },
  {
   "cell_type": "code",
   "execution_count": null,
   "metadata": {},
   "outputs": [],
   "source": [
    "GeneralizedAssignmentGreedy(gap12.1)"
   ]
  },
  {
   "cell_type": "code",
   "execution_count": null,
   "metadata": {},
   "outputs": [],
   "source": [
    "GeneralizedAssignmentGreedyLocalSearch(gap12.1)"
   ]
  },
  {
   "cell_type": "markdown",
   "metadata": {},
   "source": [
    "## Problema de la Mochila"
   ]
  },
  {
   "cell_type": "markdown",
   "metadata": {},
   "source": [
    "#### Descripción:\n",
    "TODO"
   ]
  },
  {
   "cell_type": "markdown",
   "metadata": {},
   "source": [
    "### Mochila Simple"
   ]
  },
  {
   "cell_type": "markdown",
   "metadata": {},
   "source": [
    "#### Descripción:\n",
    "TODO"
   ]
  },
  {
   "cell_type": "markdown",
   "metadata": {},
   "source": [
    "#### Modelo:\n",
    "TODO"
   ]
  },
  {
   "cell_type": "code",
   "execution_count": null,
   "metadata": {},
   "outputs": [],
   "source": [
    "KnapsackSimpleExact <- function(object, capacity) {\n",
    "    \n",
    "}"
   ]
  },
  {
   "cell_type": "markdown",
   "metadata": {},
   "source": [
    "#### Heurísticas:\n",
    "TODO"
   ]
  },
  {
   "cell_type": "code",
   "execution_count": null,
   "metadata": {},
   "outputs": [],
   "source": [
    "KnapsackSimpleGreedy <- function(object, capacity) {\n",
    "    \n",
    "}"
   ]
  },
  {
   "cell_type": "markdown",
   "metadata": {},
   "source": [
    "### Mochila Múltiple"
   ]
  },
  {
   "cell_type": "markdown",
   "metadata": {},
   "source": [
    "#### Descripción:\n",
    "TODO"
   ]
  },
  {
   "cell_type": "markdown",
   "metadata": {},
   "source": [
    "#### Modelo:\n",
    "TODO"
   ]
  },
  {
   "cell_type": "code",
   "execution_count": null,
   "metadata": {},
   "outputs": [],
   "source": [
    "KnapsackMultipleExact <- function(object, capacity) {\n",
    "    \n",
    "}"
   ]
  },
  {
   "cell_type": "markdown",
   "metadata": {},
   "source": [
    "#### Heurísticas:\n",
    "TODO"
   ]
  },
  {
   "cell_type": "code",
   "execution_count": null,
   "metadata": {},
   "outputs": [],
   "source": [
    "KnapsackMultipleGreedy <- function(object, capacity) {\n",
    "    \n",
    "}"
   ]
  },
  {
   "cell_type": "markdown",
   "metadata": {},
   "source": [
    "### Mochila Multidimensional"
   ]
  },
  {
   "cell_type": "markdown",
   "metadata": {},
   "source": [
    "#### Descripción:\n",
    "TODO"
   ]
  },
  {
   "cell_type": "markdown",
   "metadata": {},
   "source": [
    "#### Modelo:\n",
    "TODO"
   ]
  },
  {
   "cell_type": "code",
   "execution_count": null,
   "metadata": {},
   "outputs": [],
   "source": [
    "KnapsackMultidimensionalExact <- function(object, capacity, ...) {\n",
    "    n <- length(object$value)\n",
    "    m <- length(capacity)    \n",
    "    return(Solve(\"max\", object$value, t(object$weight), capacity, all.bin = TRUE, ...))\n",
    "}"
   ]
  },
  {
   "cell_type": "markdown",
   "metadata": {},
   "source": [
    "#### Heurísticas:\n",
    "TODO"
   ]
  },
  {
   "cell_type": "code",
   "execution_count": null,
   "metadata": {},
   "outputs": [],
   "source": [
    "KnapsackMultidimensionalGreedy <- function(object, capacity) {\n",
    "    \n",
    "}"
   ]
  },
  {
   "cell_type": "markdown",
   "metadata": {},
   "source": [
    "### Ejemplos"
   ]
  },
  {
   "cell_type": "code",
   "execution_count": null,
   "metadata": {},
   "outputs": [],
   "source": [
    "(knapsack.multidimensional.problem.1 <- list(\n",
    "    object = list(\n",
    "        value = c(12, 13, 15, 10),\n",
    "        weight = matrix(c(0.5, 0.3, 0.2,\n",
    "                          1.0, 0.8, 0.2,\n",
    "                          1.5, 1.5, 0.1,\n",
    "                          3.1, 2.5, 0.4), nrow = 4, byrow = TRUE) \n",
    "    ),\n",
    "    capacity = c(3.1, 2.5, 0.4)\n",
    "))"
   ]
  },
  {
   "cell_type": "code",
   "execution_count": null,
   "metadata": {},
   "outputs": [],
   "source": [
    "a <- KnapsackMultidimensionalExact(\n",
    "    knapsack.multidimensional.problem.1$object, \n",
    "    knapsack.multidimensional.problem.1$capacity\n",
    ")\n",
    "matrix(a$solution, nrow = 1, byrow = TRUE)\n",
    "a$objval"
   ]
  }
 ],
 "metadata": {
  "kernelspec": {
   "display_name": "R",
   "language": "R",
   "name": "ir"
  },
  "language_info": {
   "codemirror_mode": "r",
   "file_extension": ".r",
   "mimetype": "text/x-r-source",
   "name": "R",
   "pygments_lexer": "r",
   "version": "3.5.0"
  }
 },
 "nbformat": 4,
 "nbformat_minor": 2
}
