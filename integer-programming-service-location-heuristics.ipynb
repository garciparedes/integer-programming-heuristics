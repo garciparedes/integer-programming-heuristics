{
 "cells": [
  {
   "cell_type": "markdown",
   "metadata": {},
   "source": [
    "# Programación Entera: Heurísticas para el Problema de Localización de Servicios"
   ]
  },
  {
   "cell_type": "markdown",
   "metadata": {},
   "source": [
    "## Descripción\n",
    "\n",
    "En este trabajo se estudia el problema de localización de servicios de manera detallada, en concreto el localización de costos fijos, analizando el problema de programación lineal además de la heurística *ADD*. Todo ello se ha hecho apoyandose en el lenguaje *R* y el solver *glpk*. Por último se ha comprobado la validez de los métodos sobre distintos problemas a modo de ejemplo.\n",
    "\n",
    "Este documento forma parte de un grupo de trabajos relacionados con la heuristicas para la resolución de problemas de programación entera. Existen otros tres trabajos referidos al estudio del [problema de la asignación](https://nbviewer.jupyter.org/github/garciparedes/integer-programming-heuristics/blob/master/integer-programming-assignment-heuristics.ipynb), al [problema de la mochila](https://nbviewer.jupyter.org/github/garciparedes/integer-programming-heuristics/blob/master/integer-programming-knapsack-heuristics.ipynb) y a [problemas de redes](https://nbviewer.jupyter.org/github/garciparedes/integer-programming-heuristics/blob/master/integer-programming-network-heuristics.ipynb). El contenido completo del trabajo está publicado en el siguiente repositorio: https://github.com/garciparedes/integer-programming-heuristics\n",
    "## Autor\n",
    "  \n",
    "  * Sergio García Prado - [garciparedes.me](https://garciparedes.me)\n",
    "  \n",
    "## Fecha\n",
    "\n",
    "  * Mayo de 2018\n"
   ]
  },
  {
   "cell_type": "markdown",
   "metadata": {},
   "source": [
    "## Contenidos\n",
    "  \n",
    "  * [Introducción](#Introducción)\n",
    "  * [Problemas de Localización de Servicios](#Problemas-de-Localización-de-Servicios)\n",
    "    * [Localización con Costos Fijos](#Localización-con-Costos-Fijos)\n",
    "  * [Conclusiones](#Conclusiones)"
   ]
  },
  {
   "cell_type": "markdown",
   "metadata": {},
   "source": [
    "## Introducción\n",
    "\n",
    "Los problemas de localización de servicios son una clase de problemas de programación lineal mixta (variables enteras y continuas) que permite la resolución de una gran cantidad de problemas de optimización que se dan en nuestra sociedad. A grandes rasgos, estos modelos permiten el estudio de aquellos problemas de decisión basados en la búsqueda del lugar óptimo donde colocar un servicio, de tal manera que se minimice una determinada métrica. Es por ello que su ámbito de aplicación es tan extenso. \n",
    "\n",
    "El caso prototípico es aquel en que una determinada empresa va a llevar a cabo una ampliación de sucursales. Es por ello que necesita seleccionar la alternativa que mayor beneficio le proporcione. Para ello, puede tratar de definir el problema de distintas maneras, como la de cubrir la zona en que se encuentran todos sus clientes, o más modestamente, una proporción de la misma, así como reducir la distancia según función de error u otras sitituaciones. Las más habituales son las siguientes:\n",
    "\n",
    "  * Cubrimiento Total (Set Covering). \n",
    "  * Cubrimiento Máximo.\n",
    "  * Localización de Medianas.\n",
    "  * Localización de Centros de Emergencia. \n",
    "  * Localización con Costos Fijos. \n",
    "  * Distritos.\n",
    "  \n",
    "En este trabajo, vamos a centrarnos en el problema de *Localización con Costos Fijos*, el cual se basa en la búsqueda de la configuración óptima entre un conjunto de puntos de demanda y un conjunto de puntos de abastecimiento posibles, entre los cuales se debe escoger un subconjunto de los mismos para satisfacer las necesidades de los puntos de demanda. \n",
    "\n",
    "El resto del trabajo se distribuye de la siguiente manera: Inicialmente se han definido distintas constantes y funciones que se utilizarán en el resto de apartados del trabajo. Posteriormente, se describirá más en detalle el modelo de los problemas de localización de servicios, para después centrarnos en el caso de *Localización de Costes Fijos*, describiendo el modelo en detalle y analizando la heurística *ADD* (muy usada en entornos reales). Después se resolverá el problema *WebBook* describiendo paso a paso las restricciones que vamos añadiendo al problema. Finalmente se discuten distintos aspectos de este tipo de problemas en el apartado de conclusiones."
   ]
  },
  {
   "cell_type": "markdown",
   "metadata": {},
   "source": [
    "#### Configuración del Entorno"
   ]
  },
  {
   "cell_type": "code",
   "execution_count": 1,
   "metadata": {},
   "outputs": [],
   "source": [
    "rm(list = ls())"
   ]
  },
  {
   "cell_type": "code",
   "execution_count": 2,
   "metadata": {},
   "outputs": [
    {
     "name": "stderr",
     "output_type": "stream",
     "text": [
      "Using the GLPK callable library version 4.65\n"
     ]
    }
   ],
   "source": [
    "library(slam, warn.conflicts = FALSE)\n",
    "library(Rglpk, warn.conflicts = FALSE)\n",
    "library(purrr, warn.conflicts = FALSE)\n",
    "library(dplyr, warn.conflicts = FALSE)\n",
    "library(magrittr, warn.conflicts = FALSE)\n",
    "library(ggplot2, warn.conflicts = FALSE)\n",
    "library(ggthemes, warn.conflicts = FALSE)\n",
    "library(scales, warn.conflicts = FALSE)"
   ]
  },
  {
   "cell_type": "code",
   "execution_count": 3,
   "metadata": {},
   "outputs": [],
   "source": [
    "options(repr.matrix.max.rows = 600, repr.matrix.max.cols = 600)"
   ]
  },
  {
   "cell_type": "markdown",
   "metadata": {},
   "source": [
    "#### Constantes y Funciones de Apoyo"
   ]
  },
  {
   "cell_type": "code",
   "execution_count": 4,
   "metadata": {},
   "outputs": [],
   "source": [
    "Solve <- function(...) {\n",
    "    Rglpk_solve_LP(...)\n",
    "}"
   ]
  },
  {
   "cell_type": "code",
   "execution_count": 5,
   "metadata": {},
   "outputs": [],
   "source": [
    "FormatUncapacitedFacicilityLocationSolution <- function(s, p) {\n",
    "    list(\n",
    "        min.cost = s$optimum,\n",
    "        ratios = matrix(round(s$solution[1:(p$m * p$n)], digits = 3), nrow = p$n),\n",
    "        services = matrix(s$solution[(p$m * p$n + 1):(p$n * (1 + p$m))], nrow = 1),\n",
    "        amount = round(t(t(matrix(s$solution[1:(p$m * p$n)], nrow = p$n)) * p$d), digits = 3)\n",
    "    )\n",
    "}"
   ]
  },
  {
   "cell_type": "markdown",
   "metadata": {},
   "source": [
    "## Problemas de Localización de Servicios\n",
    "\n",
    "Tal y como se ha indicado anteriormente, los problema de localización de servicios tratan de resolver el problema de buscar el lugar óptimo en que colocar puntos de abastecimiento de entre un conjunto de posibles puntos, para cumplir las necesidades de un conjunto de puntos de demanda, tratando de reducir al máximo los costes."
   ]
  },
  {
   "cell_type": "markdown",
   "metadata": {},
   "source": [
    "### Localización con Costos Fijos"
   ]
  },
  {
   "cell_type": "markdown",
   "metadata": {},
   "source": [
    "#### Descripción\n",
    "\n",
    "El problema de localización con costos fijos se basa en lo siguiente: suponemos que tenemos un conjunto de $m$ puntos de demanda, los cuales tienen una determinada cantidad de demanda denotada por $d_i$ (para representar la demanda del punto $i$-ésimo). Además, existe un conjunto de $n$ posibles puntos de abastecimiento, los cuales se definen por una tupla $(f_j, s_j)$, que representa el coste de fijo de utilización, y la capacidad máxima para el punto $j$-ésimo. Entonces, el problema se basa en decidir la planificación óptima entre puntos de demanda y abastecimiento, teniendo en cuenta los costes fijos de utilización. Además, existe una matriz $C$ de $m$ filas y $n$ columnas, que almacena los costos de utilización del punto de abastecimiento $j$-ésimo por el punto de demanda $i$-ésimo.\n",
    "\n",
    "Este problema se puede modelizar de distintas maneras, sin embargo una de las más utilizadas utiliza las siguientes variables de decisión: Un vector $X$ de longitud $n$ y naturaleza binaria que indicará si es o no utilizado un determinado punto de abastecimiento (lo cual se utilizará para contabilidar los costos fijos), junto con una matriz $Y$ de $m$ filas y $n$ columnas que de naturaleza continua, que indica el ratio de utilización del punto de abastecimiento $j$-ésimo por el punto de demanda $i$-ésimo. Por tanto, estas variables tomarán valores únicamente en el intervalo $[0, 1]$."
   ]
  },
  {
   "cell_type": "markdown",
   "metadata": {},
   "source": [
    "#### Modelo\n",
    "\n",
    "A continuación se incluye la modelización como problema de programación lineal para el problema de localización con costos fijos. Para ellos, nos hemos apoyado en la notación descrita en el anterior apartado."
   ]
  },
  {
   "cell_type": "markdown",
   "metadata": {},
   "source": [
    "\\begin{equation}\n",
    "    \\begin{array}{ll@{}ll}\n",
    "      \\text{Minimizar} & \\displaystyle \\sum\\limits_{j=1}^{n} f_{j} \\cdot x_{j} + \\sum\\limits_{i=1}^{m}\\sum\\limits_{j=1}^{n} c_{ij} \\cdot d_{i} \\cdot y_{ij} \\\\\n",
    "      \\text{sujeto a}  & \\sum\\limits_{j=1}^{n} y_{ij} = 1, & \\forall i \\in \\{1,...,m\\}\\\\\n",
    "                       & \\sum\\limits_{i=1}^{m} d_{i} \\cdot y_{ij} - s_j \\cdot x_{j} \\leq 0, & \\forall j \\in \\{1,...,n\\}\\\\\n",
    "                       & y_{ij} \\geq 0, & \\forall i \\in \\{1,...,m\\}, \\forall j \\in \\{1,...,n\\} \\\\\n",
    "                       & x_{j} \\in \\{0, 1\\}, & \\forall j \\in \\{1,...,n\\}\n",
    "    \\end{array}\n",
    "\\end{equation}"
   ]
  },
  {
   "cell_type": "code",
   "execution_count": 6,
   "metadata": {},
   "outputs": [],
   "source": [
    "SolveUncapacitedFacicilityLocationExact <- function(p, filtered = NULL) {\n",
    "    \n",
    "    conditions <- matrix(0, nrow = p$n + p$m, ncol = (1 + p$m) * p$n)\n",
    "\n",
    "    for (i in 1:p$m) {\n",
    "        conditions[i, seq(p$n * (i - 1) + 1, length.out = p$n)] <- 1\n",
    "    }\n",
    "\n",
    "    for (i in 1:p$n) {\n",
    "        conditions[p$m + i, seq(i, length.out = p$m, by = p$n)] <- p$d\n",
    "        if (is.null(filtered) || i %in% filtered) {\n",
    "            conditions[p$m + i, p$m * p$n + i] <- -p$s[i]   \n",
    "        }\n",
    "    }\n",
    "\n",
    "    rhs <- rep(c(1, 0), c(p$m, p$n))\n",
    "    obj <- c(t(t(p$c) * p$d), p$f)\n",
    "\n",
    "    dir <- rep(c(\"==\", \"<=\"), c(p$m, p$n))\n",
    "    types <- rep(c(\"C\", \"B\"), c(p$m, 1) * p$n)\n",
    "\n",
    "    s <- Solve(obj = obj, \n",
    "               mat = conditions, \n",
    "               dir = dir, \n",
    "               rhs = rhs,\n",
    "               types = types)\n",
    "    \n",
    "    return(s)\n",
    "}\n"
   ]
  },
  {
   "cell_type": "markdown",
   "metadata": {},
   "source": [
    "#### Heurísticas\n",
    "\n",
    "Para tratar de resolver el problema de costos fijos utilizando un menor coste computacional, existen distintas heurísticas que proporcionan resultados razonables utilizando un menor coste computacional. En este caso, se va a estudiar la heurística ADD para el problema de *localización de servicios con costos fijos*."
   ]
  },
  {
   "cell_type": "markdown",
   "metadata": {},
   "source": [
    "##### ADD\n",
    "\n",
    "TODO(@garciparedes): Añadir Descripción de la Heurística ADD."
   ]
  },
  {
   "cell_type": "code",
   "execution_count": 7,
   "metadata": {},
   "outputs": [],
   "source": [
    "SolveUncapacitedFacicilityLocationADD <- function(p, ...) {\n",
    "    stop(\"SolveUncapacitedFacicilityLocationADD() unimplemented yet!\")\n",
    "}"
   ]
  },
  {
   "cell_type": "markdown",
   "metadata": {},
   "source": [
    "#### Ejemplo: WebBook\n",
    "\n",
    "Web Book vende libros por internet. La administración quiere saber en qué sitios se deben ubicar almacenes de distribución, de entre $5$ sitios posibles, que denotaremos por *A1*, *A2*, *A3*, *A4* y *A5*. La región de ventas está dividida en $5$ zonas indicadas por *NO*, *SO*, *MO*, *SE* y *NE*. Se proporcionan los siguientes datos: la demanda semanal promedio de cada región (en número de libros), el costo promedio de envío de un libro (Euros/libro), el costo fijo semanal (en Euros) si el almacén está en funcionamiento, y la capacidad de cada almacén (en número de libros).\n",
    "\n",
    "Los datos necesarios para la resolución del problema se definen a continuación, siendo `n` el número de puntos de demanda, `m` el de posibles puntos de abastecimiento, `c` la matriz de costes, `f` los costes fijos, `s` las capacidades de cada punto de abastecimiento y `d` la demanda de cada punto de demanda."
   ]
  },
  {
   "cell_type": "code",
   "execution_count": 8,
   "metadata": {},
   "outputs": [],
   "source": [
    "p <- list(n = 5,\n",
    "          m = 5,\n",
    "          c = matrix(c(2.40, 3.50, 4.80, 6.80, 5.75,\n",
    "                       3.25, 2.30, 3.40, 5.25, 6.00,\n",
    "                       4.05, 3.25, 2.85, 4.30, 4.75,\n",
    "                       5.25, 6.05, 4.30, 3.25, 2.75,\n",
    "                       6.95, 5.85, 4.80, 2.10, 3.50), \n",
    "                     nrow = 5, byrow = TRUE),\n",
    "          f = c(4000, 3000, 2500, 4000, 3000),\n",
    "          s = c(20000, 20000, 15000, 25000, 15000),\n",
    "          d = c(8000, 12000, 9000, 14000, 17000)\n",
    ")"
   ]
  },
  {
   "cell_type": "markdown",
   "metadata": {},
   "source": [
    "##### WebBook: Cuestión 1\n",
    "\n",
    "En este apartado se resuelve el problema de manera exacta, proporcionando los siguientes resultados (nótese que la solución obtenida para la matriz $Y$ (o de ratios) es binaria)"
   ]
  },
  {
   "cell_type": "code",
   "execution_count": 9,
   "metadata": {},
   "outputs": [
    {
     "data": {
      "text/html": [
       "<dl>\n",
       "\t<dt>$min.cost</dt>\n",
       "\t\t<dd>165100</dd>\n",
       "\t<dt>$ratios</dt>\n",
       "\t\t<dd><table>\n",
       "<tbody>\n",
       "\t<tr><td>1</td><td>0</td><td>0</td><td>0</td><td>0</td></tr>\n",
       "\t<tr><td>0</td><td>1</td><td>0</td><td>0</td><td>0</td></tr>\n",
       "\t<tr><td>0</td><td>0</td><td>1</td><td>0</td><td>0</td></tr>\n",
       "\t<tr><td>0</td><td>0</td><td>0</td><td>0</td><td>1</td></tr>\n",
       "\t<tr><td>0</td><td>0</td><td>0</td><td>1</td><td>0</td></tr>\n",
       "</tbody>\n",
       "</table>\n",
       "</dd>\n",
       "\t<dt>$services</dt>\n",
       "\t\t<dd><table>\n",
       "<tbody>\n",
       "\t<tr><td>1</td><td>1</td><td>1</td><td>1</td><td>1</td></tr>\n",
       "</tbody>\n",
       "</table>\n",
       "</dd>\n",
       "\t<dt>$amount</dt>\n",
       "\t\t<dd><table>\n",
       "<tbody>\n",
       "\t<tr><td>8000 </td><td>    0</td><td>   0 </td><td>    0</td><td>    0</td></tr>\n",
       "\t<tr><td>   0 </td><td>12000</td><td>   0 </td><td>    0</td><td>    0</td></tr>\n",
       "\t<tr><td>   0 </td><td>    0</td><td>9000 </td><td>    0</td><td>    0</td></tr>\n",
       "\t<tr><td>   0 </td><td>    0</td><td>   0 </td><td>    0</td><td>17000</td></tr>\n",
       "\t<tr><td>   0 </td><td>    0</td><td>   0 </td><td>14000</td><td>    0</td></tr>\n",
       "</tbody>\n",
       "</table>\n",
       "</dd>\n",
       "</dl>\n"
      ],
      "text/latex": [
       "\\begin{description}\n",
       "\\item[\\$min.cost] 165100\n",
       "\\item[\\$ratios] \\begin{tabular}{lllll}\n",
       "\t 1 & 0 & 0 & 0 & 0\\\\\n",
       "\t 0 & 1 & 0 & 0 & 0\\\\\n",
       "\t 0 & 0 & 1 & 0 & 0\\\\\n",
       "\t 0 & 0 & 0 & 0 & 1\\\\\n",
       "\t 0 & 0 & 0 & 1 & 0\\\\\n",
       "\\end{tabular}\n",
       "\n",
       "\\item[\\$services] \\begin{tabular}{lllll}\n",
       "\t 1 & 1 & 1 & 1 & 1\\\\\n",
       "\\end{tabular}\n",
       "\n",
       "\\item[\\$amount] \\begin{tabular}{lllll}\n",
       "\t 8000  &     0 &    0  &     0 &     0\\\\\n",
       "\t    0  & 12000 &    0  &     0 &     0\\\\\n",
       "\t    0  &     0 & 9000  &     0 &     0\\\\\n",
       "\t    0  &     0 &    0  &     0 & 17000\\\\\n",
       "\t    0  &     0 &    0  & 14000 &     0\\\\\n",
       "\\end{tabular}\n",
       "\n",
       "\\end{description}\n"
      ],
      "text/markdown": [
       "$min.cost\n",
       ":   165100\n",
       "$ratios\n",
       ":   \n",
       "| 1 | 0 | 0 | 0 | 0 | \n",
       "| 0 | 1 | 0 | 0 | 0 | \n",
       "| 0 | 0 | 1 | 0 | 0 | \n",
       "| 0 | 0 | 0 | 0 | 1 | \n",
       "| 0 | 0 | 0 | 1 | 0 | \n",
       "\n",
       "\n",
       "\n",
       "$services\n",
       ":   \n",
       "| 1 | 1 | 1 | 1 | 1 | \n",
       "\n",
       "\n",
       "\n",
       "$amount\n",
       ":   \n",
       "| 8000  |     0 |    0  |     0 |     0 | \n",
       "|    0  | 12000 |    0  |     0 |     0 | \n",
       "|    0  |     0 | 9000  |     0 |     0 | \n",
       "|    0  |     0 |    0  |     0 | 17000 | \n",
       "|    0  |     0 |    0  | 14000 |     0 | \n",
       "\n",
       "\n",
       "\n",
       "\n",
       "\n"
      ],
      "text/plain": [
       "$min.cost\n",
       "[1] 165100\n",
       "\n",
       "$ratios\n",
       "     [,1] [,2] [,3] [,4] [,5]\n",
       "[1,]    1    0    0    0    0\n",
       "[2,]    0    1    0    0    0\n",
       "[3,]    0    0    1    0    0\n",
       "[4,]    0    0    0    0    1\n",
       "[5,]    0    0    0    1    0\n",
       "\n",
       "$services\n",
       "     [,1] [,2] [,3] [,4] [,5]\n",
       "[1,]    1    1    1    1    1\n",
       "\n",
       "$amount\n",
       "     [,1]  [,2] [,3]  [,4]  [,5]\n",
       "[1,] 8000     0    0     0     0\n",
       "[2,]    0 12000    0     0     0\n",
       "[3,]    0     0 9000     0     0\n",
       "[4,]    0     0    0     0 17000\n",
       "[5,]    0     0    0 14000     0\n"
      ]
     },
     "metadata": {},
     "output_type": "display_data"
    }
   ],
   "source": [
    "s <- SolveUncapacitedFacicilityLocationExact(p)\n",
    "FormatUncapacitedFacicilityLocationSolution(s, p)"
   ]
  },
  {
   "cell_type": "markdown",
   "metadata": {},
   "source": [
    "##### WebBook: Cuestión 2"
   ]
  },
  {
   "cell_type": "markdown",
   "metadata": {},
   "source": [
    "*\"Un directivo de la compañía piensa que la mejor opción es abrir los almacenes *A1*, *A2* y *A4*. Para esta opción, calcular manualmente su correspodiente costo.\"*\n",
    "\n",
    "En este caso, se restringe el espacio de posibles soluciones a las que se basen en los almacenes 1, 2 y 4. La solución obtenida en este caso es la siguiente (nótese que en este caso las soluciones obtenidas en la matriz $Y$ (o de ratios) no son binarias)."
   ]
  },
  {
   "cell_type": "code",
   "execution_count": 10,
   "metadata": {},
   "outputs": [
    {
     "data": {
      "text/html": [
       "<dl>\n",
       "\t<dt>$min.cost</dt>\n",
       "\t\t<dd>199850</dd>\n",
       "\t<dt>$ratios</dt>\n",
       "\t\t<dd><table>\n",
       "<tbody>\n",
       "\t<tr><td>1    </td><td>0.083</td><td>0    </td><td>0    </td><td>0.353</td></tr>\n",
       "\t<tr><td>0    </td><td>0.917</td><td>1    </td><td>0    </td><td>0.000</td></tr>\n",
       "\t<tr><td>0    </td><td>0.000</td><td>0    </td><td>0    </td><td>0.000</td></tr>\n",
       "\t<tr><td>0    </td><td>0.000</td><td>0    </td><td>1    </td><td>0.647</td></tr>\n",
       "\t<tr><td>0    </td><td>0.000</td><td>0    </td><td>0    </td><td>0.000</td></tr>\n",
       "</tbody>\n",
       "</table>\n",
       "</dd>\n",
       "\t<dt>$services</dt>\n",
       "\t\t<dd><table>\n",
       "<tbody>\n",
       "\t<tr><td>1</td><td>1</td><td>0</td><td>1</td><td>0</td></tr>\n",
       "</tbody>\n",
       "</table>\n",
       "</dd>\n",
       "\t<dt>$amount</dt>\n",
       "\t\t<dd><table>\n",
       "<tbody>\n",
       "\t<tr><td>8000 </td><td> 1000</td><td>   0 </td><td>    0</td><td> 6000</td></tr>\n",
       "\t<tr><td>   0 </td><td>11000</td><td>9000 </td><td>    0</td><td>    0</td></tr>\n",
       "\t<tr><td>   0 </td><td>    0</td><td>   0 </td><td>    0</td><td>    0</td></tr>\n",
       "\t<tr><td>   0 </td><td>    0</td><td>   0 </td><td>14000</td><td>11000</td></tr>\n",
       "\t<tr><td>   0 </td><td>    0</td><td>   0 </td><td>    0</td><td>    0</td></tr>\n",
       "</tbody>\n",
       "</table>\n",
       "</dd>\n",
       "</dl>\n"
      ],
      "text/latex": [
       "\\begin{description}\n",
       "\\item[\\$min.cost] 199850\n",
       "\\item[\\$ratios] \\begin{tabular}{lllll}\n",
       "\t 1     & 0.083 & 0     & 0     & 0.353\\\\\n",
       "\t 0     & 0.917 & 1     & 0     & 0.000\\\\\n",
       "\t 0     & 0.000 & 0     & 0     & 0.000\\\\\n",
       "\t 0     & 0.000 & 0     & 1     & 0.647\\\\\n",
       "\t 0     & 0.000 & 0     & 0     & 0.000\\\\\n",
       "\\end{tabular}\n",
       "\n",
       "\\item[\\$services] \\begin{tabular}{lllll}\n",
       "\t 1 & 1 & 0 & 1 & 0\\\\\n",
       "\\end{tabular}\n",
       "\n",
       "\\item[\\$amount] \\begin{tabular}{lllll}\n",
       "\t 8000  &  1000 &    0  &     0 &  6000\\\\\n",
       "\t    0  & 11000 & 9000  &     0 &     0\\\\\n",
       "\t    0  &     0 &    0  &     0 &     0\\\\\n",
       "\t    0  &     0 &    0  & 14000 & 11000\\\\\n",
       "\t    0  &     0 &    0  &     0 &     0\\\\\n",
       "\\end{tabular}\n",
       "\n",
       "\\end{description}\n"
      ],
      "text/markdown": [
       "$min.cost\n",
       ":   199850\n",
       "$ratios\n",
       ":   \n",
       "| 1     | 0.083 | 0     | 0     | 0.353 | \n",
       "| 0     | 0.917 | 1     | 0     | 0.000 | \n",
       "| 0     | 0.000 | 0     | 0     | 0.000 | \n",
       "| 0     | 0.000 | 0     | 1     | 0.647 | \n",
       "| 0     | 0.000 | 0     | 0     | 0.000 | \n",
       "\n",
       "\n",
       "\n",
       "$services\n",
       ":   \n",
       "| 1 | 1 | 0 | 1 | 0 | \n",
       "\n",
       "\n",
       "\n",
       "$amount\n",
       ":   \n",
       "| 8000  |  1000 |    0  |     0 |  6000 | \n",
       "|    0  | 11000 | 9000  |     0 |     0 | \n",
       "|    0  |     0 |    0  |     0 |     0 | \n",
       "|    0  |     0 |    0  | 14000 | 11000 | \n",
       "|    0  |     0 |    0  |     0 |     0 | \n",
       "\n",
       "\n",
       "\n",
       "\n",
       "\n"
      ],
      "text/plain": [
       "$min.cost\n",
       "[1] 199850\n",
       "\n",
       "$ratios\n",
       "     [,1]  [,2] [,3] [,4]  [,5]\n",
       "[1,]    1 0.083    0    0 0.353\n",
       "[2,]    0 0.917    1    0 0.000\n",
       "[3,]    0 0.000    0    0 0.000\n",
       "[4,]    0 0.000    0    1 0.647\n",
       "[5,]    0 0.000    0    0 0.000\n",
       "\n",
       "$services\n",
       "     [,1] [,2] [,3] [,4] [,5]\n",
       "[1,]    1    1    0    1    0\n",
       "\n",
       "$amount\n",
       "     [,1]  [,2] [,3]  [,4]  [,5]\n",
       "[1,] 8000  1000    0     0  6000\n",
       "[2,]    0 11000 9000     0     0\n",
       "[3,]    0     0    0     0     0\n",
       "[4,]    0     0    0 14000 11000\n",
       "[5,]    0     0    0     0     0\n"
      ]
     },
     "metadata": {},
     "output_type": "display_data"
    }
   ],
   "source": [
    "s <- SolveUncapacitedFacicilityLocationExact(p, c(1, 2, 4))\n",
    "FormatUncapacitedFacicilityLocationSolution(s, p)"
   ]
  },
  {
   "cell_type": "markdown",
   "metadata": {},
   "source": [
    "##### WebBook: Cuestión 3"
   ]
  },
  {
   "cell_type": "markdown",
   "metadata": {},
   "source": [
    "*\"Añadir las siguientes restricciones:*\n",
    "  * *Por proximidad geográfica, los almacenes *A1* y *A3* no deberían estar abiertos simultáneamente.*\n",
    "  * *Para mantener un equilibrio entre los distribuidores, si al almacén *A4* se le asignan más de $22.000$ libros semanales, los almacenes *A1* y *A2* deben tener asignados, en conjunto, al menos $15.000$ libros.*\"\n",
    "  \n",
    "En este caso, vamos a resolver el problema paso a paso, construyendo de manera apropiada la matriz de restricciones. A continuación se construye la matriz de condiciones inicial:"
   ]
  },
  {
   "cell_type": "code",
   "execution_count": 11,
   "metadata": {},
   "outputs": [
    {
     "data": {
      "text/html": [
       "<table>\n",
       "<thead><tr><th scope=col></th><th scope=col></th><th scope=col></th><th scope=col></th><th scope=col></th><th scope=col></th><th scope=col></th><th scope=col></th><th scope=col></th><th scope=col></th><th scope=col></th><th scope=col></th><th scope=col></th><th scope=col></th><th scope=col></th><th scope=col></th><th scope=col></th><th scope=col></th><th scope=col></th><th scope=col></th><th scope=col></th><th scope=col></th><th scope=col></th><th scope=col></th><th scope=col></th><th scope=col></th><th scope=col></th><th scope=col></th><th scope=col></th><th scope=col></th><th scope=col>dir</th><th scope=col>rhs</th></tr></thead>\n",
       "<tbody>\n",
       "\t<tr><td>1     </td><td>1     </td><td>1     </td><td>1     </td><td>1     </td><td>0     </td><td>0     </td><td>0     </td><td>0     </td><td>0     </td><td>0     </td><td>0     </td><td>0     </td><td>0     </td><td>0     </td><td>0     </td><td>0     </td><td>0     </td><td>0     </td><td>0     </td><td>0     </td><td>0     </td><td>0     </td><td>0     </td><td>0     </td><td>0     </td><td>0     </td><td>0     </td><td>0     </td><td>0     </td><td>==    </td><td>1     </td></tr>\n",
       "\t<tr><td>0     </td><td>0     </td><td>0     </td><td>0     </td><td>0     </td><td>1     </td><td>1     </td><td>1     </td><td>1     </td><td>1     </td><td>0     </td><td>0     </td><td>0     </td><td>0     </td><td>0     </td><td>0     </td><td>0     </td><td>0     </td><td>0     </td><td>0     </td><td>0     </td><td>0     </td><td>0     </td><td>0     </td><td>0     </td><td>0     </td><td>0     </td><td>0     </td><td>0     </td><td>0     </td><td>==    </td><td>1     </td></tr>\n",
       "\t<tr><td>0     </td><td>0     </td><td>0     </td><td>0     </td><td>0     </td><td>0     </td><td>0     </td><td>0     </td><td>0     </td><td>0     </td><td>1     </td><td>1     </td><td>1     </td><td>1     </td><td>1     </td><td>0     </td><td>0     </td><td>0     </td><td>0     </td><td>0     </td><td>0     </td><td>0     </td><td>0     </td><td>0     </td><td>0     </td><td>0     </td><td>0     </td><td>0     </td><td>0     </td><td>0     </td><td>==    </td><td>1     </td></tr>\n",
       "\t<tr><td>0     </td><td>0     </td><td>0     </td><td>0     </td><td>0     </td><td>0     </td><td>0     </td><td>0     </td><td>0     </td><td>0     </td><td>0     </td><td>0     </td><td>0     </td><td>0     </td><td>0     </td><td>1     </td><td>1     </td><td>1     </td><td>1     </td><td>1     </td><td>0     </td><td>0     </td><td>0     </td><td>0     </td><td>0     </td><td>0     </td><td>0     </td><td>0     </td><td>0     </td><td>0     </td><td>==    </td><td>1     </td></tr>\n",
       "\t<tr><td>0     </td><td>0     </td><td>0     </td><td>0     </td><td>0     </td><td>0     </td><td>0     </td><td>0     </td><td>0     </td><td>0     </td><td>0     </td><td>0     </td><td>0     </td><td>0     </td><td>0     </td><td>0     </td><td>0     </td><td>0     </td><td>0     </td><td>0     </td><td>1     </td><td>1     </td><td>1     </td><td>1     </td><td>1     </td><td>0     </td><td>0     </td><td>0     </td><td>0     </td><td>0     </td><td>==    </td><td>1     </td></tr>\n",
       "\t<tr><td>8000                                          </td><td><span style=white-space:pre-wrap>0   </span>  </td><td><span style=white-space:pre-wrap>0   </span>  </td><td><span style=white-space:pre-wrap>0   </span>  </td><td><span style=white-space:pre-wrap>0   </span>  </td><td>12000                                         </td><td><span style=white-space:pre-wrap>0    </span> </td><td><span style=white-space:pre-wrap>0    </span> </td><td><span style=white-space:pre-wrap>0    </span> </td><td><span style=white-space:pre-wrap>0    </span> </td><td>9000                                          </td><td><span style=white-space:pre-wrap>0   </span>  </td><td><span style=white-space:pre-wrap>0   </span>  </td><td><span style=white-space:pre-wrap>0   </span>  </td><td><span style=white-space:pre-wrap>0   </span>  </td><td>14000                                         </td><td><span style=white-space:pre-wrap>0    </span> </td><td><span style=white-space:pre-wrap>0    </span> </td><td><span style=white-space:pre-wrap>0    </span> </td><td><span style=white-space:pre-wrap>0    </span> </td><td>17000                                         </td><td><span style=white-space:pre-wrap>0    </span> </td><td><span style=white-space:pre-wrap>0    </span> </td><td><span style=white-space:pre-wrap>0    </span> </td><td><span style=white-space:pre-wrap>0    </span> </td><td>-20000                                        </td><td><span style=white-space:pre-wrap>0     </span></td><td><span style=white-space:pre-wrap>0     </span></td><td><span style=white-space:pre-wrap>0     </span></td><td><span style=white-space:pre-wrap>0     </span></td><td>&lt;=                                         </td><td>0                                             </td></tr>\n",
       "\t<tr><td><span style=white-space:pre-wrap>0   </span>  </td><td>8000                                          </td><td><span style=white-space:pre-wrap>0   </span>  </td><td><span style=white-space:pre-wrap>0   </span>  </td><td><span style=white-space:pre-wrap>0   </span>  </td><td><span style=white-space:pre-wrap>0    </span> </td><td>12000                                         </td><td><span style=white-space:pre-wrap>0    </span> </td><td><span style=white-space:pre-wrap>0    </span> </td><td><span style=white-space:pre-wrap>0    </span> </td><td><span style=white-space:pre-wrap>0   </span>  </td><td>9000                                          </td><td><span style=white-space:pre-wrap>0   </span>  </td><td><span style=white-space:pre-wrap>0   </span>  </td><td><span style=white-space:pre-wrap>0   </span>  </td><td><span style=white-space:pre-wrap>0    </span> </td><td>14000                                         </td><td><span style=white-space:pre-wrap>0    </span> </td><td><span style=white-space:pre-wrap>0    </span> </td><td><span style=white-space:pre-wrap>0    </span> </td><td><span style=white-space:pre-wrap>0    </span> </td><td>17000                                         </td><td><span style=white-space:pre-wrap>0    </span> </td><td><span style=white-space:pre-wrap>0    </span> </td><td><span style=white-space:pre-wrap>0    </span> </td><td><span style=white-space:pre-wrap>0     </span></td><td>-20000                                        </td><td><span style=white-space:pre-wrap>0     </span></td><td><span style=white-space:pre-wrap>0     </span></td><td><span style=white-space:pre-wrap>0     </span></td><td>&lt;=                                         </td><td>0                                             </td></tr>\n",
       "\t<tr><td><span style=white-space:pre-wrap>0   </span>  </td><td><span style=white-space:pre-wrap>0   </span>  </td><td>8000                                          </td><td><span style=white-space:pre-wrap>0   </span>  </td><td><span style=white-space:pre-wrap>0   </span>  </td><td><span style=white-space:pre-wrap>0    </span> </td><td><span style=white-space:pre-wrap>0    </span> </td><td>12000                                         </td><td><span style=white-space:pre-wrap>0    </span> </td><td><span style=white-space:pre-wrap>0    </span> </td><td><span style=white-space:pre-wrap>0   </span>  </td><td><span style=white-space:pre-wrap>0   </span>  </td><td>9000                                          </td><td><span style=white-space:pre-wrap>0   </span>  </td><td><span style=white-space:pre-wrap>0   </span>  </td><td><span style=white-space:pre-wrap>0    </span> </td><td><span style=white-space:pre-wrap>0    </span> </td><td>14000                                         </td><td><span style=white-space:pre-wrap>0    </span> </td><td><span style=white-space:pre-wrap>0    </span> </td><td><span style=white-space:pre-wrap>0    </span> </td><td><span style=white-space:pre-wrap>0    </span> </td><td>17000                                         </td><td><span style=white-space:pre-wrap>0    </span> </td><td><span style=white-space:pre-wrap>0    </span> </td><td><span style=white-space:pre-wrap>0     </span></td><td><span style=white-space:pre-wrap>0     </span></td><td>-15000                                        </td><td><span style=white-space:pre-wrap>0     </span></td><td><span style=white-space:pre-wrap>0     </span></td><td>&lt;=                                         </td><td>0                                             </td></tr>\n",
       "\t<tr><td><span style=white-space:pre-wrap>0   </span>  </td><td><span style=white-space:pre-wrap>0   </span>  </td><td><span style=white-space:pre-wrap>0   </span>  </td><td>8000                                          </td><td><span style=white-space:pre-wrap>0   </span>  </td><td><span style=white-space:pre-wrap>0    </span> </td><td><span style=white-space:pre-wrap>0    </span> </td><td><span style=white-space:pre-wrap>0    </span> </td><td>12000                                         </td><td><span style=white-space:pre-wrap>0    </span> </td><td><span style=white-space:pre-wrap>0   </span>  </td><td><span style=white-space:pre-wrap>0   </span>  </td><td><span style=white-space:pre-wrap>0   </span>  </td><td>9000                                          </td><td><span style=white-space:pre-wrap>0   </span>  </td><td><span style=white-space:pre-wrap>0    </span> </td><td><span style=white-space:pre-wrap>0    </span> </td><td><span style=white-space:pre-wrap>0    </span> </td><td>14000                                         </td><td><span style=white-space:pre-wrap>0    </span> </td><td><span style=white-space:pre-wrap>0    </span> </td><td><span style=white-space:pre-wrap>0    </span> </td><td><span style=white-space:pre-wrap>0    </span> </td><td>17000                                         </td><td><span style=white-space:pre-wrap>0    </span> </td><td><span style=white-space:pre-wrap>0     </span></td><td><span style=white-space:pre-wrap>0     </span></td><td><span style=white-space:pre-wrap>0     </span></td><td>-25000                                        </td><td><span style=white-space:pre-wrap>0     </span></td><td>&lt;=                                         </td><td>0                                             </td></tr>\n",
       "\t<tr><td><span style=white-space:pre-wrap>0   </span>  </td><td><span style=white-space:pre-wrap>0   </span>  </td><td><span style=white-space:pre-wrap>0   </span>  </td><td><span style=white-space:pre-wrap>0   </span>  </td><td>8000                                          </td><td><span style=white-space:pre-wrap>0    </span> </td><td><span style=white-space:pre-wrap>0    </span> </td><td><span style=white-space:pre-wrap>0    </span> </td><td><span style=white-space:pre-wrap>0    </span> </td><td>12000                                         </td><td><span style=white-space:pre-wrap>0   </span>  </td><td><span style=white-space:pre-wrap>0   </span>  </td><td><span style=white-space:pre-wrap>0   </span>  </td><td><span style=white-space:pre-wrap>0   </span>  </td><td>9000                                          </td><td><span style=white-space:pre-wrap>0    </span> </td><td><span style=white-space:pre-wrap>0    </span> </td><td><span style=white-space:pre-wrap>0    </span> </td><td><span style=white-space:pre-wrap>0    </span> </td><td>14000                                         </td><td><span style=white-space:pre-wrap>0    </span> </td><td><span style=white-space:pre-wrap>0    </span> </td><td><span style=white-space:pre-wrap>0    </span> </td><td><span style=white-space:pre-wrap>0    </span> </td><td>17000                                         </td><td><span style=white-space:pre-wrap>0     </span></td><td><span style=white-space:pre-wrap>0     </span></td><td><span style=white-space:pre-wrap>0     </span></td><td><span style=white-space:pre-wrap>0     </span></td><td>-15000                                        </td><td>&lt;=                                         </td><td>0                                             </td></tr>\n",
       "</tbody>\n",
       "</table>\n"
      ],
      "text/latex": [
       "\\begin{tabular}{llllllllllllllllllllllllllllllll}\n",
       "  &  &  &  &  &  &  &  &  &  &  &  &  &  &  &  &  &  &  &  &  &  &  &  &  &  &  &  &  &  & dir & rhs\\\\\n",
       "\\hline\n",
       "\t 1      & 1      & 1      & 1      & 1      & 0      & 0      & 0      & 0      & 0      & 0      & 0      & 0      & 0      & 0      & 0      & 0      & 0      & 0      & 0      & 0      & 0      & 0      & 0      & 0      & 0      & 0      & 0      & 0      & 0      & ==     & 1     \\\\\n",
       "\t 0      & 0      & 0      & 0      & 0      & 1      & 1      & 1      & 1      & 1      & 0      & 0      & 0      & 0      & 0      & 0      & 0      & 0      & 0      & 0      & 0      & 0      & 0      & 0      & 0      & 0      & 0      & 0      & 0      & 0      & ==     & 1     \\\\\n",
       "\t 0      & 0      & 0      & 0      & 0      & 0      & 0      & 0      & 0      & 0      & 1      & 1      & 1      & 1      & 1      & 0      & 0      & 0      & 0      & 0      & 0      & 0      & 0      & 0      & 0      & 0      & 0      & 0      & 0      & 0      & ==     & 1     \\\\\n",
       "\t 0      & 0      & 0      & 0      & 0      & 0      & 0      & 0      & 0      & 0      & 0      & 0      & 0      & 0      & 0      & 1      & 1      & 1      & 1      & 1      & 0      & 0      & 0      & 0      & 0      & 0      & 0      & 0      & 0      & 0      & ==     & 1     \\\\\n",
       "\t 0      & 0      & 0      & 0      & 0      & 0      & 0      & 0      & 0      & 0      & 0      & 0      & 0      & 0      & 0      & 0      & 0      & 0      & 0      & 0      & 1      & 1      & 1      & 1      & 1      & 0      & 0      & 0      & 0      & 0      & ==     & 1     \\\\\n",
       "\t 8000   & 0      & 0      & 0      & 0      & 12000  & 0      & 0      & 0      & 0      & 9000   & 0      & 0      & 0      & 0      & 14000  & 0      & 0      & 0      & 0      & 17000  & 0      & 0      & 0      & 0      & -20000 & 0      & 0      & 0      & 0      & <=     & 0     \\\\\n",
       "\t 0      & 8000   & 0      & 0      & 0      & 0      & 12000  & 0      & 0      & 0      & 0      & 9000   & 0      & 0      & 0      & 0      & 14000  & 0      & 0      & 0      & 0      & 17000  & 0      & 0      & 0      & 0      & -20000 & 0      & 0      & 0      & <=     & 0     \\\\\n",
       "\t 0      & 0      & 8000   & 0      & 0      & 0      & 0      & 12000  & 0      & 0      & 0      & 0      & 9000   & 0      & 0      & 0      & 0      & 14000  & 0      & 0      & 0      & 0      & 17000  & 0      & 0      & 0      & 0      & -15000 & 0      & 0      & <=     & 0     \\\\\n",
       "\t 0      & 0      & 0      & 8000   & 0      & 0      & 0      & 0      & 12000  & 0      & 0      & 0      & 0      & 9000   & 0      & 0      & 0      & 0      & 14000  & 0      & 0      & 0      & 0      & 17000  & 0      & 0      & 0      & 0      & -25000 & 0      & <=     & 0     \\\\\n",
       "\t 0      & 0      & 0      & 0      & 8000   & 0      & 0      & 0      & 0      & 12000  & 0      & 0      & 0      & 0      & 9000   & 0      & 0      & 0      & 0      & 14000  & 0      & 0      & 0      & 0      & 17000  & 0      & 0      & 0      & 0      & -15000 & <=     & 0     \\\\\n",
       "\\end{tabular}\n"
      ],
      "text/markdown": [
       "\n",
       " |  |  |  |  |  |  |  |  |  |  |  |  |  |  |  |  |  |  |  |  |  |  |  |  |  |  |  |  |  | dir | rhs | \n",
       "|---|---|---|---|---|---|---|---|---|---|\n",
       "| 1      | 1      | 1      | 1      | 1      | 0      | 0      | 0      | 0      | 0      | 0      | 0      | 0      | 0      | 0      | 0      | 0      | 0      | 0      | 0      | 0      | 0      | 0      | 0      | 0      | 0      | 0      | 0      | 0      | 0      | ==     | 1      | \n",
       "| 0      | 0      | 0      | 0      | 0      | 1      | 1      | 1      | 1      | 1      | 0      | 0      | 0      | 0      | 0      | 0      | 0      | 0      | 0      | 0      | 0      | 0      | 0      | 0      | 0      | 0      | 0      | 0      | 0      | 0      | ==     | 1      | \n",
       "| 0      | 0      | 0      | 0      | 0      | 0      | 0      | 0      | 0      | 0      | 1      | 1      | 1      | 1      | 1      | 0      | 0      | 0      | 0      | 0      | 0      | 0      | 0      | 0      | 0      | 0      | 0      | 0      | 0      | 0      | ==     | 1      | \n",
       "| 0      | 0      | 0      | 0      | 0      | 0      | 0      | 0      | 0      | 0      | 0      | 0      | 0      | 0      | 0      | 1      | 1      | 1      | 1      | 1      | 0      | 0      | 0      | 0      | 0      | 0      | 0      | 0      | 0      | 0      | ==     | 1      | \n",
       "| 0      | 0      | 0      | 0      | 0      | 0      | 0      | 0      | 0      | 0      | 0      | 0      | 0      | 0      | 0      | 0      | 0      | 0      | 0      | 0      | 1      | 1      | 1      | 1      | 1      | 0      | 0      | 0      | 0      | 0      | ==     | 1      | \n",
       "| 8000   | 0      | 0      | 0      | 0      | 12000  | 0      | 0      | 0      | 0      | 9000   | 0      | 0      | 0      | 0      | 14000  | 0      | 0      | 0      | 0      | 17000  | 0      | 0      | 0      | 0      | -20000 | 0      | 0      | 0      | 0      | <=     | 0      | \n",
       "| 0      | 8000   | 0      | 0      | 0      | 0      | 12000  | 0      | 0      | 0      | 0      | 9000   | 0      | 0      | 0      | 0      | 14000  | 0      | 0      | 0      | 0      | 17000  | 0      | 0      | 0      | 0      | -20000 | 0      | 0      | 0      | <=     | 0      | \n",
       "| 0      | 0      | 8000   | 0      | 0      | 0      | 0      | 12000  | 0      | 0      | 0      | 0      | 9000   | 0      | 0      | 0      | 0      | 14000  | 0      | 0      | 0      | 0      | 17000  | 0      | 0      | 0      | 0      | -15000 | 0      | 0      | <=     | 0      | \n",
       "| 0      | 0      | 0      | 8000   | 0      | 0      | 0      | 0      | 12000  | 0      | 0      | 0      | 0      | 9000   | 0      | 0      | 0      | 0      | 14000  | 0      | 0      | 0      | 0      | 17000  | 0      | 0      | 0      | 0      | -25000 | 0      | <=     | 0      | \n",
       "| 0      | 0      | 0      | 0      | 8000   | 0      | 0      | 0      | 0      | 12000  | 0      | 0      | 0      | 0      | 9000   | 0      | 0      | 0      | 0      | 14000  | 0      | 0      | 0      | 0      | 17000  | 0      | 0      | 0      | 0      | -15000 | <=     | 0      | \n",
       "\n",
       "\n"
      ],
      "text/plain": [
       "                                                                           \n",
       " [1,] 1    1    1    1    1    0     0     0     0     0     0    0    0   \n",
       " [2,] 0    0    0    0    0    1     1     1     1     1     0    0    0   \n",
       " [3,] 0    0    0    0    0    0     0     0     0     0     1    1    1   \n",
       " [4,] 0    0    0    0    0    0     0     0     0     0     0    0    0   \n",
       " [5,] 0    0    0    0    0    0     0     0     0     0     0    0    0   \n",
       " [6,] 8000 0    0    0    0    12000 0     0     0     0     9000 0    0   \n",
       " [7,] 0    8000 0    0    0    0     12000 0     0     0     0    9000 0   \n",
       " [8,] 0    0    8000 0    0    0     0     12000 0     0     0    0    9000\n",
       " [9,] 0    0    0    8000 0    0     0     0     12000 0     0    0    0   \n",
       "[10,] 0    0    0    0    8000 0     0     0     0     12000 0    0    0   \n",
       "                                                                           \n",
       " [1,] 0    0    0     0     0     0     0     0     0     0     0     0    \n",
       " [2,] 0    0    0     0     0     0     0     0     0     0     0     0    \n",
       " [3,] 1    1    0     0     0     0     0     0     0     0     0     0    \n",
       " [4,] 0    0    1     1     1     1     1     0     0     0     0     0    \n",
       " [5,] 0    0    0     0     0     0     0     1     1     1     1     1    \n",
       " [6,] 0    0    14000 0     0     0     0     17000 0     0     0     0    \n",
       " [7,] 0    0    0     14000 0     0     0     0     17000 0     0     0    \n",
       " [8,] 0    0    0     0     14000 0     0     0     0     17000 0     0    \n",
       " [9,] 9000 0    0     0     0     14000 0     0     0     0     17000 0    \n",
       "[10,] 0    9000 0     0     0     0     14000 0     0     0     0     17000\n",
       "                                         dir rhs\n",
       " [1,] 0      0      0      0      0      ==  1  \n",
       " [2,] 0      0      0      0      0      ==  1  \n",
       " [3,] 0      0      0      0      0      ==  1  \n",
       " [4,] 0      0      0      0      0      ==  1  \n",
       " [5,] 0      0      0      0      0      ==  1  \n",
       " [6,] -20000 0      0      0      0      <=  0  \n",
       " [7,] 0      -20000 0      0      0      <=  0  \n",
       " [8,] 0      0      -15000 0      0      <=  0  \n",
       " [9,] 0      0      0      -25000 0      <=  0  \n",
       "[10,] 0      0      0      0      -15000 <=  0  "
      ]
     },
     "metadata": {},
     "output_type": "display_data"
    }
   ],
   "source": [
    "conditions <- matrix(0, nrow = p$n + p$m, ncol = (1 + p$m) * p$n)\n",
    "for (i in 1:p$m) {\n",
    "    conditions[i, seq(p$n * (i - 1) + 1, length.out = p$n)] <- 1\n",
    "}\n",
    "for (i in 1:p$n) {\n",
    "    conditions[p$m + i, seq(i, length.out = p$m, by = p$n)] <- p$d\n",
    "    conditions[p$m + i, p$m * p$n + i] <- -p$s[i]\n",
    "}\n",
    "rhs <- rep(c(1, 0), c(p$m, p$n))\n",
    "obj <- c(t(t(p$c) * p$d), p$f)\n",
    "dir <- rep(c(\"==\", \"<=\"), c(p$m, p$n))\n",
    "types <- rep(c(\"C\", \"B\"), c(p$m, 1) * p$n)\n",
    "\n",
    "cbind(conditions, dir, rhs)"
   ]
  },
  {
   "cell_type": "markdown",
   "metadata": {},
   "source": [
    "El siguiente paso es añadir la restricción de que únicamente puedan construirse el Almacén A1 o el A3, obteniendo la siguiente matriz de restricciones:"
   ]
  },
  {
   "cell_type": "code",
   "execution_count": 12,
   "metadata": {},
   "outputs": [
    {
     "data": {
      "text/html": [
       "<table>\n",
       "<thead><tr><th scope=col></th><th scope=col></th><th scope=col></th><th scope=col></th><th scope=col></th><th scope=col></th><th scope=col></th><th scope=col></th><th scope=col></th><th scope=col></th><th scope=col></th><th scope=col></th><th scope=col></th><th scope=col></th><th scope=col></th><th scope=col></th><th scope=col></th><th scope=col></th><th scope=col></th><th scope=col></th><th scope=col></th><th scope=col></th><th scope=col></th><th scope=col></th><th scope=col></th><th scope=col></th><th scope=col></th><th scope=col></th><th scope=col></th><th scope=col></th><th scope=col>dir</th><th scope=col>rhs</th></tr></thead>\n",
       "<tbody>\n",
       "\t<tr><td>1     </td><td>1     </td><td>1     </td><td>1     </td><td>1     </td><td>0     </td><td>0     </td><td>0     </td><td>0     </td><td>0     </td><td>0     </td><td>0     </td><td>0     </td><td>0     </td><td>0     </td><td>0     </td><td>0     </td><td>0     </td><td>0     </td><td>0     </td><td>0     </td><td>0     </td><td>0     </td><td>0     </td><td>0     </td><td>0     </td><td>0     </td><td>0     </td><td>0     </td><td>0     </td><td>==    </td><td>1     </td></tr>\n",
       "\t<tr><td>0     </td><td>0     </td><td>0     </td><td>0     </td><td>0     </td><td>1     </td><td>1     </td><td>1     </td><td>1     </td><td>1     </td><td>0     </td><td>0     </td><td>0     </td><td>0     </td><td>0     </td><td>0     </td><td>0     </td><td>0     </td><td>0     </td><td>0     </td><td>0     </td><td>0     </td><td>0     </td><td>0     </td><td>0     </td><td>0     </td><td>0     </td><td>0     </td><td>0     </td><td>0     </td><td>==    </td><td>1     </td></tr>\n",
       "\t<tr><td>0     </td><td>0     </td><td>0     </td><td>0     </td><td>0     </td><td>0     </td><td>0     </td><td>0     </td><td>0     </td><td>0     </td><td>1     </td><td>1     </td><td>1     </td><td>1     </td><td>1     </td><td>0     </td><td>0     </td><td>0     </td><td>0     </td><td>0     </td><td>0     </td><td>0     </td><td>0     </td><td>0     </td><td>0     </td><td>0     </td><td>0     </td><td>0     </td><td>0     </td><td>0     </td><td>==    </td><td>1     </td></tr>\n",
       "\t<tr><td>0     </td><td>0     </td><td>0     </td><td>0     </td><td>0     </td><td>0     </td><td>0     </td><td>0     </td><td>0     </td><td>0     </td><td>0     </td><td>0     </td><td>0     </td><td>0     </td><td>0     </td><td>1     </td><td>1     </td><td>1     </td><td>1     </td><td>1     </td><td>0     </td><td>0     </td><td>0     </td><td>0     </td><td>0     </td><td>0     </td><td>0     </td><td>0     </td><td>0     </td><td>0     </td><td>==    </td><td>1     </td></tr>\n",
       "\t<tr><td>0     </td><td>0     </td><td>0     </td><td>0     </td><td>0     </td><td>0     </td><td>0     </td><td>0     </td><td>0     </td><td>0     </td><td>0     </td><td>0     </td><td>0     </td><td>0     </td><td>0     </td><td>0     </td><td>0     </td><td>0     </td><td>0     </td><td>0     </td><td>1     </td><td>1     </td><td>1     </td><td>1     </td><td>1     </td><td>0     </td><td>0     </td><td>0     </td><td>0     </td><td>0     </td><td>==    </td><td>1     </td></tr>\n",
       "\t<tr><td>8000                                          </td><td><span style=white-space:pre-wrap>0   </span>  </td><td><span style=white-space:pre-wrap>0   </span>  </td><td><span style=white-space:pre-wrap>0   </span>  </td><td><span style=white-space:pre-wrap>0   </span>  </td><td>12000                                         </td><td><span style=white-space:pre-wrap>0    </span> </td><td><span style=white-space:pre-wrap>0    </span> </td><td><span style=white-space:pre-wrap>0    </span> </td><td><span style=white-space:pre-wrap>0    </span> </td><td>9000                                          </td><td><span style=white-space:pre-wrap>0   </span>  </td><td><span style=white-space:pre-wrap>0   </span>  </td><td><span style=white-space:pre-wrap>0   </span>  </td><td><span style=white-space:pre-wrap>0   </span>  </td><td>14000                                         </td><td><span style=white-space:pre-wrap>0    </span> </td><td><span style=white-space:pre-wrap>0    </span> </td><td><span style=white-space:pre-wrap>0    </span> </td><td><span style=white-space:pre-wrap>0    </span> </td><td>17000                                         </td><td><span style=white-space:pre-wrap>0    </span> </td><td><span style=white-space:pre-wrap>0    </span> </td><td><span style=white-space:pre-wrap>0    </span> </td><td><span style=white-space:pre-wrap>0    </span> </td><td>-20000                                        </td><td><span style=white-space:pre-wrap>0     </span></td><td><span style=white-space:pre-wrap>0     </span></td><td><span style=white-space:pre-wrap>0     </span></td><td><span style=white-space:pre-wrap>0     </span></td><td>&lt;=                                         </td><td>0                                             </td></tr>\n",
       "\t<tr><td><span style=white-space:pre-wrap>0   </span>  </td><td>8000                                          </td><td><span style=white-space:pre-wrap>0   </span>  </td><td><span style=white-space:pre-wrap>0   </span>  </td><td><span style=white-space:pre-wrap>0   </span>  </td><td><span style=white-space:pre-wrap>0    </span> </td><td>12000                                         </td><td><span style=white-space:pre-wrap>0    </span> </td><td><span style=white-space:pre-wrap>0    </span> </td><td><span style=white-space:pre-wrap>0    </span> </td><td><span style=white-space:pre-wrap>0   </span>  </td><td>9000                                          </td><td><span style=white-space:pre-wrap>0   </span>  </td><td><span style=white-space:pre-wrap>0   </span>  </td><td><span style=white-space:pre-wrap>0   </span>  </td><td><span style=white-space:pre-wrap>0    </span> </td><td>14000                                         </td><td><span style=white-space:pre-wrap>0    </span> </td><td><span style=white-space:pre-wrap>0    </span> </td><td><span style=white-space:pre-wrap>0    </span> </td><td><span style=white-space:pre-wrap>0    </span> </td><td>17000                                         </td><td><span style=white-space:pre-wrap>0    </span> </td><td><span style=white-space:pre-wrap>0    </span> </td><td><span style=white-space:pre-wrap>0    </span> </td><td><span style=white-space:pre-wrap>0     </span></td><td>-20000                                        </td><td><span style=white-space:pre-wrap>0     </span></td><td><span style=white-space:pre-wrap>0     </span></td><td><span style=white-space:pre-wrap>0     </span></td><td>&lt;=                                         </td><td>0                                             </td></tr>\n",
       "\t<tr><td><span style=white-space:pre-wrap>0   </span>  </td><td><span style=white-space:pre-wrap>0   </span>  </td><td>8000                                          </td><td><span style=white-space:pre-wrap>0   </span>  </td><td><span style=white-space:pre-wrap>0   </span>  </td><td><span style=white-space:pre-wrap>0    </span> </td><td><span style=white-space:pre-wrap>0    </span> </td><td>12000                                         </td><td><span style=white-space:pre-wrap>0    </span> </td><td><span style=white-space:pre-wrap>0    </span> </td><td><span style=white-space:pre-wrap>0   </span>  </td><td><span style=white-space:pre-wrap>0   </span>  </td><td>9000                                          </td><td><span style=white-space:pre-wrap>0   </span>  </td><td><span style=white-space:pre-wrap>0   </span>  </td><td><span style=white-space:pre-wrap>0    </span> </td><td><span style=white-space:pre-wrap>0    </span> </td><td>14000                                         </td><td><span style=white-space:pre-wrap>0    </span> </td><td><span style=white-space:pre-wrap>0    </span> </td><td><span style=white-space:pre-wrap>0    </span> </td><td><span style=white-space:pre-wrap>0    </span> </td><td>17000                                         </td><td><span style=white-space:pre-wrap>0    </span> </td><td><span style=white-space:pre-wrap>0    </span> </td><td><span style=white-space:pre-wrap>0     </span></td><td><span style=white-space:pre-wrap>0     </span></td><td>-15000                                        </td><td><span style=white-space:pre-wrap>0     </span></td><td><span style=white-space:pre-wrap>0     </span></td><td>&lt;=                                         </td><td>0                                             </td></tr>\n",
       "\t<tr><td><span style=white-space:pre-wrap>0   </span>  </td><td><span style=white-space:pre-wrap>0   </span>  </td><td><span style=white-space:pre-wrap>0   </span>  </td><td>8000                                          </td><td><span style=white-space:pre-wrap>0   </span>  </td><td><span style=white-space:pre-wrap>0    </span> </td><td><span style=white-space:pre-wrap>0    </span> </td><td><span style=white-space:pre-wrap>0    </span> </td><td>12000                                         </td><td><span style=white-space:pre-wrap>0    </span> </td><td><span style=white-space:pre-wrap>0   </span>  </td><td><span style=white-space:pre-wrap>0   </span>  </td><td><span style=white-space:pre-wrap>0   </span>  </td><td>9000                                          </td><td><span style=white-space:pre-wrap>0   </span>  </td><td><span style=white-space:pre-wrap>0    </span> </td><td><span style=white-space:pre-wrap>0    </span> </td><td><span style=white-space:pre-wrap>0    </span> </td><td>14000                                         </td><td><span style=white-space:pre-wrap>0    </span> </td><td><span style=white-space:pre-wrap>0    </span> </td><td><span style=white-space:pre-wrap>0    </span> </td><td><span style=white-space:pre-wrap>0    </span> </td><td>17000                                         </td><td><span style=white-space:pre-wrap>0    </span> </td><td><span style=white-space:pre-wrap>0     </span></td><td><span style=white-space:pre-wrap>0     </span></td><td><span style=white-space:pre-wrap>0     </span></td><td>-25000                                        </td><td><span style=white-space:pre-wrap>0     </span></td><td>&lt;=                                         </td><td>0                                             </td></tr>\n",
       "\t<tr><td><span style=white-space:pre-wrap>0   </span>  </td><td><span style=white-space:pre-wrap>0   </span>  </td><td><span style=white-space:pre-wrap>0   </span>  </td><td><span style=white-space:pre-wrap>0   </span>  </td><td>8000                                          </td><td><span style=white-space:pre-wrap>0    </span> </td><td><span style=white-space:pre-wrap>0    </span> </td><td><span style=white-space:pre-wrap>0    </span> </td><td><span style=white-space:pre-wrap>0    </span> </td><td>12000                                         </td><td><span style=white-space:pre-wrap>0   </span>  </td><td><span style=white-space:pre-wrap>0   </span>  </td><td><span style=white-space:pre-wrap>0   </span>  </td><td><span style=white-space:pre-wrap>0   </span>  </td><td>9000                                          </td><td><span style=white-space:pre-wrap>0    </span> </td><td><span style=white-space:pre-wrap>0    </span> </td><td><span style=white-space:pre-wrap>0    </span> </td><td><span style=white-space:pre-wrap>0    </span> </td><td>14000                                         </td><td><span style=white-space:pre-wrap>0    </span> </td><td><span style=white-space:pre-wrap>0    </span> </td><td><span style=white-space:pre-wrap>0    </span> </td><td><span style=white-space:pre-wrap>0    </span> </td><td>17000                                         </td><td><span style=white-space:pre-wrap>0     </span></td><td><span style=white-space:pre-wrap>0     </span></td><td><span style=white-space:pre-wrap>0     </span></td><td><span style=white-space:pre-wrap>0     </span></td><td>-15000                                        </td><td>&lt;=                                         </td><td>0                                             </td></tr>\n",
       "\t<tr><td><span style=white-space:pre-wrap>0   </span>  </td><td><span style=white-space:pre-wrap>0   </span>  </td><td><span style=white-space:pre-wrap>0   </span>  </td><td><span style=white-space:pre-wrap>0   </span>  </td><td><span style=white-space:pre-wrap>0   </span>  </td><td><span style=white-space:pre-wrap>0    </span> </td><td><span style=white-space:pre-wrap>0    </span> </td><td><span style=white-space:pre-wrap>0    </span> </td><td><span style=white-space:pre-wrap>0    </span> </td><td><span style=white-space:pre-wrap>0    </span> </td><td><span style=white-space:pre-wrap>0   </span>  </td><td><span style=white-space:pre-wrap>0   </span>  </td><td><span style=white-space:pre-wrap>0   </span>  </td><td><span style=white-space:pre-wrap>0   </span>  </td><td><span style=white-space:pre-wrap>0   </span>  </td><td><span style=white-space:pre-wrap>0    </span> </td><td><span style=white-space:pre-wrap>0    </span> </td><td><span style=white-space:pre-wrap>0    </span> </td><td><span style=white-space:pre-wrap>0    </span> </td><td><span style=white-space:pre-wrap>0    </span> </td><td><span style=white-space:pre-wrap>0    </span> </td><td><span style=white-space:pre-wrap>0    </span> </td><td><span style=white-space:pre-wrap>0    </span> </td><td><span style=white-space:pre-wrap>0    </span> </td><td><span style=white-space:pre-wrap>0    </span> </td><td><span style=white-space:pre-wrap>1     </span></td><td><span style=white-space:pre-wrap>0     </span></td><td><span style=white-space:pre-wrap>1     </span></td><td><span style=white-space:pre-wrap>0     </span></td><td><span style=white-space:pre-wrap>0     </span></td><td>&lt;=                                         </td><td>1                                             </td></tr>\n",
       "</tbody>\n",
       "</table>\n"
      ],
      "text/latex": [
       "\\begin{tabular}{llllllllllllllllllllllllllllllll}\n",
       "  &  &  &  &  &  &  &  &  &  &  &  &  &  &  &  &  &  &  &  &  &  &  &  &  &  &  &  &  &  & dir & rhs\\\\\n",
       "\\hline\n",
       "\t 1      & 1      & 1      & 1      & 1      & 0      & 0      & 0      & 0      & 0      & 0      & 0      & 0      & 0      & 0      & 0      & 0      & 0      & 0      & 0      & 0      & 0      & 0      & 0      & 0      & 0      & 0      & 0      & 0      & 0      & ==     & 1     \\\\\n",
       "\t 0      & 0      & 0      & 0      & 0      & 1      & 1      & 1      & 1      & 1      & 0      & 0      & 0      & 0      & 0      & 0      & 0      & 0      & 0      & 0      & 0      & 0      & 0      & 0      & 0      & 0      & 0      & 0      & 0      & 0      & ==     & 1     \\\\\n",
       "\t 0      & 0      & 0      & 0      & 0      & 0      & 0      & 0      & 0      & 0      & 1      & 1      & 1      & 1      & 1      & 0      & 0      & 0      & 0      & 0      & 0      & 0      & 0      & 0      & 0      & 0      & 0      & 0      & 0      & 0      & ==     & 1     \\\\\n",
       "\t 0      & 0      & 0      & 0      & 0      & 0      & 0      & 0      & 0      & 0      & 0      & 0      & 0      & 0      & 0      & 1      & 1      & 1      & 1      & 1      & 0      & 0      & 0      & 0      & 0      & 0      & 0      & 0      & 0      & 0      & ==     & 1     \\\\\n",
       "\t 0      & 0      & 0      & 0      & 0      & 0      & 0      & 0      & 0      & 0      & 0      & 0      & 0      & 0      & 0      & 0      & 0      & 0      & 0      & 0      & 1      & 1      & 1      & 1      & 1      & 0      & 0      & 0      & 0      & 0      & ==     & 1     \\\\\n",
       "\t 8000   & 0      & 0      & 0      & 0      & 12000  & 0      & 0      & 0      & 0      & 9000   & 0      & 0      & 0      & 0      & 14000  & 0      & 0      & 0      & 0      & 17000  & 0      & 0      & 0      & 0      & -20000 & 0      & 0      & 0      & 0      & <=     & 0     \\\\\n",
       "\t 0      & 8000   & 0      & 0      & 0      & 0      & 12000  & 0      & 0      & 0      & 0      & 9000   & 0      & 0      & 0      & 0      & 14000  & 0      & 0      & 0      & 0      & 17000  & 0      & 0      & 0      & 0      & -20000 & 0      & 0      & 0      & <=     & 0     \\\\\n",
       "\t 0      & 0      & 8000   & 0      & 0      & 0      & 0      & 12000  & 0      & 0      & 0      & 0      & 9000   & 0      & 0      & 0      & 0      & 14000  & 0      & 0      & 0      & 0      & 17000  & 0      & 0      & 0      & 0      & -15000 & 0      & 0      & <=     & 0     \\\\\n",
       "\t 0      & 0      & 0      & 8000   & 0      & 0      & 0      & 0      & 12000  & 0      & 0      & 0      & 0      & 9000   & 0      & 0      & 0      & 0      & 14000  & 0      & 0      & 0      & 0      & 17000  & 0      & 0      & 0      & 0      & -25000 & 0      & <=     & 0     \\\\\n",
       "\t 0      & 0      & 0      & 0      & 8000   & 0      & 0      & 0      & 0      & 12000  & 0      & 0      & 0      & 0      & 9000   & 0      & 0      & 0      & 0      & 14000  & 0      & 0      & 0      & 0      & 17000  & 0      & 0      & 0      & 0      & -15000 & <=     & 0     \\\\\n",
       "\t 0      & 0      & 0      & 0      & 0      & 0      & 0      & 0      & 0      & 0      & 0      & 0      & 0      & 0      & 0      & 0      & 0      & 0      & 0      & 0      & 0      & 0      & 0      & 0      & 0      & 1      & 0      & 1      & 0      & 0      & <=     & 1     \\\\\n",
       "\\end{tabular}\n"
      ],
      "text/markdown": [
       "\n",
       " |  |  |  |  |  |  |  |  |  |  |  |  |  |  |  |  |  |  |  |  |  |  |  |  |  |  |  |  |  | dir | rhs | \n",
       "|---|---|---|---|---|---|---|---|---|---|---|\n",
       "| 1      | 1      | 1      | 1      | 1      | 0      | 0      | 0      | 0      | 0      | 0      | 0      | 0      | 0      | 0      | 0      | 0      | 0      | 0      | 0      | 0      | 0      | 0      | 0      | 0      | 0      | 0      | 0      | 0      | 0      | ==     | 1      | \n",
       "| 0      | 0      | 0      | 0      | 0      | 1      | 1      | 1      | 1      | 1      | 0      | 0      | 0      | 0      | 0      | 0      | 0      | 0      | 0      | 0      | 0      | 0      | 0      | 0      | 0      | 0      | 0      | 0      | 0      | 0      | ==     | 1      | \n",
       "| 0      | 0      | 0      | 0      | 0      | 0      | 0      | 0      | 0      | 0      | 1      | 1      | 1      | 1      | 1      | 0      | 0      | 0      | 0      | 0      | 0      | 0      | 0      | 0      | 0      | 0      | 0      | 0      | 0      | 0      | ==     | 1      | \n",
       "| 0      | 0      | 0      | 0      | 0      | 0      | 0      | 0      | 0      | 0      | 0      | 0      | 0      | 0      | 0      | 1      | 1      | 1      | 1      | 1      | 0      | 0      | 0      | 0      | 0      | 0      | 0      | 0      | 0      | 0      | ==     | 1      | \n",
       "| 0      | 0      | 0      | 0      | 0      | 0      | 0      | 0      | 0      | 0      | 0      | 0      | 0      | 0      | 0      | 0      | 0      | 0      | 0      | 0      | 1      | 1      | 1      | 1      | 1      | 0      | 0      | 0      | 0      | 0      | ==     | 1      | \n",
       "| 8000   | 0      | 0      | 0      | 0      | 12000  | 0      | 0      | 0      | 0      | 9000   | 0      | 0      | 0      | 0      | 14000  | 0      | 0      | 0      | 0      | 17000  | 0      | 0      | 0      | 0      | -20000 | 0      | 0      | 0      | 0      | <=     | 0      | \n",
       "| 0      | 8000   | 0      | 0      | 0      | 0      | 12000  | 0      | 0      | 0      | 0      | 9000   | 0      | 0      | 0      | 0      | 14000  | 0      | 0      | 0      | 0      | 17000  | 0      | 0      | 0      | 0      | -20000 | 0      | 0      | 0      | <=     | 0      | \n",
       "| 0      | 0      | 8000   | 0      | 0      | 0      | 0      | 12000  | 0      | 0      | 0      | 0      | 9000   | 0      | 0      | 0      | 0      | 14000  | 0      | 0      | 0      | 0      | 17000  | 0      | 0      | 0      | 0      | -15000 | 0      | 0      | <=     | 0      | \n",
       "| 0      | 0      | 0      | 8000   | 0      | 0      | 0      | 0      | 12000  | 0      | 0      | 0      | 0      | 9000   | 0      | 0      | 0      | 0      | 14000  | 0      | 0      | 0      | 0      | 17000  | 0      | 0      | 0      | 0      | -25000 | 0      | <=     | 0      | \n",
       "| 0      | 0      | 0      | 0      | 8000   | 0      | 0      | 0      | 0      | 12000  | 0      | 0      | 0      | 0      | 9000   | 0      | 0      | 0      | 0      | 14000  | 0      | 0      | 0      | 0      | 17000  | 0      | 0      | 0      | 0      | -15000 | <=     | 0      | \n",
       "| 0      | 0      | 0      | 0      | 0      | 0      | 0      | 0      | 0      | 0      | 0      | 0      | 0      | 0      | 0      | 0      | 0      | 0      | 0      | 0      | 0      | 0      | 0      | 0      | 0      | 1      | 0      | 1      | 0      | 0      | <=     | 1      | \n",
       "\n",
       "\n"
      ],
      "text/plain": [
       "                                                                           \n",
       " [1,] 1    1    1    1    1    0     0     0     0     0     0    0    0   \n",
       " [2,] 0    0    0    0    0    1     1     1     1     1     0    0    0   \n",
       " [3,] 0    0    0    0    0    0     0     0     0     0     1    1    1   \n",
       " [4,] 0    0    0    0    0    0     0     0     0     0     0    0    0   \n",
       " [5,] 0    0    0    0    0    0     0     0     0     0     0    0    0   \n",
       " [6,] 8000 0    0    0    0    12000 0     0     0     0     9000 0    0   \n",
       " [7,] 0    8000 0    0    0    0     12000 0     0     0     0    9000 0   \n",
       " [8,] 0    0    8000 0    0    0     0     12000 0     0     0    0    9000\n",
       " [9,] 0    0    0    8000 0    0     0     0     12000 0     0    0    0   \n",
       "[10,] 0    0    0    0    8000 0     0     0     0     12000 0    0    0   \n",
       "[11,] 0    0    0    0    0    0     0     0     0     0     0    0    0   \n",
       "                                                                           \n",
       " [1,] 0    0    0     0     0     0     0     0     0     0     0     0    \n",
       " [2,] 0    0    0     0     0     0     0     0     0     0     0     0    \n",
       " [3,] 1    1    0     0     0     0     0     0     0     0     0     0    \n",
       " [4,] 0    0    1     1     1     1     1     0     0     0     0     0    \n",
       " [5,] 0    0    0     0     0     0     0     1     1     1     1     1    \n",
       " [6,] 0    0    14000 0     0     0     0     17000 0     0     0     0    \n",
       " [7,] 0    0    0     14000 0     0     0     0     17000 0     0     0    \n",
       " [8,] 0    0    0     0     14000 0     0     0     0     17000 0     0    \n",
       " [9,] 9000 0    0     0     0     14000 0     0     0     0     17000 0    \n",
       "[10,] 0    9000 0     0     0     0     14000 0     0     0     0     17000\n",
       "[11,] 0    0    0     0     0     0     0     0     0     0     0     0    \n",
       "                                         dir rhs\n",
       " [1,] 0      0      0      0      0      ==  1  \n",
       " [2,] 0      0      0      0      0      ==  1  \n",
       " [3,] 0      0      0      0      0      ==  1  \n",
       " [4,] 0      0      0      0      0      ==  1  \n",
       " [5,] 0      0      0      0      0      ==  1  \n",
       " [6,] -20000 0      0      0      0      <=  0  \n",
       " [7,] 0      -20000 0      0      0      <=  0  \n",
       " [8,] 0      0      -15000 0      0      <=  0  \n",
       " [9,] 0      0      0      -25000 0      <=  0  \n",
       "[10,] 0      0      0      0      -15000 <=  0  \n",
       "[11,] 1      0      1      0      0      <=  1  "
      ]
     },
     "metadata": {},
     "output_type": "display_data"
    }
   ],
   "source": [
    "a1 <- rep(0, (1 + p$m) * p$n)\n",
    "a1[p$m * p$n + c(1, 3)] <- 1\n",
    "conditions <- rbind(conditions, a1)\n",
    "dir <- c(dir, \"<=\")\n",
    "rhs <- c(rhs, 1)\n",
    "\n",
    "rownames(conditions) <- NULL\n",
    "cbind(conditions, dir, rhs)"
   ]
  },
  {
   "cell_type": "markdown",
   "metadata": {},
   "source": [
    "Finalmente, se añadirán las restricciones necesarias para indicar que si el número de libros almacenados en *A4* supera los $22000$, entonces *A1* y *A2* deberán superar $15000$ libros en conjunto. En este caso es necesario añadir una variable binaria adiccional para modelizar la nueva lógica de implicación. La matriz de restricciones se muestra a continuación:"
   ]
  },
  {
   "cell_type": "code",
   "execution_count": 13,
   "metadata": {},
   "outputs": [
    {
     "data": {
      "text/html": [
       "<table>\n",
       "<thead><tr><th scope=col></th><th scope=col></th><th scope=col></th><th scope=col></th><th scope=col></th><th scope=col></th><th scope=col></th><th scope=col></th><th scope=col></th><th scope=col></th><th scope=col></th><th scope=col></th><th scope=col></th><th scope=col></th><th scope=col></th><th scope=col></th><th scope=col></th><th scope=col></th><th scope=col></th><th scope=col></th><th scope=col></th><th scope=col></th><th scope=col></th><th scope=col></th><th scope=col></th><th scope=col></th><th scope=col></th><th scope=col></th><th scope=col></th><th scope=col></th><th scope=col></th><th scope=col>dir</th><th scope=col>rhs</th></tr></thead>\n",
       "<tbody>\n",
       "\t<tr><td>1     </td><td>1     </td><td>1     </td><td>1     </td><td>1     </td><td>0     </td><td>0     </td><td>0     </td><td>0     </td><td>0     </td><td>0     </td><td>0     </td><td>0     </td><td>0     </td><td>0     </td><td>0     </td><td>0     </td><td>0     </td><td>0     </td><td>0     </td><td>0     </td><td>0     </td><td>0     </td><td>0     </td><td>0     </td><td>0     </td><td>0     </td><td>0     </td><td>0     </td><td>0     </td><td>0     </td><td>==    </td><td>1     </td></tr>\n",
       "\t<tr><td>0     </td><td>0     </td><td>0     </td><td>0     </td><td>0     </td><td>1     </td><td>1     </td><td>1     </td><td>1     </td><td>1     </td><td>0     </td><td>0     </td><td>0     </td><td>0     </td><td>0     </td><td>0     </td><td>0     </td><td>0     </td><td>0     </td><td>0     </td><td>0     </td><td>0     </td><td>0     </td><td>0     </td><td>0     </td><td>0     </td><td>0     </td><td>0     </td><td>0     </td><td>0     </td><td>0     </td><td>==    </td><td>1     </td></tr>\n",
       "\t<tr><td>0     </td><td>0     </td><td>0     </td><td>0     </td><td>0     </td><td>0     </td><td>0     </td><td>0     </td><td>0     </td><td>0     </td><td>1     </td><td>1     </td><td>1     </td><td>1     </td><td>1     </td><td>0     </td><td>0     </td><td>0     </td><td>0     </td><td>0     </td><td>0     </td><td>0     </td><td>0     </td><td>0     </td><td>0     </td><td>0     </td><td>0     </td><td>0     </td><td>0     </td><td>0     </td><td>0     </td><td>==    </td><td>1     </td></tr>\n",
       "\t<tr><td>0     </td><td>0     </td><td>0     </td><td>0     </td><td>0     </td><td>0     </td><td>0     </td><td>0     </td><td>0     </td><td>0     </td><td>0     </td><td>0     </td><td>0     </td><td>0     </td><td>0     </td><td>1     </td><td>1     </td><td>1     </td><td>1     </td><td>1     </td><td>0     </td><td>0     </td><td>0     </td><td>0     </td><td>0     </td><td>0     </td><td>0     </td><td>0     </td><td>0     </td><td>0     </td><td>0     </td><td>==    </td><td>1     </td></tr>\n",
       "\t<tr><td>0     </td><td>0     </td><td>0     </td><td>0     </td><td>0     </td><td>0     </td><td>0     </td><td>0     </td><td>0     </td><td>0     </td><td>0     </td><td>0     </td><td>0     </td><td>0     </td><td>0     </td><td>0     </td><td>0     </td><td>0     </td><td>0     </td><td>0     </td><td>1     </td><td>1     </td><td>1     </td><td>1     </td><td>1     </td><td>0     </td><td>0     </td><td>0     </td><td>0     </td><td>0     </td><td>0     </td><td>==    </td><td>1     </td></tr>\n",
       "\t<tr><td>8000                                          </td><td><span style=white-space:pre-wrap>0   </span>  </td><td><span style=white-space:pre-wrap>0   </span>  </td><td><span style=white-space:pre-wrap>0   </span>  </td><td><span style=white-space:pre-wrap>0   </span>  </td><td>12000                                         </td><td><span style=white-space:pre-wrap>0    </span> </td><td><span style=white-space:pre-wrap>0    </span> </td><td><span style=white-space:pre-wrap>0    </span> </td><td><span style=white-space:pre-wrap>0    </span> </td><td>9000                                          </td><td><span style=white-space:pre-wrap>0   </span>  </td><td><span style=white-space:pre-wrap>0   </span>  </td><td><span style=white-space:pre-wrap>0   </span>  </td><td><span style=white-space:pre-wrap>0   </span>  </td><td>14000                                         </td><td><span style=white-space:pre-wrap>0    </span> </td><td><span style=white-space:pre-wrap>0    </span> </td><td><span style=white-space:pre-wrap>0    </span> </td><td><span style=white-space:pre-wrap>0    </span> </td><td>17000                                         </td><td><span style=white-space:pre-wrap>0    </span> </td><td><span style=white-space:pre-wrap>0    </span> </td><td><span style=white-space:pre-wrap>0    </span> </td><td><span style=white-space:pre-wrap>0    </span> </td><td>-20000                                        </td><td><span style=white-space:pre-wrap>0     </span></td><td><span style=white-space:pre-wrap>0     </span></td><td><span style=white-space:pre-wrap>0     </span></td><td><span style=white-space:pre-wrap>0     </span></td><td>0                                             </td><td>&lt;=                                         </td><td><span style=white-space:pre-wrap>0    </span> </td></tr>\n",
       "\t<tr><td><span style=white-space:pre-wrap>0   </span>  </td><td>8000                                          </td><td><span style=white-space:pre-wrap>0   </span>  </td><td><span style=white-space:pre-wrap>0   </span>  </td><td><span style=white-space:pre-wrap>0   </span>  </td><td><span style=white-space:pre-wrap>0    </span> </td><td>12000                                         </td><td><span style=white-space:pre-wrap>0    </span> </td><td><span style=white-space:pre-wrap>0    </span> </td><td><span style=white-space:pre-wrap>0    </span> </td><td><span style=white-space:pre-wrap>0   </span>  </td><td>9000                                          </td><td><span style=white-space:pre-wrap>0   </span>  </td><td><span style=white-space:pre-wrap>0   </span>  </td><td><span style=white-space:pre-wrap>0   </span>  </td><td><span style=white-space:pre-wrap>0    </span> </td><td>14000                                         </td><td><span style=white-space:pre-wrap>0    </span> </td><td><span style=white-space:pre-wrap>0    </span> </td><td><span style=white-space:pre-wrap>0    </span> </td><td><span style=white-space:pre-wrap>0    </span> </td><td>17000                                         </td><td><span style=white-space:pre-wrap>0    </span> </td><td><span style=white-space:pre-wrap>0    </span> </td><td><span style=white-space:pre-wrap>0    </span> </td><td><span style=white-space:pre-wrap>0     </span></td><td>-20000                                        </td><td><span style=white-space:pre-wrap>0     </span></td><td><span style=white-space:pre-wrap>0     </span></td><td><span style=white-space:pre-wrap>0     </span></td><td>0                                             </td><td>&lt;=                                         </td><td><span style=white-space:pre-wrap>0    </span> </td></tr>\n",
       "\t<tr><td><span style=white-space:pre-wrap>0   </span>  </td><td><span style=white-space:pre-wrap>0   </span>  </td><td>8000                                          </td><td><span style=white-space:pre-wrap>0   </span>  </td><td><span style=white-space:pre-wrap>0   </span>  </td><td><span style=white-space:pre-wrap>0    </span> </td><td><span style=white-space:pre-wrap>0    </span> </td><td>12000                                         </td><td><span style=white-space:pre-wrap>0    </span> </td><td><span style=white-space:pre-wrap>0    </span> </td><td><span style=white-space:pre-wrap>0   </span>  </td><td><span style=white-space:pre-wrap>0   </span>  </td><td>9000                                          </td><td><span style=white-space:pre-wrap>0   </span>  </td><td><span style=white-space:pre-wrap>0   </span>  </td><td><span style=white-space:pre-wrap>0    </span> </td><td><span style=white-space:pre-wrap>0    </span> </td><td>14000                                         </td><td><span style=white-space:pre-wrap>0    </span> </td><td><span style=white-space:pre-wrap>0    </span> </td><td><span style=white-space:pre-wrap>0    </span> </td><td><span style=white-space:pre-wrap>0    </span> </td><td>17000                                         </td><td><span style=white-space:pre-wrap>0    </span> </td><td><span style=white-space:pre-wrap>0    </span> </td><td><span style=white-space:pre-wrap>0     </span></td><td><span style=white-space:pre-wrap>0     </span></td><td>-15000                                        </td><td><span style=white-space:pre-wrap>0     </span></td><td><span style=white-space:pre-wrap>0     </span></td><td>0                                             </td><td>&lt;=                                         </td><td><span style=white-space:pre-wrap>0    </span> </td></tr>\n",
       "\t<tr><td><span style=white-space:pre-wrap>0   </span>  </td><td><span style=white-space:pre-wrap>0   </span>  </td><td><span style=white-space:pre-wrap>0   </span>  </td><td>8000                                          </td><td><span style=white-space:pre-wrap>0   </span>  </td><td><span style=white-space:pre-wrap>0    </span> </td><td><span style=white-space:pre-wrap>0    </span> </td><td><span style=white-space:pre-wrap>0    </span> </td><td>12000                                         </td><td><span style=white-space:pre-wrap>0    </span> </td><td><span style=white-space:pre-wrap>0   </span>  </td><td><span style=white-space:pre-wrap>0   </span>  </td><td><span style=white-space:pre-wrap>0   </span>  </td><td>9000                                          </td><td><span style=white-space:pre-wrap>0   </span>  </td><td><span style=white-space:pre-wrap>0    </span> </td><td><span style=white-space:pre-wrap>0    </span> </td><td><span style=white-space:pre-wrap>0    </span> </td><td>14000                                         </td><td><span style=white-space:pre-wrap>0    </span> </td><td><span style=white-space:pre-wrap>0    </span> </td><td><span style=white-space:pre-wrap>0    </span> </td><td><span style=white-space:pre-wrap>0    </span> </td><td>17000                                         </td><td><span style=white-space:pre-wrap>0    </span> </td><td><span style=white-space:pre-wrap>0     </span></td><td><span style=white-space:pre-wrap>0     </span></td><td><span style=white-space:pre-wrap>0     </span></td><td>-25000                                        </td><td><span style=white-space:pre-wrap>0     </span></td><td>0                                             </td><td>&lt;=                                         </td><td><span style=white-space:pre-wrap>0    </span> </td></tr>\n",
       "\t<tr><td><span style=white-space:pre-wrap>0   </span>  </td><td><span style=white-space:pre-wrap>0   </span>  </td><td><span style=white-space:pre-wrap>0   </span>  </td><td><span style=white-space:pre-wrap>0   </span>  </td><td>8000                                          </td><td><span style=white-space:pre-wrap>0    </span> </td><td><span style=white-space:pre-wrap>0    </span> </td><td><span style=white-space:pre-wrap>0    </span> </td><td><span style=white-space:pre-wrap>0    </span> </td><td>12000                                         </td><td><span style=white-space:pre-wrap>0   </span>  </td><td><span style=white-space:pre-wrap>0   </span>  </td><td><span style=white-space:pre-wrap>0   </span>  </td><td><span style=white-space:pre-wrap>0   </span>  </td><td>9000                                          </td><td><span style=white-space:pre-wrap>0    </span> </td><td><span style=white-space:pre-wrap>0    </span> </td><td><span style=white-space:pre-wrap>0    </span> </td><td><span style=white-space:pre-wrap>0    </span> </td><td>14000                                         </td><td><span style=white-space:pre-wrap>0    </span> </td><td><span style=white-space:pre-wrap>0    </span> </td><td><span style=white-space:pre-wrap>0    </span> </td><td><span style=white-space:pre-wrap>0    </span> </td><td>17000                                         </td><td><span style=white-space:pre-wrap>0     </span></td><td><span style=white-space:pre-wrap>0     </span></td><td><span style=white-space:pre-wrap>0     </span></td><td><span style=white-space:pre-wrap>0     </span></td><td>-15000                                        </td><td>0                                             </td><td>&lt;=                                         </td><td><span style=white-space:pre-wrap>0    </span> </td></tr>\n",
       "\t<tr><td><span style=white-space:pre-wrap>0   </span>  </td><td><span style=white-space:pre-wrap>0   </span>  </td><td><span style=white-space:pre-wrap>0   </span>  </td><td><span style=white-space:pre-wrap>0   </span>  </td><td><span style=white-space:pre-wrap>0   </span>  </td><td><span style=white-space:pre-wrap>0    </span> </td><td><span style=white-space:pre-wrap>0    </span> </td><td><span style=white-space:pre-wrap>0    </span> </td><td><span style=white-space:pre-wrap>0    </span> </td><td><span style=white-space:pre-wrap>0    </span> </td><td><span style=white-space:pre-wrap>0   </span>  </td><td><span style=white-space:pre-wrap>0   </span>  </td><td><span style=white-space:pre-wrap>0   </span>  </td><td><span style=white-space:pre-wrap>0   </span>  </td><td><span style=white-space:pre-wrap>0   </span>  </td><td><span style=white-space:pre-wrap>0    </span> </td><td><span style=white-space:pre-wrap>0    </span> </td><td><span style=white-space:pre-wrap>0    </span> </td><td><span style=white-space:pre-wrap>0    </span> </td><td><span style=white-space:pre-wrap>0    </span> </td><td><span style=white-space:pre-wrap>0    </span> </td><td><span style=white-space:pre-wrap>0    </span> </td><td><span style=white-space:pre-wrap>0    </span> </td><td><span style=white-space:pre-wrap>0    </span> </td><td><span style=white-space:pre-wrap>0    </span> </td><td><span style=white-space:pre-wrap>1     </span></td><td><span style=white-space:pre-wrap>0     </span></td><td><span style=white-space:pre-wrap>1     </span></td><td><span style=white-space:pre-wrap>0     </span></td><td><span style=white-space:pre-wrap>0     </span></td><td>0                                             </td><td>&lt;=                                         </td><td><span style=white-space:pre-wrap>1    </span> </td></tr>\n",
       "\t<tr><td><span style=white-space:pre-wrap>0   </span>  </td><td><span style=white-space:pre-wrap>0   </span>  </td><td><span style=white-space:pre-wrap>0   </span>  </td><td><span style=white-space:pre-wrap>0   </span>  </td><td><span style=white-space:pre-wrap>0   </span>  </td><td><span style=white-space:pre-wrap>0    </span> </td><td><span style=white-space:pre-wrap>0    </span> </td><td><span style=white-space:pre-wrap>0    </span> </td><td><span style=white-space:pre-wrap>0    </span> </td><td><span style=white-space:pre-wrap>0    </span> </td><td><span style=white-space:pre-wrap>0   </span>  </td><td><span style=white-space:pre-wrap>0   </span>  </td><td><span style=white-space:pre-wrap>0   </span>  </td><td><span style=white-space:pre-wrap>0   </span>  </td><td><span style=white-space:pre-wrap>0   </span>  </td><td><span style=white-space:pre-wrap>1    </span> </td><td><span style=white-space:pre-wrap>1    </span> </td><td><span style=white-space:pre-wrap>1    </span> </td><td><span style=white-space:pre-wrap>1    </span> </td><td><span style=white-space:pre-wrap>1    </span> </td><td><span style=white-space:pre-wrap>0    </span> </td><td><span style=white-space:pre-wrap>0    </span> </td><td><span style=white-space:pre-wrap>0    </span> </td><td><span style=white-space:pre-wrap>0    </span> </td><td><span style=white-space:pre-wrap>0    </span> </td><td><span style=white-space:pre-wrap>0     </span></td><td><span style=white-space:pre-wrap>0     </span></td><td><span style=white-space:pre-wrap>0     </span></td><td><span style=white-space:pre-wrap>0     </span></td><td><span style=white-space:pre-wrap>0     </span></td><td>-1                                            </td><td>&lt;=                                         </td><td>0.88                                          </td></tr>\n",
       "\t<tr><td><span style=white-space:pre-wrap>1   </span>  </td><td><span style=white-space:pre-wrap>1   </span>  </td><td><span style=white-space:pre-wrap>1   </span>  </td><td><span style=white-space:pre-wrap>1   </span>  </td><td><span style=white-space:pre-wrap>1   </span>  </td><td><span style=white-space:pre-wrap>1    </span> </td><td><span style=white-space:pre-wrap>1    </span> </td><td><span style=white-space:pre-wrap>1    </span> </td><td><span style=white-space:pre-wrap>1    </span> </td><td><span style=white-space:pre-wrap>1    </span> </td><td><span style=white-space:pre-wrap>0   </span>  </td><td><span style=white-space:pre-wrap>0   </span>  </td><td><span style=white-space:pre-wrap>0   </span>  </td><td><span style=white-space:pre-wrap>0   </span>  </td><td><span style=white-space:pre-wrap>0   </span>  </td><td><span style=white-space:pre-wrap>0    </span> </td><td><span style=white-space:pre-wrap>0    </span> </td><td><span style=white-space:pre-wrap>0    </span> </td><td><span style=white-space:pre-wrap>0    </span> </td><td><span style=white-space:pre-wrap>0    </span> </td><td><span style=white-space:pre-wrap>0    </span> </td><td><span style=white-space:pre-wrap>0    </span> </td><td><span style=white-space:pre-wrap>0    </span> </td><td><span style=white-space:pre-wrap>0    </span> </td><td><span style=white-space:pre-wrap>0    </span> </td><td><span style=white-space:pre-wrap>0     </span></td><td><span style=white-space:pre-wrap>0     </span></td><td><span style=white-space:pre-wrap>0     </span></td><td><span style=white-space:pre-wrap>0     </span></td><td><span style=white-space:pre-wrap>0     </span></td><td>0                                             </td><td>&gt;=                                         </td><td>0.375                                         </td></tr>\n",
       "</tbody>\n",
       "</table>\n"
      ],
      "text/latex": [
       "\\begin{tabular}{lllllllllllllllllllllllllllllllll}\n",
       "  &  &  &  &  &  &  &  &  &  &  &  &  &  &  &  &  &  &  &  &  &  &  &  &  &  &  &  &  &  &  & dir & rhs\\\\\n",
       "\\hline\n",
       "\t 1      & 1      & 1      & 1      & 1      & 0      & 0      & 0      & 0      & 0      & 0      & 0      & 0      & 0      & 0      & 0      & 0      & 0      & 0      & 0      & 0      & 0      & 0      & 0      & 0      & 0      & 0      & 0      & 0      & 0      & 0      & ==     & 1     \\\\\n",
       "\t 0      & 0      & 0      & 0      & 0      & 1      & 1      & 1      & 1      & 1      & 0      & 0      & 0      & 0      & 0      & 0      & 0      & 0      & 0      & 0      & 0      & 0      & 0      & 0      & 0      & 0      & 0      & 0      & 0      & 0      & 0      & ==     & 1     \\\\\n",
       "\t 0      & 0      & 0      & 0      & 0      & 0      & 0      & 0      & 0      & 0      & 1      & 1      & 1      & 1      & 1      & 0      & 0      & 0      & 0      & 0      & 0      & 0      & 0      & 0      & 0      & 0      & 0      & 0      & 0      & 0      & 0      & ==     & 1     \\\\\n",
       "\t 0      & 0      & 0      & 0      & 0      & 0      & 0      & 0      & 0      & 0      & 0      & 0      & 0      & 0      & 0      & 1      & 1      & 1      & 1      & 1      & 0      & 0      & 0      & 0      & 0      & 0      & 0      & 0      & 0      & 0      & 0      & ==     & 1     \\\\\n",
       "\t 0      & 0      & 0      & 0      & 0      & 0      & 0      & 0      & 0      & 0      & 0      & 0      & 0      & 0      & 0      & 0      & 0      & 0      & 0      & 0      & 1      & 1      & 1      & 1      & 1      & 0      & 0      & 0      & 0      & 0      & 0      & ==     & 1     \\\\\n",
       "\t 8000   & 0      & 0      & 0      & 0      & 12000  & 0      & 0      & 0      & 0      & 9000   & 0      & 0      & 0      & 0      & 14000  & 0      & 0      & 0      & 0      & 17000  & 0      & 0      & 0      & 0      & -20000 & 0      & 0      & 0      & 0      & 0      & <=     & 0     \\\\\n",
       "\t 0      & 8000   & 0      & 0      & 0      & 0      & 12000  & 0      & 0      & 0      & 0      & 9000   & 0      & 0      & 0      & 0      & 14000  & 0      & 0      & 0      & 0      & 17000  & 0      & 0      & 0      & 0      & -20000 & 0      & 0      & 0      & 0      & <=     & 0     \\\\\n",
       "\t 0      & 0      & 8000   & 0      & 0      & 0      & 0      & 12000  & 0      & 0      & 0      & 0      & 9000   & 0      & 0      & 0      & 0      & 14000  & 0      & 0      & 0      & 0      & 17000  & 0      & 0      & 0      & 0      & -15000 & 0      & 0      & 0      & <=     & 0     \\\\\n",
       "\t 0      & 0      & 0      & 8000   & 0      & 0      & 0      & 0      & 12000  & 0      & 0      & 0      & 0      & 9000   & 0      & 0      & 0      & 0      & 14000  & 0      & 0      & 0      & 0      & 17000  & 0      & 0      & 0      & 0      & -25000 & 0      & 0      & <=     & 0     \\\\\n",
       "\t 0      & 0      & 0      & 0      & 8000   & 0      & 0      & 0      & 0      & 12000  & 0      & 0      & 0      & 0      & 9000   & 0      & 0      & 0      & 0      & 14000  & 0      & 0      & 0      & 0      & 17000  & 0      & 0      & 0      & 0      & -15000 & 0      & <=     & 0     \\\\\n",
       "\t 0      & 0      & 0      & 0      & 0      & 0      & 0      & 0      & 0      & 0      & 0      & 0      & 0      & 0      & 0      & 0      & 0      & 0      & 0      & 0      & 0      & 0      & 0      & 0      & 0      & 1      & 0      & 1      & 0      & 0      & 0      & <=     & 1     \\\\\n",
       "\t 0      & 0      & 0      & 0      & 0      & 0      & 0      & 0      & 0      & 0      & 0      & 0      & 0      & 0      & 0      & 1      & 1      & 1      & 1      & 1      & 0      & 0      & 0      & 0      & 0      & 0      & 0      & 0      & 0      & 0      & -1     & <=     & 0.88  \\\\\n",
       "\t 1      & 1      & 1      & 1      & 1      & 1      & 1      & 1      & 1      & 1      & 0      & 0      & 0      & 0      & 0      & 0      & 0      & 0      & 0      & 0      & 0      & 0      & 0      & 0      & 0      & 0      & 0      & 0      & 0      & 0      & 0      & >=     & 0.375 \\\\\n",
       "\\end{tabular}\n"
      ],
      "text/markdown": [
       "\n",
       " |  |  |  |  |  |  |  |  |  |  |  |  |  |  |  |  |  |  |  |  |  |  |  |  |  |  |  |  |  |  | dir | rhs | \n",
       "|---|---|---|---|---|---|---|---|---|---|---|---|---|\n",
       "| 1      | 1      | 1      | 1      | 1      | 0      | 0      | 0      | 0      | 0      | 0      | 0      | 0      | 0      | 0      | 0      | 0      | 0      | 0      | 0      | 0      | 0      | 0      | 0      | 0      | 0      | 0      | 0      | 0      | 0      | 0      | ==     | 1      | \n",
       "| 0      | 0      | 0      | 0      | 0      | 1      | 1      | 1      | 1      | 1      | 0      | 0      | 0      | 0      | 0      | 0      | 0      | 0      | 0      | 0      | 0      | 0      | 0      | 0      | 0      | 0      | 0      | 0      | 0      | 0      | 0      | ==     | 1      | \n",
       "| 0      | 0      | 0      | 0      | 0      | 0      | 0      | 0      | 0      | 0      | 1      | 1      | 1      | 1      | 1      | 0      | 0      | 0      | 0      | 0      | 0      | 0      | 0      | 0      | 0      | 0      | 0      | 0      | 0      | 0      | 0      | ==     | 1      | \n",
       "| 0      | 0      | 0      | 0      | 0      | 0      | 0      | 0      | 0      | 0      | 0      | 0      | 0      | 0      | 0      | 1      | 1      | 1      | 1      | 1      | 0      | 0      | 0      | 0      | 0      | 0      | 0      | 0      | 0      | 0      | 0      | ==     | 1      | \n",
       "| 0      | 0      | 0      | 0      | 0      | 0      | 0      | 0      | 0      | 0      | 0      | 0      | 0      | 0      | 0      | 0      | 0      | 0      | 0      | 0      | 1      | 1      | 1      | 1      | 1      | 0      | 0      | 0      | 0      | 0      | 0      | ==     | 1      | \n",
       "| 8000   | 0      | 0      | 0      | 0      | 12000  | 0      | 0      | 0      | 0      | 9000   | 0      | 0      | 0      | 0      | 14000  | 0      | 0      | 0      | 0      | 17000  | 0      | 0      | 0      | 0      | -20000 | 0      | 0      | 0      | 0      | 0      | <=     | 0      | \n",
       "| 0      | 8000   | 0      | 0      | 0      | 0      | 12000  | 0      | 0      | 0      | 0      | 9000   | 0      | 0      | 0      | 0      | 14000  | 0      | 0      | 0      | 0      | 17000  | 0      | 0      | 0      | 0      | -20000 | 0      | 0      | 0      | 0      | <=     | 0      | \n",
       "| 0      | 0      | 8000   | 0      | 0      | 0      | 0      | 12000  | 0      | 0      | 0      | 0      | 9000   | 0      | 0      | 0      | 0      | 14000  | 0      | 0      | 0      | 0      | 17000  | 0      | 0      | 0      | 0      | -15000 | 0      | 0      | 0      | <=     | 0      | \n",
       "| 0      | 0      | 0      | 8000   | 0      | 0      | 0      | 0      | 12000  | 0      | 0      | 0      | 0      | 9000   | 0      | 0      | 0      | 0      | 14000  | 0      | 0      | 0      | 0      | 17000  | 0      | 0      | 0      | 0      | -25000 | 0      | 0      | <=     | 0      | \n",
       "| 0      | 0      | 0      | 0      | 8000   | 0      | 0      | 0      | 0      | 12000  | 0      | 0      | 0      | 0      | 9000   | 0      | 0      | 0      | 0      | 14000  | 0      | 0      | 0      | 0      | 17000  | 0      | 0      | 0      | 0      | -15000 | 0      | <=     | 0      | \n",
       "| 0      | 0      | 0      | 0      | 0      | 0      | 0      | 0      | 0      | 0      | 0      | 0      | 0      | 0      | 0      | 0      | 0      | 0      | 0      | 0      | 0      | 0      | 0      | 0      | 0      | 1      | 0      | 1      | 0      | 0      | 0      | <=     | 1      | \n",
       "| 0      | 0      | 0      | 0      | 0      | 0      | 0      | 0      | 0      | 0      | 0      | 0      | 0      | 0      | 0      | 1      | 1      | 1      | 1      | 1      | 0      | 0      | 0      | 0      | 0      | 0      | 0      | 0      | 0      | 0      | -1     | <=     | 0.88   | \n",
       "| 1      | 1      | 1      | 1      | 1      | 1      | 1      | 1      | 1      | 1      | 0      | 0      | 0      | 0      | 0      | 0      | 0      | 0      | 0      | 0      | 0      | 0      | 0      | 0      | 0      | 0      | 0      | 0      | 0      | 0      | 0      | >=     | 0.375  | \n",
       "\n",
       "\n"
      ],
      "text/plain": [
       "                                                                           \n",
       " [1,] 1    1    1    1    1    0     0     0     0     0     0    0    0   \n",
       " [2,] 0    0    0    0    0    1     1     1     1     1     0    0    0   \n",
       " [3,] 0    0    0    0    0    0     0     0     0     0     1    1    1   \n",
       " [4,] 0    0    0    0    0    0     0     0     0     0     0    0    0   \n",
       " [5,] 0    0    0    0    0    0     0     0     0     0     0    0    0   \n",
       " [6,] 8000 0    0    0    0    12000 0     0     0     0     9000 0    0   \n",
       " [7,] 0    8000 0    0    0    0     12000 0     0     0     0    9000 0   \n",
       " [8,] 0    0    8000 0    0    0     0     12000 0     0     0    0    9000\n",
       " [9,] 0    0    0    8000 0    0     0     0     12000 0     0    0    0   \n",
       "[10,] 0    0    0    0    8000 0     0     0     0     12000 0    0    0   \n",
       "[11,] 0    0    0    0    0    0     0     0     0     0     0    0    0   \n",
       "[12,] 0    0    0    0    0    0     0     0     0     0     0    0    0   \n",
       "[13,] 1    1    1    1    1    1     1     1     1     1     0    0    0   \n",
       "                                                                           \n",
       " [1,] 0    0    0     0     0     0     0     0     0     0     0     0    \n",
       " [2,] 0    0    0     0     0     0     0     0     0     0     0     0    \n",
       " [3,] 1    1    0     0     0     0     0     0     0     0     0     0    \n",
       " [4,] 0    0    1     1     1     1     1     0     0     0     0     0    \n",
       " [5,] 0    0    0     0     0     0     0     1     1     1     1     1    \n",
       " [6,] 0    0    14000 0     0     0     0     17000 0     0     0     0    \n",
       " [7,] 0    0    0     14000 0     0     0     0     17000 0     0     0    \n",
       " [8,] 0    0    0     0     14000 0     0     0     0     17000 0     0    \n",
       " [9,] 9000 0    0     0     0     14000 0     0     0     0     17000 0    \n",
       "[10,] 0    9000 0     0     0     0     14000 0     0     0     0     17000\n",
       "[11,] 0    0    0     0     0     0     0     0     0     0     0     0    \n",
       "[12,] 0    0    1     1     1     1     1     0     0     0     0     0    \n",
       "[13,] 0    0    0     0     0     0     0     0     0     0     0     0    \n",
       "                                            dir rhs  \n",
       " [1,] 0      0      0      0      0      0  ==  1    \n",
       " [2,] 0      0      0      0      0      0  ==  1    \n",
       " [3,] 0      0      0      0      0      0  ==  1    \n",
       " [4,] 0      0      0      0      0      0  ==  1    \n",
       " [5,] 0      0      0      0      0      0  ==  1    \n",
       " [6,] -20000 0      0      0      0      0  <=  0    \n",
       " [7,] 0      -20000 0      0      0      0  <=  0    \n",
       " [8,] 0      0      -15000 0      0      0  <=  0    \n",
       " [9,] 0      0      0      -25000 0      0  <=  0    \n",
       "[10,] 0      0      0      0      -15000 0  <=  0    \n",
       "[11,] 1      0      1      0      0      0  <=  1    \n",
       "[12,] 0      0      0      0      0      -1 <=  0.88 \n",
       "[13,] 0      0      0      0      0      0  >=  0.375"
      ]
     },
     "metadata": {},
     "output_type": "display_data"
    }
   ],
   "source": [
    "obj <- c(obj, 0)\n",
    "conditions <- cbind(conditions, rep(0, nrow(conditions)))\n",
    "types <- c(types, \"B\")\n",
    "\n",
    "a2 <- conditions[4, ]\n",
    "a2[length(a2)] <- -1\n",
    "conditions <- rbind(conditions, a2)\n",
    "dir <- c(dir, \"<=\")\n",
    "rhs <- c(rhs, 22000 / p$s[4])\n",
    "\n",
    "a3 <- colSums(conditions[c(1, 2), ])\n",
    "conditions <- rbind(conditions, a3)\n",
    "dir <- c(dir, \">=\")\n",
    "rhs <- c(rhs, 15000/sum(p$s[c(1, 2)]))\n",
    "\n",
    "rownames(conditions) <- NULL\n",
    "cbind(conditions, dir, rhs)"
   ]
  },
  {
   "cell_type": "markdown",
   "metadata": {},
   "source": [
    "Por último, resolvemos el problema con la matriz de restricciones indicada, obteniendo la siguiente solución, cuya matriz $Y$ es binaria, a pesar de que esta no se ha restringido de tal manera. Por tanto, esta solución también será la que se obtenga modelizando el problema como de fuente única. Los resultados se muestran a continuación"
   ]
  },
  {
   "cell_type": "code",
   "execution_count": 14,
   "metadata": {},
   "outputs": [
    {
     "data": {
      "text/html": [
       "<dl>\n",
       "\t<dt>$min.cost</dt>\n",
       "\t\t<dd>167900</dd>\n",
       "\t<dt>$ratios</dt>\n",
       "\t\t<dd><table>\n",
       "<tbody>\n",
       "\t<tr><td>0</td><td>0</td><td>0</td><td>0</td><td>0</td></tr>\n",
       "\t<tr><td>1</td><td>1</td><td>0</td><td>0</td><td>0</td></tr>\n",
       "\t<tr><td>0</td><td>0</td><td>1</td><td>0</td><td>0</td></tr>\n",
       "\t<tr><td>0</td><td>0</td><td>0</td><td>0</td><td>1</td></tr>\n",
       "\t<tr><td>0</td><td>0</td><td>0</td><td>1</td><td>0</td></tr>\n",
       "</tbody>\n",
       "</table>\n",
       "</dd>\n",
       "\t<dt>$services</dt>\n",
       "\t\t<dd><table>\n",
       "<tbody>\n",
       "\t<tr><td>0</td><td>1</td><td>1</td><td>1</td><td>1</td></tr>\n",
       "</tbody>\n",
       "</table>\n",
       "</dd>\n",
       "\t<dt>$amount</dt>\n",
       "\t\t<dd><table>\n",
       "<tbody>\n",
       "\t<tr><td>   0 </td><td>    0</td><td>   0 </td><td>    0</td><td>    0</td></tr>\n",
       "\t<tr><td>8000 </td><td>12000</td><td>   0 </td><td>    0</td><td>    0</td></tr>\n",
       "\t<tr><td>   0 </td><td>    0</td><td>9000 </td><td>    0</td><td>    0</td></tr>\n",
       "\t<tr><td>   0 </td><td>    0</td><td>   0 </td><td>    0</td><td>17000</td></tr>\n",
       "\t<tr><td>   0 </td><td>    0</td><td>   0 </td><td>14000</td><td>    0</td></tr>\n",
       "</tbody>\n",
       "</table>\n",
       "</dd>\n",
       "</dl>\n"
      ],
      "text/latex": [
       "\\begin{description}\n",
       "\\item[\\$min.cost] 167900\n",
       "\\item[\\$ratios] \\begin{tabular}{lllll}\n",
       "\t 0 & 0 & 0 & 0 & 0\\\\\n",
       "\t 1 & 1 & 0 & 0 & 0\\\\\n",
       "\t 0 & 0 & 1 & 0 & 0\\\\\n",
       "\t 0 & 0 & 0 & 0 & 1\\\\\n",
       "\t 0 & 0 & 0 & 1 & 0\\\\\n",
       "\\end{tabular}\n",
       "\n",
       "\\item[\\$services] \\begin{tabular}{lllll}\n",
       "\t 0 & 1 & 1 & 1 & 1\\\\\n",
       "\\end{tabular}\n",
       "\n",
       "\\item[\\$amount] \\begin{tabular}{lllll}\n",
       "\t    0  &     0 &    0  &     0 &     0\\\\\n",
       "\t 8000  & 12000 &    0  &     0 &     0\\\\\n",
       "\t    0  &     0 & 9000  &     0 &     0\\\\\n",
       "\t    0  &     0 &    0  &     0 & 17000\\\\\n",
       "\t    0  &     0 &    0  & 14000 &     0\\\\\n",
       "\\end{tabular}\n",
       "\n",
       "\\end{description}\n"
      ],
      "text/markdown": [
       "$min.cost\n",
       ":   167900\n",
       "$ratios\n",
       ":   \n",
       "| 0 | 0 | 0 | 0 | 0 | \n",
       "| 1 | 1 | 0 | 0 | 0 | \n",
       "| 0 | 0 | 1 | 0 | 0 | \n",
       "| 0 | 0 | 0 | 0 | 1 | \n",
       "| 0 | 0 | 0 | 1 | 0 | \n",
       "\n",
       "\n",
       "\n",
       "$services\n",
       ":   \n",
       "| 0 | 1 | 1 | 1 | 1 | \n",
       "\n",
       "\n",
       "\n",
       "$amount\n",
       ":   \n",
       "|    0  |     0 |    0  |     0 |     0 | \n",
       "| 8000  | 12000 |    0  |     0 |     0 | \n",
       "|    0  |     0 | 9000  |     0 |     0 | \n",
       "|    0  |     0 |    0  |     0 | 17000 | \n",
       "|    0  |     0 |    0  | 14000 |     0 | \n",
       "\n",
       "\n",
       "\n",
       "\n",
       "\n"
      ],
      "text/plain": [
       "$min.cost\n",
       "[1] 167900\n",
       "\n",
       "$ratios\n",
       "     [,1] [,2] [,3] [,4] [,5]\n",
       "[1,]    0    0    0    0    0\n",
       "[2,]    1    1    0    0    0\n",
       "[3,]    0    0    1    0    0\n",
       "[4,]    0    0    0    0    1\n",
       "[5,]    0    0    0    1    0\n",
       "\n",
       "$services\n",
       "     [,1] [,2] [,3] [,4] [,5]\n",
       "[1,]    0    1    1    1    1\n",
       "\n",
       "$amount\n",
       "     [,1]  [,2] [,3]  [,4]  [,5]\n",
       "[1,]    0     0    0     0     0\n",
       "[2,] 8000 12000    0     0     0\n",
       "[3,]    0     0 9000     0     0\n",
       "[4,]    0     0    0     0 17000\n",
       "[5,]    0     0    0 14000     0\n"
      ]
     },
     "metadata": {},
     "output_type": "display_data"
    }
   ],
   "source": [
    "s <- Solve(obj   = obj, \n",
    "           mat   = conditions, \n",
    "           dir   = dir,  \n",
    "           rhs   = rhs,\n",
    "           types = types)\n",
    "FormatUncapacitedFacicilityLocationSolution(s, p)"
   ]
  },
  {
   "cell_type": "markdown",
   "metadata": {},
   "source": [
    "##### WebBook: Cuestión 4"
   ]
  },
  {
   "cell_type": "markdown",
   "metadata": {},
   "source": [
    "*¿Cómo se debe modificar el modelo de distribución si se exige que cada región de ventas debe ser asignada a un único almacén?*"
   ]
  },
  {
   "cell_type": "markdown",
   "metadata": {},
   "source": [
    "Para modelizar el problema como de fuente única basta con indicar que todas las variables de decisión deberán ser de tipo binario, lo cual se hace a partir de la siguiente orden:"
   ]
  },
  {
   "cell_type": "code",
   "execution_count": 15,
   "metadata": {},
   "outputs": [],
   "source": [
    "types.unique <- rep(\"B\", (p$m + 1) * p$n)"
   ]
  },
  {
   "cell_type": "markdown",
   "metadata": {},
   "source": [
    "Lo siguiente es resolver el problema, que como vemos, proporciona los mismos resultados que el anterior, ya que este ya era de fuente única:"
   ]
  },
  {
   "cell_type": "code",
   "execution_count": 16,
   "metadata": {},
   "outputs": [
    {
     "data": {
      "text/html": [
       "<dl>\n",
       "\t<dt>$min.cost</dt>\n",
       "\t\t<dd>167900</dd>\n",
       "\t<dt>$ratios</dt>\n",
       "\t\t<dd><table>\n",
       "<tbody>\n",
       "\t<tr><td>0</td><td>0</td><td>0</td><td>0</td><td>0</td></tr>\n",
       "\t<tr><td>1</td><td>1</td><td>0</td><td>0</td><td>0</td></tr>\n",
       "\t<tr><td>0</td><td>0</td><td>1</td><td>0</td><td>0</td></tr>\n",
       "\t<tr><td>0</td><td>0</td><td>0</td><td>0</td><td>1</td></tr>\n",
       "\t<tr><td>0</td><td>0</td><td>0</td><td>1</td><td>0</td></tr>\n",
       "</tbody>\n",
       "</table>\n",
       "</dd>\n",
       "\t<dt>$services</dt>\n",
       "\t\t<dd><table>\n",
       "<tbody>\n",
       "\t<tr><td>0</td><td>1</td><td>1</td><td>1</td><td>1</td></tr>\n",
       "</tbody>\n",
       "</table>\n",
       "</dd>\n",
       "\t<dt>$amount</dt>\n",
       "\t\t<dd><table>\n",
       "<tbody>\n",
       "\t<tr><td>   0 </td><td>    0</td><td>   0 </td><td>    0</td><td>    0</td></tr>\n",
       "\t<tr><td>8000 </td><td>12000</td><td>   0 </td><td>    0</td><td>    0</td></tr>\n",
       "\t<tr><td>   0 </td><td>    0</td><td>9000 </td><td>    0</td><td>    0</td></tr>\n",
       "\t<tr><td>   0 </td><td>    0</td><td>   0 </td><td>    0</td><td>17000</td></tr>\n",
       "\t<tr><td>   0 </td><td>    0</td><td>   0 </td><td>14000</td><td>    0</td></tr>\n",
       "</tbody>\n",
       "</table>\n",
       "</dd>\n",
       "</dl>\n"
      ],
      "text/latex": [
       "\\begin{description}\n",
       "\\item[\\$min.cost] 167900\n",
       "\\item[\\$ratios] \\begin{tabular}{lllll}\n",
       "\t 0 & 0 & 0 & 0 & 0\\\\\n",
       "\t 1 & 1 & 0 & 0 & 0\\\\\n",
       "\t 0 & 0 & 1 & 0 & 0\\\\\n",
       "\t 0 & 0 & 0 & 0 & 1\\\\\n",
       "\t 0 & 0 & 0 & 1 & 0\\\\\n",
       "\\end{tabular}\n",
       "\n",
       "\\item[\\$services] \\begin{tabular}{lllll}\n",
       "\t 0 & 1 & 1 & 1 & 1\\\\\n",
       "\\end{tabular}\n",
       "\n",
       "\\item[\\$amount] \\begin{tabular}{lllll}\n",
       "\t    0  &     0 &    0  &     0 &     0\\\\\n",
       "\t 8000  & 12000 &    0  &     0 &     0\\\\\n",
       "\t    0  &     0 & 9000  &     0 &     0\\\\\n",
       "\t    0  &     0 &    0  &     0 & 17000\\\\\n",
       "\t    0  &     0 &    0  & 14000 &     0\\\\\n",
       "\\end{tabular}\n",
       "\n",
       "\\end{description}\n"
      ],
      "text/markdown": [
       "$min.cost\n",
       ":   167900\n",
       "$ratios\n",
       ":   \n",
       "| 0 | 0 | 0 | 0 | 0 | \n",
       "| 1 | 1 | 0 | 0 | 0 | \n",
       "| 0 | 0 | 1 | 0 | 0 | \n",
       "| 0 | 0 | 0 | 0 | 1 | \n",
       "| 0 | 0 | 0 | 1 | 0 | \n",
       "\n",
       "\n",
       "\n",
       "$services\n",
       ":   \n",
       "| 0 | 1 | 1 | 1 | 1 | \n",
       "\n",
       "\n",
       "\n",
       "$amount\n",
       ":   \n",
       "|    0  |     0 |    0  |     0 |     0 | \n",
       "| 8000  | 12000 |    0  |     0 |     0 | \n",
       "|    0  |     0 | 9000  |     0 |     0 | \n",
       "|    0  |     0 |    0  |     0 | 17000 | \n",
       "|    0  |     0 |    0  | 14000 |     0 | \n",
       "\n",
       "\n",
       "\n",
       "\n",
       "\n"
      ],
      "text/plain": [
       "$min.cost\n",
       "[1] 167900\n",
       "\n",
       "$ratios\n",
       "     [,1] [,2] [,3] [,4] [,5]\n",
       "[1,]    0    0    0    0    0\n",
       "[2,]    1    1    0    0    0\n",
       "[3,]    0    0    1    0    0\n",
       "[4,]    0    0    0    0    1\n",
       "[5,]    0    0    0    1    0\n",
       "\n",
       "$services\n",
       "     [,1] [,2] [,3] [,4] [,5]\n",
       "[1,]    0    1    1    1    1\n",
       "\n",
       "$amount\n",
       "     [,1]  [,2] [,3]  [,4]  [,5]\n",
       "[1,]    0     0    0     0     0\n",
       "[2,] 8000 12000    0     0     0\n",
       "[3,]    0     0 9000     0     0\n",
       "[4,]    0     0    0     0 17000\n",
       "[5,]    0     0    0 14000     0\n"
      ]
     },
     "metadata": {},
     "output_type": "display_data"
    }
   ],
   "source": [
    "s <- Solve(obj = obj, \n",
    "          mat = conditions, \n",
    "          dir = dir, \n",
    "          rhs = rhs,\n",
    "          types = types.unique)\n",
    "FormatUncapacitedFacicilityLocationSolution(s, p)"
   ]
  },
  {
   "cell_type": "markdown",
   "metadata": {},
   "source": [
    "## Conclusiones\n",
    "\n",
    "Los problemas de localización de servicios mediante la programación lineal representan un método de modelización muy enriquecedor, que permite estudiar el problema desde el punto de vista matemático, de manera relativamente sencilla. Estos problemas, presentan una gran complejidad a nivel computacional debido a su carácter de programación binaria, donde la explosión combinatoria hace que para situaciones en que hay que modelizar un gran número de puntos de demanda y abastecimiento, encontrar soluciones en tiempos razonables se convierte en una tarea muy complicada.  \n",
    "\n",
    "Por dichas razones, la literatura ha propuesto distintas heurísticas que tratan de hacer frente a estas situaciones tratando de proporcionar un contrato razonable entre los resultados óptimos que se obtiene a través de métodos exactos, y el uso reducido de recursos computacionales. Tal y como se ha indicado, las heurísticas greedy más básicas son *ADD* y *DROP*, pero a pesar de ello, proporcionan resultados eficientes. Es por ello que estas técnicas deben ser tenidas en cuenta."
   ]
  },
  {
   "cell_type": "markdown",
   "metadata": {},
   "source": [
    "## Referencias\n",
    "\n",
    "  * [TRC13] Team, R.C., 2013. R: A language and environment for statistical computing.\n",
    "  * [GP18] Sergio García Prado. Programación Entera: Heurísticas, 2018. [github.com/garciparedes/integer-programming-heuristics](https://github.com/garciparedes/integer-programming-heuristics).\n",
    "  * [SA18] Jesús Sáez Aguado. Programación Entera, 2017/18. Facultad de Ciencias: Departamento de Estadística e Investigación Operativa.\n",
    "  * [THBSST17] Theussl, S., Hornik, K., Buchta, C., Schwendinger, F., Schuchardt, H. and Theussl, M.S., 2017. Package ‘Rglpk’.\n",
    "  "
   ]
  }
 ],
 "metadata": {
  "kernelspec": {
   "display_name": "R",
   "language": "R",
   "name": "ir"
  },
  "language_info": {
   "codemirror_mode": "r",
   "file_extension": ".r",
   "mimetype": "text/x-r-source",
   "name": "R",
   "pygments_lexer": "r",
   "version": "3.5.0"
  }
 },
 "nbformat": 4,
 "nbformat_minor": 2
}
