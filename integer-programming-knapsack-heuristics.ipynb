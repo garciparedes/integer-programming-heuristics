{
 "cells": [
  {
   "cell_type": "markdown",
   "metadata": {},
   "source": [
    "# Programación Entera: Heurísticas para el Problema de la Mochila"
   ]
  },
  {
   "cell_type": "markdown",
   "metadata": {},
   "source": [
    "#### Descripción\n",
    "\n",
    "[TODO]\n",
    "\n",
    "#### Autor\n",
    "  \n",
    "  * Sergio García Prado - [garciparedes.me](https://garciparedes.me)\n",
    "  \n",
    "#### Fecha\n",
    "\n",
    "  * Mayo de 2018\n"
   ]
  },
  {
   "cell_type": "markdown",
   "metadata": {},
   "source": [
    "## Contenidos\n",
    "  * [Introducción](#Introducción)\n",
    "  * [Problema de la Mochila](#Problema-de-la-Mochila)\n",
    "    * [Mochila Simple](#Mochila-Simple)\n",
    "    * [Mochila Múltiple](#Mochila-Múltiple)\n",
    "    * [Mochila Multidimensional](#Mochila-Multidimensional)\n",
    "  * [Problema de Empaquetamiento](#Problema-de-Empaqutamiento)\n",
    "  * [Conclusiones](#Conclusiones)"
   ]
  },
  {
   "cell_type": "markdown",
   "metadata": {},
   "source": [
    "## Introducción"
   ]
  },
  {
   "cell_type": "markdown",
   "metadata": {},
   "source": [
    "#### Configuración del Entorno"
   ]
  },
  {
   "cell_type": "code",
   "execution_count": 1,
   "metadata": {},
   "outputs": [],
   "source": [
    "import numpy as np\n",
    "from ortools.linear_solver import pywraplp\n",
    "from ortools.algorithms import pywrapknapsack_solver\n",
    "from pathlib import Path\n",
    "import re"
   ]
  },
  {
   "cell_type": "markdown",
   "metadata": {},
   "source": [
    "#### Constantes"
   ]
  },
  {
   "cell_type": "code",
   "execution_count": 2,
   "metadata": {},
   "outputs": [],
   "source": [
    "datasets_root = Path('./data/')\n",
    "datasets_knapsack_path = datasets_root / 'knapsack'\n",
    "datasets_simple_path =  datasets_knapsack_path / 'simple'\n",
    "datasets_multidimensional_path =  datasets_knapsack_path / 'multidimensional'"
   ]
  },
  {
   "cell_type": "markdown",
   "metadata": {},
   "source": [
    "#### Funciones de Apoyo"
   ]
  },
  {
   "cell_type": "code",
   "execution_count": 3,
   "metadata": {},
   "outputs": [],
   "source": [
    "def read_simple_knapsack(file_path, value_format = float):\n",
    "    l = dict()\n",
    "    with open(file_path, 'r') as content_file:\n",
    "        raw = np.array(list(map(value_format, content_file.read().strip().split())))\n",
    "        l['n'] = raw[0].astype(int)\n",
    "        l['capacity'] = raw[1]\n",
    "        l['value'] = raw[np.arange(3, raw.shape[0], step=3)]\n",
    "        l['weight'] = raw[np.arange(4, raw.shape[0], step=3)]\n",
    "    return l"
   ]
  },
  {
   "cell_type": "code",
   "execution_count": 4,
   "metadata": {},
   "outputs": [],
   "source": [
    "def read_multidimensional_knapsack(file_path, value_format = float):\n",
    "    l = dict()\n",
    "    with open(file_path, 'r') as content_file:\n",
    "        raw = np.array(list(map(value_format, content_file.read().strip().split())))\n",
    "        l['n'] = raw[0].astype(int)\n",
    "        l['m'] = raw[1].astype(int)\n",
    "        l['objval'] = raw[2]\n",
    "        l['value'] = raw[3 + np.arange(0, l['n'])]\n",
    "        l['weight'] = np.reshape(raw[3 + np.arange(l['n'], l['n'] *  (1 + l['m']))],(l['n'], l['m']))\n",
    "        l['capacity'] = raw[(3 + l['n'] * (1 + l['m']) ):]\n",
    "    return l"
   ]
  },
  {
   "cell_type": "code",
   "execution_count": 5,
   "metadata": {},
   "outputs": [],
   "source": [
    "def pretty(d):\n",
    "    for key, value in d.items():\n",
    "        print(key, ':', sep='')\n",
    "        print(value,'\\n', sep='')"
   ]
  },
  {
   "cell_type": "markdown",
   "metadata": {},
   "source": [
    "## Problema de la Mochila"
   ]
  },
  {
   "cell_type": "markdown",
   "metadata": {},
   "source": [
    "#### Descripción:\n",
    "TODO"
   ]
  },
  {
   "cell_type": "markdown",
   "metadata": {},
   "source": [
    "### Mochila Simple"
   ]
  },
  {
   "cell_type": "markdown",
   "metadata": {},
   "source": [
    "#### Descripción:\n",
    "TODO"
   ]
  },
  {
   "cell_type": "markdown",
   "metadata": {},
   "source": [
    "#### Modelo:\n",
    "TODO"
   ]
  },
  {
   "cell_type": "code",
   "execution_count": 6,
   "metadata": {},
   "outputs": [],
   "source": [
    "def knapsack_simple_exact(p):\n",
    "    solver = pywrapknapsack_solver.KnapsackSolver(\n",
    "        pywrapknapsack_solver.KnapsackSolver.\n",
    "        KNAPSACK_MULTIDIMENSION_BRANCH_AND_BOUND_SOLVER,\n",
    "        'test')\n",
    "\n",
    "    solver.Init(p['value'], [p['weight'].tolist()], \n",
    "                [p['capacity'].tolist()])\n",
    "    solution = solver.Solve()\n",
    "\n",
    "    r = dict()\n",
    "    if solution:\n",
    "        r['objval'] = np.array(solution)\n",
    "        r['solution'] = np.array([1 if solver.BestSolutionContains(x) else 0\n",
    "                                  for x in range(0, len(p['weight'].tolist()))])\n",
    "    else:\n",
    "        raise ValueError('No solution found.')\n",
    "    return r"
   ]
  },
  {
   "cell_type": "code",
   "execution_count": 7,
   "metadata": {},
   "outputs": [],
   "source": [
    "gen100_1 = read_simple_knapsack(datasets_simple_path / 'gen100_1.txt')"
   ]
  },
  {
   "cell_type": "code",
   "execution_count": 8,
   "metadata": {},
   "outputs": [
    {
     "name": "stdout",
     "output_type": "stream",
     "text": [
      "objval:\n",
      "1753\n",
      "\n",
      "solution:\n",
      "[1 0 1 1 1 0 0 0 0 0 0 1 0 0 1 0 0 0 0 0 0 0 0 0 0 0 0 0 1 0 0 1 0 0 0 0 1\n",
      " 0 0 0 0 0 0 0 0 1 0 1 0 0 0 1 0 0 0 1 0 1 1 0 0 0 1 0 0 1 0 0 0 1 0 0 0 0\n",
      " 0 0 0 1 0 0 1 0 0 0 1 0 0 0 0 0 0 0 0 0 0 1 0 0 1 0]\n",
      "\n"
     ]
    }
   ],
   "source": [
    "pretty(knapsack_simple_exact(gen100_1))"
   ]
  },
  {
   "cell_type": "markdown",
   "metadata": {},
   "source": [
    "#### Heurísticas:\n",
    "TODO"
   ]
  },
  {
   "cell_type": "markdown",
   "metadata": {},
   "source": [
    "### Ejemplos"
   ]
  },
  {
   "cell_type": "markdown",
   "metadata": {},
   "source": [
    "##### gen100.1"
   ]
  },
  {
   "cell_type": "markdown",
   "metadata": {},
   "source": [
    "##### gen100.2"
   ]
  },
  {
   "cell_type": "markdown",
   "metadata": {},
   "source": [
    "##### gen100.3"
   ]
  },
  {
   "cell_type": "markdown",
   "metadata": {},
   "source": [
    "##### gen100.4"
   ]
  },
  {
   "cell_type": "markdown",
   "metadata": {},
   "source": [
    "##### gen100.5"
   ]
  },
  {
   "cell_type": "markdown",
   "metadata": {},
   "source": [
    "##### gen200.1"
   ]
  },
  {
   "cell_type": "markdown",
   "metadata": {},
   "source": [
    "##### gen200.2"
   ]
  },
  {
   "cell_type": "markdown",
   "metadata": {},
   "source": [
    "##### gen200.3"
   ]
  },
  {
   "cell_type": "markdown",
   "metadata": {},
   "source": [
    "##### gen200.4"
   ]
  },
  {
   "cell_type": "markdown",
   "metadata": {},
   "source": [
    "##### gen200.5"
   ]
  },
  {
   "cell_type": "markdown",
   "metadata": {},
   "source": [
    "##### gen300.1"
   ]
  },
  {
   "cell_type": "markdown",
   "metadata": {},
   "source": [
    "##### gen300.2"
   ]
  },
  {
   "cell_type": "markdown",
   "metadata": {},
   "source": [
    "##### gen300.3"
   ]
  },
  {
   "cell_type": "markdown",
   "metadata": {},
   "source": [
    "##### gen300.4"
   ]
  },
  {
   "cell_type": "markdown",
   "metadata": {},
   "source": [
    "##### gen300.5"
   ]
  },
  {
   "cell_type": "markdown",
   "metadata": {},
   "source": [
    "### Mochila Múltiple"
   ]
  },
  {
   "cell_type": "markdown",
   "metadata": {},
   "source": [
    "#### Descripción:\n",
    "TODO"
   ]
  },
  {
   "cell_type": "markdown",
   "metadata": {},
   "source": [
    "#### Modelo:\n",
    "TODO"
   ]
  },
  {
   "cell_type": "code",
   "execution_count": 9,
   "metadata": {},
   "outputs": [],
   "source": [
    "def knapsack_multiple_exact(p, m = 1):\n",
    "    solver = pywraplp.Solver('SolveSimpleSystem',\n",
    "                           pywraplp.Solver.CBC_MIXED_INTEGER_PROGRAMMING)\n",
    "    \n",
    "    objective = solver.Objective()\n",
    "    \n",
    "    x = list()\n",
    "    for i in range(m):\n",
    "        x.append(list())\n",
    "        for j in range(int(p['n'])):\n",
    "            x[i].append(solver.IntVar(0, 1, \"x(\" + str(i) + \", \" + str(j) + \")\"))\n",
    "            objective.SetCoefficient(x[i][j], float(p['value'][j]))\n",
    "    \n",
    "    objective.SetMaximization()\n",
    "    \n",
    "    constraints = list()\n",
    "    for i in range(p['n']):\n",
    "        constraints.append(solver.Constraint(0, 1))\n",
    "        for j in range(m):\n",
    "            constraints[i].SetCoefficient(x[j][i], 1)\n",
    "    \n",
    "    for j in range(m):\n",
    "        constraints.append(solver.Constraint(0, p['capacity']))\n",
    "        for i in range(p['n']):\n",
    "            constraints[j + p['n']].SetCoefficient(x[j][i], p['weight'][i])\n",
    "            pass\n",
    "    status = solver.Solve()\n",
    "    \n",
    "    if status == solver.OPTIMAL or status == solver.FEASIBLE:\n",
    "        r = dict()\n",
    "        r['objval'] = 0\n",
    "        r['solution'] = np.zeros((m, p['n']), dtype=int)\n",
    "        for i in range(m):\n",
    "            for j in range(p['n']):\n",
    "                r['solution'][i][j] = x[i][j].solution_value()\n",
    "                r['objval'] += x[i][j].solution_value() * p['value'][j]\n",
    "        \n",
    "        return r\n",
    "    else: \n",
    "        raise ValueError('The solver could not solve the problem.')"
   ]
  },
  {
   "cell_type": "markdown",
   "metadata": {},
   "source": [
    "#### Heurísticas:\n",
    "TODO"
   ]
  },
  {
   "cell_type": "markdown",
   "metadata": {},
   "source": [
    "### Ejemplos"
   ]
  },
  {
   "cell_type": "code",
   "execution_count": 10,
   "metadata": {},
   "outputs": [],
   "source": [
    "gen10_1 = read_simple_knapsack(datasets_simple_path / 'gen10_1.txt')"
   ]
  },
  {
   "cell_type": "code",
   "execution_count": 11,
   "metadata": {},
   "outputs": [
    {
     "name": "stdout",
     "output_type": "stream",
     "text": [
      "objval:\n",
      "2286.0\n",
      "\n",
      "solution:\n",
      "[[0 1 0 0 0 0 1 0 1 0 0 1 0 1 0 0 1 0 1 1 0 1 0 0 1 0 0 1 0 1 0 1 0 0 0 1\n",
      "  0 1 0 0 1 0 0 1 1 1 0 0 0 0]\n",
      " [0 0 0 0 0 0 0 0 0 0 0 0 1 0 0 0 0 0 0 0 0 0 0 1 0 0 0 0 0 0 0 0 0 1 1 0\n",
      "  0 0 0 1 0 1 0 0 0 0 0 0 1 0]\n",
      " [1 0 1 1 1 1 0 1 0 1 1 0 0 0 1 1 0 1 0 0 1 0 1 0 0 1 1 0 1 0 1 0 1 0 0 0\n",
      "  1 0 1 0 0 0 1 0 0 0 0 1 0 1]]\n",
      "\n"
     ]
    }
   ],
   "source": [
    "pretty(knapsack_multiple_exact(gen10_1, 3))"
   ]
  },
  {
   "cell_type": "markdown",
   "metadata": {},
   "source": [
    "##### gen100.1"
   ]
  },
  {
   "cell_type": "code",
   "execution_count": 12,
   "metadata": {},
   "outputs": [
    {
     "name": "stdout",
     "output_type": "stream",
     "text": [
      "objval:\n",
      "1753.0\n",
      "\n",
      "solution:\n",
      "[[1 0 1 1 1 0 0 0 0 0 0 1 0 0 1 0 0 0 0 0 0 0 0 0 0 0 0 0 1 0 0 1 0 0 0 0\n",
      "  1 0 0 0 0 0 0 0 0 1 0 1 0 0 0 1 0 0 0 1 0 1 1 0 0 0 1 0 0 1 0 0 0 1 0 0\n",
      "  0 0 0 0 0 1 0 0 1 0 0 0 1 0 0 0 0 0 0 0 0 0 0 1 0 0 1 0]]\n",
      "\n"
     ]
    }
   ],
   "source": [
    "pretty(knapsack_multiple_exact(gen100_1, 1))"
   ]
  },
  {
   "cell_type": "markdown",
   "metadata": {},
   "source": [
    "##### gen100.2"
   ]
  },
  {
   "cell_type": "markdown",
   "metadata": {},
   "source": [
    "##### gen100.3"
   ]
  },
  {
   "cell_type": "markdown",
   "metadata": {},
   "source": [
    "##### gen100.4"
   ]
  },
  {
   "cell_type": "markdown",
   "metadata": {},
   "source": [
    "##### gen100.5"
   ]
  },
  {
   "cell_type": "markdown",
   "metadata": {},
   "source": [
    "##### gen200.1"
   ]
  },
  {
   "cell_type": "markdown",
   "metadata": {},
   "source": [
    "##### gen200.2"
   ]
  },
  {
   "cell_type": "markdown",
   "metadata": {},
   "source": [
    "##### gen200.3"
   ]
  },
  {
   "cell_type": "markdown",
   "metadata": {},
   "source": [
    "##### gen200.4"
   ]
  },
  {
   "cell_type": "markdown",
   "metadata": {},
   "source": [
    "##### gen200.5"
   ]
  },
  {
   "cell_type": "markdown",
   "metadata": {},
   "source": [
    "##### gen300.1"
   ]
  },
  {
   "cell_type": "markdown",
   "metadata": {},
   "source": [
    "##### gen300.2"
   ]
  },
  {
   "cell_type": "markdown",
   "metadata": {},
   "source": [
    "##### gen300.3"
   ]
  },
  {
   "cell_type": "markdown",
   "metadata": {},
   "source": [
    "##### gen300.4"
   ]
  },
  {
   "cell_type": "markdown",
   "metadata": {},
   "source": [
    "##### gen300.5"
   ]
  },
  {
   "cell_type": "markdown",
   "metadata": {},
   "source": [
    "### Mochila Multidimensional"
   ]
  },
  {
   "cell_type": "markdown",
   "metadata": {},
   "source": [
    "#### Descripción:\n",
    "TODO"
   ]
  },
  {
   "cell_type": "markdown",
   "metadata": {},
   "source": [
    "#### Modelo:\n",
    "TODO"
   ]
  },
  {
   "cell_type": "code",
   "execution_count": 13,
   "metadata": {},
   "outputs": [],
   "source": [
    "def knapsack_multidimensional_exact(p):\n",
    "    solver = pywrapknapsack_solver.KnapsackSolver(\n",
    "        pywrapknapsack_solver.KnapsackSolver.\n",
    "        KNAPSACK_MULTIDIMENSION_BRANCH_AND_BOUND_SOLVER,\n",
    "        'test')\n",
    "\n",
    "    solver.Init(p['value'].tolist(), p['weight'].tolist(), \n",
    "                p['capacity'].tolist())\n",
    "    solution = solver.Solve()\n",
    "\n",
    "    r = dict()\n",
    "    if solution:\n",
    "        r['objval'] = np.array(solution)\n",
    "        r['solution'] = np.array([1 if solver.BestSolutionContains(x) else 0\n",
    "                                  for x in range(0, len(p['weight'].tolist()))])\n",
    "    else:\n",
    "        raise ValueError('No solution found.')\n",
    "    return r"
   ]
  },
  {
   "cell_type": "markdown",
   "metadata": {},
   "source": [
    "#### Heurísticas:\n",
    "TODO"
   ]
  },
  {
   "cell_type": "markdown",
   "metadata": {},
   "source": [
    "### Ejemplos"
   ]
  },
  {
   "cell_type": "markdown",
   "metadata": {},
   "source": [
    "##### mknap1.2"
   ]
  },
  {
   "cell_type": "code",
   "execution_count": 14,
   "metadata": {},
   "outputs": [],
   "source": [
    "mknap1_2 = read_multidimensional_knapsack(datasets_multidimensional_path / 'mknap1_2.dat')"
   ]
  },
  {
   "cell_type": "code",
   "execution_count": 15,
   "metadata": {},
   "outputs": [
    {
     "name": "stdout",
     "output_type": "stream",
     "text": [
      "n:\n",
      "10\n",
      "\n",
      "m:\n",
      "10\n",
      "\n",
      "objval:\n",
      "8706.1\n",
      "\n",
      "value:\n",
      "[ 600.1  310.5 1800.  3850.    18.6  198.7  882.  4200.   402.5  327. ]\n",
      "\n",
      "weight:\n",
      "[[ 20.   5. 100. 200.   2.   4.  60. 150.  80.  40.]\n",
      " [ 20.   7. 130. 280.   2.   8. 110. 210. 100.  40.]\n",
      " [ 60.   3.  50. 100.   4.   2.  20.  40.   6.  12.]\n",
      " [ 60.   8.  70. 200.   4.   6.  40.  70.  16.  20.]\n",
      " [ 60.  13.  70. 250.   4.  10.  60.  90.  20.  24.]\n",
      " [ 60.  13.  70. 280.   4.  10.  70. 105.  22.  28.]\n",
      " [  5.   2.  20. 100.   2.   5.  10.  60.   0.   0.]\n",
      " [ 45.  14.  80. 180.   6.  10.  40. 100.  20.   0.]\n",
      " [ 55.  14.  80. 200.   6.  10.  50. 140.  30.  40.]\n",
      " [ 65.  14.  80. 220.   6.  10.  50. 180.  30.  50.]]\n",
      "\n",
      "capacity:\n",
      "[450. 540. 200. 360. 440. 480. 200. 360. 440. 480.]\n",
      "\n"
     ]
    }
   ],
   "source": [
    "pretty(mknap1_2)"
   ]
  },
  {
   "cell_type": "code",
   "execution_count": 16,
   "metadata": {},
   "outputs": [
    {
     "name": "stdout",
     "output_type": "stream",
     "text": [
      "objval:\n",
      "8705\n",
      "\n",
      "solution:\n",
      "[0 1 0 1 1 0 0 1 0 1]\n",
      "\n"
     ]
    }
   ],
   "source": [
    "pretty(knapsack_multidimensional_exact(mknap1_2))"
   ]
  },
  {
   "cell_type": "markdown",
   "metadata": {},
   "source": [
    "##### mknap1.3"
   ]
  },
  {
   "cell_type": "markdown",
   "metadata": {},
   "source": [
    "##### mknap1.4"
   ]
  },
  {
   "cell_type": "markdown",
   "metadata": {},
   "source": [
    "##### mknap1.6"
   ]
  },
  {
   "cell_type": "markdown",
   "metadata": {},
   "source": [
    "##### mknap1.7"
   ]
  },
  {
   "cell_type": "markdown",
   "metadata": {},
   "source": [
    "##### mknapcb1.1"
   ]
  },
  {
   "cell_type": "markdown",
   "metadata": {},
   "source": [
    "##### mknapcb1.2"
   ]
  },
  {
   "cell_type": "markdown",
   "metadata": {},
   "source": [
    "##### mknapcb1.3"
   ]
  },
  {
   "cell_type": "markdown",
   "metadata": {},
   "source": [
    "##### mknapcb1.4"
   ]
  },
  {
   "cell_type": "markdown",
   "metadata": {},
   "source": [
    "##### mknapcb1.5"
   ]
  },
  {
   "cell_type": "markdown",
   "metadata": {},
   "source": [
    "## Conclusiones"
   ]
  }
 ],
 "metadata": {
  "kernelspec": {
   "display_name": "Python 3",
   "language": "python",
   "name": "python3"
  },
  "language_info": {
   "codemirror_mode": {
    "name": "ipython",
    "version": 3
   },
   "file_extension": ".py",
   "mimetype": "text/x-python",
   "name": "python",
   "nbconvert_exporter": "python",
   "pygments_lexer": "ipython3",
   "version": "3.6.5"
  }
 },
 "nbformat": 4,
 "nbformat_minor": 2
}
