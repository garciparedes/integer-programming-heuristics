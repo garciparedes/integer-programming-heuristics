{
 "cells": [
  {
   "cell_type": "markdown",
   "metadata": {},
   "source": [
    "# Programación Entera: Heurísticas"
   ]
  },
  {
   "cell_type": "markdown",
   "metadata": {},
   "source": [
    "## Contenidos\n",
    "  \n",
    "  * [Problema de Transporte](#Problema-de-Transporte)\n",
    "  * [Problema de Asignación](#Problema-de-Asignación)\n",
    "  * [Problema de la Mochila](#Problema-de-la-Mochila)\n",
    "    * [Mochila Simple](#Mochila-Simple)\n",
    "    * [Mochila Múltiple](#Mochila-Múltiple)\n",
    "    * [Mochila Multidimensional](#Mochila-Multidimensional)"
   ]
  },
  {
   "cell_type": "code",
   "execution_count": 1,
   "metadata": {},
   "outputs": [],
   "source": [
    "library(lpSolve)\n",
    "library(magrittr)"
   ]
  },
  {
   "cell_type": "markdown",
   "metadata": {},
   "source": [
    "## Funciones de Apoyo"
   ]
  },
  {
   "cell_type": "code",
   "execution_count": 2,
   "metadata": {},
   "outputs": [],
   "source": [
    "dataset.folder <- \"./data\""
   ]
  },
  {
   "cell_type": "code",
   "execution_count": 3,
   "metadata": {},
   "outputs": [],
   "source": [
    "ReadDataSet <- function() {\n",
    "    \n",
    "}"
   ]
  },
  {
   "cell_type": "code",
   "execution_count": 4,
   "metadata": {},
   "outputs": [],
   "source": [
    "Solve <- function(direction = \"max\", f.obj, f.con, f.rhs, f.dir = rep(\"<=\", nrow(f.con)), ...) {\n",
    "    lp(direction, f.obj, f.con, f.dir, f.rhs,...)\n",
    "}"
   ]
  },
  {
   "cell_type": "markdown",
   "metadata": {},
   "source": [
    "## Problema de Transporte"
   ]
  },
  {
   "cell_type": "markdown",
   "metadata": {},
   "source": [
    "#### Descripción:\n",
    "TODO"
   ]
  },
  {
   "cell_type": "markdown",
   "metadata": {},
   "source": [
    "#### Modelo:\n",
    "TODO"
   ]
  },
  {
   "cell_type": "code",
   "execution_count": 5,
   "metadata": {},
   "outputs": [],
   "source": [
    "TransportationExact <- function(demand, capacity, cost, ...) {\n",
    "    m <- length(capacity)\n",
    "    n <- length(demand)    \n",
    "    \n",
    "    conditions <- matrix(0, nrow = n + m, ncol = n * m)\n",
    "    for (i in 1:m) {\n",
    "        conditions[i, seq(n) + (i - 1) * n] <- 1\n",
    "    }\n",
    "    for (i in (m+1):(n+m)) {\n",
    "        conditions[i, seq(i - m, m * n, by = n)] <- 1\n",
    "    }\n",
    "    res <- c(rep(\"<=\", m), rep(\">=\", n))\n",
    "    return(Solve(\"min\", cost, conditions, c(capacity, demand), res, ...))\n",
    "}"
   ]
  },
  {
   "cell_type": "code",
   "execution_count": 6,
   "metadata": {},
   "outputs": [],
   "source": [
    "transportation.problem.1 <- list(\n",
    "    demand = c(45, 20, 30, 30),\n",
    "    capacity = c(35, 60, 48),\n",
    "    cost = matrix(c(8, 6, 10, 9,\n",
    "                    9, 12,13, 7,\n",
    "                    14,9, 16, 5), nrow = 3, byrow = TRUE)\n",
    ")"
   ]
  },
  {
   "cell_type": "code",
   "execution_count": 7,
   "metadata": {},
   "outputs": [
    {
     "data": {
      "text/html": [
       "<table>\n",
       "<tbody>\n",
       "\t<tr><td>35</td><td> 0</td><td> 0</td><td> 0</td></tr>\n",
       "\t<tr><td>10</td><td>20</td><td>12</td><td> 0</td></tr>\n",
       "\t<tr><td> 0</td><td> 0</td><td>18</td><td>30</td></tr>\n",
       "</tbody>\n",
       "</table>\n"
      ],
      "text/latex": [
       "\\begin{tabular}{llll}\n",
       "\t 35 &  0 &  0 &  0\\\\\n",
       "\t 10 & 20 & 12 &  0\\\\\n",
       "\t  0 &  0 & 18 & 30\\\\\n",
       "\\end{tabular}\n"
      ],
      "text/markdown": [
       "\n",
       "| 35 |  0 |  0 |  0 | \n",
       "| 10 | 20 | 12 |  0 | \n",
       "|  0 |  0 | 18 | 30 | \n",
       "\n",
       "\n"
      ],
      "text/plain": [
       "     [,1] [,2] [,3] [,4]\n",
       "[1,] 35    0    0    0  \n",
       "[2,] 10   20   12    0  \n",
       "[3,]  0    0   18   30  "
      ]
     },
     "metadata": {},
     "output_type": "display_data"
    },
    {
     "name": "stdout",
     "output_type": "stream",
     "text": [
      "[1] 976\n"
     ]
    }
   ],
   "source": [
    "a <- TransportationExact(transportation.problem.1$demand,\n",
    "                    transportation.problem.1$capacity,\n",
    "                    transportation.problem.1$cost)\n",
    "\n",
    "matrix(a$solution, \n",
    "       nrow = 3, byrow =TRUE)\n",
    "print(a$objval)"
   ]
  },
  {
   "cell_type": "markdown",
   "metadata": {},
   "source": [
    "#### Heurísticas:\n",
    "TODO"
   ]
  },
  {
   "cell_type": "code",
   "execution_count": 8,
   "metadata": {},
   "outputs": [],
   "source": [
    "TransportationGreedy <- function(demand, capacity, cost) {\n",
    "    m <- length(capacity)\n",
    "    n <- length(demand) \n",
    "    sol <- list()\n",
    "    \n",
    "    sol$solution <- matrix(0, nrow = m, ncol = n)\n",
    "    sol$objval <- 0\n",
    "    while (!all(demand == 0)) {\n",
    "        ij <- which(cost == min(cost[capacity > 0, demand > 0]), arr.ind = TRUE)\n",
    "        ij.slice <- (which(capacity[ij[, 1]] > 0 & demand[ij[, 2]] > 0))[1]\n",
    "        i <- ij[ij.slice, 1]\n",
    "        j <- ij[ij.slice, 2]\n",
    "        inc <- min(capacity[i], demand[j])    \n",
    "        \n",
    "        sol$solution[i, j] <- sol$solution[i, j] + inc\n",
    "        capacity[i] <- capacity[i] - inc\n",
    "        demand[j] <- demand[j] - inc\n",
    "        sol$objval <- sol$objval + cost[i, j] * inc\n",
    "    }\n",
    "    return(sol)\n",
    "}"
   ]
  },
  {
   "cell_type": "code",
   "execution_count": 9,
   "metadata": {},
   "outputs": [
    {
     "data": {
      "text/html": [
       "<table>\n",
       "<tbody>\n",
       "\t<tr><td>15</td><td>20</td><td> 0</td><td> 0</td></tr>\n",
       "\t<tr><td>30</td><td> 0</td><td>30</td><td> 0</td></tr>\n",
       "\t<tr><td> 0</td><td> 0</td><td> 0</td><td>30</td></tr>\n",
       "</tbody>\n",
       "</table>\n"
      ],
      "text/latex": [
       "\\begin{tabular}{llll}\n",
       "\t 15 & 20 &  0 &  0\\\\\n",
       "\t 30 &  0 & 30 &  0\\\\\n",
       "\t  0 &  0 &  0 & 30\\\\\n",
       "\\end{tabular}\n"
      ],
      "text/markdown": [
       "\n",
       "| 15 | 20 |  0 |  0 | \n",
       "| 30 |  0 | 30 |  0 | \n",
       "|  0 |  0 |  0 | 30 | \n",
       "\n",
       "\n"
      ],
      "text/plain": [
       "     [,1] [,2] [,3] [,4]\n",
       "[1,] 15   20    0    0  \n",
       "[2,] 30    0   30    0  \n",
       "[3,]  0    0    0   30  "
      ]
     },
     "metadata": {},
     "output_type": "display_data"
    },
    {
     "name": "stdout",
     "output_type": "stream",
     "text": [
      "[1] 1050\n"
     ]
    }
   ],
   "source": [
    "a <- TransportationGreedy(transportation.problem.1$demand,\n",
    "                    transportation.problem.1$capacity,\n",
    "                    transportation.problem.1$cost)\n",
    "\n",
    "matrix(a$solution, \n",
    "       nrow = dim(transportation.problem.1$cost)[1], \n",
    "       ncol = dim(transportation.problem.1$cost)[2])\n",
    "print(a$objval)"
   ]
  },
  {
   "cell_type": "markdown",
   "metadata": {},
   "source": [
    "## Problema de Asignación"
   ]
  },
  {
   "cell_type": "markdown",
   "metadata": {},
   "source": [
    "#### Descripción:\n",
    "TODO"
   ]
  },
  {
   "cell_type": "markdown",
   "metadata": {},
   "source": [
    "#### Modelo:\n",
    "TODO"
   ]
  },
  {
   "cell_type": "code",
   "execution_count": 10,
   "metadata": {},
   "outputs": [],
   "source": [
    "AssignmentExact <- function(cost, ...) {\n",
    "    return(TransportationExact(rep(1, dim(cost)[1]), rep(1, dim(cost)[2]), cost))\n",
    "}"
   ]
  },
  {
   "cell_type": "code",
   "execution_count": 11,
   "metadata": {},
   "outputs": [
    {
     "data": {
      "text/html": [
       "<table>\n",
       "<thead><tr><th scope=col>V1</th><th scope=col>V2</th><th scope=col>V3</th><th scope=col>V4</th><th scope=col>V5</th><th scope=col>V6</th><th scope=col>V7</th><th scope=col>V8</th><th scope=col>V9</th><th scope=col>V10</th><th scope=col>V11</th><th scope=col>V12</th><th scope=col>V13</th><th scope=col>V14</th><th scope=col>V15</th></tr></thead>\n",
       "<tbody>\n",
       "\t<tr><td>58 </td><td>66 </td><td>  6</td><td>77 </td><td> 7 </td><td> 19</td><td>44 </td><td>22 </td><td> 9 </td><td>90 </td><td> 86</td><td> 11</td><td>61 </td><td>11 </td><td>26 </td></tr>\n",
       "\t<tr><td>56 </td><td>78 </td><td> 12</td><td>30 </td><td>89 </td><td> 20</td><td>62 </td><td>14 </td><td>82 </td><td>76 </td><td> 70</td><td>100</td><td>59 </td><td>57 </td><td>42 </td></tr>\n",
       "\t<tr><td>93 </td><td>80 </td><td> 90</td><td>77 </td><td>71 </td><td> 96</td><td>55 </td><td>25 </td><td>46 </td><td>57 </td><td> 16</td><td> 30</td><td>91 </td><td>55 </td><td> 0 </td></tr>\n",
       "\t<tr><td>85 </td><td>48 </td><td> 55</td><td>36 </td><td>91 </td><td> 10</td><td>31 </td><td>98 </td><td>42 </td><td>84 </td><td> 98</td><td> 91</td><td>76 </td><td>93 </td><td>10 </td></tr>\n",
       "\t<tr><td>62 </td><td>85 </td><td> 32</td><td>56 </td><td>21 </td><td> 56</td><td>78 </td><td>48 </td><td>49 </td><td>66 </td><td>  0</td><td> 39</td><td>39 </td><td> 6 </td><td>53 </td></tr>\n",
       "\t<tr><td>44 </td><td>64 </td><td> 25</td><td>47 </td><td>56 </td><td> 63</td><td>80 </td><td>35 </td><td>22 </td><td>70 </td><td>100</td><td> 96</td><td>32 </td><td>84 </td><td>70 </td></tr>\n",
       "\t<tr><td>50 </td><td>23 </td><td>  8</td><td>90 </td><td>23 </td><td> 51</td><td>98 </td><td>94 </td><td>33 </td><td>84 </td><td> 95</td><td> 41</td><td>77 </td><td>33 </td><td>30 </td></tr>\n",
       "\t<tr><td> 9 </td><td>32 </td><td>100</td><td>36 </td><td> 3 </td><td> 21</td><td>66 </td><td>19 </td><td>91 </td><td>48 </td><td> 81</td><td> 57</td><td>86 </td><td>96 </td><td>35 </td></tr>\n",
       "\t<tr><td>59 </td><td>62 </td><td> 12</td><td>98 </td><td>93 </td><td> 38</td><td>59 </td><td>93 </td><td>18 </td><td>21 </td><td> 59</td><td> 87</td><td>76 </td><td> 9 </td><td>82 </td></tr>\n",
       "\t<tr><td>37 </td><td> 1 </td><td> 13</td><td>29 </td><td>85 </td><td> 18</td><td>29 </td><td>20 </td><td>54 </td><td>94 </td><td> 30</td><td>  1</td><td> 0 </td><td>67 </td><td>51 </td></tr>\n",
       "\t<tr><td>79 </td><td>67 </td><td> 50</td><td>23 </td><td>67 </td><td> 26</td><td>98 </td><td>26 </td><td>22 </td><td>33 </td><td> 81</td><td> 83</td><td>66 </td><td>59 </td><td>14 </td></tr>\n",
       "\t<tr><td> 5 </td><td>39 </td><td> 98</td><td>54 </td><td>32 </td><td> 80</td><td> 6 </td><td>11 </td><td>63 </td><td>20 </td><td> 87</td><td> 95</td><td>82 </td><td>73 </td><td> 7 </td></tr>\n",
       "\t<tr><td>80 </td><td>45 </td><td> 10</td><td>71 </td><td>95 </td><td>100</td><td>26 </td><td>66 </td><td>14 </td><td>95 </td><td> 62</td><td> 16</td><td>13 </td><td>68 </td><td>32 </td></tr>\n",
       "\t<tr><td>29 </td><td>44 </td><td> 82</td><td>49 </td><td>87 </td><td> 47</td><td>63 </td><td>66 </td><td>91 </td><td>10 </td><td> 52</td><td> 14</td><td> 2 </td><td>44 </td><td>89 </td></tr>\n",
       "\t<tr><td>79 </td><td> 3 </td><td> 16</td><td>11 </td><td>13 </td><td> 97</td><td> 6 </td><td>18 </td><td>93 </td><td>22 </td><td> 28</td><td> 77</td><td> 3 </td><td>37 </td><td>53 </td></tr>\n",
       "</tbody>\n",
       "</table>\n"
      ],
      "text/latex": [
       "\\begin{tabular}{lllllllllllllll}\n",
       " V1 & V2 & V3 & V4 & V5 & V6 & V7 & V8 & V9 & V10 & V11 & V12 & V13 & V14 & V15\\\\\n",
       "\\hline\n",
       "\t 58  & 66  &   6 & 77  &  7  &  19 & 44  & 22  &  9  & 90  &  86 &  11 & 61  & 11  & 26 \\\\\n",
       "\t 56  & 78  &  12 & 30  & 89  &  20 & 62  & 14  & 82  & 76  &  70 & 100 & 59  & 57  & 42 \\\\\n",
       "\t 93  & 80  &  90 & 77  & 71  &  96 & 55  & 25  & 46  & 57  &  16 &  30 & 91  & 55  &  0 \\\\\n",
       "\t 85  & 48  &  55 & 36  & 91  &  10 & 31  & 98  & 42  & 84  &  98 &  91 & 76  & 93  & 10 \\\\\n",
       "\t 62  & 85  &  32 & 56  & 21  &  56 & 78  & 48  & 49  & 66  &   0 &  39 & 39  &  6  & 53 \\\\\n",
       "\t 44  & 64  &  25 & 47  & 56  &  63 & 80  & 35  & 22  & 70  & 100 &  96 & 32  & 84  & 70 \\\\\n",
       "\t 50  & 23  &   8 & 90  & 23  &  51 & 98  & 94  & 33  & 84  &  95 &  41 & 77  & 33  & 30 \\\\\n",
       "\t  9  & 32  & 100 & 36  &  3  &  21 & 66  & 19  & 91  & 48  &  81 &  57 & 86  & 96  & 35 \\\\\n",
       "\t 59  & 62  &  12 & 98  & 93  &  38 & 59  & 93  & 18  & 21  &  59 &  87 & 76  &  9  & 82 \\\\\n",
       "\t 37  &  1  &  13 & 29  & 85  &  18 & 29  & 20  & 54  & 94  &  30 &   1 &  0  & 67  & 51 \\\\\n",
       "\t 79  & 67  &  50 & 23  & 67  &  26 & 98  & 26  & 22  & 33  &  81 &  83 & 66  & 59  & 14 \\\\\n",
       "\t  5  & 39  &  98 & 54  & 32  &  80 &  6  & 11  & 63  & 20  &  87 &  95 & 82  & 73  &  7 \\\\\n",
       "\t 80  & 45  &  10 & 71  & 95  & 100 & 26  & 66  & 14  & 95  &  62 &  16 & 13  & 68  & 32 \\\\\n",
       "\t 29  & 44  &  82 & 49  & 87  &  47 & 63  & 66  & 91  & 10  &  52 &  14 &  2  & 44  & 89 \\\\\n",
       "\t 79  &  3  &  16 & 11  & 13  &  97 &  6  & 18  & 93  & 22  &  28 &  77 &  3  & 37  & 53 \\\\\n",
       "\\end{tabular}\n"
      ],
      "text/markdown": [
       "\n",
       "V1 | V2 | V3 | V4 | V5 | V6 | V7 | V8 | V9 | V10 | V11 | V12 | V13 | V14 | V15 | \n",
       "|---|---|---|---|---|---|---|---|---|---|---|---|---|---|---|\n",
       "| 58  | 66  |   6 | 77  |  7  |  19 | 44  | 22  |  9  | 90  |  86 |  11 | 61  | 11  | 26  | \n",
       "| 56  | 78  |  12 | 30  | 89  |  20 | 62  | 14  | 82  | 76  |  70 | 100 | 59  | 57  | 42  | \n",
       "| 93  | 80  |  90 | 77  | 71  |  96 | 55  | 25  | 46  | 57  |  16 |  30 | 91  | 55  |  0  | \n",
       "| 85  | 48  |  55 | 36  | 91  |  10 | 31  | 98  | 42  | 84  |  98 |  91 | 76  | 93  | 10  | \n",
       "| 62  | 85  |  32 | 56  | 21  |  56 | 78  | 48  | 49  | 66  |   0 |  39 | 39  |  6  | 53  | \n",
       "| 44  | 64  |  25 | 47  | 56  |  63 | 80  | 35  | 22  | 70  | 100 |  96 | 32  | 84  | 70  | \n",
       "| 50  | 23  |   8 | 90  | 23  |  51 | 98  | 94  | 33  | 84  |  95 |  41 | 77  | 33  | 30  | \n",
       "|  9  | 32  | 100 | 36  |  3  |  21 | 66  | 19  | 91  | 48  |  81 |  57 | 86  | 96  | 35  | \n",
       "| 59  | 62  |  12 | 98  | 93  |  38 | 59  | 93  | 18  | 21  |  59 |  87 | 76  |  9  | 82  | \n",
       "| 37  |  1  |  13 | 29  | 85  |  18 | 29  | 20  | 54  | 94  |  30 |   1 |  0  | 67  | 51  | \n",
       "| 79  | 67  |  50 | 23  | 67  |  26 | 98  | 26  | 22  | 33  |  81 |  83 | 66  | 59  | 14  | \n",
       "|  5  | 39  |  98 | 54  | 32  |  80 |  6  | 11  | 63  | 20  |  87 |  95 | 82  | 73  |  7  | \n",
       "| 80  | 45  |  10 | 71  | 95  | 100 | 26  | 66  | 14  | 95  |  62 |  16 | 13  | 68  | 32  | \n",
       "| 29  | 44  |  82 | 49  | 87  |  47 | 63  | 66  | 91  | 10  |  52 |  14 |  2  | 44  | 89  | \n",
       "| 79  |  3  |  16 | 11  | 13  |  97 |  6  | 18  | 93  | 22  |  28 |  77 |  3  | 37  | 53  | \n",
       "\n",
       "\n"
      ],
      "text/plain": [
       "      V1 V2 V3  V4 V5 V6  V7 V8 V9 V10 V11 V12 V13 V14 V15\n",
       " [1,] 58 66   6 77  7  19 44 22  9 90   86  11 61  11  26 \n",
       " [2,] 56 78  12 30 89  20 62 14 82 76   70 100 59  57  42 \n",
       " [3,] 93 80  90 77 71  96 55 25 46 57   16  30 91  55   0 \n",
       " [4,] 85 48  55 36 91  10 31 98 42 84   98  91 76  93  10 \n",
       " [5,] 62 85  32 56 21  56 78 48 49 66    0  39 39   6  53 \n",
       " [6,] 44 64  25 47 56  63 80 35 22 70  100  96 32  84  70 \n",
       " [7,] 50 23   8 90 23  51 98 94 33 84   95  41 77  33  30 \n",
       " [8,]  9 32 100 36  3  21 66 19 91 48   81  57 86  96  35 \n",
       " [9,] 59 62  12 98 93  38 59 93 18 21   59  87 76   9  82 \n",
       "[10,] 37  1  13 29 85  18 29 20 54 94   30   1  0  67  51 \n",
       "[11,] 79 67  50 23 67  26 98 26 22 33   81  83 66  59  14 \n",
       "[12,]  5 39  98 54 32  80  6 11 63 20   87  95 82  73   7 \n",
       "[13,] 80 45  10 71 95 100 26 66 14 95   62  16 13  68  32 \n",
       "[14,] 29 44  82 49 87  47 63 66 91 10   52  14  2  44  89 \n",
       "[15,] 79  3  16 11 13  97  6 18 93 22   28  77  3  37  53 "
      ]
     },
     "metadata": {},
     "output_type": "display_data"
    }
   ],
   "source": [
    "(cost <- as.matrix(read.csv(\"./data/assignment/matriz_15x15_1.csv\", header = FALSE)))"
   ]
  },
  {
   "cell_type": "code",
   "execution_count": 12,
   "metadata": {},
   "outputs": [
    {
     "data": {
      "text/html": [
       "<table>\n",
       "<tbody>\n",
       "\t<tr><td>0</td><td>0</td><td>0</td><td>0</td><td>0</td><td>0</td><td>0</td><td>1</td><td>0</td><td>0</td><td>0</td><td>0</td><td>0</td><td>0</td><td>0</td></tr>\n",
       "\t<tr><td>0</td><td>0</td><td>0</td><td>0</td><td>0</td><td>0</td><td>0</td><td>0</td><td>0</td><td>0</td><td>0</td><td>0</td><td>0</td><td>0</td><td>1</td></tr>\n",
       "\t<tr><td>0</td><td>0</td><td>0</td><td>0</td><td>0</td><td>0</td><td>1</td><td>0</td><td>0</td><td>0</td><td>0</td><td>0</td><td>0</td><td>0</td><td>0</td></tr>\n",
       "\t<tr><td>0</td><td>0</td><td>0</td><td>0</td><td>0</td><td>0</td><td>0</td><td>0</td><td>0</td><td>0</td><td>1</td><td>0</td><td>0</td><td>0</td><td>0</td></tr>\n",
       "\t<tr><td>1</td><td>0</td><td>0</td><td>0</td><td>0</td><td>0</td><td>0</td><td>0</td><td>0</td><td>0</td><td>0</td><td>0</td><td>0</td><td>0</td><td>0</td></tr>\n",
       "\t<tr><td>0</td><td>0</td><td>0</td><td>1</td><td>0</td><td>0</td><td>0</td><td>0</td><td>0</td><td>0</td><td>0</td><td>0</td><td>0</td><td>0</td><td>0</td></tr>\n",
       "\t<tr><td>0</td><td>0</td><td>0</td><td>0</td><td>0</td><td>0</td><td>0</td><td>0</td><td>0</td><td>0</td><td>0</td><td>1</td><td>0</td><td>0</td><td>0</td></tr>\n",
       "\t<tr><td>0</td><td>1</td><td>0</td><td>0</td><td>0</td><td>0</td><td>0</td><td>0</td><td>0</td><td>0</td><td>0</td><td>0</td><td>0</td><td>0</td><td>0</td></tr>\n",
       "\t<tr><td>0</td><td>0</td><td>0</td><td>0</td><td>0</td><td>1</td><td>0</td><td>0</td><td>0</td><td>0</td><td>0</td><td>0</td><td>0</td><td>0</td><td>0</td></tr>\n",
       "\t<tr><td>0</td><td>0</td><td>0</td><td>0</td><td>0</td><td>0</td><td>0</td><td>0</td><td>0</td><td>0</td><td>0</td><td>0</td><td>0</td><td>1</td><td>0</td></tr>\n",
       "\t<tr><td>0</td><td>0</td><td>0</td><td>0</td><td>1</td><td>0</td><td>0</td><td>0</td><td>0</td><td>0</td><td>0</td><td>0</td><td>0</td><td>0</td><td>0</td></tr>\n",
       "\t<tr><td>0</td><td>0</td><td>0</td><td>0</td><td>0</td><td>0</td><td>0</td><td>0</td><td>0</td><td>1</td><td>0</td><td>0</td><td>0</td><td>0</td><td>0</td></tr>\n",
       "\t<tr><td>0</td><td>0</td><td>0</td><td>0</td><td>0</td><td>0</td><td>0</td><td>0</td><td>0</td><td>0</td><td>0</td><td>0</td><td>1</td><td>0</td><td>0</td></tr>\n",
       "\t<tr><td>0</td><td>0</td><td>0</td><td>0</td><td>0</td><td>0</td><td>0</td><td>0</td><td>1</td><td>0</td><td>0</td><td>0</td><td>0</td><td>0</td><td>0</td></tr>\n",
       "\t<tr><td>0</td><td>0</td><td>1</td><td>0</td><td>0</td><td>0</td><td>0</td><td>0</td><td>0</td><td>0</td><td>0</td><td>0</td><td>0</td><td>0</td><td>0</td></tr>\n",
       "</tbody>\n",
       "</table>\n"
      ],
      "text/latex": [
       "\\begin{tabular}{lllllllllllllll}\n",
       "\t 0 & 0 & 0 & 0 & 0 & 0 & 0 & 1 & 0 & 0 & 0 & 0 & 0 & 0 & 0\\\\\n",
       "\t 0 & 0 & 0 & 0 & 0 & 0 & 0 & 0 & 0 & 0 & 0 & 0 & 0 & 0 & 1\\\\\n",
       "\t 0 & 0 & 0 & 0 & 0 & 0 & 1 & 0 & 0 & 0 & 0 & 0 & 0 & 0 & 0\\\\\n",
       "\t 0 & 0 & 0 & 0 & 0 & 0 & 0 & 0 & 0 & 0 & 1 & 0 & 0 & 0 & 0\\\\\n",
       "\t 1 & 0 & 0 & 0 & 0 & 0 & 0 & 0 & 0 & 0 & 0 & 0 & 0 & 0 & 0\\\\\n",
       "\t 0 & 0 & 0 & 1 & 0 & 0 & 0 & 0 & 0 & 0 & 0 & 0 & 0 & 0 & 0\\\\\n",
       "\t 0 & 0 & 0 & 0 & 0 & 0 & 0 & 0 & 0 & 0 & 0 & 1 & 0 & 0 & 0\\\\\n",
       "\t 0 & 1 & 0 & 0 & 0 & 0 & 0 & 0 & 0 & 0 & 0 & 0 & 0 & 0 & 0\\\\\n",
       "\t 0 & 0 & 0 & 0 & 0 & 1 & 0 & 0 & 0 & 0 & 0 & 0 & 0 & 0 & 0\\\\\n",
       "\t 0 & 0 & 0 & 0 & 0 & 0 & 0 & 0 & 0 & 0 & 0 & 0 & 0 & 1 & 0\\\\\n",
       "\t 0 & 0 & 0 & 0 & 1 & 0 & 0 & 0 & 0 & 0 & 0 & 0 & 0 & 0 & 0\\\\\n",
       "\t 0 & 0 & 0 & 0 & 0 & 0 & 0 & 0 & 0 & 1 & 0 & 0 & 0 & 0 & 0\\\\\n",
       "\t 0 & 0 & 0 & 0 & 0 & 0 & 0 & 0 & 0 & 0 & 0 & 0 & 1 & 0 & 0\\\\\n",
       "\t 0 & 0 & 0 & 0 & 0 & 0 & 0 & 0 & 1 & 0 & 0 & 0 & 0 & 0 & 0\\\\\n",
       "\t 0 & 0 & 1 & 0 & 0 & 0 & 0 & 0 & 0 & 0 & 0 & 0 & 0 & 0 & 0\\\\\n",
       "\\end{tabular}\n"
      ],
      "text/markdown": [
       "\n",
       "| 0 | 0 | 0 | 0 | 0 | 0 | 0 | 1 | 0 | 0 | 0 | 0 | 0 | 0 | 0 | \n",
       "| 0 | 0 | 0 | 0 | 0 | 0 | 0 | 0 | 0 | 0 | 0 | 0 | 0 | 0 | 1 | \n",
       "| 0 | 0 | 0 | 0 | 0 | 0 | 1 | 0 | 0 | 0 | 0 | 0 | 0 | 0 | 0 | \n",
       "| 0 | 0 | 0 | 0 | 0 | 0 | 0 | 0 | 0 | 0 | 1 | 0 | 0 | 0 | 0 | \n",
       "| 1 | 0 | 0 | 0 | 0 | 0 | 0 | 0 | 0 | 0 | 0 | 0 | 0 | 0 | 0 | \n",
       "| 0 | 0 | 0 | 1 | 0 | 0 | 0 | 0 | 0 | 0 | 0 | 0 | 0 | 0 | 0 | \n",
       "| 0 | 0 | 0 | 0 | 0 | 0 | 0 | 0 | 0 | 0 | 0 | 1 | 0 | 0 | 0 | \n",
       "| 0 | 1 | 0 | 0 | 0 | 0 | 0 | 0 | 0 | 0 | 0 | 0 | 0 | 0 | 0 | \n",
       "| 0 | 0 | 0 | 0 | 0 | 1 | 0 | 0 | 0 | 0 | 0 | 0 | 0 | 0 | 0 | \n",
       "| 0 | 0 | 0 | 0 | 0 | 0 | 0 | 0 | 0 | 0 | 0 | 0 | 0 | 1 | 0 | \n",
       "| 0 | 0 | 0 | 0 | 1 | 0 | 0 | 0 | 0 | 0 | 0 | 0 | 0 | 0 | 0 | \n",
       "| 0 | 0 | 0 | 0 | 0 | 0 | 0 | 0 | 0 | 1 | 0 | 0 | 0 | 0 | 0 | \n",
       "| 0 | 0 | 0 | 0 | 0 | 0 | 0 | 0 | 0 | 0 | 0 | 0 | 1 | 0 | 0 | \n",
       "| 0 | 0 | 0 | 0 | 0 | 0 | 0 | 0 | 1 | 0 | 0 | 0 | 0 | 0 | 0 | \n",
       "| 0 | 0 | 1 | 0 | 0 | 0 | 0 | 0 | 0 | 0 | 0 | 0 | 0 | 0 | 0 | \n",
       "\n",
       "\n"
      ],
      "text/plain": [
       "      [,1] [,2] [,3] [,4] [,5] [,6] [,7] [,8] [,9] [,10] [,11] [,12] [,13]\n",
       " [1,] 0    0    0    0    0    0    0    1    0    0     0     0     0    \n",
       " [2,] 0    0    0    0    0    0    0    0    0    0     0     0     0    \n",
       " [3,] 0    0    0    0    0    0    1    0    0    0     0     0     0    \n",
       " [4,] 0    0    0    0    0    0    0    0    0    0     1     0     0    \n",
       " [5,] 1    0    0    0    0    0    0    0    0    0     0     0     0    \n",
       " [6,] 0    0    0    1    0    0    0    0    0    0     0     0     0    \n",
       " [7,] 0    0    0    0    0    0    0    0    0    0     0     1     0    \n",
       " [8,] 0    1    0    0    0    0    0    0    0    0     0     0     0    \n",
       " [9,] 0    0    0    0    0    1    0    0    0    0     0     0     0    \n",
       "[10,] 0    0    0    0    0    0    0    0    0    0     0     0     0    \n",
       "[11,] 0    0    0    0    1    0    0    0    0    0     0     0     0    \n",
       "[12,] 0    0    0    0    0    0    0    0    0    1     0     0     0    \n",
       "[13,] 0    0    0    0    0    0    0    0    0    0     0     0     1    \n",
       "[14,] 0    0    0    0    0    0    0    0    1    0     0     0     0    \n",
       "[15,] 0    0    1    0    0    0    0    0    0    0     0     0     0    \n",
       "      [,14] [,15]\n",
       " [1,] 0     0    \n",
       " [2,] 0     1    \n",
       " [3,] 0     0    \n",
       " [4,] 0     0    \n",
       " [5,] 0     0    \n",
       " [6,] 0     0    \n",
       " [7,] 0     0    \n",
       " [8,] 0     0    \n",
       " [9,] 0     0    \n",
       "[10,] 1     0    \n",
       "[11,] 0     0    \n",
       "[12,] 0     0    \n",
       "[13,] 0     0    \n",
       "[14,] 0     0    \n",
       "[15,] 0     0    "
      ]
     },
     "metadata": {},
     "output_type": "display_data"
    },
    {
     "data": {
      "text/html": [
       "135"
      ],
      "text/latex": [
       "135"
      ],
      "text/markdown": [
       "135"
      ],
      "text/plain": [
       "[1] 135"
      ]
     },
     "metadata": {},
     "output_type": "display_data"
    }
   ],
   "source": [
    "a <- AssignmentExact(as.matrix(cost))\n",
    "matrix(a$solution, \n",
    "       nrow = dim(cost)[1], \n",
    "       ncol = dim(cost)[2], \n",
    "       byrow = TRUE)\n",
    "a$objval"
   ]
  },
  {
   "cell_type": "markdown",
   "metadata": {},
   "source": [
    "#### Heurísticas:\n",
    "TODO"
   ]
  },
  {
   "cell_type": "code",
   "execution_count": 13,
   "metadata": {},
   "outputs": [],
   "source": [
    "AssignmentGreedy <- function(cost) {    \n",
    "    return(TransportationGreedy(rep(1, dim(cost)[1]), rep(1, dim(cost)[2]), cost))\n",
    "}"
   ]
  },
  {
   "cell_type": "code",
   "execution_count": 14,
   "metadata": {},
   "outputs": [
    {
     "data": {
      "text/html": [
       "<table>\n",
       "<tbody>\n",
       "\t<tr><td>0</td><td>0</td><td>0</td><td>0</td><td>0</td><td>0</td><td>0</td><td>0</td><td>0</td><td>0</td><td>0</td><td>1</td><td>0</td><td>0</td><td>0</td></tr>\n",
       "\t<tr><td>0</td><td>0</td><td>0</td><td>0</td><td>0</td><td>0</td><td>0</td><td>0</td><td>0</td><td>0</td><td>0</td><td>0</td><td>0</td><td>0</td><td>1</td></tr>\n",
       "\t<tr><td>1</td><td>0</td><td>0</td><td>0</td><td>0</td><td>0</td><td>0</td><td>0</td><td>0</td><td>0</td><td>0</td><td>0</td><td>0</td><td>0</td><td>0</td></tr>\n",
       "\t<tr><td>0</td><td>0</td><td>0</td><td>0</td><td>0</td><td>0</td><td>0</td><td>0</td><td>0</td><td>0</td><td>1</td><td>0</td><td>0</td><td>0</td><td>0</td></tr>\n",
       "\t<tr><td>0</td><td>0</td><td>0</td><td>0</td><td>0</td><td>0</td><td>0</td><td>1</td><td>0</td><td>0</td><td>0</td><td>0</td><td>0</td><td>0</td><td>0</td></tr>\n",
       "\t<tr><td>0</td><td>0</td><td>0</td><td>1</td><td>0</td><td>0</td><td>0</td><td>0</td><td>0</td><td>0</td><td>0</td><td>0</td><td>0</td><td>0</td><td>0</td></tr>\n",
       "\t<tr><td>0</td><td>0</td><td>0</td><td>0</td><td>0</td><td>1</td><td>0</td><td>0</td><td>0</td><td>0</td><td>0</td><td>0</td><td>0</td><td>0</td><td>0</td></tr>\n",
       "\t<tr><td>0</td><td>1</td><td>0</td><td>0</td><td>0</td><td>0</td><td>0</td><td>0</td><td>0</td><td>0</td><td>0</td><td>0</td><td>0</td><td>0</td><td>0</td></tr>\n",
       "\t<tr><td>0</td><td>0</td><td>0</td><td>0</td><td>0</td><td>0</td><td>0</td><td>0</td><td>0</td><td>0</td><td>0</td><td>0</td><td>1</td><td>0</td><td>0</td></tr>\n",
       "\t<tr><td>0</td><td>0</td><td>0</td><td>0</td><td>0</td><td>0</td><td>0</td><td>0</td><td>0</td><td>0</td><td>0</td><td>0</td><td>0</td><td>1</td><td>0</td></tr>\n",
       "\t<tr><td>0</td><td>0</td><td>0</td><td>0</td><td>1</td><td>0</td><td>0</td><td>0</td><td>0</td><td>0</td><td>0</td><td>0</td><td>0</td><td>0</td><td>0</td></tr>\n",
       "\t<tr><td>0</td><td>0</td><td>0</td><td>0</td><td>0</td><td>0</td><td>1</td><td>0</td><td>0</td><td>0</td><td>0</td><td>0</td><td>0</td><td>0</td><td>0</td></tr>\n",
       "\t<tr><td>0</td><td>0</td><td>0</td><td>0</td><td>0</td><td>0</td><td>0</td><td>0</td><td>0</td><td>1</td><td>0</td><td>0</td><td>0</td><td>0</td><td>0</td></tr>\n",
       "\t<tr><td>0</td><td>0</td><td>0</td><td>0</td><td>0</td><td>0</td><td>0</td><td>0</td><td>1</td><td>0</td><td>0</td><td>0</td><td>0</td><td>0</td><td>0</td></tr>\n",
       "\t<tr><td>0</td><td>0</td><td>1</td><td>0</td><td>0</td><td>0</td><td>0</td><td>0</td><td>0</td><td>0</td><td>0</td><td>0</td><td>0</td><td>0</td><td>0</td></tr>\n",
       "</tbody>\n",
       "</table>\n"
      ],
      "text/latex": [
       "\\begin{tabular}{lllllllllllllll}\n",
       "\t 0 & 0 & 0 & 0 & 0 & 0 & 0 & 0 & 0 & 0 & 0 & 1 & 0 & 0 & 0\\\\\n",
       "\t 0 & 0 & 0 & 0 & 0 & 0 & 0 & 0 & 0 & 0 & 0 & 0 & 0 & 0 & 1\\\\\n",
       "\t 1 & 0 & 0 & 0 & 0 & 0 & 0 & 0 & 0 & 0 & 0 & 0 & 0 & 0 & 0\\\\\n",
       "\t 0 & 0 & 0 & 0 & 0 & 0 & 0 & 0 & 0 & 0 & 1 & 0 & 0 & 0 & 0\\\\\n",
       "\t 0 & 0 & 0 & 0 & 0 & 0 & 0 & 1 & 0 & 0 & 0 & 0 & 0 & 0 & 0\\\\\n",
       "\t 0 & 0 & 0 & 1 & 0 & 0 & 0 & 0 & 0 & 0 & 0 & 0 & 0 & 0 & 0\\\\\n",
       "\t 0 & 0 & 0 & 0 & 0 & 1 & 0 & 0 & 0 & 0 & 0 & 0 & 0 & 0 & 0\\\\\n",
       "\t 0 & 1 & 0 & 0 & 0 & 0 & 0 & 0 & 0 & 0 & 0 & 0 & 0 & 0 & 0\\\\\n",
       "\t 0 & 0 & 0 & 0 & 0 & 0 & 0 & 0 & 0 & 0 & 0 & 0 & 1 & 0 & 0\\\\\n",
       "\t 0 & 0 & 0 & 0 & 0 & 0 & 0 & 0 & 0 & 0 & 0 & 0 & 0 & 1 & 0\\\\\n",
       "\t 0 & 0 & 0 & 0 & 1 & 0 & 0 & 0 & 0 & 0 & 0 & 0 & 0 & 0 & 0\\\\\n",
       "\t 0 & 0 & 0 & 0 & 0 & 0 & 1 & 0 & 0 & 0 & 0 & 0 & 0 & 0 & 0\\\\\n",
       "\t 0 & 0 & 0 & 0 & 0 & 0 & 0 & 0 & 0 & 1 & 0 & 0 & 0 & 0 & 0\\\\\n",
       "\t 0 & 0 & 0 & 0 & 0 & 0 & 0 & 0 & 1 & 0 & 0 & 0 & 0 & 0 & 0\\\\\n",
       "\t 0 & 0 & 1 & 0 & 0 & 0 & 0 & 0 & 0 & 0 & 0 & 0 & 0 & 0 & 0\\\\\n",
       "\\end{tabular}\n"
      ],
      "text/markdown": [
       "\n",
       "| 0 | 0 | 0 | 0 | 0 | 0 | 0 | 0 | 0 | 0 | 0 | 1 | 0 | 0 | 0 | \n",
       "| 0 | 0 | 0 | 0 | 0 | 0 | 0 | 0 | 0 | 0 | 0 | 0 | 0 | 0 | 1 | \n",
       "| 1 | 0 | 0 | 0 | 0 | 0 | 0 | 0 | 0 | 0 | 0 | 0 | 0 | 0 | 0 | \n",
       "| 0 | 0 | 0 | 0 | 0 | 0 | 0 | 0 | 0 | 0 | 1 | 0 | 0 | 0 | 0 | \n",
       "| 0 | 0 | 0 | 0 | 0 | 0 | 0 | 1 | 0 | 0 | 0 | 0 | 0 | 0 | 0 | \n",
       "| 0 | 0 | 0 | 1 | 0 | 0 | 0 | 0 | 0 | 0 | 0 | 0 | 0 | 0 | 0 | \n",
       "| 0 | 0 | 0 | 0 | 0 | 1 | 0 | 0 | 0 | 0 | 0 | 0 | 0 | 0 | 0 | \n",
       "| 0 | 1 | 0 | 0 | 0 | 0 | 0 | 0 | 0 | 0 | 0 | 0 | 0 | 0 | 0 | \n",
       "| 0 | 0 | 0 | 0 | 0 | 0 | 0 | 0 | 0 | 0 | 0 | 0 | 1 | 0 | 0 | \n",
       "| 0 | 0 | 0 | 0 | 0 | 0 | 0 | 0 | 0 | 0 | 0 | 0 | 0 | 1 | 0 | \n",
       "| 0 | 0 | 0 | 0 | 1 | 0 | 0 | 0 | 0 | 0 | 0 | 0 | 0 | 0 | 0 | \n",
       "| 0 | 0 | 0 | 0 | 0 | 0 | 1 | 0 | 0 | 0 | 0 | 0 | 0 | 0 | 0 | \n",
       "| 0 | 0 | 0 | 0 | 0 | 0 | 0 | 0 | 0 | 1 | 0 | 0 | 0 | 0 | 0 | \n",
       "| 0 | 0 | 0 | 0 | 0 | 0 | 0 | 0 | 1 | 0 | 0 | 0 | 0 | 0 | 0 | \n",
       "| 0 | 0 | 1 | 0 | 0 | 0 | 0 | 0 | 0 | 0 | 0 | 0 | 0 | 0 | 0 | \n",
       "\n",
       "\n"
      ],
      "text/plain": [
       "      [,1] [,2] [,3] [,4] [,5] [,6] [,7] [,8] [,9] [,10] [,11] [,12] [,13]\n",
       " [1,] 0    0    0    0    0    0    0    0    0    0     0     1     0    \n",
       " [2,] 0    0    0    0    0    0    0    0    0    0     0     0     0    \n",
       " [3,] 1    0    0    0    0    0    0    0    0    0     0     0     0    \n",
       " [4,] 0    0    0    0    0    0    0    0    0    0     1     0     0    \n",
       " [5,] 0    0    0    0    0    0    0    1    0    0     0     0     0    \n",
       " [6,] 0    0    0    1    0    0    0    0    0    0     0     0     0    \n",
       " [7,] 0    0    0    0    0    1    0    0    0    0     0     0     0    \n",
       " [8,] 0    1    0    0    0    0    0    0    0    0     0     0     0    \n",
       " [9,] 0    0    0    0    0    0    0    0    0    0     0     0     1    \n",
       "[10,] 0    0    0    0    0    0    0    0    0    0     0     0     0    \n",
       "[11,] 0    0    0    0    1    0    0    0    0    0     0     0     0    \n",
       "[12,] 0    0    0    0    0    0    1    0    0    0     0     0     0    \n",
       "[13,] 0    0    0    0    0    0    0    0    0    1     0     0     0    \n",
       "[14,] 0    0    0    0    0    0    0    0    1    0     0     0     0    \n",
       "[15,] 0    0    1    0    0    0    0    0    0    0     0     0     0    \n",
       "      [,14] [,15]\n",
       " [1,] 0     0    \n",
       " [2,] 0     1    \n",
       " [3,] 0     0    \n",
       " [4,] 0     0    \n",
       " [5,] 0     0    \n",
       " [6,] 0     0    \n",
       " [7,] 0     0    \n",
       " [8,] 0     0    \n",
       " [9,] 0     0    \n",
       "[10,] 1     0    \n",
       "[11,] 0     0    \n",
       "[12,] 0     0    \n",
       "[13,] 0     0    \n",
       "[14,] 0     0    \n",
       "[15,] 0     0    "
      ]
     },
     "metadata": {},
     "output_type": "display_data"
    },
    {
     "data": {
      "text/html": [
       "<strong>V11:</strong> 218"
      ],
      "text/latex": [
       "\\textbf{V11:} 218"
      ],
      "text/markdown": [
       "**V11:** 218"
      ],
      "text/plain": [
       "V11 \n",
       "218 "
      ]
     },
     "metadata": {},
     "output_type": "display_data"
    }
   ],
   "source": [
    "a <- AssignmentGreedy(as.matrix(cost))\n",
    "matrix(a$solution, \n",
    "       nrow = dim(cost)[1], \n",
    "       ncol = dim(cost)[2], \n",
    "       byrow = TRUE)\n",
    "a$objval"
   ]
  },
  {
   "cell_type": "markdown",
   "metadata": {},
   "source": [
    "## Problema de la Mochila"
   ]
  },
  {
   "cell_type": "markdown",
   "metadata": {},
   "source": [
    "#### Descripción:\n",
    "TODO"
   ]
  },
  {
   "cell_type": "markdown",
   "metadata": {},
   "source": [
    "### Mochila Simple"
   ]
  },
  {
   "cell_type": "markdown",
   "metadata": {},
   "source": [
    "#### Descripción:\n",
    "TODO"
   ]
  },
  {
   "cell_type": "markdown",
   "metadata": {},
   "source": [
    "#### Modelo:\n",
    "TODO"
   ]
  },
  {
   "cell_type": "code",
   "execution_count": 15,
   "metadata": {},
   "outputs": [],
   "source": [
    "KnapsackSimpleExact <- function(object, capacity) {\n",
    "    \n",
    "}"
   ]
  },
  {
   "cell_type": "markdown",
   "metadata": {},
   "source": [
    "#### Heurísticas:\n",
    "TODO"
   ]
  },
  {
   "cell_type": "code",
   "execution_count": 16,
   "metadata": {},
   "outputs": [],
   "source": [
    "KnapsackSimpleGreedy <- function(object, capacity) {\n",
    "    \n",
    "}"
   ]
  },
  {
   "cell_type": "markdown",
   "metadata": {},
   "source": [
    "### Mochila Múltiple"
   ]
  },
  {
   "cell_type": "markdown",
   "metadata": {},
   "source": [
    "#### Descripción:\n",
    "TODO"
   ]
  },
  {
   "cell_type": "markdown",
   "metadata": {},
   "source": [
    "#### Modelo:\n",
    "TODO"
   ]
  },
  {
   "cell_type": "code",
   "execution_count": 17,
   "metadata": {},
   "outputs": [],
   "source": [
    "KnapsackMultipleExact <- function(object, capacity) {\n",
    "    \n",
    "}"
   ]
  },
  {
   "cell_type": "markdown",
   "metadata": {},
   "source": [
    "#### Heurísticas:\n",
    "TODO"
   ]
  },
  {
   "cell_type": "code",
   "execution_count": 18,
   "metadata": {},
   "outputs": [],
   "source": [
    "KnapsackMultipleGreedy <- function(object, capacity) {\n",
    "    \n",
    "}"
   ]
  },
  {
   "cell_type": "markdown",
   "metadata": {},
   "source": [
    "### Mochila Multidimensional"
   ]
  },
  {
   "cell_type": "markdown",
   "metadata": {},
   "source": [
    "#### Descripción:\n",
    "TODO"
   ]
  },
  {
   "cell_type": "markdown",
   "metadata": {},
   "source": [
    "#### Modelo:\n",
    "TODO"
   ]
  },
  {
   "cell_type": "code",
   "execution_count": 19,
   "metadata": {},
   "outputs": [],
   "source": [
    "KnapsackMultidimensionalExact <- function(object, capacity, ...) {\n",
    "    n <- length(object$value)\n",
    "    m <- length(capacity)    \n",
    "    return(Solve(\"max\", object$value, t(object$weight), capacity, ...))\n",
    "}"
   ]
  },
  {
   "cell_type": "code",
   "execution_count": 20,
   "metadata": {},
   "outputs": [],
   "source": [
    "knapsack.multidimensional.problem.1 <- list(\n",
    "    object = list(\n",
    "        value = c(12, 13, 15, 10),\n",
    "        weight = matrix(c(0.5, 0.3, 0.2,\n",
    "                          1.0, 0.8, 0.2,\n",
    "                          1.5, 1.5, 0.1,\n",
    "                          3.1, 2.5, 0.4), nrow = 4, byrow = TRUE) \n",
    "    ),\n",
    "    capacity = c(3.1, 2.5, 0.4)\n",
    ")"
   ]
  },
  {
   "cell_type": "code",
   "execution_count": 21,
   "metadata": {},
   "outputs": [
    {
     "data": {
      "text/html": [
       "<table>\n",
       "<tbody>\n",
       "\t<tr><td>0</td><td>1</td><td>1</td><td>0</td></tr>\n",
       "</tbody>\n",
       "</table>\n"
      ],
      "text/latex": [
       "\\begin{tabular}{llll}\n",
       "\t 0 & 1 & 1 & 0\\\\\n",
       "\\end{tabular}\n"
      ],
      "text/markdown": [
       "\n",
       "| 0 | 1 | 1 | 0 | \n",
       "\n",
       "\n"
      ],
      "text/plain": [
       "     [,1] [,2] [,3] [,4]\n",
       "[1,] 0    1    1    0   "
      ]
     },
     "metadata": {},
     "output_type": "display_data"
    },
    {
     "data": {
      "text/html": [
       "28"
      ],
      "text/latex": [
       "28"
      ],
      "text/markdown": [
       "28"
      ],
      "text/plain": [
       "[1] 28"
      ]
     },
     "metadata": {},
     "output_type": "display_data"
    }
   ],
   "source": [
    "a <- KnapsackMultidimensionalExact(\n",
    "    knapsack.multidimensional.problem.1$object, \n",
    "    knapsack.multidimensional.problem.1$capacity,\n",
    "    all.int = TRUE\n",
    ")\n",
    "matrix(a$solution, nrow = 1, byrow = TRUE)\n",
    "a$objval"
   ]
  },
  {
   "cell_type": "markdown",
   "metadata": {},
   "source": [
    "#### Heurísticas:\n",
    "TODO"
   ]
  },
  {
   "cell_type": "code",
   "execution_count": 22,
   "metadata": {},
   "outputs": [],
   "source": [
    "KnapsackMultidimensionalGreedy <- function(object, capacity) {\n",
    "    \n",
    "}"
   ]
  }
 ],
 "metadata": {
  "kernelspec": {
   "display_name": "R",
   "language": "R",
   "name": "ir"
  },
  "language_info": {
   "codemirror_mode": "r",
   "file_extension": ".r",
   "mimetype": "text/x-r-source",
   "name": "R",
   "pygments_lexer": "r",
   "version": "3.5.0"
  }
 },
 "nbformat": 4,
 "nbformat_minor": 2
}
