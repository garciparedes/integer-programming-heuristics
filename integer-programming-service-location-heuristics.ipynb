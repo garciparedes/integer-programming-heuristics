{
 "cells": [
  {
   "cell_type": "markdown",
   "metadata": {},
   "source": [
    "# [In Progress]"
   ]
  },
  {
   "cell_type": "markdown",
   "metadata": {},
   "source": [
    "# Programación Entera: Heurísticas para el Problema de Localización de Servicios"
   ]
  },
  {
   "cell_type": "markdown",
   "metadata": {},
   "source": [
    "## Descripción\n",
    "\n",
    "[TODO]\n",
    "\n",
    "## Autor\n",
    "  \n",
    "  * Sergio García Prado - [garciparedes.me](https://garciparedes.me)\n",
    "  \n",
    "## Fecha\n",
    "\n",
    "  * Mayo de 2018\n"
   ]
  },
  {
   "cell_type": "markdown",
   "metadata": {},
   "source": [
    "## Contenidos\n",
    "  \n",
    "  * [Introducción](#Introducción)\n",
    "  * [Problemas de Localización de Servicios](#Problemas-de-Localización-de-Servicios)\n",
    "    * [Cubrimiento Total](#Cubrimiento-Total)\n",
    "  * [Conclusiones](#Conclusiones)"
   ]
  },
  {
   "cell_type": "markdown",
   "metadata": {},
   "source": [
    "## Introducción\n",
    "\n",
    "TODO"
   ]
  },
  {
   "cell_type": "markdown",
   "metadata": {},
   "source": [
    "#### Configuración del Entorno"
   ]
  },
  {
   "cell_type": "code",
   "execution_count": 1,
   "metadata": {},
   "outputs": [],
   "source": [
    "rm(list = ls())"
   ]
  },
  {
   "cell_type": "code",
   "execution_count": 2,
   "metadata": {},
   "outputs": [
    {
     "name": "stderr",
     "output_type": "stream",
     "text": [
      "Using the GLPK callable library version 4.65\n"
     ]
    }
   ],
   "source": [
    "library(slam, warn.conflicts = FALSE)\n",
    "library(Rglpk, warn.conflicts = FALSE)\n",
    "library(purrr, warn.conflicts = FALSE)\n",
    "library(dplyr, warn.conflicts = FALSE)\n",
    "library(magrittr, warn.conflicts = FALSE)\n",
    "library(ggplot2, warn.conflicts = FALSE)\n",
    "library(ggthemes, warn.conflicts = FALSE)\n",
    "library(scales, warn.conflicts = FALSE)"
   ]
  },
  {
   "cell_type": "code",
   "execution_count": 3,
   "metadata": {},
   "outputs": [],
   "source": [
    "options(repr.matrix.max.rows = 600, repr.matrix.max.cols = 600)"
   ]
  },
  {
   "cell_type": "markdown",
   "metadata": {},
   "source": [
    "#### Constantes y Funciones de Apoyo"
   ]
  },
  {
   "cell_type": "code",
   "execution_count": 4,
   "metadata": {},
   "outputs": [],
   "source": [
    "Solve <- function(...) {\n",
    "    Rglpk_solve_LP(...)\n",
    "}"
   ]
  },
  {
   "cell_type": "markdown",
   "metadata": {},
   "source": [
    "## Problemas de Localización de Servicios\n",
    "\n",
    "TODO"
   ]
  },
  {
   "cell_type": "markdown",
   "metadata": {},
   "source": [
    "### Cubrimiento Total"
   ]
  },
  {
   "cell_type": "markdown",
   "metadata": {},
   "source": [
    "#### Descripción\n",
    "\n",
    "TODO"
   ]
  },
  {
   "cell_type": "markdown",
   "metadata": {},
   "source": [
    "#### Modelo\n",
    "\n",
    "TODO"
   ]
  },
  {
   "cell_type": "markdown",
   "metadata": {},
   "source": [
    "\\begin{equation}\n",
    "    \\begin{array}{ll@{}ll}\n",
    "      \\text{Minimizar} & \\displaystyle \\sum\\limits_{j=1}^{n} f_{j} \\cdot x_{j} +  \\sum\\limits_{i=1}^{m}\\sum\\limits_{j=1}^{n} c_{ij} \\cdot z_{ij} \\\\\n",
    "      \\text{sujeto a}  & \\sum\\limits_{j=1}^{n} z_{ij} \\geq d_i, & \\forall i \\in \\{1,...,m\\}\\\\\n",
    "                       & \\sum\\limits_{i=1}^{m} z_{ij} - s_j \\cdot x_{j} \\leq 0, & \\forall j \\in \\{1,...,n\\}\\\\\n",
    "                       & z_{ij} \\geq 0, & \\forall i \\in \\{1,...,m\\}, \\forall j \\in \\{1,...,n\\} \\\\\n",
    "                       & x_{j} \\in \\{0, 1\\}, & \\forall j \\in \\{1,...,n\\}\n",
    "    \\end{array}\n",
    "\\end{equation}"
   ]
  },
  {
   "cell_type": "markdown",
   "metadata": {},
   "source": [
    "#### Ejemplo: WebBook\n",
    "\n",
    "Web Book vende libros por internet. La administración quiere saber en qué sitios se deben ubicar almacenes de distribución, de entre $5$ sitios posibles, que denotaremos por *A1*, *A2*, *A3*, *A4* y *A5*. La región de ventas está dividida en $5$ zonas indicadas por *NO*, *SO*, *MO*, *SE* y *NE*. Se proporcionan los siguientes datos: la demanda semanal promedio de cada región (en número de libros), el costo promedio de envío de un libro (Euros/libro), el costo fijo semanal (en Euros) si el almacén está en funcionamiento, y la capacidad de cada almacén (en número de libros)."
   ]
  },
  {
   "cell_type": "code",
   "execution_count": 5,
   "metadata": {},
   "outputs": [
    {
     "data": {
      "text/html": [
       "<dl>\n",
       "\t<dt>$n</dt>\n",
       "\t\t<dd>5</dd>\n",
       "\t<dt>$m</dt>\n",
       "\t\t<dd>5</dd>\n",
       "\t<dt>$c</dt>\n",
       "\t\t<dd><table>\n",
       "<tbody>\n",
       "\t<tr><td>2.40</td><td>3.50</td><td>4.80</td><td>6.80</td><td>5.75</td></tr>\n",
       "\t<tr><td>3.25</td><td>2.30</td><td>3.40</td><td>5.25</td><td>6.00</td></tr>\n",
       "\t<tr><td>4.05</td><td>3.25</td><td>2.85</td><td>4.30</td><td>4.75</td></tr>\n",
       "\t<tr><td>5.25</td><td>6.05</td><td>4.30</td><td>3.25</td><td>2.75</td></tr>\n",
       "\t<tr><td>6.95</td><td>5.85</td><td>4.80</td><td>2.10</td><td>3.50</td></tr>\n",
       "</tbody>\n",
       "</table>\n",
       "</dd>\n",
       "\t<dt>$f</dt>\n",
       "\t\t<dd><ol class=list-inline>\n",
       "\t<li>4000</li>\n",
       "\t<li>3000</li>\n",
       "\t<li>2500</li>\n",
       "\t<li>4000</li>\n",
       "\t<li>3000</li>\n",
       "</ol>\n",
       "</dd>\n",
       "\t<dt>$s</dt>\n",
       "\t\t<dd><ol class=list-inline>\n",
       "\t<li>20000</li>\n",
       "\t<li>20000</li>\n",
       "\t<li>15000</li>\n",
       "\t<li>25000</li>\n",
       "\t<li>15000</li>\n",
       "</ol>\n",
       "</dd>\n",
       "\t<dt>$d</dt>\n",
       "\t\t<dd><ol class=list-inline>\n",
       "\t<li>8000</li>\n",
       "\t<li>12000</li>\n",
       "\t<li>9000</li>\n",
       "\t<li>14000</li>\n",
       "\t<li>17000</li>\n",
       "</ol>\n",
       "</dd>\n",
       "</dl>\n"
      ],
      "text/latex": [
       "\\begin{description}\n",
       "\\item[\\$n] 5\n",
       "\\item[\\$m] 5\n",
       "\\item[\\$c] \\begin{tabular}{lllll}\n",
       "\t 2.40 & 3.50 & 4.80 & 6.80 & 5.75\\\\\n",
       "\t 3.25 & 2.30 & 3.40 & 5.25 & 6.00\\\\\n",
       "\t 4.05 & 3.25 & 2.85 & 4.30 & 4.75\\\\\n",
       "\t 5.25 & 6.05 & 4.30 & 3.25 & 2.75\\\\\n",
       "\t 6.95 & 5.85 & 4.80 & 2.10 & 3.50\\\\\n",
       "\\end{tabular}\n",
       "\n",
       "\\item[\\$f] \\begin{enumerate*}\n",
       "\\item 4000\n",
       "\\item 3000\n",
       "\\item 2500\n",
       "\\item 4000\n",
       "\\item 3000\n",
       "\\end{enumerate*}\n",
       "\n",
       "\\item[\\$s] \\begin{enumerate*}\n",
       "\\item 20000\n",
       "\\item 20000\n",
       "\\item 15000\n",
       "\\item 25000\n",
       "\\item 15000\n",
       "\\end{enumerate*}\n",
       "\n",
       "\\item[\\$d] \\begin{enumerate*}\n",
       "\\item 8000\n",
       "\\item 12000\n",
       "\\item 9000\n",
       "\\item 14000\n",
       "\\item 17000\n",
       "\\end{enumerate*}\n",
       "\n",
       "\\end{description}\n"
      ],
      "text/markdown": [
       "$n\n",
       ":   5\n",
       "$m\n",
       ":   5\n",
       "$c\n",
       ":   \n",
       "| 2.40 | 3.50 | 4.80 | 6.80 | 5.75 | \n",
       "| 3.25 | 2.30 | 3.40 | 5.25 | 6.00 | \n",
       "| 4.05 | 3.25 | 2.85 | 4.30 | 4.75 | \n",
       "| 5.25 | 6.05 | 4.30 | 3.25 | 2.75 | \n",
       "| 6.95 | 5.85 | 4.80 | 2.10 | 3.50 | \n",
       "\n",
       "\n",
       "\n",
       "$f\n",
       ":   1. 4000\n",
       "2. 3000\n",
       "3. 2500\n",
       "4. 4000\n",
       "5. 3000\n",
       "\n",
       "\n",
       "\n",
       "$s\n",
       ":   1. 20000\n",
       "2. 20000\n",
       "3. 15000\n",
       "4. 25000\n",
       "5. 15000\n",
       "\n",
       "\n",
       "\n",
       "$d\n",
       ":   1. 8000\n",
       "2. 12000\n",
       "3. 9000\n",
       "4. 14000\n",
       "5. 17000\n",
       "\n",
       "\n",
       "\n",
       "\n",
       "\n"
      ],
      "text/plain": [
       "$n\n",
       "[1] 5\n",
       "\n",
       "$m\n",
       "[1] 5\n",
       "\n",
       "$c\n",
       "     [,1] [,2] [,3] [,4] [,5]\n",
       "[1,] 2.40 3.50 4.80 6.80 5.75\n",
       "[2,] 3.25 2.30 3.40 5.25 6.00\n",
       "[3,] 4.05 3.25 2.85 4.30 4.75\n",
       "[4,] 5.25 6.05 4.30 3.25 2.75\n",
       "[5,] 6.95 5.85 4.80 2.10 3.50\n",
       "\n",
       "$f\n",
       "[1] 4000 3000 2500 4000 3000\n",
       "\n",
       "$s\n",
       "[1] 20000 20000 15000 25000 15000\n",
       "\n",
       "$d\n",
       "[1]  8000 12000  9000 14000 17000\n"
      ]
     },
     "metadata": {},
     "output_type": "display_data"
    }
   ],
   "source": [
    "(p <- list(n = 5,\n",
    "     m = 5,\n",
    "     c = matrix(c(2.40, 3.50, 4.80, 6.80, 5.75,\n",
    "                  3.25, 2.30, 3.40, 5.25, 6.00,\n",
    "                  4.05, 3.25, 2.85, 4.30, 4.75,\n",
    "                  5.25, 6.05, 4.30, 3.25, 2.75,\n",
    "                  6.95, 5.85, 4.80, 2.10, 3.50), \n",
    "                nrow = 5, byrow = TRUE),\n",
    "     f = c(4000, 3000, 2500, 4000, 3000),\n",
    "     s = c(20000, 20000, 15000, 25000, 15000),\n",
    "     d = c(8000, 12000, 9000, 14000, 17000)\n",
    "))"
   ]
  },
  {
   "cell_type": "markdown",
   "metadata": {},
   "source": [
    "Un directivo de la compañía piensa que la mejor opción es abrir los almacenes *A1*, *A2* y *A4*. Para esta opción, calcular manualmente su correspodiente costo."
   ]
  },
  {
   "cell_type": "code",
   "execution_count": 6,
   "metadata": {},
   "outputs": [
    {
     "data": {
      "text/html": [
       "199850"
      ],
      "text/latex": [
       "199850"
      ],
      "text/markdown": [
       "199850"
      ],
      "text/plain": [
       "[1] 199850"
      ]
     },
     "metadata": {},
     "output_type": "display_data"
    },
    {
     "data": {
      "text/html": [
       "<table>\n",
       "<tbody>\n",
       "\t<tr><td>8000 </td><td> 1000</td><td>   0 </td><td>    0</td><td> 6000</td></tr>\n",
       "\t<tr><td>   0 </td><td>11000</td><td>9000 </td><td>    0</td><td>    0</td></tr>\n",
       "\t<tr><td>   0 </td><td>    0</td><td>   0 </td><td>    0</td><td>    0</td></tr>\n",
       "\t<tr><td>   0 </td><td>    0</td><td>   0 </td><td>14000</td><td>11000</td></tr>\n",
       "\t<tr><td>   0 </td><td>    0</td><td>   0 </td><td>    0</td><td>    0</td></tr>\n",
       "</tbody>\n",
       "</table>\n"
      ],
      "text/latex": [
       "\\begin{tabular}{lllll}\n",
       "\t 8000  &  1000 &    0  &     0 &  6000\\\\\n",
       "\t    0  & 11000 & 9000  &     0 &     0\\\\\n",
       "\t    0  &     0 &    0  &     0 &     0\\\\\n",
       "\t    0  &     0 &    0  & 14000 & 11000\\\\\n",
       "\t    0  &     0 &    0  &     0 &     0\\\\\n",
       "\\end{tabular}\n"
      ],
      "text/markdown": [
       "\n",
       "| 8000  |  1000 |    0  |     0 |  6000 | \n",
       "|    0  | 11000 | 9000  |     0 |     0 | \n",
       "|    0  |     0 |    0  |     0 |     0 | \n",
       "|    0  |     0 |    0  | 14000 | 11000 | \n",
       "|    0  |     0 |    0  |     0 |     0 | \n",
       "\n",
       "\n"
      ],
      "text/plain": [
       "     [,1] [,2]  [,3] [,4]  [,5] \n",
       "[1,] 8000  1000    0     0  6000\n",
       "[2,]    0 11000 9000     0     0\n",
       "[3,]    0     0    0     0     0\n",
       "[4,]    0     0    0 14000 11000\n",
       "[5,]    0     0    0     0     0"
      ]
     },
     "metadata": {},
     "output_type": "display_data"
    },
    {
     "data": {
      "text/html": [
       "<table>\n",
       "<tbody>\n",
       "\t<tr><td>1</td><td>1</td><td>0</td><td>1</td><td>0</td></tr>\n",
       "</tbody>\n",
       "</table>\n"
      ],
      "text/latex": [
       "\\begin{tabular}{lllll}\n",
       "\t 1 & 1 & 0 & 1 & 0\\\\\n",
       "\\end{tabular}\n"
      ],
      "text/markdown": [
       "\n",
       "| 1 | 1 | 0 | 1 | 0 | \n",
       "\n",
       "\n"
      ],
      "text/plain": [
       "     [,1] [,2] [,3] [,4] [,5]\n",
       "[1,] 1    1    0    1    0   "
      ]
     },
     "metadata": {},
     "output_type": "display_data"
    }
   ],
   "source": [
    "filtered <- c(1, 2, 4)\n",
    "\n",
    "SolveFiltered <- function(p, filtered = NULL) {\n",
    "\n",
    "    conditions <- matrix(0, nrow = p$n + p$m, ncol = (1 + p$m) * p$n)\n",
    "\n",
    "    for (i in 1:p$m) {\n",
    "        conditions[i, seq(p$n * (i - 1) + 1, length.out = p$n)] <- 1\n",
    "    }\n",
    "\n",
    "    for (i in 1:p$n) {\n",
    "        conditions[p$m + i, seq(i, length.out = p$m, by = p$n)] <- 1\n",
    "        if (is.null(filtered) || i %in% filtered) {\n",
    "            conditions[p$m + i, p$m * p$n + i] <- -p$s[i]   \n",
    "        }\n",
    "    }\n",
    "\n",
    "    rhs <- c(p$d, rep(0, p$n))\n",
    "    obj <- c(p$c, p$f)\n",
    "\n",
    "    dir <- rep(c(\">=\", \"<=\"), c(p$m, p$n))\n",
    "    types <- rep(c(\"C\", \"B\"), c(p$m, 1) * p$n)\n",
    "    \n",
    "    s <- Solve(obj = obj, \n",
    "               mat = conditions, \n",
    "               dir = dir, \n",
    "               rhs = rhs,\n",
    "               types = types)\n",
    "    \n",
    "    return(s)\n",
    "}\n",
    "\n",
    "s <- SolveFiltered(p, filtered)\n",
    "s$optimum\n",
    "matrix(s$solution[1:(p$m * p$n)], nrow = p$n)\n",
    "matrix(s$solution[(p$m * p$n + 1):(p$n * (1 + p$m))], nrow = 1)\n",
    "\n",
    "\n"
   ]
  },
  {
   "cell_type": "markdown",
   "metadata": {},
   "source": [
    "Añadir las siguientes restricciones:\n",
    "  * Por proximidad geográfica, los almacenes *A1* y *A3* no deberían estar abiertos simultáneamente.\n",
    "  * Para mantener un equilibrio entre los distribuidores, si al almacén *A4* se le asignan más de $22.000$ libros semanales, los almacenes *A1* y *A2* deben tener asignados, en conjunto, al menos $15.000$ libros."
   ]
  },
  {
   "cell_type": "code",
   "execution_count": 7,
   "metadata": {},
   "outputs": [
    {
     "data": {
      "text/html": [
       "165100"
      ],
      "text/latex": [
       "165100"
      ],
      "text/markdown": [
       "165100"
      ],
      "text/plain": [
       "[1] 165100"
      ]
     },
     "metadata": {},
     "output_type": "display_data"
    },
    {
     "data": {
      "text/html": [
       "<table>\n",
       "<tbody>\n",
       "\t<tr><td>8000 </td><td>    0</td><td>   0 </td><td>    0</td><td>    0</td></tr>\n",
       "\t<tr><td>   0 </td><td>12000</td><td>   0 </td><td>    0</td><td>    0</td></tr>\n",
       "\t<tr><td>   0 </td><td>    0</td><td>9000 </td><td>    0</td><td>    0</td></tr>\n",
       "\t<tr><td>   0 </td><td>    0</td><td>   0 </td><td>    0</td><td>17000</td></tr>\n",
       "\t<tr><td>   0 </td><td>    0</td><td>   0 </td><td>14000</td><td>    0</td></tr>\n",
       "</tbody>\n",
       "</table>\n"
      ],
      "text/latex": [
       "\\begin{tabular}{lllll}\n",
       "\t 8000  &     0 &    0  &     0 &     0\\\\\n",
       "\t    0  & 12000 &    0  &     0 &     0\\\\\n",
       "\t    0  &     0 & 9000  &     0 &     0\\\\\n",
       "\t    0  &     0 &    0  &     0 & 17000\\\\\n",
       "\t    0  &     0 &    0  & 14000 &     0\\\\\n",
       "\\end{tabular}\n"
      ],
      "text/markdown": [
       "\n",
       "| 8000  |     0 |    0  |     0 |     0 | \n",
       "|    0  | 12000 |    0  |     0 |     0 | \n",
       "|    0  |     0 | 9000  |     0 |     0 | \n",
       "|    0  |     0 |    0  |     0 | 17000 | \n",
       "|    0  |     0 |    0  | 14000 |     0 | \n",
       "\n",
       "\n"
      ],
      "text/plain": [
       "     [,1] [,2]  [,3] [,4]  [,5] \n",
       "[1,] 8000     0    0     0     0\n",
       "[2,]    0 12000    0     0     0\n",
       "[3,]    0     0 9000     0     0\n",
       "[4,]    0     0    0     0 17000\n",
       "[5,]    0     0    0 14000     0"
      ]
     },
     "metadata": {},
     "output_type": "display_data"
    },
    {
     "data": {
      "text/html": [
       "<table>\n",
       "<tbody>\n",
       "\t<tr><td>1</td><td>1</td><td>1</td><td>1</td><td>1</td></tr>\n",
       "</tbody>\n",
       "</table>\n"
      ],
      "text/latex": [
       "\\begin{tabular}{lllll}\n",
       "\t 1 & 1 & 1 & 1 & 1\\\\\n",
       "\\end{tabular}\n"
      ],
      "text/markdown": [
       "\n",
       "| 1 | 1 | 1 | 1 | 1 | \n",
       "\n",
       "\n"
      ],
      "text/plain": [
       "     [,1] [,2] [,3] [,4] [,5]\n",
       "[1,] 1    1    1    1    1   "
      ]
     },
     "metadata": {},
     "output_type": "display_data"
    }
   ],
   "source": [
    "conditions <- matrix(0, nrow = p$n + p$m, ncol = (1 + p$m) * p$n)\n",
    "\n",
    "for (i in 1:p$m) {\n",
    "    conditions[i, seq(p$n * (i - 1) + 1, length.out = p$n)] <- 1\n",
    "}\n",
    "\n",
    "for (i in 1:p$n) {\n",
    "    conditions[p$m + i, seq(i, length.out = p$m, by = p$n)] <- 1\n",
    "    conditions[p$m + i, p$m * p$n + i] <- -p$s[i]\n",
    "}\n",
    "\n",
    "rhs <- c(p$d, rep(0, p$n))\n",
    "obj <- c(p$c, p$f)\n",
    "\n",
    "dir <- rep(c(\">=\", \"<=\"), c(p$m, p$n))\n",
    "types <- rep(c(\"C\", \"B\"), c(p$m, 1) * p$n)\n",
    "\n",
    "s <- Solve(obj = obj, \n",
    "          mat = conditions, \n",
    "          dir = dir, \n",
    "          rhs = rhs,\n",
    "          types = types)\n",
    "\n",
    "s$optimum\n",
    "matrix(s$solution[1:(p$m * p$n)], nrow = p$n)\n",
    "matrix(s$solution[(p$m * p$n + 1):(p$n * (1 + p$m))], nrow = 1)"
   ]
  },
  {
   "cell_type": "code",
   "execution_count": 8,
   "metadata": {},
   "outputs": [
    {
     "data": {
      "text/html": [
       "167900"
      ],
      "text/latex": [
       "167900"
      ],
      "text/markdown": [
       "167900"
      ],
      "text/plain": [
       "[1] 167900"
      ]
     },
     "metadata": {},
     "output_type": "display_data"
    },
    {
     "data": {
      "text/html": [
       "<table>\n",
       "<tbody>\n",
       "\t<tr><td>   0 </td><td>    0</td><td>   0 </td><td>    0</td><td>    0</td></tr>\n",
       "\t<tr><td>8000 </td><td>12000</td><td>   0 </td><td>    0</td><td>    0</td></tr>\n",
       "\t<tr><td>   0 </td><td>    0</td><td>9000 </td><td>    0</td><td>    0</td></tr>\n",
       "\t<tr><td>   0 </td><td>    0</td><td>   0 </td><td>    0</td><td>17000</td></tr>\n",
       "\t<tr><td>   0 </td><td>    0</td><td>   0 </td><td>14000</td><td>    0</td></tr>\n",
       "</tbody>\n",
       "</table>\n"
      ],
      "text/latex": [
       "\\begin{tabular}{lllll}\n",
       "\t    0  &     0 &    0  &     0 &     0\\\\\n",
       "\t 8000  & 12000 &    0  &     0 &     0\\\\\n",
       "\t    0  &     0 & 9000  &     0 &     0\\\\\n",
       "\t    0  &     0 &    0  &     0 & 17000\\\\\n",
       "\t    0  &     0 &    0  & 14000 &     0\\\\\n",
       "\\end{tabular}\n"
      ],
      "text/markdown": [
       "\n",
       "|    0  |     0 |    0  |     0 |     0 | \n",
       "| 8000  | 12000 |    0  |     0 |     0 | \n",
       "|    0  |     0 | 9000  |     0 |     0 | \n",
       "|    0  |     0 |    0  |     0 | 17000 | \n",
       "|    0  |     0 |    0  | 14000 |     0 | \n",
       "\n",
       "\n"
      ],
      "text/plain": [
       "     [,1] [,2]  [,3] [,4]  [,5] \n",
       "[1,]    0     0    0     0     0\n",
       "[2,] 8000 12000    0     0     0\n",
       "[3,]    0     0 9000     0     0\n",
       "[4,]    0     0    0     0 17000\n",
       "[5,]    0     0    0 14000     0"
      ]
     },
     "metadata": {},
     "output_type": "display_data"
    },
    {
     "data": {
      "text/html": [
       "<table>\n",
       "<tbody>\n",
       "\t<tr><td>0</td><td>1</td><td>1</td><td>1</td><td>1</td></tr>\n",
       "</tbody>\n",
       "</table>\n"
      ],
      "text/latex": [
       "\\begin{tabular}{lllll}\n",
       "\t 0 & 1 & 1 & 1 & 1\\\\\n",
       "\\end{tabular}\n"
      ],
      "text/markdown": [
       "\n",
       "| 0 | 1 | 1 | 1 | 1 | \n",
       "\n",
       "\n"
      ],
      "text/plain": [
       "     [,1] [,2] [,3] [,4] [,5]\n",
       "[1,] 0    1    1    1    1   "
      ]
     },
     "metadata": {},
     "output_type": "display_data"
    }
   ],
   "source": [
    "a1 <- rep(0, (1 + p$m) * p$n)\n",
    "a1[p$m * p$n + c(1, 3)] <- 1\n",
    "conditions <- rbind(conditions, a1)\n",
    "dir <- c(dir, \"<=\")\n",
    "rhs <- c(rhs, 1)\n",
    "\n",
    "s <- Solve(obj = obj, \n",
    "          mat = conditions, \n",
    "          dir = dir, \n",
    "          rhs = rhs,\n",
    "          types = types)\n",
    "\n",
    "s$optimum\n",
    "matrix(s$solution[1:(p$m * p$n)], nrow = p$m)\n",
    "matrix(s$solution[(p$m * p$n + 1):(p$m * (1 + p$n))], nrow = 1)"
   ]
  },
  {
   "cell_type": "code",
   "execution_count": 9,
   "metadata": {},
   "outputs": [
    {
     "data": {
      "text/html": [
       "167900"
      ],
      "text/latex": [
       "167900"
      ],
      "text/markdown": [
       "167900"
      ],
      "text/plain": [
       "[1] 167900"
      ]
     },
     "metadata": {},
     "output_type": "display_data"
    },
    {
     "data": {
      "text/html": [
       "<table>\n",
       "<tbody>\n",
       "\t<tr><td>   0 </td><td>    0</td><td>   0 </td><td>    0</td><td>    0</td></tr>\n",
       "\t<tr><td>8000 </td><td>12000</td><td>   0 </td><td>    0</td><td>    0</td></tr>\n",
       "\t<tr><td>   0 </td><td>    0</td><td>9000 </td><td>    0</td><td>    0</td></tr>\n",
       "\t<tr><td>   0 </td><td>    0</td><td>   0 </td><td>    0</td><td>17000</td></tr>\n",
       "\t<tr><td>   0 </td><td>    0</td><td>   0 </td><td>14000</td><td>    0</td></tr>\n",
       "</tbody>\n",
       "</table>\n"
      ],
      "text/latex": [
       "\\begin{tabular}{lllll}\n",
       "\t    0  &     0 &    0  &     0 &     0\\\\\n",
       "\t 8000  & 12000 &    0  &     0 &     0\\\\\n",
       "\t    0  &     0 & 9000  &     0 &     0\\\\\n",
       "\t    0  &     0 &    0  &     0 & 17000\\\\\n",
       "\t    0  &     0 &    0  & 14000 &     0\\\\\n",
       "\\end{tabular}\n"
      ],
      "text/markdown": [
       "\n",
       "|    0  |     0 |    0  |     0 |     0 | \n",
       "| 8000  | 12000 |    0  |     0 |     0 | \n",
       "|    0  |     0 | 9000  |     0 |     0 | \n",
       "|    0  |     0 |    0  |     0 | 17000 | \n",
       "|    0  |     0 |    0  | 14000 |     0 | \n",
       "\n",
       "\n"
      ],
      "text/plain": [
       "     [,1] [,2]  [,3] [,4]  [,5] \n",
       "[1,]    0     0    0     0     0\n",
       "[2,] 8000 12000    0     0     0\n",
       "[3,]    0     0 9000     0     0\n",
       "[4,]    0     0    0     0 17000\n",
       "[5,]    0     0    0 14000     0"
      ]
     },
     "metadata": {},
     "output_type": "display_data"
    },
    {
     "data": {
      "text/html": [
       "<table>\n",
       "<tbody>\n",
       "\t<tr><td>0</td><td>1</td><td>1</td><td>1</td><td>1</td></tr>\n",
       "</tbody>\n",
       "</table>\n"
      ],
      "text/latex": [
       "\\begin{tabular}{lllll}\n",
       "\t 0 & 1 & 1 & 1 & 1\\\\\n",
       "\\end{tabular}\n"
      ],
      "text/markdown": [
       "\n",
       "| 0 | 1 | 1 | 1 | 1 | \n",
       "\n",
       "\n"
      ],
      "text/plain": [
       "     [,1] [,2] [,3] [,4] [,5]\n",
       "[1,] 0    1    1    1    1   "
      ]
     },
     "metadata": {},
     "output_type": "display_data"
    }
   ],
   "source": [
    "obj <- c(obj, 0)\n",
    "conditions <- cbind(conditions, rep(0, nrow(conditions)))\n",
    "types <- c(types, \"B\")\n",
    "\n",
    "a2 <- conditions[4, ]\n",
    "a2[length(a2)] <- -p$s[4]\n",
    "conditions <- rbind(conditions, a2)\n",
    "dir <- c(dir, \"<=\")\n",
    "rhs <- c(rhs, 22000)\n",
    "\n",
    "a3 <- colSums(conditions[c(1, 2), ])\n",
    "conditions <- rbind(conditions, a3)\n",
    "dir <- c(dir, \">=\")\n",
    "rhs <- c(rhs, 15000)\n",
    "\n",
    "s <- Solve(obj = obj, \n",
    "          mat = conditions, \n",
    "          dir = dir, \n",
    "          rhs = rhs,\n",
    "          types = types)\n",
    "\n",
    "s$optimum\n",
    "matrix(s$solution[1:(p$m * p$n)], nrow = p$m)\n",
    "matrix(s$solution[(p$m * p$n + 1):(p$m * (1 + p$n))], nrow = 1)"
   ]
  },
  {
   "cell_type": "markdown",
   "metadata": {},
   "source": [
    "¿Cómo se debe modificar el modelo de distribuci ́on si se exige que cada región de ventas debe ser asignada a un único almacén?"
   ]
  },
  {
   "cell_type": "code",
   "execution_count": 10,
   "metadata": {},
   "outputs": [
    {
     "data": {
      "text/html": [
       "0"
      ],
      "text/latex": [
       "0"
      ],
      "text/markdown": [
       "0"
      ],
      "text/plain": [
       "[1] 0"
      ]
     },
     "metadata": {},
     "output_type": "display_data"
    },
    {
     "data": {
      "text/html": [
       "<table>\n",
       "<tbody>\n",
       "\t<tr><td>0</td><td>0</td><td>0</td><td>0</td><td>0</td></tr>\n",
       "\t<tr><td>0</td><td>0</td><td>0</td><td>0</td><td>0</td></tr>\n",
       "\t<tr><td>0</td><td>0</td><td>0</td><td>0</td><td>0</td></tr>\n",
       "\t<tr><td>0</td><td>0</td><td>0</td><td>0</td><td>0</td></tr>\n",
       "\t<tr><td>0</td><td>0</td><td>0</td><td>0</td><td>0</td></tr>\n",
       "</tbody>\n",
       "</table>\n"
      ],
      "text/latex": [
       "\\begin{tabular}{lllll}\n",
       "\t 0 & 0 & 0 & 0 & 0\\\\\n",
       "\t 0 & 0 & 0 & 0 & 0\\\\\n",
       "\t 0 & 0 & 0 & 0 & 0\\\\\n",
       "\t 0 & 0 & 0 & 0 & 0\\\\\n",
       "\t 0 & 0 & 0 & 0 & 0\\\\\n",
       "\\end{tabular}\n"
      ],
      "text/markdown": [
       "\n",
       "| 0 | 0 | 0 | 0 | 0 | \n",
       "| 0 | 0 | 0 | 0 | 0 | \n",
       "| 0 | 0 | 0 | 0 | 0 | \n",
       "| 0 | 0 | 0 | 0 | 0 | \n",
       "| 0 | 0 | 0 | 0 | 0 | \n",
       "\n",
       "\n"
      ],
      "text/plain": [
       "     [,1] [,2] [,3] [,4] [,5]\n",
       "[1,] 0    0    0    0    0   \n",
       "[2,] 0    0    0    0    0   \n",
       "[3,] 0    0    0    0    0   \n",
       "[4,] 0    0    0    0    0   \n",
       "[5,] 0    0    0    0    0   "
      ]
     },
     "metadata": {},
     "output_type": "display_data"
    },
    {
     "data": {
      "text/html": [
       "<table>\n",
       "<tbody>\n",
       "\t<tr><td>0</td><td>0</td><td>0</td><td>0</td><td>0</td></tr>\n",
       "</tbody>\n",
       "</table>\n"
      ],
      "text/latex": [
       "\\begin{tabular}{lllll}\n",
       "\t 0 & 0 & 0 & 0 & 0\\\\\n",
       "\\end{tabular}\n"
      ],
      "text/markdown": [
       "\n",
       "| 0 | 0 | 0 | 0 | 0 | \n",
       "\n",
       "\n"
      ],
      "text/plain": [
       "     [,1] [,2] [,3] [,4] [,5]\n",
       "[1,] 0    0    0    0    0   "
      ]
     },
     "metadata": {},
     "output_type": "display_data"
    }
   ],
   "source": [
    "obj.1 <- c(obj, rep(0, p$m * p$n))\n",
    "types.1 <- c(types, rep(\"B\", p$m *p$n))\n",
    "conditions.1 <- cbind(conditions, matrix(0, ncol = p$m * p$n, nrow = nrow(conditions)))\n",
    "\n",
    "\n",
    "id1 <- ncol(conditions)\n",
    "integer.res <- matrix(0, ncol = ncol(conditions.1), nrow = p$m * p$n + p$n)\n",
    "\n",
    "\n",
    "for (i in 1:p$m) {\n",
    "    for (j in 1:p$n) {\n",
    "        integer.res[j + (i - 1) * p$n, j + (i - 1) * p$n] <- 1\n",
    "        integer.res[j + (i - 1) * p$n, id1 +  j + (i-1) * p$n] <- -min(p$d[i], p$s[j])\n",
    "    }\n",
    "}\n",
    "\n",
    "for (i in 1:p$n) {\n",
    "    integer.res[p$n * p$m + i, seq(i + id1, length.out = p$m, by = p$n)] <- 1\n",
    "}\n",
    "\n",
    "\n",
    "conditions.1 <- rbind(conditions.1, integer.res)\n",
    "dir.1 <- c(dir, rep(\"<=\", p$m * p$n + p$n))\n",
    "rhs.1 <- c(rhs, rep(c(0, 1), c(p$m*p$n, p$n)))\n",
    "      \n",
    "s <- Solve(obj = obj.1, \n",
    "          mat = conditions.1, \n",
    "          dir = dir.1, \n",
    "          rhs = rhs.1,\n",
    "          types = types.1)\n",
    "\n",
    "s$optimum\n",
    "matrix(s$solution[1:(p$m * p$n)], nrow = p$m)\n",
    "matrix(s$solution[(p$m * p$n + 1):(p$m * (1 + p$n))], nrow = 1)"
   ]
  },
  {
   "cell_type": "markdown",
   "metadata": {},
   "source": [
    "## Conclusiones\n",
    "\n",
    "TODO"
   ]
  },
  {
   "cell_type": "markdown",
   "metadata": {},
   "source": [
    "## Referencias\n",
    "\n",
    "  * TODO"
   ]
  }
 ],
 "metadata": {
  "kernelspec": {
   "display_name": "R",
   "language": "R",
   "name": "ir"
  },
  "language_info": {
   "codemirror_mode": "r",
   "file_extension": ".r",
   "mimetype": "text/x-r-source",
   "name": "R",
   "pygments_lexer": "r",
   "version": "3.5.0"
  }
 },
 "nbformat": 4,
 "nbformat_minor": 2
}
