{
 "cells": [
  {
   "cell_type": "markdown",
   "metadata": {},
   "source": [
    "# [In Progress]"
   ]
  },
  {
   "cell_type": "markdown",
   "metadata": {},
   "source": [
    "# Programación Entera: Heurísticas para el Problema de Localización de Servicios"
   ]
  },
  {
   "cell_type": "markdown",
   "metadata": {},
   "source": [
    "## Descripción\n",
    "\n",
    "[TODO]\n",
    "\n",
    "## Autor\n",
    "  \n",
    "  * Sergio García Prado - [garciparedes.me](https://garciparedes.me)\n",
    "  \n",
    "## Fecha\n",
    "\n",
    "  * Mayo de 2018\n"
   ]
  },
  {
   "cell_type": "markdown",
   "metadata": {},
   "source": [
    "## Contenidos\n",
    "  \n",
    "  * [Introducción](#Introducción)\n",
    "  * [Problemas de Localización de Servicios](#Problemas-de-Localización-de-Servicios)\n",
    "    * [Cubrimiento Total](#Cubrimiento-Total)\n",
    "  * [Conclusiones](#Conclusiones)"
   ]
  },
  {
   "cell_type": "markdown",
   "metadata": {},
   "source": [
    "## Introducción\n",
    "\n",
    "TODO"
   ]
  },
  {
   "cell_type": "markdown",
   "metadata": {},
   "source": [
    "## Problemas de Localización de Servicios\n",
    "\n",
    "TODO"
   ]
  },
  {
   "cell_type": "markdown",
   "metadata": {},
   "source": [
    "### Cubrimiento Total"
   ]
  },
  {
   "cell_type": "markdown",
   "metadata": {},
   "source": [
    "#### Descripción\n",
    "\n",
    "TODO"
   ]
  },
  {
   "cell_type": "markdown",
   "metadata": {},
   "source": [
    "#### Modelo\n",
    "\n",
    "TODO"
   ]
  },
  {
   "cell_type": "markdown",
   "metadata": {},
   "source": [
    "\\begin{equation}\n",
    "    \\begin{array}{ll@{}ll}\n",
    "      \\text{Minimizar} & \\displaystyle \\sum\\limits_{j=1}^{n} f_{j} \\cdot x_{j} +  \\sum\\limits_{i=1}^{m}\\sum\\limits_{j=1}^{n} c_{ij} \\cdot z_{ij} \\\\\n",
    "      \\text{sujeto a}  & \\sum\\limits_{j=1}^{n} z_{ij} \\cdot x_{j} \\leq d_i, & \\forall i \\in \\{1,...,m\\}\\\\\n",
    "                       & \\sum\\limits_{i=1}^{m} z_{ij} \\cdot x_{j} \\leq M \\cdot x_{j} & \\forall j \\in \\{1,...,n\\}\\\\\n",
    "                       & z_{ij} \\geq 0, & \\forall i \\in \\{1,...,m\\}, \\forall j \\in \\{1,...,n\\} \\\\\n",
    "                       & x_{j} \\in \\{0, 1\\}, & \\forall j \\in \\{1,...,n\\}\n",
    "    \\end{array}\n",
    "\\end{equation}"
   ]
  },
  {
   "cell_type": "markdown",
   "metadata": {},
   "source": [
    "#### Ejemplos\n",
    "\n",
    "TODO"
   ]
  },
  {
   "cell_type": "markdown",
   "metadata": {},
   "source": [
    "## Conclusiones\n",
    "\n",
    "TODO"
   ]
  },
  {
   "cell_type": "markdown",
   "metadata": {},
   "source": [
    "## Referencias\n",
    "\n",
    "  * TODO"
   ]
  }
 ],
 "metadata": {
  "kernelspec": {
   "display_name": "R",
   "language": "R",
   "name": "ir"
  },
  "language_info": {
   "codemirror_mode": "r",
   "file_extension": ".r",
   "mimetype": "text/x-r-source",
   "name": "R",
   "pygments_lexer": "r",
   "version": "3.5.0"
  }
 },
 "nbformat": 4,
 "nbformat_minor": 2
}
